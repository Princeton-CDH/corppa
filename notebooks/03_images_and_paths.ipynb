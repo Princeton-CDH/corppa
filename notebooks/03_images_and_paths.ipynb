{
 "cells": [
  {
   "cell_type": "markdown",
   "metadata": {},
   "source": [
    "# 03 – Linking pages to high-resolution scans\n",
    "\n",
    "Every PPA page can be traced back to a TIFF / JPEG image on disk.  The helper\n",
    "`corppa.utils.path_utils` knows how to construct those paths from IDs.  In\n",
    "this notebook we will:\n",
    "\n",
    "1. recap the identifier anatomy (work id → volume id → image filename),\n",
    "2. resolve **one Gale page** to its relative image path, and\n",
    "3. optionally display a thumbnail if the file is locally available.\n",
    "\n",
    "> **Note**: as of April 2025 the helpers cover Gale volumes; HathiTrust and\n",
    "> EEBO images will raise `NotImplementedError` until their path patterns are\n",
    "> added."
   ]
  },
  {
   "cell_type": "code",
   "execution_count": null,
   "metadata": {
    "tags": [
     "parameters"
    ]
   },
   "outputs": [],
   "source": [
    "import gzip, json, itertools, pathlib, pandas as pd\n",
    "from corppa.utils import path_utils as pu\n",
    "from pprint import pprint\n",
    "\n",
    "DATA_DIR   = pathlib.Path('..') / 'shared_data' / 'ppa_corpus_2025-02-03_1308'\n",
    "PAGES_FILE = DATA_DIR / 'ppa_pages.jsonl.gz'\n",
    "META_CSV   = DATA_DIR / 'ppa_metadata.csv'"
   ]
  },
  {
   "cell_type": "markdown",
   "metadata": {},
   "source": [
    "## 1  Identifier anatomy refresher\n",
    "\n",
    "| level | example | meaning |\n",
    "|-------|---------|---------|\n",
    "| **work id** | `CW012706` | unique to a bibliographic item (title-level) |\n",
    "| **page id** | `CW0127060085-p1` | volume (85) + page (1) |\n",
    "| **HT id**   | `mdp.39015012345678` | HathiTrust volume id (when source = HathiTrust) |\n",
    "\n",
    "`path_utils` provides small functions to hop between these layers without\n",
    "memorising string hacks."
   ]
  },
  {
   "cell_type": "code",
   "execution_count": null,
   "metadata": {},
   "outputs": [],
   "source": [
    "demo = 'mdp.39015012345678'\n",
    "print('encode_htid →', pu.encode_htid(demo))\n",
    "print('decode_htid →', pu.decode_htid(pu.encode_htid(demo)))"
   ]
  },
  {
   "cell_type": "markdown",
   "metadata": {},
   "source": [
    "## 2  Pick one **Gale** work so the path util can succeed"
   ]
  },
  {
   "cell_type": "code",
   "execution_count": null,
   "metadata": {},
   "outputs": [],
   "source": [
    "meta_df = pd.read_csv(META_CSV, dtype=str)\n",
    "gale_work = meta_df.loc[meta_df['source'] == 'Gale', 'work_id'].iloc[0]\n",
    "print('Chosen Gale work →', gale_work)"
   ]
  },
  {
   "cell_type": "code",
   "execution_count": null,
   "metadata": {},
   "outputs": [],
   "source": [
    "# grab its very first page\n",
    "def iter_pages():\n",
    "    with gzip.open(PAGES_FILE, 'rt', encoding='utf-8') as fh:\n",
    "        for line in fh:\n",
    "            yield json.loads(line)\n",
    "\n",
    "page = next(p for p in iter_pages() if p['work_id'] == gale_work)\n",
    "pprint({k: page[k] for k in ('id', 'label', 'order')})"
   ]
  },
  {
   "cell_type": "markdown",
   "metadata": {},
   "source": [
    "## 3  Resolve the image path"
   ]
  },
  {
   "cell_type": "code",
   "execution_count": null,
   "metadata": {},
   "outputs": [],
   "source": [
    "img_rel = pu.get_image_relpath(page['work_id'], page['order'])\n",
    "print('Relative image path →', img_rel)"
   ]
  },
  {
   "cell_type": "markdown",
   "metadata": {},
   "source": [
    "If your corpus includes the actual image directory (e.g. mounted under\n",
    "`/shared_data/gale_images`), you can preview the scan:"
   ]
  },
  {
   "cell_type": "code",
   "execution_count": null,
   "metadata": {},
   "outputs": [],
   "source": [
    "# OPTIONAL: show a thumbnail if the file exists --\n",
    "from PIL import Image, ImageOps\n",
    "IMG_ROOT = pathlib.Path('../shared_data/')  # adjust for your setup\n",
    "\n",
    "img_path = IMG_ROOT / img_rel\n",
    "if img_path.exists():\n",
    "    thumb = ImageOps.fit(Image.open(img_path), (400, 550))\n",
    "    display(thumb)\n",
    "else:\n",
    "    print('Image file not found locally →', img_path)"
   ]
  },
  {
   "cell_type": "markdown",
   "metadata": {},
   "source": [
    "### What did we just do?\n",
    "\n",
    "1. **Selected** a Gale work because Gale image paths are implemented.\n",
    "2. **Streamed** the large JSONL to grab its first page.\n",
    "3. **Called** `get_image_relpath(work_id, order)` which internally\n",
    "   * finds the *volume id* for that page,\n",
    "   * derives the stub directory for Gale,\n",
    "   * concatenates everything into `Gale/<stub>/<volume>/<order>.tif`.\n",
    "\n",
    "You can now use the same helper inside data loaders, dashboards, or\n",
    "annotation tools to pull the exact scan for any page."
   ]
  },
  {
   "cell_type": "markdown",
   "metadata": {},
   "source": [
    "---\n",
    "**Next steps**\n",
    "\n",
    "* Add HathiTrust & EEBO path rules to `path_utils.py` (PRs welcome!)."
   ]
  }
 ],
 "metadata": {
  "kernelspec": {
   "display_name": "corppa",
   "language": "python",
   "name": "python3"
  },
  "language_info": {
   "codemirror_mode": {
    "name": "ipython",
    "version": 3
   },
   "file_extension": ".py",
   "mimetype": "text/x-python",
   "name": "python",
   "nbconvert_exporter": "python",
   "pygments_lexer": "ipython3",
   "version": "3.12.10"
  }
 },
 "nbformat": 4,
 "nbformat_minor": 2
}
