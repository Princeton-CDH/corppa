{
 "cells": [
  {
   "cell_type": "code",
   "execution_count": 1,
   "metadata": {},
   "outputs": [],
   "source": [
    "import sys;sys.path.append('..')\n",
    "from ppanlp.corpus import *\n",
    "from ppanlp.imports import *"
   ]
  },
  {
   "cell_type": "code",
   "execution_count": 2,
   "metadata": {},
   "outputs": [],
   "source": [
    "ppa = PPA('~/ppa_data/corpus2')"
   ]
  },
  {
   "cell_type": "code",
   "execution_count": 5,
   "metadata": {},
   "outputs": [],
   "source": [
    "def ner_parse(self, min_doc_len=25, frac=None, force=False):\n",
    "    self.nlp\n",
    "    with self.ents_db() as db:\n",
    "        for page in ppa.iter_pages(min_doc_len=min_doc_len, frac=frac):\n",
    "            id=page['page_id']\n",
    "            if force or id not in db:\n",
    "                doc = self.nlp(page['page_text'])\n",
    "                res = [(ent.text, ent.type) for ent in doc.ents]\n",
    "                db[id] = res"
   ]
  },
  {
   "cell_type": "code",
   "execution_count": 6,
   "metadata": {},
   "outputs": [
    {
     "name": "stderr",
     "output_type": "stream",
     "text": [
      "Iterating over page search results:   0%|          | 68/15840 [00:25<2:58:41,  1.47it/s]"
     ]
    }
   ],
   "source": [
    "ner_parse(ppa, frac=.05)"
   ]
  },
  {
   "cell_type": "code",
   "execution_count": 4,
   "metadata": {},
   "outputs": [],
   "source": []
  },
  {
   "cell_type": "code",
   "execution_count": null,
   "metadata": {},
   "outputs": [],
   "source": []
  }
 ],
 "metadata": {
  "kernelspec": {
   "display_name": "venv",
   "language": "python",
   "name": "python3"
  },
  "language_info": {
   "codemirror_mode": {
    "name": "ipython",
    "version": 3
   },
   "file_extension": ".py",
   "mimetype": "text/x-python",
   "name": "python",
   "nbconvert_exporter": "python",
   "pygments_lexer": "ipython3",
   "version": "3.10.7"
  }
 },
 "nbformat": 4,
 "nbformat_minor": 2
}
