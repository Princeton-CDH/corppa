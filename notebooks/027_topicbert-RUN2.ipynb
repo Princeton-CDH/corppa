{
 "cells": [
  {
   "cell_type": "code",
   "execution_count": 1,
   "metadata": {
    "tags": []
   },
   "outputs": [],
   "source": [
    "import sys;sys.path.append('..')\n",
    "from ppanlp import *    "
   ]
  },
  {
   "cell_type": "code",
   "execution_count": 6,
   "metadata": {
    "tags": []
   },
   "outputs": [],
   "source": [
    "ppa = PPA()\n",
    "qd=dict(min_doc_len=25,max_per_cluster=50,frac=1)"
   ]
  },
  {
   "cell_type": "code",
   "execution_count": 7,
   "metadata": {
    "tags": []
   },
   "outputs": [],
   "source": [
    "tm = ppa.topic_model(model_type='bertopic', **qd)"
   ]
  },
  {
   "cell_type": "code",
   "execution_count": 9,
   "metadata": {
    "tags": []
   },
   "outputs": [
    {
     "name": "stderr",
     "output_type": "stream",
     "text": [
      "\u001b[32m2023-12-06 16:05:17,748\u001b[0m \u001b[34m\u001b[1m[1] > loading or generating model\u001b[0m\n",
      "\u001b[32m2023-12-06 16:05:17,749\u001b[0m \u001b[34m\u001b[1m  [2] > importing BERTopic\u001b[0m\n",
      "\u001b[32m2023-12-06 16:05:17,749\u001b[0m \u001b[34m\u001b[1m  [3] > loading model from disk: ...model.bin\u001b[0m\n",
      "\u001b[32m2023-12-06 16:05:24,802\u001b[0m \u001b[34m\u001b[1m  [3] < 7.05 seconds\u001b[0m\n",
      "\u001b[32m2023-12-06 16:05:24,803\u001b[0m \u001b[34m\u001b[1m[1] < 7.05 seconds\u001b[0m\n"
     ]
    }
   ],
   "source": [
    "mdl = tm.model(min_topic_size=20)"
   ]
  },
  {
   "cell_type": "code",
   "execution_count": null,
   "metadata": {},
   "outputs": [],
   "source": []
  },
  {
   "cell_type": "code",
   "execution_count": 15,
   "metadata": {
    "tags": []
   },
   "outputs": [
    {
     "data": {
      "text/html": [
       "<div>\n",
       "<style scoped>\n",
       "    .dataframe tbody tr th:only-of-type {\n",
       "        vertical-align: middle;\n",
       "    }\n",
       "\n",
       "    .dataframe tbody tr th {\n",
       "        vertical-align: top;\n",
       "    }\n",
       "\n",
       "    .dataframe thead th {\n",
       "        text-align: right;\n",
       "    }\n",
       "</style>\n",
       "<table border=\"1\" class=\"dataframe\">\n",
       "  <thead>\n",
       "    <tr style=\"text-align: right;\">\n",
       "      <th></th>\n",
       "      <th>Topic</th>\n",
       "      <th>Count</th>\n",
       "      <th>Name</th>\n",
       "      <th>Representation</th>\n",
       "      <th>Representative_Docs</th>\n",
       "    </tr>\n",
       "  </thead>\n",
       "  <tbody>\n",
       "    <tr>\n",
       "      <th>0</th>\n",
       "      <td>-1</td>\n",
       "      <td>130381</td>\n",
       "      <td>-1_words_language_english_being</td>\n",
       "      <td>[words, language, english, being, upon, be, of...</td>\n",
       "      <td>[139\\nMR. EDWARD ARNOLD'S LIST.\\nTHE ART OF TR...</td>\n",
       "    </tr>\n",
       "    <tr>\n",
       "      <th>1</th>\n",
       "      <td>0</td>\n",
       "      <td>1540</td>\n",
       "      <td>0_wolde_oure_alle_thou</td>\n",
       "      <td>[wolde, oure, alle, thou, herte, longe, ane, l...</td>\n",
       "      <td>[The kyng, for to glade here, bi clupte hire a...</td>\n",
       "    </tr>\n",
       "    <tr>\n",
       "      <th>2</th>\n",
       "      <td>1</td>\n",
       "      <td>1518</td>\n",
       "      <td>1_chaucer_chaucerian_poets_poems</td>\n",
       "      <td>[chaucer, chaucerian, poets, poems, chaucers, ...</td>\n",
       "      <td>[ACKNOWLEDGMENTS. xix\\nhis Lady and Words to A...</td>\n",
       "    </tr>\n",
       "    <tr>\n",
       "      <th>3</th>\n",
       "      <td>2</td>\n",
       "      <td>1221</td>\n",
       "      <td>2_wood_substance_grain_tree</td>\n",
       "      <td>[wood, substance, grain, tree, coarse, species...</td>\n",
       "      <td>[36\\nBEETLE, an insect; a heavy mallet.\\nBILL,...</td>\n",
       "    </tr>\n",
       "    <tr>\n",
       "      <th>4</th>\n",
       "      <td>3</td>\n",
       "      <td>963</td>\n",
       "      <td>3_grammars_grammarians_grammar_learners</td>\n",
       "      <td>[grammars, grammarians, grammar, learners, gra...</td>\n",
       "      <td>[ADVERTISEMENT TO THE THIRD EDITION.\\nIN prese...</td>\n",
       "    </tr>\n",
       "    <tr>\n",
       "      <th>...</th>\n",
       "      <td>...</td>\n",
       "      <td>...</td>\n",
       "      <td>...</td>\n",
       "      <td>...</td>\n",
       "      <td>...</td>\n",
       "    </tr>\n",
       "    <tr>\n",
       "      <th>1514</th>\n",
       "      <td>1513</td>\n",
       "      <td>10</td>\n",
       "      <td>1513_courtenay_edward_countenance_apprehension</td>\n",
       "      <td>[courtenay, edward, countenance, apprehension,...</td>\n",
       "      <td>[by the flight of some night-birds along remot...</td>\n",
       "    </tr>\n",
       "    <tr>\n",
       "      <th>1515</th>\n",
       "      <td>1514</td>\n",
       "      <td>10</td>\n",
       "      <td>1514_poetry_poet_poets_poetthe</td>\n",
       "      <td>[poetry, poet, poets, poetthe, philosophers, a...</td>\n",
       "      <td>[History and science, dealing with fact, seek ...</td>\n",
       "    </tr>\n",
       "    <tr>\n",
       "      <th>1516</th>\n",
       "      <td>1515</td>\n",
       "      <td>10</td>\n",
       "      <td>1515_phonetics_vowels_speech_language</td>\n",
       "      <td>[phonetics, vowels, speech, language, philolog...</td>\n",
       "      <td>[- sh the Parts of Speech the work of the Gram...</td>\n",
       "    </tr>\n",
       "    <tr>\n",
       "      <th>1517</th>\n",
       "      <td>1516</td>\n",
       "      <td>10</td>\n",
       "      <td>1516_prefixes_suffix_prefix_consonant</td>\n",
       "      <td>[prefixes, suffix, prefix, consonant, alphabet...</td>\n",
       "      <td>[SECTION IV.\\nOBSERVATIONS ON THE PREFIXES.\\nE...</td>\n",
       "    </tr>\n",
       "    <tr>\n",
       "      <th>1518</th>\n",
       "      <td>1517</td>\n",
       "      <td>10</td>\n",
       "      <td>1517_browne_brownelittle_brownes_thomas</td>\n",
       "      <td>[browne, brownelittle, brownes, thomas, litera...</td>\n",
       "      <td>[If we knew Sir Thomas Browne only through his...</td>\n",
       "    </tr>\n",
       "  </tbody>\n",
       "</table>\n",
       "<p>1519 rows × 5 columns</p>\n",
       "</div>"
      ],
      "text/plain": [
       "      Topic   Count                                            Name  \\\n",
       "0        -1  130381                 -1_words_language_english_being   \n",
       "1         0    1540                          0_wolde_oure_alle_thou   \n",
       "2         1    1518                1_chaucer_chaucerian_poets_poems   \n",
       "3         2    1221                     2_wood_substance_grain_tree   \n",
       "4         3     963         3_grammars_grammarians_grammar_learners   \n",
       "...     ...     ...                                             ...   \n",
       "1514   1513      10  1513_courtenay_edward_countenance_apprehension   \n",
       "1515   1514      10                  1514_poetry_poet_poets_poetthe   \n",
       "1516   1515      10           1515_phonetics_vowels_speech_language   \n",
       "1517   1516      10           1516_prefixes_suffix_prefix_consonant   \n",
       "1518   1517      10         1517_browne_brownelittle_brownes_thomas   \n",
       "\n",
       "                                         Representation  \\\n",
       "0     [words, language, english, being, upon, be, of...   \n",
       "1     [wolde, oure, alle, thou, herte, longe, ane, l...   \n",
       "2     [chaucer, chaucerian, poets, poems, chaucers, ...   \n",
       "3     [wood, substance, grain, tree, coarse, species...   \n",
       "4     [grammars, grammarians, grammar, learners, gra...   \n",
       "...                                                 ...   \n",
       "1514  [courtenay, edward, countenance, apprehension,...   \n",
       "1515  [poetry, poet, poets, poetthe, philosophers, a...   \n",
       "1516  [phonetics, vowels, speech, language, philolog...   \n",
       "1517  [prefixes, suffix, prefix, consonant, alphabet...   \n",
       "1518  [browne, brownelittle, brownes, thomas, litera...   \n",
       "\n",
       "                                    Representative_Docs  \n",
       "0     [139\\nMR. EDWARD ARNOLD'S LIST.\\nTHE ART OF TR...  \n",
       "1     [The kyng, for to glade here, bi clupte hire a...  \n",
       "2     [ACKNOWLEDGMENTS. xix\\nhis Lady and Words to A...  \n",
       "3     [36\\nBEETLE, an insect; a heavy mallet.\\nBILL,...  \n",
       "4     [ADVERTISEMENT TO THE THIRD EDITION.\\nIN prese...  \n",
       "...                                                 ...  \n",
       "1514  [by the flight of some night-birds along remot...  \n",
       "1515  [History and science, dealing with fact, seek ...  \n",
       "1516  [- sh the Parts of Speech the work of the Gram...  \n",
       "1517  [SECTION IV.\\nOBSERVATIONS ON THE PREFIXES.\\nE...  \n",
       "1518  [If we knew Sir Thomas Browne only through his...  \n",
       "\n",
       "[1519 rows x 5 columns]"
      ]
     },
     "execution_count": 15,
     "metadata": {},
     "output_type": "execute_result"
    }
   ],
   "source": [
    "df = mdl.get_topic_info()\n",
    "df"
   ]
  },
  {
   "cell_type": "code",
   "execution_count": 16,
   "metadata": {
    "tags": []
   },
   "outputs": [
    {
     "data": {
      "text/html": [
       "<div>\n",
       "<style scoped>\n",
       "    .dataframe tbody tr th:only-of-type {\n",
       "        vertical-align: middle;\n",
       "    }\n",
       "\n",
       "    .dataframe tbody tr th {\n",
       "        vertical-align: top;\n",
       "    }\n",
       "\n",
       "    .dataframe thead th {\n",
       "        text-align: right;\n",
       "    }\n",
       "</style>\n",
       "<table border=\"1\" class=\"dataframe\">\n",
       "  <thead>\n",
       "    <tr style=\"text-align: right;\">\n",
       "      <th></th>\n",
       "      <th>Topic</th>\n",
       "      <th>Count</th>\n",
       "      <th>Name</th>\n",
       "      <th>Representation</th>\n",
       "      <th>Representative_Docs</th>\n",
       "    </tr>\n",
       "  </thead>\n",
       "  <tbody>\n",
       "    <tr>\n",
       "      <th>547</th>\n",
       "      <td>546</td>\n",
       "      <td>33</td>\n",
       "      <td>546_adjectives_nouns_vowels_words</td>\n",
       "      <td>[adjectives, nouns, vowels, words, adverbs, fr...</td>\n",
       "      <td>[i tij\\nte\\nPAGE\\n87\\n.\\n. .\\n88\\n·\\n·\\n89\\n.\\...</td>\n",
       "    </tr>\n",
       "    <tr>\n",
       "      <th>989</th>\n",
       "      <td>988</td>\n",
       "      <td>18</td>\n",
       "      <td>988_whitman_harriet_editors_correspondent</td>\n",
       "      <td>[whitman, harriet, editors, correspondent, com...</td>\n",
       "      <td>[un\\nEditor\\nAssociate Editor\\nAdvisory Commit...</td>\n",
       "    </tr>\n",
       "    <tr>\n",
       "      <th>1204</th>\n",
       "      <td>1203</td>\n",
       "      <td>14</td>\n",
       "      <td>1203_psalmus_psalmum_psalmo_worulde</td>\n",
       "      <td>[psalmus, psalmum, psalmo, worulde, exegesis, ...</td>\n",
       "      <td>[Đa Dauid pisne preotteodan sealm sang, pa seo...</td>\n",
       "    </tr>\n",
       "    <tr>\n",
       "      <th>299</th>\n",
       "      <td>298</td>\n",
       "      <td>53</td>\n",
       "      <td>298_newbery_biographical_fnewbery_samuel</td>\n",
       "      <td>[newbery, biographical, fnewbery, samuel, robs...</td>\n",
       "      <td>[THE\\nWORKS\\nOF THE\\nENGLISH\\nPO E T S.\\nW I T...</td>\n",
       "    </tr>\n",
       "    <tr>\n",
       "      <th>1377</th>\n",
       "      <td>1376</td>\n",
       "      <td>11</td>\n",
       "      <td>1376_shakespeare_literature_literary_treatises</td>\n",
       "      <td>[shakespeare, literature, literary, treatises,...</td>\n",
       "      <td>[iv\\na more general interest among educated me...</td>\n",
       "    </tr>\n",
       "    <tr>\n",
       "      <th>435</th>\n",
       "      <td>434</td>\n",
       "      <td>39</td>\n",
       "      <td>434_disguises_disguise_disguised_costume</td>\n",
       "      <td>[disguises, disguise, disguised, costume, cost...</td>\n",
       "      <td>[8\\nin itself, and the unity of the whole is l...</td>\n",
       "    </tr>\n",
       "    <tr>\n",
       "      <th>752</th>\n",
       "      <td>751</td>\n",
       "      <td>24</td>\n",
       "      <td>751_renaissance_antiquity_feudal_italians</td>\n",
       "      <td>[renaissance, antiquity, feudal, italians, ant...</td>\n",
       "      <td>[extinguished ; public good faith seemed to be...</td>\n",
       "    </tr>\n",
       "    <tr>\n",
       "      <th>502</th>\n",
       "      <td>501</td>\n",
       "      <td>35</td>\n",
       "      <td>501_walden_thoreau_thoreaus_naturewriting</td>\n",
       "      <td>[walden, thoreau, thoreaus, naturewriting, ima...</td>\n",
       "      <td>[the reading of Thoreau in that charmed and lo...</td>\n",
       "    </tr>\n",
       "    <tr>\n",
       "      <th>1306</th>\n",
       "      <td>1305</td>\n",
       "      <td>12</td>\n",
       "      <td>1305_contractions_shakespeare_termination_cont...</td>\n",
       "      <td>[contractions, shakespeare, termination, contr...</td>\n",
       "      <td>[28\\ntermination of the second person singular...</td>\n",
       "    </tr>\n",
       "    <tr>\n",
       "      <th>1152</th>\n",
       "      <td>1151</td>\n",
       "      <td>15</td>\n",
       "      <td>1151_wordsworths_essays_criticism_wordsworth</td>\n",
       "      <td>[wordsworths, essays, criticism, wordsworth, p...</td>\n",
       "      <td>[;x\\nXVIII Language of metrical composition, w...</td>\n",
       "    </tr>\n",
       "  </tbody>\n",
       "</table>\n",
       "</div>"
      ],
      "text/plain": [
       "      Topic  Count                                               Name  \\\n",
       "547     546     33                  546_adjectives_nouns_vowels_words   \n",
       "989     988     18          988_whitman_harriet_editors_correspondent   \n",
       "1204   1203     14                1203_psalmus_psalmum_psalmo_worulde   \n",
       "299     298     53           298_newbery_biographical_fnewbery_samuel   \n",
       "1377   1376     11     1376_shakespeare_literature_literary_treatises   \n",
       "435     434     39           434_disguises_disguise_disguised_costume   \n",
       "752     751     24          751_renaissance_antiquity_feudal_italians   \n",
       "502     501     35          501_walden_thoreau_thoreaus_naturewriting   \n",
       "1306   1305     12  1305_contractions_shakespeare_termination_cont...   \n",
       "1152   1151     15       1151_wordsworths_essays_criticism_wordsworth   \n",
       "\n",
       "                                         Representation  \\\n",
       "547   [adjectives, nouns, vowels, words, adverbs, fr...   \n",
       "989   [whitman, harriet, editors, correspondent, com...   \n",
       "1204  [psalmus, psalmum, psalmo, worulde, exegesis, ...   \n",
       "299   [newbery, biographical, fnewbery, samuel, robs...   \n",
       "1377  [shakespeare, literature, literary, treatises,...   \n",
       "435   [disguises, disguise, disguised, costume, cost...   \n",
       "752   [renaissance, antiquity, feudal, italians, ant...   \n",
       "502   [walden, thoreau, thoreaus, naturewriting, ima...   \n",
       "1306  [contractions, shakespeare, termination, contr...   \n",
       "1152  [wordsworths, essays, criticism, wordsworth, p...   \n",
       "\n",
       "                                    Representative_Docs  \n",
       "547   [i tij\\nte\\nPAGE\\n87\\n.\\n. .\\n88\\n·\\n·\\n89\\n.\\...  \n",
       "989   [un\\nEditor\\nAssociate Editor\\nAdvisory Commit...  \n",
       "1204  [Đa Dauid pisne preotteodan sealm sang, pa seo...  \n",
       "299   [THE\\nWORKS\\nOF THE\\nENGLISH\\nPO E T S.\\nW I T...  \n",
       "1377  [iv\\na more general interest among educated me...  \n",
       "435   [8\\nin itself, and the unity of the whole is l...  \n",
       "752   [extinguished ; public good faith seemed to be...  \n",
       "502   [the reading of Thoreau in that charmed and lo...  \n",
       "1306  [28\\ntermination of the second person singular...  \n",
       "1152  [;x\\nXVIII Language of metrical composition, w...  "
      ]
     },
     "execution_count": 16,
     "metadata": {},
     "output_type": "execute_result"
    }
   ],
   "source": [
    "df.sample(n=10)"
   ]
  },
  {
   "cell_type": "code",
   "execution_count": 17,
   "metadata": {
    "tags": []
   },
   "outputs": [
    {
     "data": {
      "text/plain": [
       "213618"
      ]
     },
     "execution_count": 17,
     "metadata": {},
     "output_type": "execute_result"
    }
   ],
   "source": [
    "df.Count.sum()"
   ]
  },
  {
   "cell_type": "code",
   "execution_count": 18,
   "metadata": {
    "tags": []
   },
   "outputs": [
    {
     "data": {
      "text/plain": [
       "'/home/rh6841/ppa_data/corpus/data/topicmodels/models/data.bertopic.model.ntopic_50.niter_100.min_doc_len_25.frac_1.max_per_cluster_50/model.bin'"
      ]
     },
     "execution_count": 18,
     "metadata": {},
     "output_type": "execute_result"
    }
   ],
   "source": [
    "tm.path_model"
   ]
  },
  {
   "cell_type": "code",
   "execution_count": null,
   "metadata": {
    "tags": []
   },
   "outputs": [
    {
     "name": "stderr",
     "output_type": "stream",
     "text": [
      "\u001b[32m2023-12-06 16:06:07,964\u001b[0m \u001b[34m\u001b[1m[1] > iterating pages by page database\u001b[0m\n",
      "\u001b[32m2023-12-06 16:06:07,969\u001b[0m \u001b[34m\u001b[1m  [2] > iterating page database results ({\"min_doc_len\": 25, \"frac_min\": 0, \"frac_max\": 1})\u001b[0m\n",
      "Iterating over page search results: 100%|██████████| 2044105/2044105 [00:30<00:00, 66599.85it/s]\n",
      "\u001b[32m2023-12-06 16:06:38,663\u001b[0m \u001b[34m\u001b[1m  [2] < 30.69 seconds\u001b[0m\n",
      "\u001b[32m2023-12-06 16:06:38,664\u001b[0m \u001b[34m\u001b[1m[1] < 30.7 seconds\u001b[0m\n",
      " 70%|███████   | 1062/1517 [25:16<10:54,  1.44s/it]"
     ]
    }
   ],
   "source": [
    "hierarchical_topics = mdl.hierarchical_topics([y for x,y in tm.iter_docs()])"
   ]
  },
  {
   "cell_type": "code",
   "execution_count": null,
   "metadata": {},
   "outputs": [],
   "source": [
    "mdl.visualize_hierarchy(hierarchical_topics=hierarchical_topics)"
   ]
  },
  {
   "cell_type": "code",
   "execution_count": null,
   "metadata": {},
   "outputs": [],
   "source": []
  },
  {
   "cell_type": "code",
   "execution_count": null,
   "metadata": {},
   "outputs": [],
   "source": []
  }
 ],
 "metadata": {
  "kernelspec": {
   "display_name": "Python 3 (ipykernel)",
   "language": "python",
   "name": "python3"
  },
  "language_info": {
   "codemirror_mode": {
    "name": "ipython",
    "version": 3
   },
   "file_extension": ".py",
   "mimetype": "text/x-python",
   "name": "python",
   "nbconvert_exporter": "python",
   "pygments_lexer": "ipython3",
   "version": "3.9.18"
  }
 },
 "nbformat": 4,
 "nbformat_minor": 4
}
