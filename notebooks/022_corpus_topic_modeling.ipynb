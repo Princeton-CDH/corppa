{
 "cells": [
  {
   "cell_type": "code",
   "execution_count": 1,
   "metadata": {},
   "outputs": [],
   "source": [
    "import sys;sys.path.append('..')\n",
    "from ppanlp.corpus import PPA\n",
    "# import multiprocessing as mp\n",
    "# mp.set_start_method('fork')"
   ]
  },
  {
   "cell_type": "code",
   "execution_count": 2,
   "metadata": {},
   "outputs": [],
   "source": [
    "ppa = PPA('~/ppa_data/corpus2')\n",
    "# ppa.stopwords"
   ]
  },
  {
   "cell_type": "code",
   "execution_count": 3,
   "metadata": {},
   "outputs": [],
   "source": [
    "tm = ppa.topic_model(min_doc_len=25,max_per_cluster=100,frac=.5)"
   ]
  },
  {
   "cell_type": "code",
   "execution_count": 4,
   "metadata": {},
   "outputs": [
    {
     "name": "stderr",
     "output_type": "stream",
     "text": [
      "Iterating over page search results: 100%|██████████| 445504/445504 [01:30<00:00, 4910.99it/s]\n",
      "Training model (ndocs=179841, log-likelihood = -10.3): 100%|██████████| 100/100 [10:21<00:00,  6.22s/it]   \n"
     ]
    },
    {
     "name": "stdout",
     "output_type": "stream",
     "text": [
      "Saved: /Users/ryanheuser/ppa_data/corpus2/data/topicmodels/models/data.tomotopy.model.ntopic_50.niter_100.min_doc_len_25.frac_0.5.max_per_cluster_100/model.bin\n",
      "<Basic Info>\n",
      "| LDAModel (current version: 0.12.5)\n",
      "| 183624 docs, 27223066 words\n",
      "| Total Vocabs: 1752819, Used Vocabs: 1752819\n",
      "| Entropy of words: 9.99327\n",
      "| Entropy of term-weighted words: 9.99327\n",
      "| Removed Vocabs: <NA>\n",
      "|\n",
      "<Training Info>\n",
      "| Iterations: 100, Burn-in steps: 0\n",
      "| Optimization Interval: 10\n",
      "| Log-likelihood per word: -10.29922\n",
      "|\n",
      "<Initial Parameters>\n",
      "| tw: TermWeight.ONE\n",
      "| min_cf: 0 (minimum collection frequency of words)\n",
      "| min_df: 0 (minimum document frequency of words)\n",
      "| rm_top: 0 (the number of top words to be removed)\n",
      "| k: 50 (the number of topics between 1 ~ 32767)\n",
      "| alpha: [0.1] (hyperparameter of Dirichlet distribution for document-topic, given as a single `float` in case of symmetric prior and as a list with length `k` of `float` in case of asymmetric prior.)\n",
      "| eta: 0.01 (hyperparameter of Dirichlet distribution for topic-word)\n",
      "| seed: 3916803094 (random seed)\n",
      "| trained in version 0.12.5\n",
      "|\n",
      "<Parameters>\n",
      "| alpha (Dirichlet prior on the per-document topic distributions)\n",
      "|  [0.05908452 0.02423157 0.01521005 0.04823785 0.01614203 0.05070924\n",
      "|   0.02423457 0.04436291 0.10981916 0.17650665 0.05318696 0.06149164\n",
      "|   0.00644938 0.02547049 0.02224301 0.05550636 0.00653637 0.04499675\n",
      "|   0.08431219 0.01991425 0.14827092 0.06316641 0.06707761 0.01558721\n",
      "|   0.07521914 0.01348657 0.02057561 0.1140091  0.09284886 0.03694677\n",
      "|   0.01535865 0.01729156 0.04937177 0.00733766 0.00665881 0.04882587\n",
      "|   0.00811811 0.07451049 0.02223293 0.1008255  0.02136671 0.13504481\n",
      "|   0.03246006 0.0235972  0.09612096 0.01316003 0.01407391 0.14808063\n",
      "|   0.00869596 0.02306112]\n",
      "| eta (Dirichlet prior on the per-topic word distribution)\n",
      "|  0.01\n",
      "|\n",
      "<Topics>\n",
      "| #0 (492669) : king death great rome upon\n",
      "| #1 (389355) : quod latin quam esse atque\n",
      "| #2 (183751) : thle thie thould thall andl\n",
      "| #3 (391233) : tree white like black water\n",
      "| #4 (127111) : woman wife lady female male\n",
      "| #5 (404904) : blood fight battle sword fell\n",
      "| #6 (380956) : kind part make small thing\n",
      "| #7 (586226) : words sound vowel word sounds\n",
      "| #8 (1045247) : like light night upon earth\n",
      "| #9 (1545273) : would must words much word\n",
      "| #10 (542538) : fame upon great much make\n",
      "| #11 (647460) : first time years great many\n",
      "| #12 (95614) : dhat widh rowed dhis obit\n",
      "| #13 (345399) : voice sound tongue tone vocal\n",
      "| #14 (247448) : fame thing cafe word words\n",
      "| #15 (693650) : english language latin french words\n",
      "| #16 (142503) : speling hwig hwen veri τους\n",
      "| #17 (552088) : english university book professor edition\n",
      "| #18 (1015544) : country people great government would\n",
      "| #19 (320561) : ness tion ment state tive\n",
      "| #20 (1401024) : good every upon great much\n",
      "| #21 (863863) : sentence words used sentences word\n",
      "| #22 (736558) : first time number series second\n",
      "| #23 (157972) : chaucer chaucer's text tale note\n",
      "| #24 (837877) : work school teacher reading write\n",
      "| #25 (291186) : dans pour vous plus nous\n",
      "| #26 (211732) : gives standard webster pronunciation give\n",
      "| #27 (1224964) : must subject general upon work\n",
      "| #28 (986946) : words language voice expression speech\n",
      "| #29 (588877) : verb plural verbs person singular\n",
      "| #30 (280926) : good haue hath doth well\n",
      "| #31 (117785) : pope milton dryden johnson paradise\n",
      "| #32 (525511) : play plays stage shakespeare first\n",
      "| #33 (115700) : della dante aend conj italian\n",
      "| #34 (102091) : pron erfurt corpus epinal gloss\n",
      "| #35 (478269) : london king lord john henry\n",
      "| #36 (222007) : sich nicht auch eine dass\n",
      "| #37 (832987) : thus love fair shall like\n",
      "| #38 (207379) : music song musical notes note\n",
      "| #39 (943481) : thou shall thee love come\n",
      "| #40 (487946) : used called genus species name\n",
      "| #41 (1385951) : life world nature mind human\n",
      "| #42 (436467) : verse line lines syllables rhythm\n",
      "| #43 (299592) : person thing another make place\n",
      "| #44 (1038226) : poetry poet poem poets poems\n",
      "| #45 (151730) : tile rife fore fill till\n",
      "| #46 (309988) : alle ther hire thou whan\n",
      "| #47 (1482794) : said little would time could\n",
      "| #48 (143987) : water part place fide spring\n",
      "| #49 (209720) : greek homer says poet cicero\n",
      "|\n",
      "\n",
      "Saved: /Users/ryanheuser/ppa_data/corpus2/data/topicmodels/models/data.tomotopy.model.ntopic_50.niter_100.min_doc_len_25.frac_0.5.max_per_cluster_100/index.json\n"
     ]
    }
   ],
   "source": [
    "tm.model(force=True)"
   ]
  },
  {
   "cell_type": "code",
   "execution_count": 5,
   "metadata": {},
   "outputs": [
    {
     "name": "stdout",
     "output_type": "stream",
     "text": [
      "<Basic Info>\n",
      "| LDAModel (current version: 0.12.5)\n",
      "| 183624 docs, 27223066 words\n",
      "| Total Vocabs: 1752819, Used Vocabs: 1752819\n",
      "| Entropy of words: 9.99327\n",
      "| Entropy of term-weighted words: 9.99327\n",
      "| Removed Vocabs: <NA>\n",
      "|\n",
      "<Training Info>\n",
      "| Iterations: 100, Burn-in steps: 0\n",
      "| Optimization Interval: 10\n",
      "| Log-likelihood per word: -10.29922\n",
      "|\n",
      "<Topics>\n",
      "| #0 (492669) : king death great rome upon city battle roman army people\n",
      "| #1 (389355) : quod latin quam esse atque quid sunt mihi tibi quae\n",
      "| #2 (183751) : thle thie thould thall andl anld andi ther tion tile\n",
      "| #3 (391233) : tree white like black water bird birds fruit food green\n",
      "| #4 (127111) : woman wife lady female male husband marriage feminine daughter women\n",
      "| #5 (404904) : blood fight battle sword fell arms fire hand ground like\n",
      "| #6 (380956) : kind part make small thing used made place head piece\n",
      "| #7 (586226) : words sound vowel word sounds syllable long pronunciation vowels short\n",
      "| #8 (1045247) : like light night upon earth wind bright dark white still\n",
      "| #9 (1545273) : would must words much word well might though even without\n",
      "| #10 (542538) : fame upon great much make time tion made every well\n",
      "| #11 (647460) : first time years great many work history works century book\n",
      "| #12 (95614) : dhat widh rowed dhis obit dhan οιιά rowing hwich inst\n",
      "| #13 (345399) : voice sound tongue tone vocal mouth breath sounds position back\n",
      "| #14 (247448) : fame thing cafe word words another called also part together\n",
      "| #15 (693650) : english language latin french words saxon greek languages word german\n",
      "| #16 (142503) : speling hwig hwen veri τους leterz onli alfabet reform fonetic\n",
      "| #17 (552088) : english university book professor edition john london york american volume\n",
      "| #18 (1015544) : country people great government would england state public years states\n",
      "| #19 (320561) : ness tion ment state tive manner relating able pertaining late\n",
      "| #20 (1401024) : good every upon great much would without nature mind life\n",
      "| #21 (863863) : sentence words used sentences word noun subject adjective verb following\n",
      "| #22 (736558) : first time number series second point group made paragraph given\n",
      "| #23 (157972) : chaucer chaucer's text tale note also poem tales read ibid\n",
      "| #24 (837877) : work school teacher reading write study english read class writing\n",
      "| #25 (291186) : dans pour vous plus nous french paris mais comme tout\n",
      "| #26 (211732) : gives standard webster pronunciation give sound international says wore boot\n",
      "| #27 (1224964) : must subject general upon work fact would view first theory\n",
      "| #28 (986946) : words language voice expression speech must style thought mind force\n",
      "| #29 (588877) : verb plural verbs person singular tense present form thou nouns\n",
      "| #30 (280926) : good haue hath doth well great many also thus shall\n",
      "| #31 (117785) : pope milton dryden johnson paradise ibid addison byron milton's pope's\n",
      "| #32 (525511) : play plays stage shakespeare first drama king scene comedy dramatic\n",
      "| #33 (115700) : della dante aend conj italian come veri vita delle castelvetro\n",
      "| #34 (102091) : pron erfurt corpus epinal gloss ally signs glosses inis worcester\n",
      "| #35 (478269) : london king lord john henry william printed year church court\n",
      "| #36 (222007) : sich nicht auch eine dass nach aber oder noch sind\n",
      "| #37 (832987) : thus love fair shall like eyes whose o'er vain fate\n",
      "| #38 (207379) : music song musical notes note songs three first four singing\n",
      "| #39 (943481) : thou shall thee love come lord heart good hath death\n",
      "| #40 (487946) : used called genus species name water also form body small\n",
      "| #41 (1385951) : life world nature mind human power things great spirit even\n",
      "| #42 (436467) : verse line lines syllables rhythm first syllable rhyme feet accent\n",
      "| #43 (299592) : person thing another make place take one's money back state\n",
      "| #44 (1038226) : poetry poet poem poets poems verse english prose great style\n",
      "| #45 (151730) : tile rife fore fill till ikke eller tire late file\n",
      "| #46 (309988) : alle ther hire thou whan kyng thai thus king sone\n",
      "| #47 (1482794) : said little would time could like good well came house\n",
      "| #48 (143987) : water part place fide spring goth town germ river miles\n",
      "| #49 (209720) : greek homer says poet cicero greeks virgil plato poets horace\n",
      "|\n",
      "\n"
     ]
    }
   ],
   "source": [
    "tm.mdl.summary(initial_hp=False, params=False, topic_word_top_n=10)"
   ]
  },
  {
   "cell_type": "code",
   "execution_count": null,
   "metadata": {},
   "outputs": [],
   "source": []
  },
  {
   "cell_type": "code",
   "execution_count": null,
   "metadata": {},
   "outputs": [
    {
     "data": {
      "text/plain": [
       "'/Users/ryanheuser/ppa_data/corpus2/data/topicmodels/models/data.tomotopy.model.ntopic_50.niter_100.min_doc_len_25.frac_0.1.max_per_cluster_25'"
      ]
     },
     "execution_count": 8,
     "metadata": {},
     "output_type": "execute_result"
    }
   ],
   "source": [
    "tm.path"
   ]
  },
  {
   "cell_type": "code",
   "execution_count": null,
   "metadata": {},
   "outputs": [
    {
     "ename": "NameError",
     "evalue": "name 'page' is not defined",
     "output_type": "error",
     "traceback": [
      "\u001b[0;31m---------------------------------------------------------------------------\u001b[0m",
      "\u001b[0;31mNameError\u001b[0m                                 Traceback (most recent call last)",
      "\u001b[1;32m/Users/ryanheuser/github/ppa-nlp/notebooks/022_corpus_topic_modeling.ipynb Cell 7\u001b[0m line \u001b[0;36m1\n\u001b[0;32m----> <a href='vscode-notebook-cell:/Users/ryanheuser/github/ppa-nlp/notebooks/022_corpus_topic_modeling.ipynb#X10sZmlsZQ%3D%3D?line=0'>1</a>\u001b[0m page\u001b[39m.\u001b[39mtxt\n",
      "\u001b[0;31mNameError\u001b[0m: name 'page' is not defined"
     ]
    }
   ],
   "source": [
    "page.txt"
   ]
  },
  {
   "cell_type": "code",
   "execution_count": null,
   "metadata": {},
   "outputs": [
    {
     "data": {
      "text/plain": [
       "['hello']"
      ]
     },
     "execution_count": 9,
     "metadata": {},
     "output_type": "execute_result"
    }
   ],
   "source": [
    "page.get_content_words()"
   ]
  },
  {
   "cell_type": "code",
   "execution_count": null,
   "metadata": {},
   "outputs": [
    {
     "data": {
      "text/plain": [
       "[\"'U\",\n",
       " ' ',\n",
       " ';',\n",
       " '4t4',\n",
       " ' ',\n",
       " \"'\",\n",
       " '\"',\n",
       " ' ',\n",
       " '»',\n",
       " ' ',\n",
       " '»',\n",
       " '*',\n",
       " '\"',\n",
       " ' ',\n",
       " '.',\n",
       " ' ',\n",
       " '.',\n",
       " '0',\n",
       " ' ',\n",
       " \"'\",\n",
       " '~',\n",
       " '~',\n",
       " '~',\n",
       " ' ',\n",
       " '454',\n",
       " ' ',\n",
       " '*',\n",
       " '\\\\',\n",
       " ' ',\n",
       " '.']"
      ]
     },
     "execution_count": 21,
     "metadata": {},
     "output_type": "execute_result"
    }
   ],
   "source": [
    "page.tokens"
   ]
  },
  {
   "cell_type": "code",
   "execution_count": null,
   "metadata": {},
   "outputs": [
    {
     "name": "stdout",
     "output_type": "stream",
     "text": [
      "Requirement already satisfied: pip in /Users/ryanheuser/github/ppa-nlp/venv/lib/python3.12/site-packages (23.3.1)\n",
      "Requirement already satisfied: wheel in /Users/ryanheuser/github/ppa-nlp/venv/lib/python3.12/site-packages (0.42.0)\n",
      "Collecting tomotopy\n",
      "  Using cached tomotopy-0.12.5.tar.gz (1.3 MB)\n",
      "  Preparing metadata (setup.py) ... \u001b[?25ldone\n",
      "\u001b[?25hRequirement already satisfied: numpy>=1.11.0 in /Users/ryanheuser/github/ppa-nlp/venv/lib/python3.12/site-packages (from tomotopy) (1.26.2)\n",
      "Building wheels for collected packages: tomotopy\n",
      "  Building wheel for tomotopy (setup.py) ... \u001b[?25lerror\n",
      "  \u001b[1;31merror\u001b[0m: \u001b[1msubprocess-exited-with-error\u001b[0m\n",
      "  \n",
      "  \u001b[31m×\u001b[0m \u001b[32mpython setup.py bdist_wheel\u001b[0m did not run successfully.\n",
      "  \u001b[31m│\u001b[0m exit code: \u001b[1;36m1\u001b[0m\n",
      "  \u001b[31m╰─>\u001b[0m \u001b[31m[45 lines of output]\u001b[0m\n",
      "  \u001b[31m   \u001b[0m running bdist_wheel\n",
      "  \u001b[31m   \u001b[0m running build\n",
      "  \u001b[31m   \u001b[0m running build_py\n",
      "  \u001b[31m   \u001b[0m creating build\n",
      "  \u001b[31m   \u001b[0m creating build/lib.macosx-14.0-x86_64-cpython-312\n",
      "  \u001b[31m   \u001b[0m creating build/lib.macosx-14.0-x86_64-cpython-312/tomotopy\n",
      "  \u001b[31m   \u001b[0m copying tomotopy/_version.py -> build/lib.macosx-14.0-x86_64-cpython-312/tomotopy\n",
      "  \u001b[31m   \u001b[0m copying tomotopy/coherence.py -> build/lib.macosx-14.0-x86_64-cpython-312/tomotopy\n",
      "  \u001b[31m   \u001b[0m copying tomotopy/__init__.py -> build/lib.macosx-14.0-x86_64-cpython-312/tomotopy\n",
      "  \u001b[31m   \u001b[0m copying tomotopy/_summary.py -> build/lib.macosx-14.0-x86_64-cpython-312/tomotopy\n",
      "  \u001b[31m   \u001b[0m copying tomotopy/utils.py -> build/lib.macosx-14.0-x86_64-cpython-312/tomotopy\n",
      "  \u001b[31m   \u001b[0m copying tomotopy/label.py -> build/lib.macosx-14.0-x86_64-cpython-312/tomotopy\n",
      "  \u001b[31m   \u001b[0m running egg_info\n",
      "  \u001b[31m   \u001b[0m writing tomotopy.egg-info/PKG-INFO\n",
      "  \u001b[31m   \u001b[0m writing dependency_links to tomotopy.egg-info/dependency_links.txt\n",
      "  \u001b[31m   \u001b[0m writing requirements to tomotopy.egg-info/requires.txt\n",
      "  \u001b[31m   \u001b[0m writing top-level names to tomotopy.egg-info/top_level.txt\n",
      "  \u001b[31m   \u001b[0m reading manifest file 'tomotopy.egg-info/SOURCES.txt'\n",
      "  \u001b[31m   \u001b[0m reading manifest template 'MANIFEST.in'\n",
      "  \u001b[31m   \u001b[0m warning: no files found matching '*.c' under directory 'src'\n",
      "  \u001b[31m   \u001b[0m warning: no files found matching 'LICENSE.txt'\n",
      "  \u001b[31m   \u001b[0m adding license file 'LICENSE'\n",
      "  \u001b[31m   \u001b[0m writing manifest file 'tomotopy.egg-info/SOURCES.txt'\n",
      "  \u001b[31m   \u001b[0m copying tomotopy/auto_labeling_code.rst -> build/lib.macosx-14.0-x86_64-cpython-312/tomotopy\n",
      "  \u001b[31m   \u001b[0m copying tomotopy/auto_labeling_code_with_porter.rst -> build/lib.macosx-14.0-x86_64-cpython-312/tomotopy\n",
      "  \u001b[31m   \u001b[0m copying tomotopy/documentation.kr.rst -> build/lib.macosx-14.0-x86_64-cpython-312/tomotopy\n",
      "  \u001b[31m   \u001b[0m copying tomotopy/documentation.rst -> build/lib.macosx-14.0-x86_64-cpython-312/tomotopy\n",
      "  \u001b[31m   \u001b[0m running build_ext\n",
      "  \u001b[31m   \u001b[0m building '_tomotopy' extension\n",
      "  \u001b[31m   \u001b[0m creating build/temp.macosx-14.0-x86_64-cpython-312\n",
      "  \u001b[31m   \u001b[0m creating build/temp.macosx-14.0-x86_64-cpython-312/src\n",
      "  \u001b[31m   \u001b[0m creating build/temp.macosx-14.0-x86_64-cpython-312/src/Labeling\n",
      "  \u001b[31m   \u001b[0m creating build/temp.macosx-14.0-x86_64-cpython-312/src/TopicModel\n",
      "  \u001b[31m   \u001b[0m creating build/temp.macosx-14.0-x86_64-cpython-312/src/python\n",
      "  \u001b[31m   \u001b[0m clang -fno-strict-overflow -Wsign-compare -Wunreachable-code -DNDEBUG -g -O3 -Wall -DMODULE_NAME=PyInit__tomotopy -Iinclude -I/Users/ryanheuser/github/ppa-nlp/venv/lib/python3.12/site-packages/numpy/core/include -I/Users/ryanheuser/github/ppa-nlp/venv/include -I/Users/ryanheuser/.pyenv/versions/3.12.0/include/python3.12 -c src/Labeling/FoRelevance.cpp -o build/temp.macosx-14.0-x86_64-cpython-312/src/Labeling/FoRelevance.o -std=c++1y -O3 -fpermissive -stdlib=libc++ -Wno-unused-variable -Wno-switch -arch x86_64 -msse2\n",
      "  \u001b[31m   \u001b[0m In file included from src/Labeling/FoRelevance.cpp:4:\n",
      "  \u001b[31m   \u001b[0m In file included from src/Labeling/FoRelevance.h:4:\n",
      "  \u001b[31m   \u001b[0m In file included from src/Labeling/Labeler.h:4:\n",
      "  \u001b[31m   \u001b[0m In file included from src/Labeling/../TopicModel/TopicModel.hpp:5:\n",
      "  \u001b[31m   \u001b[0m In file included from src/Labeling/../TopicModel/../Utils/Dictionary.h:9:\n",
      "  \u001b[31m   \u001b[0m src/Labeling/../TopicModel/../Utils/serializer.hpp:10:10: fatal error: 'Eigen/Dense' file not found\n",
      "  \u001b[31m   \u001b[0m #include <Eigen/Dense>\n",
      "  \u001b[31m   \u001b[0m          ^~~~~~~~~~~~~\n",
      "  \u001b[31m   \u001b[0m 1 error generated.\n",
      "  \u001b[31m   \u001b[0m error: command '/usr/bin/clang' failed with exit code 1\n",
      "  \u001b[31m   \u001b[0m \u001b[31m[end of output]\u001b[0m\n",
      "  \n",
      "  \u001b[1;35mnote\u001b[0m: This error originates from a subprocess, and is likely not a problem with pip.\n",
      "\u001b[31m  ERROR: Failed building wheel for tomotopy\u001b[0m\u001b[31m\n",
      "\u001b[0m\u001b[?25h  Running setup.py clean for tomotopy\n",
      "Failed to build tomotopy\n",
      "\u001b[31mERROR: Could not build wheels for tomotopy, which is required to install pyproject.toml-based projects\u001b[0m\u001b[31m\n",
      "\u001b[0m"
     ]
    }
   ],
   "source": [
    "# !pip install -U pip wheel\n",
    "# !pip install tomotopy"
   ]
  },
  {
   "cell_type": "code",
   "execution_count": null,
   "metadata": {},
   "outputs": [],
   "source": []
  }
 ],
 "metadata": {
  "kernelspec": {
   "display_name": "venv",
   "language": "python",
   "name": "python3"
  },
  "language_info": {
   "codemirror_mode": {
    "name": "ipython",
    "version": 3
   },
   "file_extension": ".py",
   "mimetype": "text/x-python",
   "name": "python",
   "nbconvert_exporter": "python",
   "pygments_lexer": "ipython3",
   "version": "3.10.7"
  }
 },
 "nbformat": 4,
 "nbformat_minor": 2
}
