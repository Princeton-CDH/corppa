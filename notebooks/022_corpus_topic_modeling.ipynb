{
 "cells": [
  {
   "cell_type": "code",
   "execution_count": 1,
   "metadata": {},
   "outputs": [],
   "source": [
    "import sys;sys.path.append('..')\n",
    "from ppanlp.corpus import PPA\n",
    "# import multiprocessing as mp\n",
    "# mp.set_start_method('fork')"
   ]
  },
  {
   "cell_type": "code",
   "execution_count": 2,
   "metadata": {},
   "outputs": [],
   "source": [
    "ppa = PPA('~/ppa_data/corpus2')\n",
    "# ppa.stopwords"
   ]
  },
  {
   "cell_type": "code",
   "execution_count": null,
   "metadata": {},
   "outputs": [],
   "source": []
  },
  {
   "cell_type": "code",
   "execution_count": 3,
   "metadata": {},
   "outputs": [
    {
     "name": "stderr",
     "output_type": "stream",
     "text": [
      "Iteration over texts in PPA: 100%|██████████| 6939/6939 [16:41<00:00,  6.93it/s]  \n",
      "Training model (ndocs=1950895, log-likelihood = 0.0):   0%|          | 0/10 [00:00<?, ?it/s]"
     ]
    }
   ],
   "source": [
    "ppa.topic_model(lim=None, force=True)"
   ]
  },
  {
   "cell_type": "code",
   "execution_count": 6,
   "metadata": {},
   "outputs": [],
   "source": [
    "# for page in ppa.iter_pages():\n",
    "#     for word in page.content_words:\n",
    "#         print(word)\n",
    "#         break\n",
    "#     break"
   ]
  },
  {
   "cell_type": "code",
   "execution_count": null,
   "metadata": {},
   "outputs": [
    {
     "data": {
      "text/plain": [
       "{'work_id': 'CB0126082904',\n",
       " 'page_id': 'CB0126082904_1',\n",
       " 'page_num': 1,\n",
       " 'page_num_orig': '1',\n",
       " 'page_text': '\\'U ;4t4 \\'\" » »*\" . .0 \\'~~~ 454 *\\\\ . hello'}"
      ]
     },
     "execution_count": 7,
     "metadata": {},
     "output_type": "execute_result"
    }
   ],
   "source": [
    "page.meta"
   ]
  },
  {
   "cell_type": "code",
   "execution_count": null,
   "metadata": {},
   "outputs": [],
   "source": [
    "page.meta['page_text']+=' hello'"
   ]
  },
  {
   "cell_type": "code",
   "execution_count": null,
   "metadata": {},
   "outputs": [
    {
     "data": {
      "text/plain": [
       "'\\'U ;4t4 \\'\" » »*\" . .0 \\'~~~ 454 *\\\\ . hello'"
      ]
     },
     "execution_count": 8,
     "metadata": {},
     "output_type": "execute_result"
    }
   ],
   "source": [
    "page.txt"
   ]
  },
  {
   "cell_type": "code",
   "execution_count": null,
   "metadata": {},
   "outputs": [
    {
     "data": {
      "text/plain": [
       "['hello']"
      ]
     },
     "execution_count": 9,
     "metadata": {},
     "output_type": "execute_result"
    }
   ],
   "source": [
    "page.get_content_words()"
   ]
  },
  {
   "cell_type": "code",
   "execution_count": null,
   "metadata": {},
   "outputs": [
    {
     "data": {
      "text/plain": [
       "[\"'U\",\n",
       " ' ',\n",
       " ';',\n",
       " '4t4',\n",
       " ' ',\n",
       " \"'\",\n",
       " '\"',\n",
       " ' ',\n",
       " '»',\n",
       " ' ',\n",
       " '»',\n",
       " '*',\n",
       " '\"',\n",
       " ' ',\n",
       " '.',\n",
       " ' ',\n",
       " '.',\n",
       " '0',\n",
       " ' ',\n",
       " \"'\",\n",
       " '~',\n",
       " '~',\n",
       " '~',\n",
       " ' ',\n",
       " '454',\n",
       " ' ',\n",
       " '*',\n",
       " '\\\\',\n",
       " ' ',\n",
       " '.']"
      ]
     },
     "execution_count": 21,
     "metadata": {},
     "output_type": "execute_result"
    }
   ],
   "source": [
    "page.tokens"
   ]
  },
  {
   "cell_type": "code",
   "execution_count": null,
   "metadata": {},
   "outputs": [
    {
     "name": "stdout",
     "output_type": "stream",
     "text": [
      "Requirement already satisfied: pip in /Users/ryanheuser/github/ppa-nlp/venv/lib/python3.12/site-packages (23.3.1)\n",
      "Requirement already satisfied: wheel in /Users/ryanheuser/github/ppa-nlp/venv/lib/python3.12/site-packages (0.42.0)\n",
      "Collecting tomotopy\n",
      "  Using cached tomotopy-0.12.5.tar.gz (1.3 MB)\n",
      "  Preparing metadata (setup.py) ... \u001b[?25ldone\n",
      "\u001b[?25hRequirement already satisfied: numpy>=1.11.0 in /Users/ryanheuser/github/ppa-nlp/venv/lib/python3.12/site-packages (from tomotopy) (1.26.2)\n",
      "Building wheels for collected packages: tomotopy\n",
      "  Building wheel for tomotopy (setup.py) ... \u001b[?25lerror\n",
      "  \u001b[1;31merror\u001b[0m: \u001b[1msubprocess-exited-with-error\u001b[0m\n",
      "  \n",
      "  \u001b[31m×\u001b[0m \u001b[32mpython setup.py bdist_wheel\u001b[0m did not run successfully.\n",
      "  \u001b[31m│\u001b[0m exit code: \u001b[1;36m1\u001b[0m\n",
      "  \u001b[31m╰─>\u001b[0m \u001b[31m[45 lines of output]\u001b[0m\n",
      "  \u001b[31m   \u001b[0m running bdist_wheel\n",
      "  \u001b[31m   \u001b[0m running build\n",
      "  \u001b[31m   \u001b[0m running build_py\n",
      "  \u001b[31m   \u001b[0m creating build\n",
      "  \u001b[31m   \u001b[0m creating build/lib.macosx-14.0-x86_64-cpython-312\n",
      "  \u001b[31m   \u001b[0m creating build/lib.macosx-14.0-x86_64-cpython-312/tomotopy\n",
      "  \u001b[31m   \u001b[0m copying tomotopy/_version.py -> build/lib.macosx-14.0-x86_64-cpython-312/tomotopy\n",
      "  \u001b[31m   \u001b[0m copying tomotopy/coherence.py -> build/lib.macosx-14.0-x86_64-cpython-312/tomotopy\n",
      "  \u001b[31m   \u001b[0m copying tomotopy/__init__.py -> build/lib.macosx-14.0-x86_64-cpython-312/tomotopy\n",
      "  \u001b[31m   \u001b[0m copying tomotopy/_summary.py -> build/lib.macosx-14.0-x86_64-cpython-312/tomotopy\n",
      "  \u001b[31m   \u001b[0m copying tomotopy/utils.py -> build/lib.macosx-14.0-x86_64-cpython-312/tomotopy\n",
      "  \u001b[31m   \u001b[0m copying tomotopy/label.py -> build/lib.macosx-14.0-x86_64-cpython-312/tomotopy\n",
      "  \u001b[31m   \u001b[0m running egg_info\n",
      "  \u001b[31m   \u001b[0m writing tomotopy.egg-info/PKG-INFO\n",
      "  \u001b[31m   \u001b[0m writing dependency_links to tomotopy.egg-info/dependency_links.txt\n",
      "  \u001b[31m   \u001b[0m writing requirements to tomotopy.egg-info/requires.txt\n",
      "  \u001b[31m   \u001b[0m writing top-level names to tomotopy.egg-info/top_level.txt\n",
      "  \u001b[31m   \u001b[0m reading manifest file 'tomotopy.egg-info/SOURCES.txt'\n",
      "  \u001b[31m   \u001b[0m reading manifest template 'MANIFEST.in'\n",
      "  \u001b[31m   \u001b[0m warning: no files found matching '*.c' under directory 'src'\n",
      "  \u001b[31m   \u001b[0m warning: no files found matching 'LICENSE.txt'\n",
      "  \u001b[31m   \u001b[0m adding license file 'LICENSE'\n",
      "  \u001b[31m   \u001b[0m writing manifest file 'tomotopy.egg-info/SOURCES.txt'\n",
      "  \u001b[31m   \u001b[0m copying tomotopy/auto_labeling_code.rst -> build/lib.macosx-14.0-x86_64-cpython-312/tomotopy\n",
      "  \u001b[31m   \u001b[0m copying tomotopy/auto_labeling_code_with_porter.rst -> build/lib.macosx-14.0-x86_64-cpython-312/tomotopy\n",
      "  \u001b[31m   \u001b[0m copying tomotopy/documentation.kr.rst -> build/lib.macosx-14.0-x86_64-cpython-312/tomotopy\n",
      "  \u001b[31m   \u001b[0m copying tomotopy/documentation.rst -> build/lib.macosx-14.0-x86_64-cpython-312/tomotopy\n",
      "  \u001b[31m   \u001b[0m running build_ext\n",
      "  \u001b[31m   \u001b[0m building '_tomotopy' extension\n",
      "  \u001b[31m   \u001b[0m creating build/temp.macosx-14.0-x86_64-cpython-312\n",
      "  \u001b[31m   \u001b[0m creating build/temp.macosx-14.0-x86_64-cpython-312/src\n",
      "  \u001b[31m   \u001b[0m creating build/temp.macosx-14.0-x86_64-cpython-312/src/Labeling\n",
      "  \u001b[31m   \u001b[0m creating build/temp.macosx-14.0-x86_64-cpython-312/src/TopicModel\n",
      "  \u001b[31m   \u001b[0m creating build/temp.macosx-14.0-x86_64-cpython-312/src/python\n",
      "  \u001b[31m   \u001b[0m clang -fno-strict-overflow -Wsign-compare -Wunreachable-code -DNDEBUG -g -O3 -Wall -DMODULE_NAME=PyInit__tomotopy -Iinclude -I/Users/ryanheuser/github/ppa-nlp/venv/lib/python3.12/site-packages/numpy/core/include -I/Users/ryanheuser/github/ppa-nlp/venv/include -I/Users/ryanheuser/.pyenv/versions/3.12.0/include/python3.12 -c src/Labeling/FoRelevance.cpp -o build/temp.macosx-14.0-x86_64-cpython-312/src/Labeling/FoRelevance.o -std=c++1y -O3 -fpermissive -stdlib=libc++ -Wno-unused-variable -Wno-switch -arch x86_64 -msse2\n",
      "  \u001b[31m   \u001b[0m In file included from src/Labeling/FoRelevance.cpp:4:\n",
      "  \u001b[31m   \u001b[0m In file included from src/Labeling/FoRelevance.h:4:\n",
      "  \u001b[31m   \u001b[0m In file included from src/Labeling/Labeler.h:4:\n",
      "  \u001b[31m   \u001b[0m In file included from src/Labeling/../TopicModel/TopicModel.hpp:5:\n",
      "  \u001b[31m   \u001b[0m In file included from src/Labeling/../TopicModel/../Utils/Dictionary.h:9:\n",
      "  \u001b[31m   \u001b[0m src/Labeling/../TopicModel/../Utils/serializer.hpp:10:10: fatal error: 'Eigen/Dense' file not found\n",
      "  \u001b[31m   \u001b[0m #include <Eigen/Dense>\n",
      "  \u001b[31m   \u001b[0m          ^~~~~~~~~~~~~\n",
      "  \u001b[31m   \u001b[0m 1 error generated.\n",
      "  \u001b[31m   \u001b[0m error: command '/usr/bin/clang' failed with exit code 1\n",
      "  \u001b[31m   \u001b[0m \u001b[31m[end of output]\u001b[0m\n",
      "  \n",
      "  \u001b[1;35mnote\u001b[0m: This error originates from a subprocess, and is likely not a problem with pip.\n",
      "\u001b[31m  ERROR: Failed building wheel for tomotopy\u001b[0m\u001b[31m\n",
      "\u001b[0m\u001b[?25h  Running setup.py clean for tomotopy\n",
      "Failed to build tomotopy\n",
      "\u001b[31mERROR: Could not build wheels for tomotopy, which is required to install pyproject.toml-based projects\u001b[0m\u001b[31m\n",
      "\u001b[0m"
     ]
    }
   ],
   "source": [
    "# !pip install -U pip wheel\n",
    "# !pip install tomotopy"
   ]
  },
  {
   "cell_type": "code",
   "execution_count": null,
   "metadata": {},
   "outputs": [],
   "source": []
  }
 ],
 "metadata": {
  "kernelspec": {
   "display_name": "venv",
   "language": "python",
   "name": "python3"
  },
  "language_info": {
   "codemirror_mode": {
    "name": "ipython",
    "version": 3
   },
   "file_extension": ".py",
   "mimetype": "text/x-python",
   "name": "python",
   "nbconvert_exporter": "python",
   "pygments_lexer": "ipython3",
   "version": "3.10.7"
  }
 },
 "nbformat": 4,
 "nbformat_minor": 2
}
