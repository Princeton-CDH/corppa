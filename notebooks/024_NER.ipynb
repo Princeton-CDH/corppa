{
 "cells": [
  {
   "cell_type": "code",
   "execution_count": 1,
   "metadata": {},
   "outputs": [],
   "source": [
    "import sys;sys.path.append('..')\n",
    "from ppanlp.corpus import PPA"
   ]
  },
  {
   "cell_type": "code",
   "execution_count": null,
   "metadata": {},
   "outputs": [],
   "source": []
  },
  {
   "cell_type": "code",
   "execution_count": 2,
   "metadata": {},
   "outputs": [],
   "source": [
    "ppa = PPA('~/ppa_data/corpus2')"
   ]
  },
  {
   "cell_type": "code",
   "execution_count": 3,
   "metadata": {},
   "outputs": [
    {
     "name": "stderr",
     "output_type": "stream",
     "text": [
      "2023-12-03 21:45:18 INFO: Checking for updates to resources.json in case models have been updated.  Note: this behavior can be turned off with download_method=None or download_method=DownloadMethod.REUSE_RESOURCES\n",
      "Downloading https://raw.githubusercontent.com/stanfordnlp/stanza-resources/main/resources_1.7.0.json: 369kB [00:00, 12.4MB/s]                    \n",
      "2023-12-03 21:45:18 WARNING: Language en package default expects mwt, which has been added\n",
      "2023-12-03 21:45:19 INFO: Loading these models for language: en (English):\n",
      "=========================================\n",
      "| Processor | Package                   |\n",
      "-----------------------------------------\n",
      "| tokenize  | combined                  |\n",
      "| mwt       | combined                  |\n",
      "| ner       | ontonotes-ww-multi_charlm |\n",
      "=========================================\n",
      "\n",
      "2023-12-03 21:45:19 INFO: Using device: cpu\n",
      "2023-12-03 21:45:19 INFO: Loading: tokenize\n",
      "2023-12-03 21:45:19 INFO: Loading: mwt\n",
      "2023-12-03 21:45:19 INFO: Loading: ner\n",
      "2023-12-03 21:45:20 INFO: Done loading processors!\n",
      "Iterating over page search results:   1%|          | 2884/445504 [08:47<6:02:38, 20.34it/s]  "
     ]
    }
   ],
   "source": [
    "ppa.ner_parse(min_doc_len=25,max_per_cluster=100,frac=.5)"
   ]
  },
  {
   "cell_type": "code",
   "execution_count": null,
   "metadata": {},
   "outputs": [],
   "source": []
  },
  {
   "cell_type": "code",
   "execution_count": null,
   "metadata": {},
   "outputs": [],
   "source": []
  }
 ],
 "metadata": {
  "kernelspec": {
   "display_name": "venv",
   "language": "python",
   "name": "python3"
  },
  "language_info": {
   "codemirror_mode": {
    "name": "ipython",
    "version": 3
   },
   "file_extension": ".py",
   "mimetype": "text/x-python",
   "name": "python",
   "nbconvert_exporter": "python",
   "pygments_lexer": "ipython3",
   "version": "3.10.7"
  }
 },
 "nbformat": 4,
 "nbformat_minor": 2
}
