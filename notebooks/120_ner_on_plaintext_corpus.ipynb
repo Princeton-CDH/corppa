{
 "cells": [
  {
   "cell_type": "code",
   "execution_count": 11,
   "metadata": {},
   "outputs": [],
   "source": [
    "import sys; sys.path.insert(0,'..')\n",
    "from ppanlp import *\n",
    "# !python -m spacy download en_core_web_lg\n",
    "from tqdm import tqdm\n",
    "import random\n",
    "import spacy"
   ]
  },
  {
   "cell_type": "code",
   "execution_count": 12,
   "metadata": {},
   "outputs": [],
   "source": [
    "model = spacy.load(\"en_core_web_lg\")"
   ]
  },
  {
   "cell_type": "code",
   "execution_count": 53,
   "metadata": {},
   "outputs": [],
   "source": [
    "\n",
    "def find_people(filename1, shuffle=False, lim=False):\n",
    "    filename=os.path.join(PATH_TEXT_CORPUS_TEXTS, filename1)\n",
    "    if os.path.exists(filename):\n",
    "        with open(filename) as f: txt=f.read()\n",
    "        txt=txt.replace('-\\n','').replace('- ','').replace('ſ','s')\n",
    "        pages = txt.strip().split('\\n\\n\\n')\n",
    "        pages = list(enumerate(pages))\n",
    "        if shuffle: random.shuffle(pages)\n",
    "        pages=pages[:lim]\n",
    "        for page_i,page in pages:\n",
    "            nerpage = model(page)\n",
    "            for ent in nerpage.ents:\n",
    "                yield dict(filename=filename1,page_i=page_i,token=ent.text,enttype=ent.label_)\n",
    "\n",
    "\n",
    "def find_all_people(fn='data.PPA.people.v2.jsonl'):\n",
    "    df=get_txtcorpus_metadata()\n",
    "    filenames=df.filename\n",
    "    with jsonlines.open(fn,'w') as of:\n",
    "        for filename in tqdm(filenames):\n",
    "            for d in find_people(filename,shuffle=False,lim=None):\n",
    "                of.write(d)\n"
   ]
  },
  {
   "cell_type": "code",
   "execution_count": 43,
   "metadata": {},
   "outputs": [],
   "source": [
    "find_all_people()"
   ]
  },
  {
   "cell_type": "code",
   "execution_count": 45,
   "metadata": {},
   "outputs": [
    {
     "data": {
      "text/html": [
       "<div>\n",
       "<style scoped>\n",
       "    .dataframe tbody tr th:only-of-type {\n",
       "        vertical-align: middle;\n",
       "    }\n",
       "\n",
       "    .dataframe tbody tr th {\n",
       "        vertical-align: top;\n",
       "    }\n",
       "\n",
       "    .dataframe thead th {\n",
       "        text-align: right;\n",
       "    }\n",
       "</style>\n",
       "<table border=\"1\" class=\"dataframe\">\n",
       "  <thead>\n",
       "    <tr style=\"text-align: right;\">\n",
       "      <th></th>\n",
       "      <th>filename</th>\n",
       "      <th>page_i</th>\n",
       "      <th>token</th>\n",
       "      <th>enttype</th>\n",
       "    </tr>\n",
       "  </thead>\n",
       "  <tbody>\n",
       "    <tr>\n",
       "      <th>0</th>\n",
       "      <td>CB0126124028.txt</td>\n",
       "      <td>1</td>\n",
       "      <td>one</td>\n",
       "      <td>CARDINAL</td>\n",
       "    </tr>\n",
       "    <tr>\n",
       "      <th>1</th>\n",
       "      <td>CB0126124028.txt</td>\n",
       "      <td>1</td>\n",
       "      <td>flill</td>\n",
       "      <td>PERSON</td>\n",
       "    </tr>\n",
       "    <tr>\n",
       "      <th>2</th>\n",
       "      <td>CB0126124028.txt</td>\n",
       "      <td>1</td>\n",
       "      <td>one</td>\n",
       "      <td>CARDINAL</td>\n",
       "    </tr>\n",
       "    <tr>\n",
       "      <th>3</th>\n",
       "      <td>CB0126124028.txt</td>\n",
       "      <td>1</td>\n",
       "      <td>WVork</td>\n",
       "      <td>ORG</td>\n",
       "    </tr>\n",
       "    <tr>\n",
       "      <th>4</th>\n",
       "      <td>CB0126124028.txt</td>\n",
       "      <td>1</td>\n",
       "      <td>Wrriters</td>\n",
       "      <td>WORK_OF_ART</td>\n",
       "    </tr>\n",
       "    <tr>\n",
       "      <th>...</th>\n",
       "      <td>...</td>\n",
       "      <td>...</td>\n",
       "      <td>...</td>\n",
       "      <td>...</td>\n",
       "    </tr>\n",
       "    <tr>\n",
       "      <th>147702</th>\n",
       "      <td>yale.39002088447587.txt</td>\n",
       "      <td>267</td>\n",
       "      <td>dclayest</td>\n",
       "      <td>ORG</td>\n",
       "    </tr>\n",
       "    <tr>\n",
       "      <th>147703</th>\n",
       "      <td>yale.39002088447587.txt</td>\n",
       "      <td>267</td>\n",
       "      <td>trs</td>\n",
       "      <td>NORP</td>\n",
       "    </tr>\n",
       "    <tr>\n",
       "      <th>147704</th>\n",
       "      <td>yale.39002088447587.txt</td>\n",
       "      <td>267</td>\n",
       "      <td>1</td>\n",
       "      <td>CARDINAL</td>\n",
       "    </tr>\n",
       "    <tr>\n",
       "      <th>147705</th>\n",
       "      <td>yale.39002088447587.txt</td>\n",
       "      <td>267</td>\n",
       "      <td>2</td>\n",
       "      <td>CARDINAL</td>\n",
       "    </tr>\n",
       "    <tr>\n",
       "      <th>147706</th>\n",
       "      <td>yale.39002088447587.txt</td>\n",
       "      <td>267</td>\n",
       "      <td>Judah</td>\n",
       "      <td>GPE</td>\n",
       "    </tr>\n",
       "  </tbody>\n",
       "</table>\n",
       "<p>147707 rows × 4 columns</p>\n",
       "</div>"
      ],
      "text/plain": [
       "                       filename  page_i     token      enttype\n",
       "0              CB0126124028.txt       1       one     CARDINAL\n",
       "1              CB0126124028.txt       1     flill       PERSON\n",
       "2              CB0126124028.txt       1       one     CARDINAL\n",
       "3              CB0126124028.txt       1     WVork          ORG\n",
       "4              CB0126124028.txt       1  Wrriters  WORK_OF_ART\n",
       "...                         ...     ...       ...          ...\n",
       "147702  yale.39002088447587.txt     267  dclayest          ORG\n",
       "147703  yale.39002088447587.txt     267       trs         NORP\n",
       "147704  yale.39002088447587.txt     267         1     CARDINAL\n",
       "147705  yale.39002088447587.txt     267         2     CARDINAL\n",
       "147706  yale.39002088447587.txt     267     Judah          GPE\n",
       "\n",
       "[147707 rows x 4 columns]"
      ]
     },
     "execution_count": 45,
     "metadata": {},
     "output_type": "execute_result"
    }
   ],
   "source": [
    "df=pd.read_json('./data.PPA.people.jsonl', lines=True)\n",
    "df"
   ]
  },
  {
   "cell_type": "code",
   "execution_count": 51,
   "metadata": {},
   "outputs": [
    {
     "data": {
      "text/plain": [
       "token\n",
       "Shakespeare    264\n",
       "Milton         207\n",
       "Chaucer        205\n",
       "John           193\n",
       "un             174\n",
       "adv            115\n",
       "n.             112\n",
       "Johnson        106\n",
       "Spenser        103\n",
       "Tennyson       101\n",
       "Mary            93\n",
       "Pope            93\n",
       "James           90\n",
       "William         87\n",
       "EXERCISES       84\n",
       "Dryden          82\n",
       "Shakspeare      81\n",
       "Cicero          77\n",
       "MS              75\n",
       "Coleridge       74\n",
       "Browning        73\n",
       "Shelley         72\n",
       "Bacon           67\n",
       "Scott           67\n",
       "Dante           66\n",
       "Name: count, dtype: int64"
      ]
     },
     "execution_count": 51,
     "metadata": {},
     "output_type": "execute_result"
    }
   ],
   "source": [
    "df[df.enttype.isin({'PERSON','ORG'})].token.value_counts().head(25)"
   ]
  },
  {
   "cell_type": "code",
   "execution_count": null,
   "metadata": {},
   "outputs": [],
   "source": []
  }
 ],
 "metadata": {
  "kernelspec": {
   "display_name": "Python 3 (ipykernel)",
   "language": "python",
   "name": "python3"
  },
  "language_info": {
   "codemirror_mode": {
    "name": "ipython",
    "version": 3
   },
   "file_extension": ".py",
   "mimetype": "text/x-python",
   "name": "python",
   "nbconvert_exporter": "python",
   "pygments_lexer": "ipython3",
   "version": "3.9.13"
  }
 },
 "nbformat": 4,
 "nbformat_minor": 4
}
