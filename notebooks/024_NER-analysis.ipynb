{
 "cells": [
  {
   "cell_type": "code",
   "execution_count": 64,
   "metadata": {
    "tags": []
   },
   "outputs": [],
   "source": [
    "import sys;sys.path.append('..')\n",
    "from ppanlp import *\n",
    "ppa = PPA()"
   ]
  },
  {
   "cell_type": "code",
   "execution_count": 65,
   "metadata": {
    "tags": []
   },
   "outputs": [],
   "source": [
    "# ppa.ner_parse(min_doc_len=10,max_per_cluster=200)"
   ]
  },
  {
   "cell_type": "code",
   "execution_count": 71,
   "metadata": {
    "tags": []
   },
   "outputs": [],
   "source": [
    "from string import punctuation\n",
    "\n",
    "\n",
    "class NERModel:\n",
    "    def __init__(self, corpus=None):\n",
    "        self.corpus = corpus if corpus is not None else PPA()\n",
    "        self.ent2pages=defaultdict(set)\n",
    "        self.ent2count=Counter()\n",
    "        \n",
    "    def iter_ents(self,ent_types:set=None,lim=None):\n",
    "        with self.corpus.ents_db(flag='r') as db:\n",
    "            total=len(db)\n",
    "            iterr=tqdm(db.items(),desc='Iterating over saved ents',position=0,total=total)\n",
    "            for page_id,ents in iterlim(iterr,lim):\n",
    "                for ent,ent_type in ents:\n",
    "                    if not ent_types or ent_type in ent_types:\n",
    "                        ent = ent.strip(punctuation).title()\n",
    "                        yield page_id,ent,ent_type\n",
    "\n",
    "    def iter_persons(self, **kwargs):\n",
    "        kwargs['ent_types']={'PERSON'}\n",
    "        yield from self.iter_ents(**kwargs)\n",
    "    \n",
    "    def count_ents(self, **kwargs):\n",
    "        self.ent2count=Counter()\n",
    "        for page_id,ent,ent_type in self.iter_ents(**kwargs):\n",
    "            self.ent2pages[ent].add(page_id)\n",
    "            self.ent2count[ent]+=1\n",
    "        self.ent2count_s = pd.Series(self.ent2count).sort_values(ascending=False)\n",
    "        return self.ent2count_s\n",
    "    \n",
    "    def count_persons(self, **kwargs):\n",
    "        kwargs['ent_types']={'PERSON'}\n",
    "        return self.count_ents(**kwargs)\n"
   ]
  },
  {
   "cell_type": "code",
   "execution_count": 72,
   "metadata": {
    "tags": []
   },
   "outputs": [],
   "source": [
    "ner = NERModel()"
   ]
  },
  {
   "cell_type": "code",
   "execution_count": 74,
   "metadata": {
    "tags": []
   },
   "outputs": [
    {
     "name": "stderr",
     "output_type": "stream",
     "text": [
      "Iterating over saved ents: 100%|██████████| 526697/526697 [01:42<00:00, 5139.83it/s] \n"
     ]
    },
    {
     "data": {
      "text/plain": [
       "John              18502\n",
       "Milton            15656\n",
       "Chaucer           15409\n",
       "Shakespeare       13490\n",
       "Pope              10932\n",
       "                  ...  \n",
       "Gi'R                  1\n",
       "Lifh-Mung- Gur        1\n",
       "La'.Italle            1\n",
       "Ti'Hi                 1\n",
       "Babauld               1\n",
       "Length: 831153, dtype: int64"
      ]
     },
     "execution_count": 74,
     "metadata": {},
     "output_type": "execute_result"
    }
   ],
   "source": [
    "ner.count_persons(lim=None)"
   ]
  },
  {
   "cell_type": "code",
   "execution_count": 75,
   "metadata": {
    "tags": []
   },
   "outputs": [
    {
     "data": {
      "text/plain": [
       "John                      18502\n",
       "Milton                    15656\n",
       "Chaucer                   15409\n",
       "Shakespeare               13490\n",
       "Pope                      10932\n",
       "                          ...  \n",
       "Old Ironsides Holmes          2\n",
       "A Butterfly Wordsworth        2\n",
       "Poetry Whittier               2\n",
       "Ilkewife                      2\n",
       "Jehovrah                      2\n",
       "Length: 171982, dtype: int64"
      ]
     },
     "execution_count": 75,
     "metadata": {},
     "output_type": "execute_result"
    }
   ],
   "source": [
    "s = ner.ent2count_s\n",
    "s[s>1]"
   ]
  },
  {
   "cell_type": "code",
   "execution_count": 86,
   "metadata": {
    "tags": []
   },
   "outputs": [
    {
     "data": {
      "text/html": [
       "<div>\n",
       "<style scoped>\n",
       "    .dataframe tbody tr th:only-of-type {\n",
       "        vertical-align: middle;\n",
       "    }\n",
       "\n",
       "    .dataframe tbody tr th {\n",
       "        vertical-align: top;\n",
       "    }\n",
       "\n",
       "    .dataframe thead th {\n",
       "        text-align: right;\n",
       "    }\n",
       "</style>\n",
       "<table border=\"1\" class=\"dataframe\">\n",
       "  <thead>\n",
       "    <tr style=\"text-align: right;\">\n",
       "      <th></th>\n",
       "      <th>count</th>\n",
       "      <th>is_valid</th>\n",
       "    </tr>\n",
       "    <tr>\n",
       "      <th>name</th>\n",
       "      <th></th>\n",
       "      <th></th>\n",
       "    </tr>\n",
       "  </thead>\n",
       "  <tbody>\n",
       "    <tr>\n",
       "      <th>John</th>\n",
       "      <td>18502</td>\n",
       "      <td></td>\n",
       "    </tr>\n",
       "    <tr>\n",
       "      <th>Milton</th>\n",
       "      <td>15656</td>\n",
       "      <td></td>\n",
       "    </tr>\n",
       "    <tr>\n",
       "      <th>Chaucer</th>\n",
       "      <td>15409</td>\n",
       "      <td></td>\n",
       "    </tr>\n",
       "    <tr>\n",
       "      <th>Shakespeare</th>\n",
       "      <td>13490</td>\n",
       "      <td></td>\n",
       "    </tr>\n",
       "    <tr>\n",
       "      <th>Pope</th>\n",
       "      <td>10932</td>\n",
       "      <td></td>\n",
       "    </tr>\n",
       "    <tr>\n",
       "      <th>...</th>\n",
       "      <td>...</td>\n",
       "      <td>...</td>\n",
       "    </tr>\n",
       "    <tr>\n",
       "      <th>Gi'R</th>\n",
       "      <td>1</td>\n",
       "      <td></td>\n",
       "    </tr>\n",
       "    <tr>\n",
       "      <th>Lifh-Mung- Gur</th>\n",
       "      <td>1</td>\n",
       "      <td></td>\n",
       "    </tr>\n",
       "    <tr>\n",
       "      <th>La'.Italle</th>\n",
       "      <td>1</td>\n",
       "      <td></td>\n",
       "    </tr>\n",
       "    <tr>\n",
       "      <th>Ti'Hi</th>\n",
       "      <td>1</td>\n",
       "      <td></td>\n",
       "    </tr>\n",
       "    <tr>\n",
       "      <th>Babauld</th>\n",
       "      <td>1</td>\n",
       "      <td></td>\n",
       "    </tr>\n",
       "  </tbody>\n",
       "</table>\n",
       "<p>831153 rows × 2 columns</p>\n",
       "</div>"
      ],
      "text/plain": [
       "                count is_valid\n",
       "name                          \n",
       "John            18502         \n",
       "Milton          15656         \n",
       "Chaucer         15409         \n",
       "Shakespeare     13490         \n",
       "Pope            10932         \n",
       "...               ...      ...\n",
       "Gi'R                1         \n",
       "Lifh-Mung- Gur      1         \n",
       "La'.Italle          1         \n",
       "Ti'Hi               1         \n",
       "Babauld             1         \n",
       "\n",
       "[831153 rows x 2 columns]"
      ]
     },
     "execution_count": 86,
     "metadata": {},
     "output_type": "execute_result"
    }
   ],
   "source": [
    "df = pd.DataFrame({'count':s}).rename_axis('name')\n",
    "df['is_valid'] = ''\n",
    "df"
   ]
  },
  {
   "cell_type": "code",
   "execution_count": 88,
   "metadata": {
    "tags": []
   },
   "outputs": [],
   "source": [
    "ofn=os.path.join(ppa.path_data, 'data.ner.to_anno.csv')\n",
    "df[df['count']>=100].to_csv(ofn)"
   ]
  },
  {
   "cell_type": "code",
   "execution_count": null,
   "metadata": {},
   "outputs": [],
   "source": []
  }
 ],
 "metadata": {
  "kernelspec": {
   "display_name": "Python 3 (ipykernel)",
   "language": "python",
   "name": "python3"
  },
  "language_info": {
   "codemirror_mode": {
    "name": "ipython",
    "version": 3
   },
   "file_extension": ".py",
   "mimetype": "text/x-python",
   "name": "python",
   "nbconvert_exporter": "python",
   "pygments_lexer": "ipython3",
   "version": "3.9.18"
  }
 },
 "nbformat": 4,
 "nbformat_minor": 4
}
