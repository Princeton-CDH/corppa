{
 "cells": [
  {
   "cell_type": "code",
   "execution_count": 1,
   "metadata": {},
   "outputs": [],
   "source": [
    "import sys;sys.path.append('..')\n",
    "from ppanlp.corpus import *\n",
    "from ppanlp.imports import *"
   ]
  },
  {
   "cell_type": "code",
   "execution_count": 2,
   "metadata": {},
   "outputs": [],
   "source": [
    "ppa = PPA('~/ppa_data/corpus2')"
   ]
  },
  {
   "cell_type": "code",
   "execution_count": 3,
   "metadata": {},
   "outputs": [
    {
     "name": "stderr",
     "output_type": "stream",
     "text": [
      "Saving cleaned pages into page db [x7]:  80%|███████▉  | 5531/6939 [17:53<04:33,  5.15it/s]  \n"
     ]
    }
   ],
   "source": [
    "ppa.gen(num_proc=7,force=True)"
   ]
  },
  {
   "cell_type": "code",
   "execution_count": 4,
   "metadata": {},
   "outputs": [
    {
     "name": "stdout",
     "output_type": "stream",
     "text": [
      "Requirement already satisfied: pip in /Users/ryanheuser/github/ppa-nlp/venv/lib/python3.10/site-packages (23.3.1)\n",
      "Requirement already satisfied: wheel in /Users/ryanheuser/github/ppa-nlp/venv/lib/python3.10/site-packages (0.42.0)\n",
      "Collecting pymongolite\n",
      "  Using cached pymongolite-0.1.6-py3-none-any.whl (25 kB)\n",
      "Collecting blist<2.0.0,>=1.3.6 (from pymongolite)\n",
      "  Using cached blist-1.3.6.tar.gz (122 kB)\n",
      "  Preparing metadata (setup.py) ... \u001b[?25ldone\n",
      "\u001b[?25hBuilding wheels for collected packages: blist\n",
      "  Building wheel for blist (setup.py) ... \u001b[?25lerror\n",
      "  \u001b[1;31merror\u001b[0m: \u001b[1msubprocess-exited-with-error\u001b[0m\n",
      "  \n",
      "  \u001b[31m×\u001b[0m \u001b[32mpython setup.py bdist_wheel\u001b[0m did not run successfully.\n",
      "  \u001b[31m│\u001b[0m exit code: \u001b[1;36m1\u001b[0m\n",
      "  \u001b[31m╰─>\u001b[0m \u001b[31m[38 lines of output]\u001b[0m\n",
      "  \u001b[31m   \u001b[0m running bdist_wheel\n",
      "  \u001b[31m   \u001b[0m running build\n",
      "  \u001b[31m   \u001b[0m running build_py\n",
      "  \u001b[31m   \u001b[0m creating build\n",
      "  \u001b[31m   \u001b[0m creating build/lib.macosx-13.5-x86_64-cpython-310\n",
      "  \u001b[31m   \u001b[0m creating build/lib.macosx-13.5-x86_64-cpython-310/blist\n",
      "  \u001b[31m   \u001b[0m copying blist/_btuple.py -> build/lib.macosx-13.5-x86_64-cpython-310/blist\n",
      "  \u001b[31m   \u001b[0m copying blist/_sortedlist.py -> build/lib.macosx-13.5-x86_64-cpython-310/blist\n",
      "  \u001b[31m   \u001b[0m copying blist/__init__.py -> build/lib.macosx-13.5-x86_64-cpython-310/blist\n",
      "  \u001b[31m   \u001b[0m copying blist/_sorteddict.py -> build/lib.macosx-13.5-x86_64-cpython-310/blist\n",
      "  \u001b[31m   \u001b[0m running build_ext\n",
      "  \u001b[31m   \u001b[0m building 'blist._blist' extension\n",
      "  \u001b[31m   \u001b[0m creating build/temp.macosx-13.5-x86_64-cpython-310\n",
      "  \u001b[31m   \u001b[0m creating build/temp.macosx-13.5-x86_64-cpython-310/blist\n",
      "  \u001b[31m   \u001b[0m clang -Wno-unused-result -Wsign-compare -Wunreachable-code -DNDEBUG -g -fwrapv -O3 -Wall -I/Library/Developer/CommandLineTools/SDKs/MacOSX.sdk/usr/include -I/Library/Developer/CommandLineTools/SDKs/MacOSX.sdk/usr/include -DBLIST_FLOAT_RADIX_SORT=1 -I/Users/ryanheuser/github/ppa-nlp/venv/include -I/Users/ryanheuser/.pyenv/versions/3.10.7/include/python3.10 -c blist/_blist.c -o build/temp.macosx-13.5-x86_64-cpython-310/blist/_blist.o\n",
      "  \u001b[31m   \u001b[0m blist/_blist.c:4448:25: warning: code will never be executed [-Wunreachable-code]\n",
      "  \u001b[31m   \u001b[0m                         register PyObject *t;\n",
      "  \u001b[31m   \u001b[0m                         ^~~~~~~~~~~~~~~~~~~~~\n",
      "  \u001b[31m   \u001b[0m blist/_blist.c:4583:37: error: call to undeclared function '_PyObject_GC_IS_TRACKED'; ISO C99 and later do not support implicit function declarations [-Wimplicit-function-declaration]\n",
      "  \u001b[31m   \u001b[0m                 if (leafs_n > 1 && !_PyObject_GC_IS_TRACKED(leafs[i]))\n",
      "  \u001b[31m   \u001b[0m                                     ^\n",
      "  \u001b[31m   \u001b[0m blist/_blist.c:5387:31: warning: comparison of integers of different signs: 'Py_ssize_t' (aka 'long') and 'unsigned long' [-Wsign-compare]\n",
      "  \u001b[31m   \u001b[0m                 for (j = 0; j < NUM_PASSES; j++) {\n",
      "  \u001b[31m   \u001b[0m                             ~ ^ ~~~~~~~~~~\n",
      "  \u001b[31m   \u001b[0m blist/_blist.c:5393:31: warning: comparison of integers of different signs: 'Py_ssize_t' (aka 'long') and 'unsigned long' [-Wsign-compare]\n",
      "  \u001b[31m   \u001b[0m                 for (j = 0; j < NUM_PASSES; j++) {\n",
      "  \u001b[31m   \u001b[0m                             ~ ^ ~~~~~~~~~~\n",
      "  \u001b[31m   \u001b[0m blist/_blist.c:5403:23: warning: comparison of integers of different signs: 'Py_ssize_t' (aka 'long') and 'unsigned long' [-Wsign-compare]\n",
      "  \u001b[31m   \u001b[0m         for (j = 0; j < NUM_PASSES; j++) {\n",
      "  \u001b[31m   \u001b[0m                     ~ ^ ~~~~~~~~~~\n",
      "  \u001b[31m   \u001b[0m blist/_blist.c:5786:13: error: call to undeclared function '_PyObject_GC_IS_TRACKED'; ISO C99 and later do not support implicit function declarations [-Wimplicit-function-declaration]\n",
      "  \u001b[31m   \u001b[0m         if (_PyObject_GC_IS_TRACKED(self))\n",
      "  \u001b[31m   \u001b[0m             ^\n",
      "  \u001b[31m   \u001b[0m blist/_blist.c:6592:27: error: expression is not assignable\n",
      "  \u001b[31m   \u001b[0m         Py_REFCNT(&saved) = 1;\n",
      "  \u001b[31m   \u001b[0m         ~~~~~~~~~~~~~~~~~ ^\n",
      "  \u001b[31m   \u001b[0m 4 warnings and 3 errors generated.\n",
      "  \u001b[31m   \u001b[0m error: command '/usr/bin/clang' failed with exit code 1\n",
      "  \u001b[31m   \u001b[0m \u001b[31m[end of output]\u001b[0m\n",
      "  \n",
      "  \u001b[1;35mnote\u001b[0m: This error originates from a subprocess, and is likely not a problem with pip.\n",
      "\u001b[31m  ERROR: Failed building wheel for blist\u001b[0m\u001b[31m\n",
      "\u001b[0m\u001b[?25h  Running setup.py clean for blist\n",
      "Failed to build blist\n",
      "\u001b[31mERROR: Could not build wheels for blist, which is required to install pyproject.toml-based projects\u001b[0m\u001b[31m\n",
      "\u001b[0m"
     ]
    }
   ],
   "source": [
    "!pip install -U pip wheel\n",
    "!pip install pymongolite"
   ]
  },
  {
   "cell_type": "code",
   "execution_count": null,
   "metadata": {},
   "outputs": [],
   "source": []
  },
  {
   "cell_type": "code",
   "execution_count": null,
   "metadata": {},
   "outputs": [],
   "source": []
  },
  {
   "cell_type": "code",
   "execution_count": 4,
   "metadata": {},
   "outputs": [],
   "source": [
    "objs = ppa.text_ids\n",
    "\n",
    "def func(obj):\n",
    "    t = PPA().textd[obj]\n",
    "    t.gen(force=True)"
   ]
  },
  {
   "cell_type": "code",
   "execution_count": 5,
   "metadata": {},
   "outputs": [
    {
     "name": "stderr",
     "output_type": "stream",
     "text": [
      "Iteration over texts in PPA: 100%|██████████| 6939/6939 [00:00<00:00, 157479.59it/s]\n",
      "\n",
      "Iteration over texts in PPA: 100%|██████████| 6939/6939 [00:00<00:00, 152117.97it/s]\n",
      "\n",
      "\n",
      "\n",
      "\n",
      "\n",
      "\n",
      "\n",
      "\n",
      "Iteration over texts in PPA: 100%|██████████| 6939/6939 [00:00<00:00, 161586.29it/s]\n",
      "\n",
      "\n",
      "Mapping func() [x14]:  15%|█▍        | 1019/6939 [00:17<01:22, 71.66it/s]"
     ]
    }
   ],
   "source": [
    "pmap_run(func, objs)"
   ]
  },
  {
   "cell_type": "code",
   "execution_count": null,
   "metadata": {},
   "outputs": [],
   "source": []
  },
  {
   "cell_type": "code",
   "execution_count": null,
   "metadata": {},
   "outputs": [],
   "source": []
  },
  {
   "cell_type": "code",
   "execution_count": null,
   "metadata": {},
   "outputs": [],
   "source": [
    "# def iter_pages(self, work_ids=None, clean=None, lim=None, min_doc_len=None, frac=1, frac_text=1, max_per_cluster=None, as_dict=True):\n",
    "#     if not frac or frac>1 or frac<=0: frac=1\n",
    "#     # if not frac_text or frac_text>1 or frac_text<=0: frac_text=1\n",
    "#     ppa.textd\n",
    "#     i=0\n",
    "#     clustd=Counter()\n",
    "#     q={}\n",
    "#     if frac and frac>0 and frac<1: q['_random']={'$lte':frac}\n",
    "#     if work_ids: q['work_id']={'$in':list(work_ids)}\n",
    "#     if min_doc_len: q['page_num_content_words']={'$gte':min_doc_len}\n",
    "#     for d in tqdm(self.page_db.find(q),desc='Iterating over page search results'):\n",
    "#         del d['_id']\n",
    "#         t=self.textd[d['work_id']]\n",
    "#         if not max_per_cluster or clustd[t.cluster]<max_per_cluster:\n",
    "#             yield PPAPage(d['page_id'], t, **d) if not as_dict else d\n",
    "#             if max_per_cluster: clustd[t.cluster]+=1\n",
    "#             i+=1\n",
    "#             if lim and i>=lim: break\n",
    "#         if lim and i>=lim: break\n"
   ]
  },
  {
   "cell_type": "code",
   "execution_count": null,
   "metadata": {},
   "outputs": [],
   "source": [
    "# f=iter_pages(ppa, max_per_cluster=100, min_doc_len=25, as_dict=True,frac=.1)\n",
    "# df=pd.DataFrame(f)\n",
    "# df"
   ]
  },
  {
   "cell_type": "code",
   "execution_count": null,
   "metadata": {},
   "outputs": [],
   "source": []
  },
  {
   "cell_type": "code",
   "execution_count": null,
   "metadata": {},
   "outputs": [],
   "source": []
  },
  {
   "cell_type": "code",
   "execution_count": null,
   "metadata": {},
   "outputs": [],
   "source": []
  },
  {
   "cell_type": "code",
   "execution_count": null,
   "metadata": {},
   "outputs": [],
   "source": []
  },
  {
   "cell_type": "code",
   "execution_count": null,
   "metadata": {},
   "outputs": [],
   "source": []
  },
  {
   "cell_type": "code",
   "execution_count": null,
   "metadata": {},
   "outputs": [],
   "source": []
  },
  {
   "cell_type": "code",
   "execution_count": null,
   "metadata": {},
   "outputs": [],
   "source": []
  },
  {
   "cell_type": "code",
   "execution_count": null,
   "metadata": {},
   "outputs": [],
   "source": []
  },
  {
   "cell_type": "code",
   "execution_count": null,
   "metadata": {},
   "outputs": [],
   "source": []
  },
  {
   "cell_type": "code",
   "execution_count": null,
   "metadata": {},
   "outputs": [],
   "source": []
  }
 ],
 "metadata": {
  "kernelspec": {
   "display_name": "venv",
   "language": "python",
   "name": "python3"
  },
  "language_info": {
   "codemirror_mode": {
    "name": "ipython",
    "version": 3
   },
   "file_extension": ".py",
   "mimetype": "text/x-python",
   "name": "python",
   "nbconvert_exporter": "python",
   "pygments_lexer": "ipython3",
   "version": "3.10.7"
  }
 },
 "nbformat": 4,
 "nbformat_minor": 2
}
