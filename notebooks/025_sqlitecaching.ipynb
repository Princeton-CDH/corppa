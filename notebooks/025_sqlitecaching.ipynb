{
 "cells": [
  {
   "cell_type": "code",
   "execution_count": 1,
   "metadata": {},
   "outputs": [],
   "source": [
    "import sys;sys.path.append('..')\n",
    "from ppanlp.corpus import *\n",
    "from ppanlp.imports import *"
   ]
  },
  {
   "cell_type": "code",
   "execution_count": 2,
   "metadata": {},
   "outputs": [],
   "source": [
    "ppa = PPA('~/ppa_data/corpus2')\n",
    "# ppa.gen()"
   ]
  },
  {
   "cell_type": "code",
   "execution_count": 3,
   "metadata": {},
   "outputs": [
    {
     "name": "stderr",
     "output_type": "stream",
     "text": [
      "Iterating over page search results:   0%|          | 0/102279 [00:00<?, ?it/s]\n"
     ]
    }
   ],
   "source": [
    "for p in ppa.iter_pages(as_dict=False, min_doc_len=25, frac=.05):\n",
    "    break"
   ]
  },
  {
   "cell_type": "code",
   "execution_count": 4,
   "metadata": {},
   "outputs": [
    {
     "data": {
      "text/plain": [
       "{'page_id': 'hvd.32044081501959_ii',\n",
       " 'page_text': 'Fund\\n159.64.863\\nTARVA LECZ Sheldon\\nEducT\\nAU. 15 1940\\n758,64,863\\n!\", ARY\\nNOTICE TO THE PUBLIC.\\nhuis ve TormeStalone head\\n\\'The authors of Town and Holbrook\\'s Progressive Series of Text Books,\\nhaving improved the Fourth Reader of the Series, by the addition of over\\nFIFTY PAGES OF NEW AND CHOICE SELECTIONS, the Publisher would now\\nannounce that A CAREFULLY REVISED, ENLARGED, AND GREATLY IVPROVED EDITION of their Progressive Fifth or Elocutionary Reader has been\\nissued, containing over ONE HUNDRED PAGES OF NEW SELECTIONS for\\nreading and declamation.\\nThe best talent in the country having been employed the public may rest\\nassured that no similar work in use compares with it, in its practical, compre.\\nhensive, and philosophical system of elocutionary rules ; iv its varied and\\npeculiarly appropriate selections, with biographical and explanatory notes; in\\nits happy adaptation to all schools requiring a thorough and practical Elocutionary Reader, or a book furnishing the choicest specimens of English and\\nAmerican Literature.\\nThe Progressive Intermediate Reader, a sequel to the Second Reader, an la\\nnew number of the Series, has just been issued, and furnishes additional reading matter for classes in Primary and Intermediate Schools. Nearly all the\\npieces are new, many of them being original, or written expressly for this\\nbook.\\nThe Primer, and the First, Second, and Third Readers have received many\\nnew and beautiful illustrations, and other necessary improvements, thus making them without a rival, and as perfect as the practical experience of the\\nauthors, aided by the kind suggestions of our best teachers, will admit.\\nWhile the selections in the entire series are unquestionably more practical,\\nand better adapted than any other to discipline the vocal organs and secure an\\neasy and natural expression of the sentiment, it is also believed that no similar\\nseries. contains facts, truths, and sentiments more worthy to be treasured in\\nthe memory, or better adapted to inspire a love for whatever is excellent and\\npraiseworthy.\\nThe Publisher would also announce the issue of the Progressive Speller in\\na new, cheap, and durable form, making it the cheapest as well as the best in\\nthe market.\\nThe guardians of our Public Schools may be assured that the authors of the\\nProgressive Series, who have ever been foremost in furnishing the most approved system of text-books, will endeavor to hold that honorable position,\\nby promptly making, from time to time, such improvements in their books as\\nour schools may require and experience sugge\\nOLIVER ELLSWORTH.\\nAUGUST 1, 1864.\\nEntered according to Act of Congress, in the year 1856, by\\nNELSON M. JIOLBROOK,\\nIn the Clerk\\'s Office of the District Court of the District of Massachusetts.\\nPRINTED BY GEORGE C. RAND & AVERY.\\n',\n",
       " 'page_num_content_words': 229,\n",
       " 'work_id': 'hvd.32044081501959',\n",
       " 'cluster': 'hvd.32044081501959',\n",
       " 'source': 'hvd.32044081501959',\n",
       " 'year': 'hvd.32044081501959',\n",
       " 'author': 'Town, Salem, 1779-1864',\n",
       " 'title': 'The progressive fifth, or, Elocutionary reader :',\n",
       " '_random': 0.001559576587043976}"
      ]
     },
     "execution_count": 4,
     "metadata": {},
     "output_type": "execute_result"
    }
   ],
   "source": [
    "p._meta"
   ]
  },
  {
   "cell_type": "code",
   "execution_count": 5,
   "metadata": {},
   "outputs": [
    {
     "data": {
      "text/plain": [
       "229"
      ]
     },
     "execution_count": 5,
     "metadata": {},
     "output_type": "execute_result"
    }
   ],
   "source": [
    "p.num_content_words"
   ]
  },
  {
   "cell_type": "code",
   "execution_count": null,
   "metadata": {},
   "outputs": [],
   "source": []
  },
  {
   "cell_type": "code",
   "execution_count": null,
   "metadata": {},
   "outputs": [],
   "source": []
  }
 ],
 "metadata": {
  "kernelspec": {
   "display_name": "venv",
   "language": "python",
   "name": "python3"
  },
  "language_info": {
   "codemirror_mode": {
    "name": "ipython",
    "version": 3
   },
   "file_extension": ".py",
   "mimetype": "text/x-python",
   "name": "python",
   "nbconvert_exporter": "python",
   "pygments_lexer": "ipython3",
   "version": "3.10.7"
  }
 },
 "nbformat": 4,
 "nbformat_minor": 2
}
