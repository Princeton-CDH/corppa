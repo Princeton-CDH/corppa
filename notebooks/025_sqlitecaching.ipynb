{
 "cells": [
  {
   "cell_type": "code",
   "execution_count": 1,
   "metadata": {},
   "outputs": [],
   "source": [
    "import sys;sys.path.append('..')\n",
    "from ppanlp.corpus import *\n",
    "from ppanlp.imports import *"
   ]
  },
  {
   "cell_type": "code",
   "execution_count": null,
   "metadata": {},
   "outputs": [],
   "source": []
  },
  {
   "cell_type": "code",
   "execution_count": 4,
   "metadata": {},
   "outputs": [],
   "source": [
    "ppa = PPA('~/ppa_data/corpus2')"
   ]
  },
  {
   "cell_type": "code",
   "execution_count": 5,
   "metadata": {},
   "outputs": [
    {
     "name": "stdout",
     "output_type": "stream",
     "text": [
      "Collecting peewee\n",
      "  Downloading peewee-3.17.0.tar.gz (2.9 MB)\n",
      "\u001b[2K     \u001b[90m━━━━━━━━━━━━━━━━━━━━━━━━━━━━━━━━━━━━━━━━\u001b[0m \u001b[32m2.9/2.9 MB\u001b[0m \u001b[31m4.3 MB/s\u001b[0m eta \u001b[36m0:00:00\u001b[0m00:01\u001b[0m00:01\u001b[0m0m\n",
      "\u001b[?25h  Installing build dependencies ... \u001b[?25ldone\n",
      "\u001b[?25h  Getting requirements to build wheel ... \u001b[?25ldone\n",
      "\u001b[?25h  Preparing metadata (pyproject.toml) ... \u001b[?25ldone\n",
      "\u001b[?25hBuilding wheels for collected packages: peewee\n",
      "  Building wheel for peewee (pyproject.toml) ... \u001b[?25ldone\n",
      "\u001b[?25h  Created wheel for peewee: filename=peewee-3.17.0-cp310-cp310-macosx_13_0_x86_64.whl size=262452 sha256=4d810c6937e9ff934f4a2703f86520b3401348022297363a61638b4e91042595\n",
      "  Stored in directory: /Users/ryanheuser/Library/Caches/pip/wheels/c7/70/ad/212867e96e7004265a69c4aa5dcff00a95f547a67ba26e7e76\n",
      "Successfully built peewee\n",
      "Installing collected packages: peewee\n",
      "Successfully installed peewee-3.17.0\n"
     ]
    }
   ],
   "source": [
    "!pip install peewee"
   ]
  },
  {
   "cell_type": "code",
   "execution_count": 47,
   "metadata": {},
   "outputs": [],
   "source": [
    "from peewee import SqliteDatabase, Model, CharField, TextField, IntegerField, FloatField\n",
    "import datetime\n",
    "\n",
    "db = SqliteDatabase('my_database5.db')\n",
    "\n",
    "class BaseModel(Model):\n",
    "    class Meta:\n",
    "        database = db\n",
    "\n",
    "class Page(BaseModel):\n",
    "    page_id = CharField()\n",
    "    page_text = TextField()\n",
    "    page_num_content_words = IntegerField()\n",
    "    work_id = CharField()\n",
    "    cluster = CharField()\n",
    "    source = CharField()\n",
    "    year = IntegerField()\n",
    "    author = CharField()\n",
    "    title = CharField()\n",
    "    _random = FloatField()\n",
    "\n",
    "db.connect()\n",
    "\n",
    "if not db.table_exists(Page): db.create_tables([Page])"
   ]
  },
  {
   "cell_type": "code",
   "execution_count": 48,
   "metadata": {},
   "outputs": [],
   "source": [
    "def gen(self, force=False):\n",
    "    if force or (count:=Page.select().where(Page.work_id==self.id).count()) != self.num_pages:\n",
    "        if force or count: \n",
    "            Page.delete().where(Page.work_id==self.id).execute()\n",
    "\n",
    "        inp = [\n",
    "            dict(\n",
    "                page_id=page.id,\n",
    "                page_text=page.txt,\n",
    "                page_num_content_words=page.num_content_words,\n",
    "                work_id=page.text.id,\n",
    "                cluster = page.text.cluster,\n",
    "                source = page.text.cluster,\n",
    "                year = page.text.cluster,\n",
    "                author = page.text.author,\n",
    "                title = page.text.title[:255],\n",
    "                _random = random.random()\n",
    "            )\n",
    "            for page in self.pages_json_preproc\n",
    "        ]\n",
    "        if inp: Page.insert(inp).execute()"
   ]
  },
  {
   "cell_type": "code",
   "execution_count": 49,
   "metadata": {},
   "outputs": [],
   "source": [
    "t=ppa.text"
   ]
  },
  {
   "cell_type": "code",
   "execution_count": 50,
   "metadata": {},
   "outputs": [],
   "source": [
    "gen(t)"
   ]
  },
  {
   "cell_type": "code",
   "execution_count": 71,
   "metadata": {},
   "outputs": [],
   "source": [
    "def iter_pages(self, work_ids=None, clean=None, lim=None, min_doc_len=None, frac=None, max_per_cluster=None, as_dict=True):\n",
    "    if not frac or frac>1 or frac<=0: frac=1\n",
    "    i=0\n",
    "    clustd=Counter()\n",
    "    work_ids=set(work_ids) if work_ids else None\n",
    "    \n",
    "    q=None\n",
    "    if frac and min_doc_len:\n",
    "        q = (Page._random<=frac) & (Page.min_doc_len>=min_doc_len)\n",
    "    elif frac:\n",
    "        q = (Page._random<=frac)\n",
    "    elif min_doc_len:\n",
    "        q = (Page.min_doc_len>=min_doc_len)\n",
    "    \n",
    "    iterr = Page.select().where(q) if q else Page.select()\n",
    "    \n",
    "    for page_rec in tqdm(iterr,desc='Iterating over page search results'):\n",
    "        d=page_rec.__data__        \n",
    "        if work_ids and d['work_id'] not in work_ids: continue\n",
    "        if not max_per_cluster or clustd[d['cluster']]<max_per_cluster:\n",
    "            yield PPAPage(d['page_id'], self.textd[d['work_id']], **d) if not as_dict else d\n",
    "            if max_per_cluster: clustd[d['cluster']]+=1\n",
    "            i+=1\n",
    "            if lim and i>=lim: break\n",
    "        if lim and i>=lim: break"
   ]
  },
  {
   "cell_type": "code",
   "execution_count": 73,
   "metadata": {},
   "outputs": [
    {
     "name": "stderr",
     "output_type": "stream",
     "text": [
      "Iterating over page search results:   1%|          | 9/1642 [00:00<00:00, 140853.49it/s]\n"
     ]
    },
    {
     "data": {
      "text/html": [
       "<div>\n",
       "<style scoped>\n",
       "    .dataframe tbody tr th:only-of-type {\n",
       "        vertical-align: middle;\n",
       "    }\n",
       "\n",
       "    .dataframe tbody tr th {\n",
       "        vertical-align: top;\n",
       "    }\n",
       "\n",
       "    .dataframe thead th {\n",
       "        text-align: right;\n",
       "    }\n",
       "</style>\n",
       "<table border=\"1\" class=\"dataframe\">\n",
       "  <thead>\n",
       "    <tr style=\"text-align: right;\">\n",
       "      <th></th>\n",
       "      <th>id</th>\n",
       "      <th>page_id</th>\n",
       "      <th>page_text</th>\n",
       "      <th>page_num_content_words</th>\n",
       "      <th>work_id</th>\n",
       "      <th>cluster</th>\n",
       "      <th>source</th>\n",
       "      <th>year</th>\n",
       "      <th>author</th>\n",
       "      <th>title</th>\n",
       "      <th>_random</th>\n",
       "    </tr>\n",
       "  </thead>\n",
       "  <tbody>\n",
       "    <tr>\n",
       "      <th>0</th>\n",
       "      <td>1</td>\n",
       "      <td>njp.32101080458316_1</td>\n",
       "      <td>\\n</td>\n",
       "      <td>0</td>\n",
       "      <td>njp.32101080458316</td>\n",
       "      <td>juliandictionary</td>\n",
       "      <td>juliandictionary</td>\n",
       "      <td>juliandictionary</td>\n",
       "      <td>Julian, John, 1839-1913, ed</td>\n",
       "      <td>A dictionary of hymnology,</td>\n",
       "      <td>0.002575</td>\n",
       "    </tr>\n",
       "    <tr>\n",
       "      <th>1</th>\n",
       "      <td>2</td>\n",
       "      <td>njp.32101080458316_2</td>\n",
       "      <td>\\n</td>\n",
       "      <td>0</td>\n",
       "      <td>njp.32101080458316</td>\n",
       "      <td>juliandictionary</td>\n",
       "      <td>juliandictionary</td>\n",
       "      <td>juliandictionary</td>\n",
       "      <td>Julian, John, 1839-1913, ed</td>\n",
       "      <td>A dictionary of hymnology,</td>\n",
       "      <td>0.725910</td>\n",
       "    </tr>\n",
       "    <tr>\n",
       "      <th>2</th>\n",
       "      <td>3</td>\n",
       "      <td>njp.32101080458316_3</td>\n",
       "      <td></td>\n",
       "      <td>0</td>\n",
       "      <td>njp.32101080458316</td>\n",
       "      <td>juliandictionary</td>\n",
       "      <td>juliandictionary</td>\n",
       "      <td>juliandictionary</td>\n",
       "      <td>Julian, John, 1839-1913, ed</td>\n",
       "      <td>A dictionary of hymnology,</td>\n",
       "      <td>0.249469</td>\n",
       "    </tr>\n",
       "    <tr>\n",
       "      <th>3</th>\n",
       "      <td>4</td>\n",
       "      <td>njp.32101080458316_4</td>\n",
       "      <td></td>\n",
       "      <td>0</td>\n",
       "      <td>njp.32101080458316</td>\n",
       "      <td>juliandictionary</td>\n",
       "      <td>juliandictionary</td>\n",
       "      <td>juliandictionary</td>\n",
       "      <td>Julian, John, 1839-1913, ed</td>\n",
       "      <td>A dictionary of hymnology,</td>\n",
       "      <td>0.054563</td>\n",
       "    </tr>\n",
       "    <tr>\n",
       "      <th>4</th>\n",
       "      <td>5</td>\n",
       "      <td>njp.32101080458316_5</td>\n",
       "      <td></td>\n",
       "      <td>0</td>\n",
       "      <td>njp.32101080458316</td>\n",
       "      <td>juliandictionary</td>\n",
       "      <td>juliandictionary</td>\n",
       "      <td>juliandictionary</td>\n",
       "      <td>Julian, John, 1839-1913, ed</td>\n",
       "      <td>A dictionary of hymnology,</td>\n",
       "      <td>0.771075</td>\n",
       "    </tr>\n",
       "    <tr>\n",
       "      <th>5</th>\n",
       "      <td>6</td>\n",
       "      <td>njp.32101080458316_6</td>\n",
       "      <td></td>\n",
       "      <td>0</td>\n",
       "      <td>njp.32101080458316</td>\n",
       "      <td>juliandictionary</td>\n",
       "      <td>juliandictionary</td>\n",
       "      <td>juliandictionary</td>\n",
       "      <td>Julian, John, 1839-1913, ed</td>\n",
       "      <td>A dictionary of hymnology,</td>\n",
       "      <td>0.866113</td>\n",
       "    </tr>\n",
       "    <tr>\n",
       "      <th>6</th>\n",
       "      <td>7</td>\n",
       "      <td>njp.32101080458316_i</td>\n",
       "      <td>DICTIONARY OF HYMNOLOGY\\nSETTING FORTH THE\\nOR...</td>\n",
       "      <td>46</td>\n",
       "      <td>njp.32101080458316</td>\n",
       "      <td>juliandictionary</td>\n",
       "      <td>juliandictionary</td>\n",
       "      <td>juliandictionary</td>\n",
       "      <td>Julian, John, 1839-1913, ed</td>\n",
       "      <td>A dictionary of hymnology,</td>\n",
       "      <td>0.834579</td>\n",
       "    </tr>\n",
       "    <tr>\n",
       "      <th>7</th>\n",
       "      <td>8</td>\n",
       "      <td>njp.32101080458316_ii</td>\n",
       "      <td>Copyright, 1891, bt\\nCHARLES SCHIBNER'S SONS\\n...</td>\n",
       "      <td>6</td>\n",
       "      <td>njp.32101080458316</td>\n",
       "      <td>juliandictionary</td>\n",
       "      <td>juliandictionary</td>\n",
       "      <td>juliandictionary</td>\n",
       "      <td>Julian, John, 1839-1913, ed</td>\n",
       "      <td>A dictionary of hymnology,</td>\n",
       "      <td>0.018973</td>\n",
       "    </tr>\n",
       "    <tr>\n",
       "      <th>8</th>\n",
       "      <td>9</td>\n",
       "      <td>njp.32101080458316_iii</td>\n",
       "      <td>TABLE OF CONTENTS.\\nnam\\nT. Preface .............</td>\n",
       "      <td>47</td>\n",
       "      <td>njp.32101080458316</td>\n",
       "      <td>juliandictionary</td>\n",
       "      <td>juliandictionary</td>\n",
       "      <td>juliandictionary</td>\n",
       "      <td>Julian, John, 1839-1913, ed</td>\n",
       "      <td>A dictionary of hymnology,</td>\n",
       "      <td>0.780394</td>\n",
       "    </tr>\n",
       "    <tr>\n",
       "      <th>9</th>\n",
       "      <td>10</td>\n",
       "      <td>njp.32101080458316_iv</td>\n",
       "      <td></td>\n",
       "      <td>0</td>\n",
       "      <td>njp.32101080458316</td>\n",
       "      <td>juliandictionary</td>\n",
       "      <td>juliandictionary</td>\n",
       "      <td>juliandictionary</td>\n",
       "      <td>Julian, John, 1839-1913, ed</td>\n",
       "      <td>A dictionary of hymnology,</td>\n",
       "      <td>0.274707</td>\n",
       "    </tr>\n",
       "  </tbody>\n",
       "</table>\n",
       "</div>"
      ],
      "text/plain": [
       "   id                 page_id  \\\n",
       "0   1    njp.32101080458316_1   \n",
       "1   2    njp.32101080458316_2   \n",
       "2   3    njp.32101080458316_3   \n",
       "3   4    njp.32101080458316_4   \n",
       "4   5    njp.32101080458316_5   \n",
       "5   6    njp.32101080458316_6   \n",
       "6   7    njp.32101080458316_i   \n",
       "7   8   njp.32101080458316_ii   \n",
       "8   9  njp.32101080458316_iii   \n",
       "9  10   njp.32101080458316_iv   \n",
       "\n",
       "                                           page_text  page_num_content_words  \\\n",
       "0                                                 \\n                       0   \n",
       "1                                                 \\n                       0   \n",
       "2                                                                          0   \n",
       "3                                                                          0   \n",
       "4                                                                          0   \n",
       "5                                                                          0   \n",
       "6  DICTIONARY OF HYMNOLOGY\\nSETTING FORTH THE\\nOR...                      46   \n",
       "7  Copyright, 1891, bt\\nCHARLES SCHIBNER'S SONS\\n...                       6   \n",
       "8  TABLE OF CONTENTS.\\nnam\\nT. Preface .............                      47   \n",
       "9                                                                          0   \n",
       "\n",
       "              work_id           cluster            source              year  \\\n",
       "0  njp.32101080458316  juliandictionary  juliandictionary  juliandictionary   \n",
       "1  njp.32101080458316  juliandictionary  juliandictionary  juliandictionary   \n",
       "2  njp.32101080458316  juliandictionary  juliandictionary  juliandictionary   \n",
       "3  njp.32101080458316  juliandictionary  juliandictionary  juliandictionary   \n",
       "4  njp.32101080458316  juliandictionary  juliandictionary  juliandictionary   \n",
       "5  njp.32101080458316  juliandictionary  juliandictionary  juliandictionary   \n",
       "6  njp.32101080458316  juliandictionary  juliandictionary  juliandictionary   \n",
       "7  njp.32101080458316  juliandictionary  juliandictionary  juliandictionary   \n",
       "8  njp.32101080458316  juliandictionary  juliandictionary  juliandictionary   \n",
       "9  njp.32101080458316  juliandictionary  juliandictionary  juliandictionary   \n",
       "\n",
       "                        author                       title   _random  \n",
       "0  Julian, John, 1839-1913, ed  A dictionary of hymnology,  0.002575  \n",
       "1  Julian, John, 1839-1913, ed  A dictionary of hymnology,  0.725910  \n",
       "2  Julian, John, 1839-1913, ed  A dictionary of hymnology,  0.249469  \n",
       "3  Julian, John, 1839-1913, ed  A dictionary of hymnology,  0.054563  \n",
       "4  Julian, John, 1839-1913, ed  A dictionary of hymnology,  0.771075  \n",
       "5  Julian, John, 1839-1913, ed  A dictionary of hymnology,  0.866113  \n",
       "6  Julian, John, 1839-1913, ed  A dictionary of hymnology,  0.834579  \n",
       "7  Julian, John, 1839-1913, ed  A dictionary of hymnology,  0.018973  \n",
       "8  Julian, John, 1839-1913, ed  A dictionary of hymnology,  0.780394  \n",
       "9  Julian, John, 1839-1913, ed  A dictionary of hymnology,  0.274707  "
      ]
     },
     "execution_count": 73,
     "metadata": {},
     "output_type": "execute_result"
    }
   ],
   "source": [
    "pd.DataFrame(iter_pages(ppa, lim=10))"
   ]
  },
  {
   "cell_type": "code",
   "execution_count": 68,
   "metadata": {},
   "outputs": [
    {
     "data": {
      "text/plain": [
       "{'id': 1,\n",
       " 'page_id': 'njp.32101080458316_1',\n",
       " 'page_text': '\\n',\n",
       " 'page_num_content_words': 0,\n",
       " 'work_id': 'njp.32101080458316',\n",
       " 'cluster': 'juliandictionary',\n",
       " 'source': 'juliandictionary',\n",
       " 'year': 'juliandictionary',\n",
       " 'author': 'Julian, John, 1839-1913, ed',\n",
       " 'title': 'A dictionary of hymnology,',\n",
       " '_random': 0.0025753984256250417}"
      ]
     },
     "execution_count": 68,
     "metadata": {},
     "output_type": "execute_result"
    }
   ],
   "source": [
    "rec.__data__"
   ]
  },
  {
   "cell_type": "code",
   "execution_count": 8,
   "metadata": {},
   "outputs": [
    {
     "name": "stdout",
     "output_type": "stream",
     "text": [
      "\u001b[0;31mInit signature:\u001b[0m \u001b[0mCharField\u001b[0m\u001b[0;34m(\u001b[0m\u001b[0mmax_length\u001b[0m\u001b[0;34m=\u001b[0m\u001b[0;36m255\u001b[0m\u001b[0;34m,\u001b[0m \u001b[0;34m*\u001b[0m\u001b[0margs\u001b[0m\u001b[0;34m,\u001b[0m \u001b[0;34m**\u001b[0m\u001b[0mkwargs\u001b[0m\u001b[0;34m)\u001b[0m\u001b[0;34m\u001b[0m\u001b[0;34m\u001b[0m\u001b[0m\n",
      "\u001b[0;31mDocstring:\u001b[0m      <no docstring>\n",
      "\u001b[0;31mFile:\u001b[0m           ~/github/ppa-nlp/venv/lib/python3.10/site-packages/peewee.py\n",
      "\u001b[0;31mType:\u001b[0m           type\n",
      "\u001b[0;31mSubclasses:\u001b[0m     FixedCharField"
     ]
    }
   ],
   "source": [
    "CharField?"
   ]
  },
  {
   "cell_type": "code",
   "execution_count": null,
   "metadata": {},
   "outputs": [],
   "source": []
  },
  {
   "cell_type": "code",
   "execution_count": 3,
   "metadata": {},
   "outputs": [
    {
     "name": "stderr",
     "output_type": "stream",
     "text": [
      "Iterating over page search results: 100%|██████████| 859/859 [00:11<00:00, 77.93it/s] \n"
     ]
    },
    {
     "data": {
      "text/plain": [
       "count     859.000000\n",
       "mean      186.233993\n",
       "std       130.342144\n",
       "min         0.000000\n",
       "25%       126.000000\n",
       "50%       151.000000\n",
       "75%       192.000000\n",
       "max      1095.000000\n",
       "Name: page_num_content_words, dtype: float64"
      ]
     },
     "execution_count": 3,
     "metadata": {},
     "output_type": "execute_result"
    }
   ],
   "source": [
    "ppa.pages_df(frac=.01, min_doc_len=100).page_num_content_words.describe()"
   ]
  },
  {
   "cell_type": "code",
   "execution_count": 4,
   "metadata": {},
   "outputs": [
    {
     "data": {
      "text/html": [
       "<div>\n",
       "<style scoped>\n",
       "    .dataframe tbody tr th:only-of-type {\n",
       "        vertical-align: middle;\n",
       "    }\n",
       "\n",
       "    .dataframe tbody tr th {\n",
       "        vertical-align: top;\n",
       "    }\n",
       "\n",
       "    .dataframe thead th {\n",
       "        text-align: right;\n",
       "    }\n",
       "</style>\n",
       "<table border=\"1\" class=\"dataframe\">\n",
       "  <thead>\n",
       "    <tr style=\"text-align: right;\">\n",
       "      <th></th>\n",
       "      <th>page_id</th>\n",
       "      <th>page_num</th>\n",
       "      <th>page_num_orig</th>\n",
       "      <th>page_text</th>\n",
       "      <th>page_text_orig</th>\n",
       "      <th>page_tokens</th>\n",
       "      <th>page_corrections_headers</th>\n",
       "      <th>page_corrections_linebreaks</th>\n",
       "      <th>page_corrections_long_s</th>\n",
       "      <th>page_corrections_ocr</th>\n",
       "      <th>page_corrections_f_s</th>\n",
       "      <th>page_content_words</th>\n",
       "      <th>page_num_tokens</th>\n",
       "      <th>page_num_content_words</th>\n",
       "      <th>work_id</th>\n",
       "      <th>cluster</th>\n",
       "      <th>source</th>\n",
       "      <th>year</th>\n",
       "      <th>author</th>\n",
       "      <th>title</th>\n",
       "    </tr>\n",
       "  </thead>\n",
       "  <tbody>\n",
       "    <tr>\n",
       "      <th>140</th>\n",
       "      <td>mdp.39015024941562_10</td>\n",
       "      <td>772</td>\n",
       "      <td>10</td>\n",
       "      <td>\\n</td>\n",
       "      <td>\\n</td>\n",
       "      <td>[]</td>\n",
       "      <td>[]</td>\n",
       "      <td>[]</td>\n",
       "      <td>[]</td>\n",
       "      <td>[]</td>\n",
       "      <td>[]</td>\n",
       "      <td>[]</td>\n",
       "      <td>0</td>\n",
       "      <td>0</td>\n",
       "      <td>mdp.39015024941562</td>\n",
       "      <td>mdp.39015024941562</td>\n",
       "      <td>mdp.39015024941562</td>\n",
       "      <td>1900.0</td>\n",
       "      <td></td>\n",
       "      <td>Pamphlets in philology and the humanities.</td>\n",
       "    </tr>\n",
       "    <tr>\n",
       "      <th>144</th>\n",
       "      <td>mdp.39015024941562_58</td>\n",
       "      <td>738</td>\n",
       "      <td>58</td>\n",
       "      <td></td>\n",
       "      <td></td>\n",
       "      <td>[]</td>\n",
       "      <td>[]</td>\n",
       "      <td>[]</td>\n",
       "      <td>[]</td>\n",
       "      <td>[]</td>\n",
       "      <td>[]</td>\n",
       "      <td>[]</td>\n",
       "      <td>0</td>\n",
       "      <td>0</td>\n",
       "      <td>mdp.39015024941562</td>\n",
       "      <td>mdp.39015024941562</td>\n",
       "      <td>mdp.39015024941562</td>\n",
       "      <td>1900.0</td>\n",
       "      <td></td>\n",
       "      <td>Pamphlets in philology and the humanities.</td>\n",
       "    </tr>\n",
       "    <tr>\n",
       "      <th>488</th>\n",
       "      <td>hvd.32044086668365_12</td>\n",
       "      <td>282</td>\n",
       "      <td>12</td>\n",
       "      <td></td>\n",
       "      <td></td>\n",
       "      <td>[]</td>\n",
       "      <td>[]</td>\n",
       "      <td>[]</td>\n",
       "      <td>[]</td>\n",
       "      <td>[]</td>\n",
       "      <td>[]</td>\n",
       "      <td>[]</td>\n",
       "      <td>0</td>\n",
       "      <td>0</td>\n",
       "      <td>hvd.32044086668365</td>\n",
       "      <td>hvd.32044086668365</td>\n",
       "      <td>hvd.32044086668365</td>\n",
       "      <td>1901.0</td>\n",
       "      <td>Dahlstedt, August, 1867-</td>\n",
       "      <td>Rhythm and word-order in Anglo-Saxon and Semi-...</td>\n",
       "    </tr>\n",
       "  </tbody>\n",
       "</table>\n",
       "</div>"
      ],
      "text/plain": [
       "                   page_id  page_num page_num_orig page_text page_text_orig  \\\n",
       "140  mdp.39015024941562_10       772            10        \\n             \\n   \n",
       "144  mdp.39015024941562_58       738            58                            \n",
       "488  hvd.32044086668365_12       282            12                            \n",
       "\n",
       "    page_tokens page_corrections_headers page_corrections_linebreaks  \\\n",
       "140          []                       []                          []   \n",
       "144          []                       []                          []   \n",
       "488          []                       []                          []   \n",
       "\n",
       "    page_corrections_long_s page_corrections_ocr page_corrections_f_s  \\\n",
       "140                      []                   []                   []   \n",
       "144                      []                   []                   []   \n",
       "488                      []                   []                   []   \n",
       "\n",
       "    page_content_words  page_num_tokens  page_num_content_words  \\\n",
       "140                 []                0                       0   \n",
       "144                 []                0                       0   \n",
       "488                 []                0                       0   \n",
       "\n",
       "                work_id             cluster              source    year  \\\n",
       "140  mdp.39015024941562  mdp.39015024941562  mdp.39015024941562  1900.0   \n",
       "144  mdp.39015024941562  mdp.39015024941562  mdp.39015024941562  1900.0   \n",
       "488  hvd.32044086668365  hvd.32044086668365  hvd.32044086668365  1901.0   \n",
       "\n",
       "                       author  \\\n",
       "140                             \n",
       "144                             \n",
       "488  Dahlstedt, August, 1867-   \n",
       "\n",
       "                                                 title  \n",
       "140         Pamphlets in philology and the humanities.  \n",
       "144         Pamphlets in philology and the humanities.  \n",
       "488  Rhythm and word-order in Anglo-Saxon and Semi-...  "
      ]
     },
     "execution_count": 4,
     "metadata": {},
     "output_type": "execute_result"
    }
   ],
   "source": [
    "df=ppa.pages_df(frac=.01, min_doc_len=100)\n",
    "df[df.page_num_content_words==0]"
   ]
  },
  {
   "cell_type": "code",
   "execution_count": 8,
   "metadata": {},
   "outputs": [
    {
     "name": "stderr",
     "output_type": "stream",
     "text": [
      "Saving cleaned pages into page db [x1]:   1%|          | 74/6939 [02:59<5:04:05,  2.66s/it]"
     ]
    }
   ],
   "source": [
    "ppa.gen(num_proc=1)"
   ]
  },
  {
   "cell_type": "code",
   "execution_count": null,
   "metadata": {},
   "outputs": [],
   "source": []
  },
  {
   "cell_type": "code",
   "execution_count": null,
   "metadata": {},
   "outputs": [],
   "source": []
  },
  {
   "cell_type": "code",
   "execution_count": null,
   "metadata": {},
   "outputs": [],
   "source": []
  },
  {
   "cell_type": "code",
   "execution_count": null,
   "metadata": {},
   "outputs": [],
   "source": []
  },
  {
   "cell_type": "code",
   "execution_count": null,
   "metadata": {},
   "outputs": [],
   "source": []
  },
  {
   "cell_type": "code",
   "execution_count": null,
   "metadata": {},
   "outputs": [],
   "source": []
  },
  {
   "cell_type": "code",
   "execution_count": null,
   "metadata": {},
   "outputs": [],
   "source": [
    "# def iter_pages(self, work_ids=None, clean=None, lim=None, min_doc_len=None, frac=1, frac_text=1, max_per_cluster=None, as_dict=True):\n",
    "#     if not frac or frac>1 or frac<=0: frac=1\n",
    "#     # if not frac_text or frac_text>1 or frac_text<=0: frac_text=1\n",
    "#     ppa.textd\n",
    "#     i=0\n",
    "#     clustd=Counter()\n",
    "#     q={}\n",
    "#     if frac and frac>0 and frac<1: q['_random']={'$lte':frac}\n",
    "#     if work_ids: q['work_id']={'$in':list(work_ids)}\n",
    "#     if min_doc_len: q['page_num_content_words']={'$gte':min_doc_len}\n",
    "#     for d in tqdm(self.page_db.find(q),desc='Iterating over page search results'):\n",
    "#         del d['_id']\n",
    "#         t=self.textd[d['work_id']]\n",
    "#         if not max_per_cluster or clustd[t.cluster]<max_per_cluster:\n",
    "#             yield PPAPage(d['page_id'], t, **d) if not as_dict else d\n",
    "#             if max_per_cluster: clustd[t.cluster]+=1\n",
    "#             i+=1\n",
    "#             if lim and i>=lim: break\n",
    "#         if lim and i>=lim: break\n"
   ]
  },
  {
   "cell_type": "code",
   "execution_count": null,
   "metadata": {},
   "outputs": [],
   "source": [
    "# f=iter_pages(ppa, max_per_cluster=100, min_doc_len=25, as_dict=True,frac=.1)\n",
    "# df=pd.DataFrame(f)\n",
    "# df"
   ]
  },
  {
   "cell_type": "code",
   "execution_count": null,
   "metadata": {},
   "outputs": [],
   "source": []
  },
  {
   "cell_type": "code",
   "execution_count": null,
   "metadata": {},
   "outputs": [],
   "source": []
  },
  {
   "cell_type": "code",
   "execution_count": null,
   "metadata": {},
   "outputs": [],
   "source": []
  },
  {
   "cell_type": "code",
   "execution_count": null,
   "metadata": {},
   "outputs": [],
   "source": []
  },
  {
   "cell_type": "code",
   "execution_count": null,
   "metadata": {},
   "outputs": [],
   "source": []
  },
  {
   "cell_type": "code",
   "execution_count": null,
   "metadata": {},
   "outputs": [],
   "source": []
  },
  {
   "cell_type": "code",
   "execution_count": null,
   "metadata": {},
   "outputs": [],
   "source": []
  },
  {
   "cell_type": "code",
   "execution_count": null,
   "metadata": {},
   "outputs": [],
   "source": []
  },
  {
   "cell_type": "code",
   "execution_count": null,
   "metadata": {},
   "outputs": [],
   "source": []
  },
  {
   "cell_type": "code",
   "execution_count": null,
   "metadata": {},
   "outputs": [],
   "source": []
  }
 ],
 "metadata": {
  "kernelspec": {
   "display_name": "venv",
   "language": "python",
   "name": "python3"
  },
  "language_info": {
   "codemirror_mode": {
    "name": "ipython",
    "version": 3
   },
   "file_extension": ".py",
   "mimetype": "text/x-python",
   "name": "python",
   "nbconvert_exporter": "python",
   "pygments_lexer": "ipython3",
   "version": "3.10.7"
  }
 },
 "nbformat": 4,
 "nbformat_minor": 2
}
