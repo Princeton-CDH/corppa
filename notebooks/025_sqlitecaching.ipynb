{
 "cells": [
  {
   "cell_type": "code",
   "execution_count": 1,
   "metadata": {},
   "outputs": [
    {
     "ename": "SyntaxError",
     "evalue": "invalid syntax (corpus.py, line 196)",
     "output_type": "error",
     "traceback": [
      "Traceback \u001b[0;36m(most recent call last)\u001b[0m:\n",
      "\u001b[0m  File \u001b[1;32m~/github/ppa-nlp/venv/lib/python3.10/site-packages/IPython/core/interactiveshell.py:3550\u001b[0m in \u001b[1;35mrun_code\u001b[0m\n    exec(code_obj, self.user_global_ns, self.user_ns)\u001b[0m\n",
      "\u001b[0;36m  Cell \u001b[0;32mIn[1], line 2\u001b[0;36m\n\u001b[0;31m    from ppanlp.corpus import *\u001b[0;36m\n",
      "\u001b[0;36m  File \u001b[0;32m~/github/ppa-nlp/notebooks/../ppanlp/corpus.py:196\u001b[0;36m\u001b[0m\n\u001b[0;31m    return self.\u001b[0m\n\u001b[0m                ^\u001b[0m\n\u001b[0;31mSyntaxError\u001b[0m\u001b[0;31m:\u001b[0m invalid syntax\n"
     ]
    }
   ],
   "source": [
    "import sys;sys.path.append('..')\n",
    "from ppanlp.corpus import *\n",
    "from ppanlp.imports import *"
   ]
  },
  {
   "cell_type": "code",
   "execution_count": null,
   "metadata": {},
   "outputs": [],
   "source": [
    "ppa = PPA('~/ppa_data/corpus2',clean=True)\n",
    "# ppa.index()\n",
    "# ppa.clean(num_proc=15)"
   ]
  },
  {
   "cell_type": "code",
   "execution_count": null,
   "metadata": {},
   "outputs": [],
   "source": [
    "# ppa.clean(force=False, num_proc=15)"
   ]
  },
  {
   "cell_type": "code",
   "execution_count": null,
   "metadata": {},
   "outputs": [
    {
     "name": "stderr",
     "output_type": "stream",
     "text": [
      "Iteration over texts in PPA:   4%|▍         | 292/6939 [00:20<07:45, 14.27it/s]\n"
     ]
    },
    {
     "ename": "JSONDecodeError",
     "evalue": "Input is a zero-length, empty document: line 1 column 1 (char 0)",
     "output_type": "error",
     "traceback": [
      "\u001b[0;31m---------------------------------------------------------------------------\u001b[0m",
      "\u001b[0;31mJSONDecodeError\u001b[0m                           Traceback (most recent call last)",
      "\u001b[1;32m/Users/ryanheuser/github/ppa-nlp/notebooks/025_sqlitecaching.ipynb Cell 4\u001b[0m line \u001b[0;36m2\n\u001b[1;32m      <a href='vscode-notebook-cell:/Users/ryanheuser/github/ppa-nlp/notebooks/025_sqlitecaching.ipynb#X30sZmlsZQ%3D%3D?line=0'>1</a>\u001b[0m \u001b[39mfor\u001b[39;00m t \u001b[39min\u001b[39;00m ppa:\n\u001b[0;32m----> <a href='vscode-notebook-cell:/Users/ryanheuser/github/ppa-nlp/notebooks/025_sqlitecaching.ipynb#X30sZmlsZQ%3D%3D?line=1'>2</a>\u001b[0m     \u001b[39mfor\u001b[39;00m p \u001b[39min\u001b[39;00m t\u001b[39m.\u001b[39;49mpages:\n\u001b[1;32m      <a href='vscode-notebook-cell:/Users/ryanheuser/github/ppa-nlp/notebooks/025_sqlitecaching.ipynb#X30sZmlsZQ%3D%3D?line=2'>3</a>\u001b[0m         p\u001b[39m.\u001b[39mmeta\n",
      "File \u001b[0;32m~/.pyenv/versions/3.10.7/lib/python3.10/functools.py:981\u001b[0m, in \u001b[0;36mcached_property.__get__\u001b[0;34m(self, instance, owner)\u001b[0m\n\u001b[1;32m    979\u001b[0m val \u001b[39m=\u001b[39m cache\u001b[39m.\u001b[39mget(\u001b[39mself\u001b[39m\u001b[39m.\u001b[39mattrname, _NOT_FOUND)\n\u001b[1;32m    980\u001b[0m \u001b[39mif\u001b[39;00m val \u001b[39mis\u001b[39;00m _NOT_FOUND:\n\u001b[0;32m--> 981\u001b[0m     val \u001b[39m=\u001b[39m \u001b[39mself\u001b[39;49m\u001b[39m.\u001b[39;49mfunc(instance)\n\u001b[1;32m    982\u001b[0m     \u001b[39mtry\u001b[39;00m:\n\u001b[1;32m    983\u001b[0m         cache[\u001b[39mself\u001b[39m\u001b[39m.\u001b[39mattrname] \u001b[39m=\u001b[39m val\n",
      "File \u001b[0;32m~/github/ppa-nlp/notebooks/../ppanlp/corpus.py:227\u001b[0m, in \u001b[0;36mPPAText.pages\u001b[0;34m(self)\u001b[0m\n\u001b[1;32m    225\u001b[0m \u001b[39m@cached_property\u001b[39m\n\u001b[1;32m    226\u001b[0m \u001b[39mdef\u001b[39;00m \u001b[39mpages\u001b[39m(\u001b[39mself\u001b[39m):\n\u001b[0;32m--> 227\u001b[0m     \u001b[39mreturn\u001b[39;00m \u001b[39mself\u001b[39;49m\u001b[39m.\u001b[39;49mpages_clean \u001b[39mif\u001b[39;00m \u001b[39mself\u001b[39m\u001b[39m.\u001b[39mdo_clean \u001b[39melse\u001b[39;00m \u001b[39mself\u001b[39m\u001b[39m.\u001b[39mpages\n",
      "File \u001b[0;32m~/.pyenv/versions/3.10.7/lib/python3.10/functools.py:981\u001b[0m, in \u001b[0;36mcached_property.__get__\u001b[0;34m(self, instance, owner)\u001b[0m\n\u001b[1;32m    979\u001b[0m val \u001b[39m=\u001b[39m cache\u001b[39m.\u001b[39mget(\u001b[39mself\u001b[39m\u001b[39m.\u001b[39mattrname, _NOT_FOUND)\n\u001b[1;32m    980\u001b[0m \u001b[39mif\u001b[39;00m val \u001b[39mis\u001b[39;00m _NOT_FOUND:\n\u001b[0;32m--> 981\u001b[0m     val \u001b[39m=\u001b[39m \u001b[39mself\u001b[39;49m\u001b[39m.\u001b[39;49mfunc(instance)\n\u001b[1;32m    982\u001b[0m     \u001b[39mtry\u001b[39;00m:\n\u001b[1;32m    983\u001b[0m         cache[\u001b[39mself\u001b[39m\u001b[39m.\u001b[39mattrname] \u001b[39m=\u001b[39m val\n",
      "File \u001b[0;32m~/github/ppa-nlp/notebooks/../ppanlp/corpus.py:219\u001b[0m, in \u001b[0;36mPPAText.pages_clean\u001b[0;34m(self)\u001b[0m\n\u001b[1;32m    216\u001b[0m \u001b[39m@cached_property\u001b[39m\n\u001b[1;32m    217\u001b[0m \u001b[39mdef\u001b[39;00m \u001b[39mpages_clean\u001b[39m(\u001b[39mself\u001b[39m):\n\u001b[1;32m    218\u001b[0m     \u001b[39mself\u001b[39m\u001b[39m.\u001b[39mclean(force\u001b[39m=\u001b[39m\u001b[39mFalse\u001b[39;00m)\n\u001b[0;32m--> 219\u001b[0m     \u001b[39mreturn\u001b[39;00m [PPAPage(d[\u001b[39m'\u001b[39m\u001b[39mpage_id\u001b[39m\u001b[39m'\u001b[39m], \u001b[39mself\u001b[39m, \u001b[39m*\u001b[39m\u001b[39m*\u001b[39md) \u001b[39mfor\u001b[39;00m d \u001b[39min\u001b[39;00m iter_json(\u001b[39mself\u001b[39m\u001b[39m.\u001b[39mpath_preproc)]\n",
      "File \u001b[0;32m~/github/ppa-nlp/notebooks/../ppanlp/corpus.py:219\u001b[0m, in \u001b[0;36m<listcomp>\u001b[0;34m(.0)\u001b[0m\n\u001b[1;32m    216\u001b[0m \u001b[39m@cached_property\u001b[39m\n\u001b[1;32m    217\u001b[0m \u001b[39mdef\u001b[39;00m \u001b[39mpages_clean\u001b[39m(\u001b[39mself\u001b[39m):\n\u001b[1;32m    218\u001b[0m     \u001b[39mself\u001b[39m\u001b[39m.\u001b[39mclean(force\u001b[39m=\u001b[39m\u001b[39mFalse\u001b[39;00m)\n\u001b[0;32m--> 219\u001b[0m     \u001b[39mreturn\u001b[39;00m [PPAPage(d[\u001b[39m'\u001b[39m\u001b[39mpage_id\u001b[39m\u001b[39m'\u001b[39m], \u001b[39mself\u001b[39m, \u001b[39m*\u001b[39m\u001b[39m*\u001b[39md) \u001b[39mfor\u001b[39;00m d \u001b[39min\u001b[39;00m iter_json(\u001b[39mself\u001b[39m\u001b[39m.\u001b[39mpath_preproc)]\n",
      "File \u001b[0;32m~/github/ppa-nlp/notebooks/../ppanlp/utils.py:8\u001b[0m, in \u001b[0;36miter_json\u001b[0;34m(fn)\u001b[0m\n\u001b[1;32m      6\u001b[0m     \u001b[39myield from\u001b[39;00m iter_jsonl(fn)\n\u001b[1;32m      7\u001b[0m \u001b[39melse\u001b[39;00m:\n\u001b[0;32m----> 8\u001b[0m     \u001b[39myield from\u001b[39;00m read_json(fn)\n",
      "File \u001b[0;32m~/github/ppa-nlp/notebooks/../ppanlp/utils.py:29\u001b[0m, in \u001b[0;36mread_json\u001b[0;34m(fn)\u001b[0m\n\u001b[1;32m     27\u001b[0m \u001b[39mtry\u001b[39;00m:\n\u001b[1;32m     28\u001b[0m     \u001b[39mwith\u001b[39;00m gzip\u001b[39m.\u001b[39mopen(fn, \u001b[39m'\u001b[39m\u001b[39mr\u001b[39m\u001b[39m'\u001b[39m) \u001b[39mas\u001b[39;00m zipfile:\n\u001b[0;32m---> 29\u001b[0m         \u001b[39mreturn\u001b[39;00m orjson\u001b[39m.\u001b[39;49mloads(zipfile\u001b[39m.\u001b[39;49mread())\n\u001b[1;32m     30\u001b[0m \u001b[39mexcept\u001b[39;00m gzip\u001b[39m.\u001b[39mBadGzipFile:\n\u001b[1;32m     31\u001b[0m     \u001b[39mpass\u001b[39;00m\n",
      "\u001b[0;31mJSONDecodeError\u001b[0m: Input is a zero-length, empty document: line 1 column 1 (char 0)"
     ]
    }
   ],
   "source": [
    "for t in ppa:\n",
    "    for p in t.pages:\n",
    "        p.meta"
   ]
  },
  {
   "cell_type": "code",
   "execution_count": null,
   "metadata": {},
   "outputs": [
    {
     "name": "stderr",
     "output_type": "stream",
     "text": [
      "Iteration over texts in PPA: 100%|██████████| 6939/6939 [00:00<00:00, 285837.65it/s]\n"
     ]
    }
   ],
   "source": [
    "ppa.text.clean(force=True)"
   ]
  },
  {
   "cell_type": "code",
   "execution_count": null,
   "metadata": {},
   "outputs": [],
   "source": []
  }
 ],
 "metadata": {
  "kernelspec": {
   "display_name": "venv",
   "language": "python",
   "name": "python3"
  },
  "language_info": {
   "codemirror_mode": {
    "name": "ipython",
    "version": 3
   },
   "file_extension": ".py",
   "mimetype": "text/x-python",
   "name": "python",
   "nbconvert_exporter": "python",
   "pygments_lexer": "ipython3",
   "version": "3.10.7"
  }
 },
 "nbformat": 4,
 "nbformat_minor": 2
}
