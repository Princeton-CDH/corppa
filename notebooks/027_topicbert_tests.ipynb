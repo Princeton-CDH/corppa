{
 "cells": [
  {
   "cell_type": "code",
   "execution_count": 1,
   "metadata": {},
   "outputs": [],
   "source": [
    "import sys;sys.path.append('..')\n",
    "from ppanlp import *"
   ]
  },
  {
   "cell_type": "code",
   "execution_count": 2,
   "metadata": {},
   "outputs": [
    {
     "name": "stderr",
     "output_type": "stream",
     "text": [
      "\u001b[32m2023-12-05 06:51:20,428\u001b[0m \u001b[34m\u001b[1mstarted booting PPACorpus at /Users/ryanheuser/ppa_data/solrcorpus8\u001b[0m\n",
      "\u001b[32m2023-12-05 06:51:20,429\u001b[0m \u001b[34m\u001b[1m  started reading metadata\u001b[0m\n",
      "\u001b[32m2023-12-05 06:51:20,431\u001b[0m \u001b[34m\u001b[1m  finished reading metadata in 0 seconds\u001b[0m\n",
      "\u001b[32m2023-12-05 06:51:20,432\u001b[0m \u001b[34m\u001b[1mfinished booting PPACorpus at /Users/ryanheuser/ppa_data/solrcorpus8 in 0 seconds\u001b[0m\n",
      "\n",
      "KeyboardInterrupt\n",
      "\n"
     ]
    }
   ],
   "source": [
    "ppa = PPA('~/ppa_data/solrcorpus8')\n",
    "# ppa.meta\n",
    "f = ppa.iter_pages_jsonl()"
   ]
  },
  {
   "cell_type": "code",
   "execution_count": null,
   "metadata": {},
   "outputs": [
    {
     "name": "stderr",
     "output_type": "stream",
     "text": [
      "\u001b[32m2023-12-05 06:30:52,316\u001b[0m \u001b[34m\u001b[1mstarted saving\u001b[0m\n"
     ]
    },
    {
     "name": "stderr",
     "output_type": "stream",
     "text": [
      "Iterating over pages.jsonl.gz: 1110746it [00:18, 59889.81it/s]\n",
      "\u001b[32m2023-12-05 06:31:10,871\u001b[0m \u001b[34m\u001b[1mfinished saving in 18.55 seconds\u001b[0m\n"
     ]
    },
    {
     "ename": "EOFError",
     "evalue": "Compressed file ended before the end-of-stream marker was reached",
     "output_type": "error",
     "traceback": [
      "\u001b[0;31m---------------------------------------------------------------------------\u001b[0m",
      "\u001b[0;31mEmpty\u001b[0m                                     Traceback (most recent call last)",
      "File \u001b[0;32m~/github/ppa-nlp/venv/lib/python3.10/site-packages/isal/igzip_threaded.py:132\u001b[0m, in \u001b[0;36m_ThreadedGzipReader.readinto\u001b[0;34m(self, b)\u001b[0m\n\u001b[1;32m    131\u001b[0m \u001b[39mtry\u001b[39;00m:\n\u001b[0;32m--> 132\u001b[0m     data_from_queue \u001b[39m=\u001b[39m \u001b[39mself\u001b[39;49m\u001b[39m.\u001b[39;49mqueue\u001b[39m.\u001b[39;49mget(timeout\u001b[39m=\u001b[39;49m\u001b[39m0.01\u001b[39;49m)\n\u001b[1;32m    133\u001b[0m     \u001b[39mbreak\u001b[39;00m\n",
      "File \u001b[0;32m~/.pyenv/versions/3.10.7/lib/python3.10/queue.py:179\u001b[0m, in \u001b[0;36mQueue.get\u001b[0;34m(self, block, timeout)\u001b[0m\n\u001b[1;32m    178\u001b[0m \u001b[39mif\u001b[39;00m remaining \u001b[39m<\u001b[39m\u001b[39m=\u001b[39m \u001b[39m0.0\u001b[39m:\n\u001b[0;32m--> 179\u001b[0m     \u001b[39mraise\u001b[39;00m Empty\n\u001b[1;32m    180\u001b[0m \u001b[39mself\u001b[39m\u001b[39m.\u001b[39mnot_empty\u001b[39m.\u001b[39mwait(remaining)\n",
      "\u001b[0;31mEmpty\u001b[0m: ",
      "\nDuring handling of the above exception, another exception occurred:\n",
      "\u001b[0;31mEOFError\u001b[0m                                  Traceback (most recent call last)",
      "\u001b[1;32m/Users/ryanheuser/github/ppa-nlp/notebooks/027_topicbert_tests.ipynb Cell 3\u001b[0m line \u001b[0;36m1\n\u001b[0;32m----> <a href='vscode-notebook-cell:/Users/ryanheuser/github/ppa-nlp/notebooks/027_topicbert_tests.ipynb#X33sZmlsZQ%3D%3D?line=0'>1</a>\u001b[0m ppa\u001b[39m.\u001b[39;49mpreproc()\n",
      "File \u001b[0;32m~/github/ppa-nlp/notebooks/../ppanlp/corpus.py:204\u001b[0m, in \u001b[0;36mPPACorpus.preproc\u001b[0;34m(self, num_proc, force)\u001b[0m\n\u001b[1;32m    199\u001b[0m \u001b[39m# with logwatch('gathering pages'):\u001b[39;00m\n\u001b[1;32m    200\u001b[0m     \u001b[39m# l = list(l)\u001b[39;00m\n\u001b[1;32m    201\u001b[0m \u001b[39m# with logwatch('sorting'):\u001b[39;00m\n\u001b[1;32m    202\u001b[0m     \u001b[39m# l.sort(key=lambda d: (d['work_id'],d['page_num']))\u001b[39;00m\n\u001b[1;32m    203\u001b[0m \u001b[39mwith\u001b[39;00m logwatch(\u001b[39m'\u001b[39m\u001b[39msaving\u001b[39m\u001b[39m'\u001b[39m):\n\u001b[0;32m--> 204\u001b[0m     \u001b[39mfor\u001b[39;00m d \u001b[39min\u001b[39;00m l:\n\u001b[1;32m    205\u001b[0m         work_id\u001b[39m=\u001b[39md\u001b[39m.\u001b[39mget(\u001b[39m'\u001b[39m\u001b[39mwork_id\u001b[39m\u001b[39m'\u001b[39m)\n\u001b[1;32m    206\u001b[0m         \u001b[39mif\u001b[39;00m last_pages \u001b[39mand\u001b[39;00m work_id\u001b[39m!=\u001b[39mlast_work_id:\n\u001b[1;32m    207\u001b[0m             \u001b[39m# assert work_id not in work_ids_done\u001b[39;00m\n",
      "File \u001b[0;32m~/github/ppa-nlp/notebooks/../ppanlp/corpus.py:175\u001b[0m, in \u001b[0;36mPPACorpus.iter_pages_jsonl\u001b[0;34m(self)\u001b[0m\n\u001b[1;32m    173\u001b[0m iterr\u001b[39m=\u001b[39miter_json(fn)\n\u001b[1;32m    174\u001b[0m iterr\u001b[39m=\u001b[39mtqdm(iterr,desc\u001b[39m=\u001b[39m\u001b[39mf\u001b[39m\u001b[39m'\u001b[39m\u001b[39mIterating over \u001b[39m\u001b[39m{\u001b[39;00mos\u001b[39m.\u001b[39mpath\u001b[39m.\u001b[39mbasename(fn)\u001b[39m}\u001b[39;00m\u001b[39m'\u001b[39m,position\u001b[39m=\u001b[39m\u001b[39m0\u001b[39m)\n\u001b[0;32m--> 175\u001b[0m \u001b[39mfor\u001b[39;00m d \u001b[39min\u001b[39;00m iterr:\n\u001b[1;32m    176\u001b[0m     \u001b[39myield\u001b[39;00m {\n\u001b[1;32m    177\u001b[0m         k1:d\u001b[39m.\u001b[39mget(k2,\u001b[39m'\u001b[39m\u001b[39m'\u001b[39m \u001b[39mif\u001b[39;00m k1\u001b[39m!=\u001b[39m\u001b[39m'\u001b[39m\u001b[39mpage_num\u001b[39m\u001b[39m'\u001b[39m \u001b[39melse\u001b[39;00m \u001b[39m-\u001b[39m\u001b[39m1\u001b[39m) \n\u001b[1;32m    178\u001b[0m         \u001b[39mfor\u001b[39;00m k1,k2 \u001b[39min\u001b[39;00m \u001b[39mself\u001b[39m\u001b[39m.\u001b[39mPAGE_RENAME_FIELDNAMES\u001b[39m.\u001b[39mitems()\n\u001b[1;32m    179\u001b[0m     }\n",
      "File \u001b[0;32m~/github/ppa-nlp/venv/lib/python3.10/site-packages/tqdm/std.py:1182\u001b[0m, in \u001b[0;36mtqdm.__iter__\u001b[0;34m(self)\u001b[0m\n\u001b[1;32m   1179\u001b[0m time \u001b[39m=\u001b[39m \u001b[39mself\u001b[39m\u001b[39m.\u001b[39m_time\n\u001b[1;32m   1181\u001b[0m \u001b[39mtry\u001b[39;00m:\n\u001b[0;32m-> 1182\u001b[0m     \u001b[39mfor\u001b[39;00m obj \u001b[39min\u001b[39;00m iterable:\n\u001b[1;32m   1183\u001b[0m         \u001b[39myield\u001b[39;00m obj\n\u001b[1;32m   1184\u001b[0m         \u001b[39m# Update and possibly print the progressbar.\u001b[39;00m\n\u001b[1;32m   1185\u001b[0m         \u001b[39m# Note: does not call self.update(1) for speed optimisation.\u001b[39;00m\n",
      "File \u001b[0;32m~/github/ppa-nlp/notebooks/../ppanlp/utils.py:6\u001b[0m, in \u001b[0;36miter_json\u001b[0;34m(fn)\u001b[0m\n\u001b[1;32m      4\u001b[0m \u001b[39mdef\u001b[39;00m \u001b[39miter_json\u001b[39m(fn):\n\u001b[1;32m      5\u001b[0m     \u001b[39mif\u001b[39;00m \u001b[39m'\u001b[39m\u001b[39mjsonl\u001b[39m\u001b[39m'\u001b[39m \u001b[39min\u001b[39;00m fn:\n\u001b[0;32m----> 6\u001b[0m         \u001b[39myield from\u001b[39;00m iter_jsonl(fn)\n\u001b[1;32m      7\u001b[0m     \u001b[39melse\u001b[39;00m:\n\u001b[1;32m      8\u001b[0m         \u001b[39myield from\u001b[39;00m read_json(fn)\n",
      "File \u001b[0;32m~/github/ppa-nlp/notebooks/../ppanlp/utils.py:12\u001b[0m, in \u001b[0;36miter_jsonl\u001b[0;34m(fn)\u001b[0m\n\u001b[1;32m     10\u001b[0m \u001b[39mdef\u001b[39;00m \u001b[39miter_jsonl\u001b[39m(fn):\n\u001b[1;32m     11\u001b[0m     \u001b[39mif\u001b[39;00m os\u001b[39m.\u001b[39mpath\u001b[39m.\u001b[39mexists(fn):\n\u001b[0;32m---> 12\u001b[0m         \u001b[39myield from\u001b[39;00m orjsonl\u001b[39m.\u001b[39mstream(fn)\n",
      "File \u001b[0;32m~/github/ppa-nlp/venv/lib/python3.10/site-packages/orjsonl/orjsonl.py:50\u001b[0m, in \u001b[0;36mstream\u001b[0;34m(path, decompression_threads, compression_format)\u001b[0m\n\u001b[1;32m     39\u001b[0m \u001b[39m\u001b[39m\u001b[39m\"\"\"Create a generator that deserializes a compressed or uncompressed UTF-8-encoded jsonl file to Python objects.\u001b[39;00m\n\u001b[1;32m     40\u001b[0m \n\u001b[1;32m     41\u001b[0m \u001b[39mArgs:\u001b[39;00m\n\u001b[0;32m   (...)\u001b[0m\n\u001b[1;32m     46\u001b[0m \u001b[39mReturns:\u001b[39;00m\n\u001b[1;32m     47\u001b[0m \u001b[39m    Generator[dict | list | int | float | str | bool | None, None, None]: A generator that deserializes the file to Python objects.\"\"\"\u001b[39;00m\n\u001b[1;32m     49\u001b[0m \u001b[39mwith\u001b[39;00m xopen(path, \u001b[39m'\u001b[39m\u001b[39mrb\u001b[39m\u001b[39m'\u001b[39m, threads\u001b[39m=\u001b[39mdecompression_threads, \u001b[39mformat\u001b[39m\u001b[39m=\u001b[39mcompression_format) \u001b[39mas\u001b[39;00m file:\n\u001b[0;32m---> 50\u001b[0m     \u001b[39mfor\u001b[39;00m json \u001b[39min\u001b[39;00m file:\n\u001b[1;32m     51\u001b[0m         \u001b[39myield\u001b[39;00m orjson\u001b[39m.\u001b[39mloads(json)\n",
      "File \u001b[0;32m~/github/ppa-nlp/venv/lib/python3.10/site-packages/isal/igzip_threaded.py:137\u001b[0m, in \u001b[0;36m_ThreadedGzipReader.readinto\u001b[0;34m(self, b)\u001b[0m\n\u001b[1;32m    135\u001b[0m \u001b[39mif\u001b[39;00m \u001b[39mnot\u001b[39;00m \u001b[39mself\u001b[39m\u001b[39m.\u001b[39mworker\u001b[39m.\u001b[39mis_alive():\n\u001b[1;32m    136\u001b[0m     \u001b[39mif\u001b[39;00m \u001b[39mself\u001b[39m\u001b[39m.\u001b[39mexception:\n\u001b[0;32m--> 137\u001b[0m         \u001b[39mraise\u001b[39;00m \u001b[39mself\u001b[39m\u001b[39m.\u001b[39mexception\n\u001b[1;32m    138\u001b[0m     \u001b[39m# EOF reached\u001b[39;00m\n\u001b[1;32m    139\u001b[0m     \u001b[39mreturn\u001b[39;00m \u001b[39m0\u001b[39m\n",
      "File \u001b[0;32m~/github/ppa-nlp/venv/lib/python3.10/site-packages/isal/igzip_threaded.py:113\u001b[0m, in \u001b[0;36m_ThreadedGzipReader._decompress\u001b[0;34m(self)\u001b[0m\n\u001b[1;32m    111\u001b[0m \u001b[39mwhile\u001b[39;00m \u001b[39mself\u001b[39m\u001b[39m.\u001b[39mrunning:\n\u001b[1;32m    112\u001b[0m     \u001b[39mtry\u001b[39;00m:\n\u001b[0;32m--> 113\u001b[0m         data \u001b[39m=\u001b[39m \u001b[39mself\u001b[39;49m\u001b[39m.\u001b[39;49mfileobj\u001b[39m.\u001b[39;49mread(block_size)\n\u001b[1;32m    114\u001b[0m     \u001b[39mexcept\u001b[39;00m \u001b[39mException\u001b[39;00m \u001b[39mas\u001b[39;00m e:\n\u001b[1;32m    115\u001b[0m         \u001b[39mself\u001b[39m\u001b[39m.\u001b[39mexception \u001b[39m=\u001b[39m e\n",
      "\u001b[0;31mEOFError\u001b[0m: Compressed file ended before the end-of-stream marker was reached"
     ]
    }
   ],
   "source": [
    "ppa.preproc()"
   ]
  },
  {
   "cell_type": "code",
   "execution_count": null,
   "metadata": {},
   "outputs": [],
   "source": []
  }
 ],
 "metadata": {
  "kernelspec": {
   "display_name": "venv",
   "language": "python",
   "name": "python3"
  },
  "language_info": {
   "codemirror_mode": {
    "name": "ipython",
    "version": 3
   },
   "file_extension": ".py",
   "mimetype": "text/x-python",
   "name": "python",
   "nbconvert_exporter": "python",
   "pygments_lexer": "ipython3",
   "version": "3.10.7"
  }
 },
 "nbformat": 4,
 "nbformat_minor": 2
}
