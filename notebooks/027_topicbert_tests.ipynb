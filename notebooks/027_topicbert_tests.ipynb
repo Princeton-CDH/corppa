{
 "cells": [
  {
   "cell_type": "code",
   "execution_count": 1,
   "metadata": {},
   "outputs": [],
   "source": [
    "import sys;sys.path.append('..')\n",
    "from ppanlp import *    "
   ]
  },
  {
   "cell_type": "code",
   "execution_count": 2,
   "metadata": {},
   "outputs": [
    {
     "name": "stderr",
     "output_type": "stream",
     "text": [
      "\u001b[32m2023-12-04 21:00:43,670\u001b[0m \u001b[34m\u001b[1mstarted booting PPACorpus at /Users/ryanheuser/ppa_data/solrcorpus6\u001b[0m\n",
      "\u001b[32m2023-12-04 21:00:43,671\u001b[0m \u001b[34m\u001b[1m  started reading metadata\u001b[0m\n",
      "\u001b[32m2023-12-04 21:00:43,789\u001b[0m \u001b[34m\u001b[1m  finished reading metadata in 0.12 seconds\u001b[0m\n",
      "\u001b[32m2023-12-04 21:00:43,825\u001b[0m \u001b[34m\u001b[1mfinished booting PPACorpus at /Users/ryanheuser/ppa_data/solrcorpus6 in 0.15 seconds\u001b[0m\n",
      "\u001b[32m2023-12-04 21:00:43,827\u001b[0m \u001b[34m\u001b[1mstarted counting lines in pages.jsonl\u001b[0m\n",
      "\u001b[32m2023-12-04 21:00:44,413\u001b[0m \u001b[34m\u001b[1mfinished counting lines in pages.jsonl in 0.58 seconds\u001b[0m\n",
      "Iterating over pages.jsonl: 100%|██████████| 2160450/2160450 [00:07<00:00, 283041.55it/s]\n"
     ]
    },
    {
     "data": {
      "text/plain": [
       "{'njp.32101076403078'}"
      ]
     },
     "execution_count": 2,
     "metadata": {},
     "output_type": "execute_result"
    }
   ],
   "source": [
    "ppa = PPA('~/ppa_data/solrcorpus6')\n",
    "ppa.index(force=True)"
   ]
  },
  {
   "cell_type": "code",
   "execution_count": null,
   "metadata": {},
   "outputs": [],
   "source": []
  }
 ],
 "metadata": {
  "kernelspec": {
   "display_name": "venv",
   "language": "python",
   "name": "python3"
  },
  "language_info": {
   "codemirror_mode": {
    "name": "ipython",
    "version": 3
   },
   "file_extension": ".py",
   "mimetype": "text/x-python",
   "name": "python",
   "nbconvert_exporter": "python",
   "pygments_lexer": "ipython3",
   "version": "3.10.7"
  }
 },
 "nbformat": 4,
 "nbformat_minor": 2
}
