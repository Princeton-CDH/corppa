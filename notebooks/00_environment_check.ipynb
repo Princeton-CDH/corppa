{
 "cells": [
  {
   "cell_type": "markdown",
   "metadata": {},
   "source": [
    "# 00 – Environment check & setup\n",
    "\n",
    "This quick notebook verifies Python & `corppa` installation and checks that the PPA corpus files are present."
   ]
  },
  {
   "cell_type": "code",
   "execution_count": 1,
   "metadata": {},
   "outputs": [
    {
     "name": "stdout",
     "output_type": "stream",
     "text": [
      "Python: 3.12.10\n"
     ]
    }
   ],
   "source": [
    "import sys, subprocess, pathlib\n",
    "# corppa requires Python 3.12+\n",
    "print(f'Python: {sys.version.split()[0]}')"
   ]
  },
  {
   "cell_type": "code",
   "execution_count": 7,
   "metadata": {},
   "outputs": [
    {
     "name": "stdout",
     "output_type": "stream",
     "text": [
      "corppa version: 0.3.0\n"
     ]
    }
   ],
   "source": [
    "# install/update corppa\n",
    "subprocess.run(['pip','install','-qU','git+https://github.com/Princeton-CDH/corppa.git'])\n",
    "import corppa\n",
    "print(f'corppa version: {corppa.__version__}')"
   ]
  },
  {
   "cell_type": "code",
   "execution_count": 5,
   "metadata": {},
   "outputs": [
    {
     "name": "stdout",
     "output_type": "stream",
     "text": [
      "shared_data/ppa_corpus_2025-02-03_1308/ppa_pages.jsonl.gz\t✅\n",
      "shared_data/ppa_corpus_2025-02-03_1308/ppa_metadata.json\t✅\n",
      "shared_data/ppa_corpus_2025-02-03_1308/ppa_metadata.csv\t✅\n"
     ]
    }
   ],
   "source": [
    "# check for data files\n",
    "DATA_DIR = pathlib.Path('..') / 'shared_data' / 'ppa_corpus_2025-02-03_1308'\n",
    "pages = DATA_DIR / 'ppa_pages.jsonl.gz'\n",
    "meta_json = DATA_DIR / 'ppa_metadata.json'\n",
    "meta_csv = DATA_DIR / 'ppa_metadata.csv'\n",
    "\n",
    "for f in (pages, meta_json, meta_csv):\n",
    "    status = '✅' if f.exists() else '❌ NOT FOUND'\n",
    "    print(f'{f.relative_to(DATA_DIR.parent.parent)}\t{status}')"
   ]
  },
  {
   "cell_type": "markdown",
   "metadata": {},
   "source": [
    "If everything above shows ✅ you're ready to go! Proceed to **01_corpus_overview.ipynb**!"
   ]
  },
  {
   "cell_type": "markdown",
   "metadata": {},
   "source": []
  }
 ],
 "metadata": {
  "kernelspec": {
   "display_name": "corppa",
   "language": "python",
   "name": "python3"
  },
  "language_info": {
   "codemirror_mode": {
    "name": "ipython",
    "version": 3
   },
   "file_extension": ".py",
   "mimetype": "text/x-python",
   "name": "python",
   "nbconvert_exporter": "python",
   "pygments_lexer": "ipython3",
   "version": "3.12.10"
  }
 },
 "nbformat": 4,
 "nbformat_minor": 2
}
