{
 "cells": [
  {
   "cell_type": "markdown",
   "id": "f0f71250-ee1a-4887-af74-0b3818d02891",
   "metadata": {},
   "source": [
    "# Review Excerpt Overlap\n",
    "By Laure Thompson and Rebecca Sutton Koeser\n",
    "\n",
    "(c)2025 Trustees of Princeton University. Permission granted for non-commercial distribution online under the [Apache 2.0 License](https://github.com/Princeton-CDH/corppa/blob/feature/license-headers/LICENSE)."
   ]
  },
  {
   "cell_type": "code",
   "execution_count": 1,
   "id": "c95992e4-de1f-41ce-922e-ddfd0c15a2a7",
   "metadata": {},
   "outputs": [],
   "source": [
    "import pathlib\n",
    "\n",
    "import polars as pl\n",
    "\n",
    "from corppa.config import get_config\n",
    "from corppa.poetry_detection.polars_utils import load_excerpts_df"
   ]
  },
  {
   "cell_type": "code",
   "execution_count": 2,
   "id": "5501e39d-d5d9-497b-9739-ee96d1bb8939",
   "metadata": {},
   "outputs": [
    {
     "name": "stdout",
     "output_type": "stream",
     "text": [
      "Data will be loaded from /Users/lauret/cdh-dev/ppa/ppa-found-poems/data\n"
     ]
    }
   ],
   "source": [
    "# load local configuration options to get path to data\n",
    "config_opts = get_config()\n",
    "\n",
    "data_dir = pathlib.Path(config_opts[\"poem_dataset\"][\"data_dir\"])\n",
    "if not data_dir.exists() or not data_dir.is_dir():\n",
    "    raise ValueError(f\"Data directory {data_dir} not found. \" + \n",
    "                     \"\\nCheck your configuration file, and remember to use an absolute path for the poem dataset data directory.\")\n",
    "else:\n",
    "    print(f\"Data will be loaded from {data_dir}\")\n",
    "\n",
    "# Create a dictionary of data files for lookup based on file base name without any extension\n",
    "# so that excerpts data can be .csv or compressed .csv.gz \n",
    "data_paths = {data_file.stem.split('.', 1)[0]: data_file for data_file in data_dir.iterdir()}"
   ]
  },
  {
   "cell_type": "code",
   "execution_count": 3,
   "id": "e0c3e9b4-49ef-4085-bbb1-4971872dcc70",
   "metadata": {},
   "outputs": [
    {
     "name": "stdout",
     "output_type": "stream",
     "text": [
      "CPU times: user 3.04 s, sys: 225 ms, total: 3.27 s\n",
      "Wall time: 3.17 s\n"
     ]
    }
   ],
   "source": [
    "%%time\n",
    "# load the excerpts into a polars dataframe\n",
    "\n",
    "excerpts_df = load_excerpts_df(data_paths[\"excerpts\"]).lazy()"
   ]
  },
  {
   "cell_type": "markdown",
   "id": "a94a8c55-4dc2-41bb-93e5-9b5d1a4de796",
   "metadata": {},
   "source": [
    "## Gather some basic stastics"
   ]
  },
  {
   "cell_type": "code",
   "execution_count": 4,
   "id": "a2629dfc-0f36-4cd3-b20b-b99febd89fc4",
   "metadata": {},
   "outputs": [
    {
     "data": {
      "text/html": [
       "<div><style>\n",
       ".dataframe > thead > tr,\n",
       ".dataframe > tbody > tr {\n",
       "  text-align: right;\n",
       "  white-space: pre-wrap;\n",
       "}\n",
       "</style>\n",
       "<small>shape: (955_570, 9)</small><table border=\"1\" class=\"dataframe\"><thead><tr><th>page_id</th><th>excerpt_id</th><th>poem_id</th><th>ppa_span_start</th><th>ppa_span_end</th><th>n_excerpts</th><th>n_poems</th><th>excerpt_id_right</th><th>poem_id_right</th></tr><tr><td>str</td><td>str</td><td>str</td><td>i64</td><td>i64</td><td>u32</td><td>u32</td><td>list[str]</td><td>list[str]</td></tr></thead><tbody><tr><td>&quot;A01224.100&quot;</td><td>&quot;p@173:747&quot;</td><td>&quot;Virgil_Aeneid&quot;</td><td>173</td><td>747</td><td>2</td><td>2</td><td>[&quot;p@179:556&quot;, &quot;p@179:533&quot;]</td><td>[&quot;Z300534278&quot;, &quot;Z200263304&quot;]</td></tr><tr><td>&quot;A01224.100&quot;</td><td>&quot;p@179:533&quot;</td><td>&quot;Z200263304&quot;</td><td>179</td><td>533</td><td>2</td><td>2</td><td>[&quot;p@173:747&quot;, &quot;p@179:556&quot;]</td><td>[&quot;Virgil_Aeneid&quot;, &quot;Z300534278&quot;]</td></tr><tr><td>&quot;A01224.100&quot;</td><td>&quot;p@179:556&quot;</td><td>&quot;Z300534278&quot;</td><td>179</td><td>556</td><td>2</td><td>2</td><td>[&quot;p@173:747&quot;, &quot;p@179:533&quot;]</td><td>[&quot;Virgil_Aeneid&quot;, &quot;Z200263304&quot;]</td></tr><tr><td>&quot;A01224.101&quot;</td><td>&quot;p@707:1188&quot;</td><td>&quot;Z300486026&quot;</td><td>707</td><td>1188</td><td>2</td><td>2</td><td>[&quot;p@707:1188&quot;, &quot;p@707:1188&quot;]</td><td>[&quot;Z200438244&quot;, &quot;Z400485836&quot;]</td></tr><tr><td>&quot;A01224.101&quot;</td><td>&quot;p@707:1188&quot;</td><td>&quot;Z200438244&quot;</td><td>707</td><td>1188</td><td>2</td><td>2</td><td>[&quot;p@707:1188&quot;, &quot;p@707:1188&quot;]</td><td>[&quot;Z400485836&quot;, &quot;Z300486026&quot;]</td></tr><tr><td>&hellip;</td><td>&hellip;</td><td>&hellip;</td><td>&hellip;</td><td>&hellip;</td><td>&hellip;</td><td>&hellip;</td><td>&hellip;</td><td>&hellip;</td></tr><tr><td>&quot;yale.39002032008188.00000292&quot;</td><td>&quot;p@2215:2260&quot;</td><td>&quot;Z200409938&quot;</td><td>2215</td><td>2260</td><td>1</td><td>1</td><td>[&quot;p@2151:2258&quot;]</td><td>[&quot;William-Shakespeare_As-You-Like-It&quot;]</td></tr><tr><td>&quot;yale.39002088447587.00000050&quot;</td><td>&quot;p@330:806&quot;</td><td>&quot;Z200177398&quot;</td><td>330</td><td>806</td><td>3</td><td>3</td><td>[&quot;p@628:777&quot;, &quot;p@665:702&quot;, &quot;p@627:723&quot;]</td><td>[&quot;Z300380365&quot;, &quot;Z200475115&quot;, &quot;Z200449615&quot;]</td></tr><tr><td>&quot;yale.39002088447587.00000050&quot;</td><td>&quot;p@627:723&quot;</td><td>&quot;Z200449615&quot;</td><td>627</td><td>723</td><td>3</td><td>3</td><td>[&quot;p@628:777&quot;, &quot;p@665:702&quot;, &quot;p@330:806&quot;]</td><td>[&quot;Z300380365&quot;, &quot;Z200475115&quot;, &quot;Z200177398&quot;]</td></tr><tr><td>&quot;yale.39002088447587.00000050&quot;</td><td>&quot;p@628:777&quot;</td><td>&quot;Z300380365&quot;</td><td>628</td><td>777</td><td>3</td><td>3</td><td>[&quot;p@665:702&quot;, &quot;p@627:723&quot;, &quot;p@330:806&quot;]</td><td>[&quot;Z200475115&quot;, &quot;Z200449615&quot;, &quot;Z200177398&quot;]</td></tr><tr><td>&quot;yale.39002088447587.00000050&quot;</td><td>&quot;p@665:702&quot;</td><td>&quot;Z200475115&quot;</td><td>665</td><td>702</td><td>3</td><td>3</td><td>[&quot;p@628:777&quot;, &quot;p@627:723&quot;, &quot;p@330:806&quot;]</td><td>[&quot;Z300380365&quot;, &quot;Z200449615&quot;, &quot;Z200177398&quot;]</td></tr></tbody></table></div>"
      ],
      "text/plain": [
       "shape: (955_570, 9)\n",
       "┌────────────┬───────────┬───────────┬───────────┬───┬───────────┬─────────┬───────────┬───────────┐\n",
       "│ page_id    ┆ excerpt_i ┆ poem_id   ┆ ppa_span_ ┆ … ┆ n_excerpt ┆ n_poems ┆ excerpt_i ┆ poem_id_r │\n",
       "│ ---        ┆ d         ┆ ---       ┆ start     ┆   ┆ s         ┆ ---     ┆ d_right   ┆ ight      │\n",
       "│ str        ┆ ---       ┆ str       ┆ ---       ┆   ┆ ---       ┆ u32     ┆ ---       ┆ ---       │\n",
       "│            ┆ str       ┆           ┆ i64       ┆   ┆ u32       ┆         ┆ list[str] ┆ list[str] │\n",
       "╞════════════╪═══════════╪═══════════╪═══════════╪═══╪═══════════╪═════════╪═══════════╪═══════════╡\n",
       "│ A01224.100 ┆ p@173:747 ┆ Virgil_Ae ┆ 173       ┆ … ┆ 2         ┆ 2       ┆ [\"p@179:5 ┆ [\"Z300534 │\n",
       "│            ┆           ┆ neid      ┆           ┆   ┆           ┆         ┆ 56\", \"p@1 ┆ 278\", \"Z2 │\n",
       "│            ┆           ┆           ┆           ┆   ┆           ┆         ┆ 79:533\"]  ┆ 00263304\" │\n",
       "│            ┆           ┆           ┆           ┆   ┆           ┆         ┆           ┆ ]         │\n",
       "│ A01224.100 ┆ p@179:533 ┆ Z20026330 ┆ 179       ┆ … ┆ 2         ┆ 2       ┆ [\"p@173:7 ┆ [\"Virgil_ │\n",
       "│            ┆           ┆ 4         ┆           ┆   ┆           ┆         ┆ 47\", \"p@1 ┆ Aeneid\",  │\n",
       "│            ┆           ┆           ┆           ┆   ┆           ┆         ┆ 79:556\"]  ┆ \"Z3005342 │\n",
       "│            ┆           ┆           ┆           ┆   ┆           ┆         ┆           ┆ 78\"…      │\n",
       "│ A01224.100 ┆ p@179:556 ┆ Z30053427 ┆ 179       ┆ … ┆ 2         ┆ 2       ┆ [\"p@173:7 ┆ [\"Virgil_ │\n",
       "│            ┆           ┆ 8         ┆           ┆   ┆           ┆         ┆ 47\", \"p@1 ┆ Aeneid\",  │\n",
       "│            ┆           ┆           ┆           ┆   ┆           ┆         ┆ 79:533\"]  ┆ \"Z2002633 │\n",
       "│            ┆           ┆           ┆           ┆   ┆           ┆         ┆           ┆ 04\"…      │\n",
       "│ A01224.101 ┆ p@707:118 ┆ Z30048602 ┆ 707       ┆ … ┆ 2         ┆ 2       ┆ [\"p@707:1 ┆ [\"Z200438 │\n",
       "│            ┆ 8         ┆ 6         ┆           ┆   ┆           ┆         ┆ 188\", \"p@ ┆ 244\", \"Z4 │\n",
       "│            ┆           ┆           ┆           ┆   ┆           ┆         ┆ 707:1188\" ┆ 00485836\" │\n",
       "│            ┆           ┆           ┆           ┆   ┆           ┆         ┆ ]         ┆ ]         │\n",
       "│ A01224.101 ┆ p@707:118 ┆ Z20043824 ┆ 707       ┆ … ┆ 2         ┆ 2       ┆ [\"p@707:1 ┆ [\"Z400485 │\n",
       "│            ┆ 8         ┆ 4         ┆           ┆   ┆           ┆         ┆ 188\", \"p@ ┆ 836\", \"Z3 │\n",
       "│            ┆           ┆           ┆           ┆   ┆           ┆         ┆ 707:1188\" ┆ 00486026\" │\n",
       "│            ┆           ┆           ┆           ┆   ┆           ┆         ┆ ]         ┆ ]         │\n",
       "│ …          ┆ …         ┆ …         ┆ …         ┆ … ┆ …         ┆ …       ┆ …         ┆ …         │\n",
       "│ yale.39002 ┆ p@2215:22 ┆ Z20040993 ┆ 2215      ┆ … ┆ 1         ┆ 1       ┆ [\"p@2151: ┆ [\"William │\n",
       "│ 032008188. ┆ 60        ┆ 8         ┆           ┆   ┆           ┆         ┆ 2258\"]    ┆ -Shakespe │\n",
       "│ 00000292   ┆           ┆           ┆           ┆   ┆           ┆         ┆           ┆ are_As-Yo │\n",
       "│            ┆           ┆           ┆           ┆   ┆           ┆         ┆           ┆ u-L…      │\n",
       "│ yale.39002 ┆ p@330:806 ┆ Z20017739 ┆ 330       ┆ … ┆ 3         ┆ 3       ┆ [\"p@628:7 ┆ [\"Z300380 │\n",
       "│ 088447587. ┆           ┆ 8         ┆           ┆   ┆           ┆         ┆ 77\", \"p@6 ┆ 365\", \"Z2 │\n",
       "│ 00000050   ┆           ┆           ┆           ┆   ┆           ┆         ┆ 65:702\",  ┆ 00475115\" │\n",
       "│            ┆           ┆           ┆           ┆   ┆           ┆         ┆ \"p@…      ┆ , \"…      │\n",
       "│ yale.39002 ┆ p@627:723 ┆ Z20044961 ┆ 627       ┆ … ┆ 3         ┆ 3       ┆ [\"p@628:7 ┆ [\"Z300380 │\n",
       "│ 088447587. ┆           ┆ 5         ┆           ┆   ┆           ┆         ┆ 77\", \"p@6 ┆ 365\", \"Z2 │\n",
       "│ 00000050   ┆           ┆           ┆           ┆   ┆           ┆         ┆ 65:702\",  ┆ 00475115\" │\n",
       "│            ┆           ┆           ┆           ┆   ┆           ┆         ┆ \"p@…      ┆ , \"…      │\n",
       "│ yale.39002 ┆ p@628:777 ┆ Z30038036 ┆ 628       ┆ … ┆ 3         ┆ 3       ┆ [\"p@665:7 ┆ [\"Z200475 │\n",
       "│ 088447587. ┆           ┆ 5         ┆           ┆   ┆           ┆         ┆ 02\", \"p@6 ┆ 115\", \"Z2 │\n",
       "│ 00000050   ┆           ┆           ┆           ┆   ┆           ┆         ┆ 27:723\",  ┆ 00449615\" │\n",
       "│            ┆           ┆           ┆           ┆   ┆           ┆         ┆ \"p@…      ┆ , \"…      │\n",
       "│ yale.39002 ┆ p@665:702 ┆ Z20047511 ┆ 665       ┆ … ┆ 3         ┆ 3       ┆ [\"p@628:7 ┆ [\"Z300380 │\n",
       "│ 088447587. ┆           ┆ 5         ┆           ┆   ┆           ┆         ┆ 77\", \"p@6 ┆ 365\", \"Z2 │\n",
       "│ 00000050   ┆           ┆           ┆           ┆   ┆           ┆         ┆ 27:723\",  ┆ 00449615\" │\n",
       "│            ┆           ┆           ┆           ┆   ┆           ┆         ┆ \"p@…      ┆ , \"…      │\n",
       "└────────────┴───────────┴───────────┴───────────┴───┴───────────┴─────────┴───────────┴───────────┘"
      ]
     },
     "execution_count": 4,
     "metadata": {},
     "output_type": "execute_result"
    }
   ],
   "source": [
    "# Gather excerpt-level overlap sets\n",
    "overlaps = (\n",
    "    excerpts_df\n",
    "    # Filter to excerpts in pages with mulitple excerpts\n",
    "    .filter(pl.col(\"page_id\").is_duplicated())\n",
    "    .join_where(\n",
    "        excerpts_df,\n",
    "        # (1) Excerpts have same page ID\n",
    "        pl.col(\"page_id\") == pl.col(\"page_id_right\"),\n",
    "        # (2) Excerpts overlap\n",
    "        ## Left's start index < Right's end index\n",
    "        pl.col(\"ppa_span_start\") < pl.col(\"ppa_span_end_right\"),\n",
    "        ## Right's start index < Left's end index\n",
    "        pl.col(\"ppa_span_start_right\") < pl.col(\"ppa_span_end\"),\n",
    "        ## Distinct excerpts (excludes self-matches)\n",
    "        (pl.col(\"excerpt_id\") != pl.col(\"excerpt_id_right\")) |\n",
    "         (pl.col(\"poem_id\") != pl.col(\"poem_id_right\")),\n",
    "    )\n",
    "    # Group by excerpt\n",
    "    .group_by(\"page_id\", \"excerpt_id\", \"poem_id\")\n",
    "    .agg(\n",
    "        # Aggregate-useful excerpt info\n",
    "        pl.col(\"ppa_span_start\").first(),\n",
    "        pl.col(\"ppa_span_end\").first(),\n",
    "        # pl.col(\"poem_title\").first(),\n",
    "        # pl.col(\"poem_author\").first(),\n",
    "        # Overlapping excerpt info\n",
    "        pl.len().alias(\"n_excerpts\"),\n",
    "        pl.col(\"poem_id_right\").n_unique().alias(\"n_poems\"),\n",
    "        pl.col(\"excerpt_id_right\"),\n",
    "        pl.col(\"poem_id_right\"),\n",
    "        # pl.col(\"poem_title_right\")\n",
    "    )\n",
    "    .collect()\n",
    "    # Sort by page and span indices\n",
    "    .sort(\"page_id\", \"ppa_span_start\", \"ppa_span_end\")\n",
    ")\n",
    "\n",
    "overlaps"
   ]
  },
  {
   "cell_type": "code",
   "execution_count": 5,
   "id": "7957e157-39d5-4a13-97f9-454e5e372daa",
   "metadata": {},
   "outputs": [
    {
     "name": "stdout",
     "output_type": "stream",
     "text": [
      "Total Excerpts: 1,478,114\n",
      "\n",
      "Excerpts with Overlap: 955,570(64.6%)\n",
      "............same poem: 123,257(8.3)%)\n",
      ".......different poem: 892,944(60.4)%)\n"
     ]
    }
   ],
   "source": [
    "# Total count\n",
    "n_excerpts = excerpts_df.collect().height\n",
    "\n",
    "# Excerpts that overlap with an excerpt with the same poem ID\n",
    "same_poem_count = overlaps.filter(pl.col(\"poem_id\").is_in(pl.col(\"poem_id_right\"))).height\n",
    "\n",
    "# Excerpts that overlap with an excerpt with a different poem ID\n",
    "diff_poem_count = overlaps.filter(\n",
    "    # Does not contain poem_id\n",
    "    (~pl.col(\"poem_id\").is_in(pl.col(\"poem_id_right\"))) |\n",
    "    # Or, contains more than one poem_id\n",
    "    (pl.col(\"n_poems\") > 1)\n",
    ").height\n",
    "\n",
    "\n",
    "print(f\"Total Excerpts: {n_excerpts:,}\\n\")\n",
    "print(f\"Excerpts with Overlap: {overlaps.height:,}({overlaps.height/n_excerpts*100:.1f}%)\")\n",
    "print(f\"............same poem: {same_poem_count:,}({same_poem_count/n_excerpts*100:.1f})%)\")\n",
    "print(f\".......different poem: {diff_poem_count:,}({diff_poem_count/n_excerpts*100:.1f})%)\")"
   ]
  },
  {
   "cell_type": "markdown",
   "id": "7e4f8d1f-72bf-4a05-9452-846a614a4c14",
   "metadata": {},
   "source": [
    "## Filtering"
   ]
  },
  {
   "cell_type": "code",
   "execution_count": 6,
   "id": "754ed1f5-9426-41df-9fdb-75e0b34cf691",
   "metadata": {},
   "outputs": [
    {
     "data": {
      "text/html": [
       "<div><style>\n",
       ".dataframe > thead > tr,\n",
       ".dataframe > tbody > tr {\n",
       "  text-align: right;\n",
       "  white-space: pre-wrap;\n",
       "}\n",
       "</style>\n",
       "<small>shape: (123_257, 9)</small><table border=\"1\" class=\"dataframe\"><thead><tr><th>page_id</th><th>excerpt_id</th><th>poem_id</th><th>ppa_span_start</th><th>ppa_span_end</th><th>n_excerpts</th><th>n_poems</th><th>excerpt_id_right</th><th>poem_id_right</th></tr><tr><td>str</td><td>str</td><td>str</td><td>i64</td><td>i64</td><td>u32</td><td>u32</td><td>list[str]</td><td>list[str]</td></tr></thead><tbody><tr><td>&quot;A01224.12&quot;</td><td>&quot;p@730:885&quot;</td><td>&quot;Virgil_Aeneid&quot;</td><td>730</td><td>885</td><td>1</td><td>1</td><td>[&quot;p@879:962&quot;]</td><td>[&quot;Virgil_Aeneid&quot;]</td></tr><tr><td>&quot;A01224.12&quot;</td><td>&quot;p@879:962&quot;</td><td>&quot;Virgil_Aeneid&quot;</td><td>879</td><td>962</td><td>1</td><td>1</td><td>[&quot;p@730:885&quot;]</td><td>[&quot;Virgil_Aeneid&quot;]</td></tr><tr><td>&quot;A01224.144&quot;</td><td>&quot;p@904:967&quot;</td><td>&quot;Virgil_Aeneid&quot;</td><td>904</td><td>967</td><td>1</td><td>1</td><td>[&quot;p@959:1058&quot;]</td><td>[&quot;Virgil_Aeneid&quot;]</td></tr><tr><td>&quot;A01224.144&quot;</td><td>&quot;p@959:1058&quot;</td><td>&quot;Virgil_Aeneid&quot;</td><td>959</td><td>1058</td><td>1</td><td>1</td><td>[&quot;p@904:967&quot;]</td><td>[&quot;Virgil_Aeneid&quot;]</td></tr><tr><td>&quot;A01224.155&quot;</td><td>&quot;p@318:417&quot;</td><td>&quot;Virgil_Aeneid&quot;</td><td>318</td><td>417</td><td>1</td><td>1</td><td>[&quot;p@415:499&quot;]</td><td>[&quot;Virgil_Aeneid&quot;]</td></tr><tr><td>&hellip;</td><td>&hellip;</td><td>&hellip;</td><td>&hellip;</td><td>&hellip;</td><td>&hellip;</td><td>&hellip;</td><td>&hellip;</td><td>&hellip;</td></tr><tr><td>&quot;yale.39002032008188.00000036&quot;</td><td>&quot;p@598:1066&quot;</td><td>&quot;King-James-Bible_Psalms&quot;</td><td>598</td><td>1066</td><td>1</td><td>1</td><td>[&quot;p@1034:1319&quot;]</td><td>[&quot;King-James-Bible_Psalms&quot;]</td></tr><tr><td>&quot;yale.39002032008188.00000036&quot;</td><td>&quot;p@1034:1319&quot;</td><td>&quot;King-James-Bible_Psalms&quot;</td><td>1034</td><td>1319</td><td>1</td><td>1</td><td>[&quot;p@598:1066&quot;]</td><td>[&quot;King-James-Bible_Psalms&quot;]</td></tr><tr><td>&quot;yale.39002032008188.00000290&quot;</td><td>&quot;p@28:257&quot;</td><td>&quot;King-James-Bible_Psalms&quot;</td><td>28</td><td>257</td><td>1</td><td>1</td><td>[&quot;p@255:587&quot;]</td><td>[&quot;King-James-Bible_Psalms&quot;]</td></tr><tr><td>&quot;yale.39002032008188.00000290&quot;</td><td>&quot;p@255:587&quot;</td><td>&quot;King-James-Bible_Psalms&quot;</td><td>255</td><td>587</td><td>2</td><td>1</td><td>[&quot;p@28:257&quot;, &quot;p@583:906&quot;]</td><td>[&quot;King-James-Bible_Psalms&quot;, &quot;King-James-Bible_Psalms&quot;]</td></tr><tr><td>&quot;yale.39002032008188.00000290&quot;</td><td>&quot;p@583:906&quot;</td><td>&quot;King-James-Bible_Psalms&quot;</td><td>583</td><td>906</td><td>1</td><td>1</td><td>[&quot;p@255:587&quot;]</td><td>[&quot;King-James-Bible_Psalms&quot;]</td></tr></tbody></table></div>"
      ],
      "text/plain": [
       "shape: (123_257, 9)\n",
       "┌────────────┬───────────┬───────────┬───────────┬───┬───────────┬─────────┬───────────┬───────────┐\n",
       "│ page_id    ┆ excerpt_i ┆ poem_id   ┆ ppa_span_ ┆ … ┆ n_excerpt ┆ n_poems ┆ excerpt_i ┆ poem_id_r │\n",
       "│ ---        ┆ d         ┆ ---       ┆ start     ┆   ┆ s         ┆ ---     ┆ d_right   ┆ ight      │\n",
       "│ str        ┆ ---       ┆ str       ┆ ---       ┆   ┆ ---       ┆ u32     ┆ ---       ┆ ---       │\n",
       "│            ┆ str       ┆           ┆ i64       ┆   ┆ u32       ┆         ┆ list[str] ┆ list[str] │\n",
       "╞════════════╪═══════════╪═══════════╪═══════════╪═══╪═══════════╪═════════╪═══════════╪═══════════╡\n",
       "│ A01224.12  ┆ p@730:885 ┆ Virgil_Ae ┆ 730       ┆ … ┆ 1         ┆ 1       ┆ [\"p@879:9 ┆ [\"Virgil_ │\n",
       "│            ┆           ┆ neid      ┆           ┆   ┆           ┆         ┆ 62\"]      ┆ Aeneid\"]  │\n",
       "│ A01224.12  ┆ p@879:962 ┆ Virgil_Ae ┆ 879       ┆ … ┆ 1         ┆ 1       ┆ [\"p@730:8 ┆ [\"Virgil_ │\n",
       "│            ┆           ┆ neid      ┆           ┆   ┆           ┆         ┆ 85\"]      ┆ Aeneid\"]  │\n",
       "│ A01224.144 ┆ p@904:967 ┆ Virgil_Ae ┆ 904       ┆ … ┆ 1         ┆ 1       ┆ [\"p@959:1 ┆ [\"Virgil_ │\n",
       "│            ┆           ┆ neid      ┆           ┆   ┆           ┆         ┆ 058\"]     ┆ Aeneid\"]  │\n",
       "│ A01224.144 ┆ p@959:105 ┆ Virgil_Ae ┆ 959       ┆ … ┆ 1         ┆ 1       ┆ [\"p@904:9 ┆ [\"Virgil_ │\n",
       "│            ┆ 8         ┆ neid      ┆           ┆   ┆           ┆         ┆ 67\"]      ┆ Aeneid\"]  │\n",
       "│ A01224.155 ┆ p@318:417 ┆ Virgil_Ae ┆ 318       ┆ … ┆ 1         ┆ 1       ┆ [\"p@415:4 ┆ [\"Virgil_ │\n",
       "│            ┆           ┆ neid      ┆           ┆   ┆           ┆         ┆ 99\"]      ┆ Aeneid\"]  │\n",
       "│ …          ┆ …         ┆ …         ┆ …         ┆ … ┆ …         ┆ …       ┆ …         ┆ …         │\n",
       "│ yale.39002 ┆ p@598:106 ┆ King-Jame ┆ 598       ┆ … ┆ 1         ┆ 1       ┆ [\"p@1034: ┆ [\"King-Ja │\n",
       "│ 032008188. ┆ 6         ┆ s-Bible_P ┆           ┆   ┆           ┆         ┆ 1319\"]    ┆ mes-Bible │\n",
       "│ 00000036   ┆           ┆ salms     ┆           ┆   ┆           ┆         ┆           ┆ _Psalms\"] │\n",
       "│ yale.39002 ┆ p@1034:13 ┆ King-Jame ┆ 1034      ┆ … ┆ 1         ┆ 1       ┆ [\"p@598:1 ┆ [\"King-Ja │\n",
       "│ 032008188. ┆ 19        ┆ s-Bible_P ┆           ┆   ┆           ┆         ┆ 066\"]     ┆ mes-Bible │\n",
       "│ 00000036   ┆           ┆ salms     ┆           ┆   ┆           ┆         ┆           ┆ _Psalms\"] │\n",
       "│ yale.39002 ┆ p@28:257  ┆ King-Jame ┆ 28        ┆ … ┆ 1         ┆ 1       ┆ [\"p@255:5 ┆ [\"King-Ja │\n",
       "│ 032008188. ┆           ┆ s-Bible_P ┆           ┆   ┆           ┆         ┆ 87\"]      ┆ mes-Bible │\n",
       "│ 00000290   ┆           ┆ salms     ┆           ┆   ┆           ┆         ┆           ┆ _Psalms\"] │\n",
       "│ yale.39002 ┆ p@255:587 ┆ King-Jame ┆ 255       ┆ … ┆ 2         ┆ 1       ┆ [\"p@28:25 ┆ [\"King-Ja │\n",
       "│ 032008188. ┆           ┆ s-Bible_P ┆           ┆   ┆           ┆         ┆ 7\", \"p@58 ┆ mes-Bible │\n",
       "│ 00000290   ┆           ┆ salms     ┆           ┆   ┆           ┆         ┆ 3:906\"]   ┆ _Psalms\", │\n",
       "│            ┆           ┆           ┆           ┆   ┆           ┆         ┆           ┆ \"K…       │\n",
       "│ yale.39002 ┆ p@583:906 ┆ King-Jame ┆ 583       ┆ … ┆ 1         ┆ 1       ┆ [\"p@255:5 ┆ [\"King-Ja │\n",
       "│ 032008188. ┆           ┆ s-Bible_P ┆           ┆   ┆           ┆         ┆ 87\"]      ┆ mes-Bible │\n",
       "│ 00000290   ┆           ┆ salms     ┆           ┆   ┆           ┆         ┆           ┆ _Psalms\"] │\n",
       "└────────────┴───────────┴───────────┴───────────┴───┴───────────┴─────────┴───────────┴───────────┘"
      ]
     },
     "execution_count": 6,
     "metadata": {},
     "output_type": "execute_result"
    }
   ],
   "source": [
    "# Filter to excerpts that have an overlap with an excerpt of the same poem ID\n",
    "overlaps.filter(pl.col(\"poem_id\").is_in(pl.col(\"poem_id_right\")))"
   ]
  },
  {
   "cell_type": "code",
   "execution_count": 7,
   "id": "fe5af99c-4e39-4500-a11f-676ce2c17f8b",
   "metadata": {},
   "outputs": [
    {
     "data": {
      "text/html": [
       "<div><style>\n",
       ".dataframe > thead > tr,\n",
       ".dataframe > tbody > tr {\n",
       "  text-align: right;\n",
       "  white-space: pre-wrap;\n",
       "}\n",
       "</style>\n",
       "<small>shape: (533_065, 9)</small><table border=\"1\" class=\"dataframe\"><thead><tr><th>page_id</th><th>excerpt_id</th><th>poem_id</th><th>ppa_span_start</th><th>ppa_span_end</th><th>n_excerpts</th><th>n_poems</th><th>excerpt_id_right</th><th>poem_id_right</th></tr><tr><td>str</td><td>str</td><td>str</td><td>i64</td><td>i64</td><td>u32</td><td>u32</td><td>list[str]</td><td>list[str]</td></tr></thead><tbody><tr><td>&quot;A01224.100&quot;</td><td>&quot;p@173:747&quot;</td><td>&quot;Virgil_Aeneid&quot;</td><td>173</td><td>747</td><td>2</td><td>2</td><td>[&quot;p@179:556&quot;, &quot;p@179:533&quot;]</td><td>[&quot;Z300534278&quot;, &quot;Z200263304&quot;]</td></tr><tr><td>&quot;A01224.100&quot;</td><td>&quot;p@179:533&quot;</td><td>&quot;Z200263304&quot;</td><td>179</td><td>533</td><td>2</td><td>2</td><td>[&quot;p@173:747&quot;, &quot;p@179:556&quot;]</td><td>[&quot;Virgil_Aeneid&quot;, &quot;Z300534278&quot;]</td></tr><tr><td>&quot;A01224.100&quot;</td><td>&quot;p@179:556&quot;</td><td>&quot;Z300534278&quot;</td><td>179</td><td>556</td><td>2</td><td>2</td><td>[&quot;p@173:747&quot;, &quot;p@179:533&quot;]</td><td>[&quot;Virgil_Aeneid&quot;, &quot;Z200263304&quot;]</td></tr><tr><td>&quot;A01224.101&quot;</td><td>&quot;p@707:1188&quot;</td><td>&quot;Z300486026&quot;</td><td>707</td><td>1188</td><td>2</td><td>2</td><td>[&quot;p@707:1188&quot;, &quot;p@707:1188&quot;]</td><td>[&quot;Z200438244&quot;, &quot;Z400485836&quot;]</td></tr><tr><td>&quot;A01224.101&quot;</td><td>&quot;p@707:1188&quot;</td><td>&quot;Z200438244&quot;</td><td>707</td><td>1188</td><td>2</td><td>2</td><td>[&quot;p@707:1188&quot;, &quot;p@707:1188&quot;]</td><td>[&quot;Z400485836&quot;, &quot;Z300486026&quot;]</td></tr><tr><td>&hellip;</td><td>&hellip;</td><td>&hellip;</td><td>&hellip;</td><td>&hellip;</td><td>&hellip;</td><td>&hellip;</td><td>&hellip;</td><td>&hellip;</td></tr><tr><td>&quot;yale.39002032008188.00000289&quot;</td><td>&quot;p@143:377&quot;</td><td>&quot;Z300526946&quot;</td><td>143</td><td>377</td><td>3</td><td>3</td><td>[&quot;p@129:413&quot;, &quot;p@51:620&quot;, &quot;p@51:643&quot;]</td><td>[&quot;Z300522344&quot;, &quot;Z200478688&quot;, &quot;King-James-Bible_Psalms&quot;]</td></tr><tr><td>&quot;yale.39002088447587.00000050&quot;</td><td>&quot;p@330:806&quot;</td><td>&quot;Z200177398&quot;</td><td>330</td><td>806</td><td>3</td><td>3</td><td>[&quot;p@628:777&quot;, &quot;p@665:702&quot;, &quot;p@627:723&quot;]</td><td>[&quot;Z300380365&quot;, &quot;Z200475115&quot;, &quot;Z200449615&quot;]</td></tr><tr><td>&quot;yale.39002088447587.00000050&quot;</td><td>&quot;p@627:723&quot;</td><td>&quot;Z200449615&quot;</td><td>627</td><td>723</td><td>3</td><td>3</td><td>[&quot;p@628:777&quot;, &quot;p@665:702&quot;, &quot;p@330:806&quot;]</td><td>[&quot;Z300380365&quot;, &quot;Z200475115&quot;, &quot;Z200177398&quot;]</td></tr><tr><td>&quot;yale.39002088447587.00000050&quot;</td><td>&quot;p@628:777&quot;</td><td>&quot;Z300380365&quot;</td><td>628</td><td>777</td><td>3</td><td>3</td><td>[&quot;p@665:702&quot;, &quot;p@627:723&quot;, &quot;p@330:806&quot;]</td><td>[&quot;Z200475115&quot;, &quot;Z200449615&quot;, &quot;Z200177398&quot;]</td></tr><tr><td>&quot;yale.39002088447587.00000050&quot;</td><td>&quot;p@665:702&quot;</td><td>&quot;Z200475115&quot;</td><td>665</td><td>702</td><td>3</td><td>3</td><td>[&quot;p@628:777&quot;, &quot;p@627:723&quot;, &quot;p@330:806&quot;]</td><td>[&quot;Z300380365&quot;, &quot;Z200449615&quot;, &quot;Z200177398&quot;]</td></tr></tbody></table></div>"
      ],
      "text/plain": [
       "shape: (533_065, 9)\n",
       "┌────────────┬───────────┬───────────┬───────────┬───┬───────────┬─────────┬───────────┬───────────┐\n",
       "│ page_id    ┆ excerpt_i ┆ poem_id   ┆ ppa_span_ ┆ … ┆ n_excerpt ┆ n_poems ┆ excerpt_i ┆ poem_id_r │\n",
       "│ ---        ┆ d         ┆ ---       ┆ start     ┆   ┆ s         ┆ ---     ┆ d_right   ┆ ight      │\n",
       "│ str        ┆ ---       ┆ str       ┆ ---       ┆   ┆ ---       ┆ u32     ┆ ---       ┆ ---       │\n",
       "│            ┆ str       ┆           ┆ i64       ┆   ┆ u32       ┆         ┆ list[str] ┆ list[str] │\n",
       "╞════════════╪═══════════╪═══════════╪═══════════╪═══╪═══════════╪═════════╪═══════════╪═══════════╡\n",
       "│ A01224.100 ┆ p@173:747 ┆ Virgil_Ae ┆ 173       ┆ … ┆ 2         ┆ 2       ┆ [\"p@179:5 ┆ [\"Z300534 │\n",
       "│            ┆           ┆ neid      ┆           ┆   ┆           ┆         ┆ 56\", \"p@1 ┆ 278\", \"Z2 │\n",
       "│            ┆           ┆           ┆           ┆   ┆           ┆         ┆ 79:533\"]  ┆ 00263304\" │\n",
       "│            ┆           ┆           ┆           ┆   ┆           ┆         ┆           ┆ ]         │\n",
       "│ A01224.100 ┆ p@179:533 ┆ Z20026330 ┆ 179       ┆ … ┆ 2         ┆ 2       ┆ [\"p@173:7 ┆ [\"Virgil_ │\n",
       "│            ┆           ┆ 4         ┆           ┆   ┆           ┆         ┆ 47\", \"p@1 ┆ Aeneid\",  │\n",
       "│            ┆           ┆           ┆           ┆   ┆           ┆         ┆ 79:556\"]  ┆ \"Z3005342 │\n",
       "│            ┆           ┆           ┆           ┆   ┆           ┆         ┆           ┆ 78\"…      │\n",
       "│ A01224.100 ┆ p@179:556 ┆ Z30053427 ┆ 179       ┆ … ┆ 2         ┆ 2       ┆ [\"p@173:7 ┆ [\"Virgil_ │\n",
       "│            ┆           ┆ 8         ┆           ┆   ┆           ┆         ┆ 47\", \"p@1 ┆ Aeneid\",  │\n",
       "│            ┆           ┆           ┆           ┆   ┆           ┆         ┆ 79:533\"]  ┆ \"Z2002633 │\n",
       "│            ┆           ┆           ┆           ┆   ┆           ┆         ┆           ┆ 04\"…      │\n",
       "│ A01224.101 ┆ p@707:118 ┆ Z30048602 ┆ 707       ┆ … ┆ 2         ┆ 2       ┆ [\"p@707:1 ┆ [\"Z200438 │\n",
       "│            ┆ 8         ┆ 6         ┆           ┆   ┆           ┆         ┆ 188\", \"p@ ┆ 244\", \"Z4 │\n",
       "│            ┆           ┆           ┆           ┆   ┆           ┆         ┆ 707:1188\" ┆ 00485836\" │\n",
       "│            ┆           ┆           ┆           ┆   ┆           ┆         ┆ ]         ┆ ]         │\n",
       "│ A01224.101 ┆ p@707:118 ┆ Z20043824 ┆ 707       ┆ … ┆ 2         ┆ 2       ┆ [\"p@707:1 ┆ [\"Z400485 │\n",
       "│            ┆ 8         ┆ 4         ┆           ┆   ┆           ┆         ┆ 188\", \"p@ ┆ 836\", \"Z3 │\n",
       "│            ┆           ┆           ┆           ┆   ┆           ┆         ┆ 707:1188\" ┆ 00486026\" │\n",
       "│            ┆           ┆           ┆           ┆   ┆           ┆         ┆ ]         ┆ ]         │\n",
       "│ …          ┆ …         ┆ …         ┆ …         ┆ … ┆ …         ┆ …       ┆ …         ┆ …         │\n",
       "│ yale.39002 ┆ p@143:377 ┆ Z30052694 ┆ 143       ┆ … ┆ 3         ┆ 3       ┆ [\"p@129:4 ┆ [\"Z300522 │\n",
       "│ 032008188. ┆           ┆ 6         ┆           ┆   ┆           ┆         ┆ 13\", \"p@5 ┆ 344\", \"Z2 │\n",
       "│ 00000289   ┆           ┆           ┆           ┆   ┆           ┆         ┆ 1:620\",   ┆ 00478688\" │\n",
       "│            ┆           ┆           ┆           ┆   ┆           ┆         ┆ \"p@5…     ┆ , \"…      │\n",
       "│ yale.39002 ┆ p@330:806 ┆ Z20017739 ┆ 330       ┆ … ┆ 3         ┆ 3       ┆ [\"p@628:7 ┆ [\"Z300380 │\n",
       "│ 088447587. ┆           ┆ 8         ┆           ┆   ┆           ┆         ┆ 77\", \"p@6 ┆ 365\", \"Z2 │\n",
       "│ 00000050   ┆           ┆           ┆           ┆   ┆           ┆         ┆ 65:702\",  ┆ 00475115\" │\n",
       "│            ┆           ┆           ┆           ┆   ┆           ┆         ┆ \"p@…      ┆ , \"…      │\n",
       "│ yale.39002 ┆ p@627:723 ┆ Z20044961 ┆ 627       ┆ … ┆ 3         ┆ 3       ┆ [\"p@628:7 ┆ [\"Z300380 │\n",
       "│ 088447587. ┆           ┆ 5         ┆           ┆   ┆           ┆         ┆ 77\", \"p@6 ┆ 365\", \"Z2 │\n",
       "│ 00000050   ┆           ┆           ┆           ┆   ┆           ┆         ┆ 65:702\",  ┆ 00475115\" │\n",
       "│            ┆           ┆           ┆           ┆   ┆           ┆         ┆ \"p@…      ┆ , \"…      │\n",
       "│ yale.39002 ┆ p@628:777 ┆ Z30038036 ┆ 628       ┆ … ┆ 3         ┆ 3       ┆ [\"p@665:7 ┆ [\"Z200475 │\n",
       "│ 088447587. ┆           ┆ 5         ┆           ┆   ┆           ┆         ┆ 02\", \"p@6 ┆ 115\", \"Z2 │\n",
       "│ 00000050   ┆           ┆           ┆           ┆   ┆           ┆         ┆ 27:723\",  ┆ 00449615\" │\n",
       "│            ┆           ┆           ┆           ┆   ┆           ┆         ┆ \"p@…      ┆ , \"…      │\n",
       "│ yale.39002 ┆ p@665:702 ┆ Z20047511 ┆ 665       ┆ … ┆ 3         ┆ 3       ┆ [\"p@628:7 ┆ [\"Z300380 │\n",
       "│ 088447587. ┆           ┆ 5         ┆           ┆   ┆           ┆         ┆ 77\", \"p@6 ┆ 365\", \"Z2 │\n",
       "│ 00000050   ┆           ┆           ┆           ┆   ┆           ┆         ┆ 27:723\",  ┆ 00449615\" │\n",
       "│            ┆           ┆           ┆           ┆   ┆           ┆         ┆ \"p@…      ┆ , \"…      │\n",
       "└────────────┴───────────┴───────────┴───────────┴───┴───────────┴─────────┴───────────┴───────────┘"
      ]
     },
     "execution_count": 7,
     "metadata": {},
     "output_type": "execute_result"
    }
   ],
   "source": [
    "# Filter to excerpts that have an overlap with an excerpt of a different poem ID\n",
    "overlaps.filter((pl.col(\"n_poems\") > 1 ) | (~pl.col(\"poem_id\").is_in(pl.col(\"poem_id\"))))"
   ]
  },
  {
   "cell_type": "markdown",
   "id": "797be545-4452-44c6-82ad-e5c588681751",
   "metadata": {},
   "source": [
    "## Examples"
   ]
  },
  {
   "cell_type": "code",
   "execution_count": 8,
   "id": "17af7e6b-160d-4c8d-83d2-c96c0ef9d49e",
   "metadata": {},
   "outputs": [],
   "source": [
    "def get_overlap_set(page_id, excerpt_id):\n",
    "    \"\"\"\n",
    "    Builds a DataFrame of an excerpt and all of its overlaps where the first\n",
    "    row correpsonds to the queried page excerpt.\n",
    "    \"\"\"\n",
    "    filtered_df = overlaps.filter((pl.col(\"page_id\") == page_id) & (pl.col(\"excerpt_id\") == excerpt_id))\n",
    "    if filtered_df.height == 0:\n",
    "        print(f\"Excerpt with page_id {page_id} and excerpt_id {excerpt_id} does not exist in overlaps\")\n",
    "        return\n",
    "    row = filtered_df.row(0, named=True)\n",
    "    overlap_struct = {\n",
    "        \"page_id\": row[\"page_id\"],\n",
    "        \"excerpt_id\": [row[\"excerpt_id\"]] + row[\"excerpt_id_right\"],\n",
    "        \"poem_id\": [row[\"poem_id\"]]+ row[\"poem_id_right\"],\n",
    "    }\n",
    "    return pl.DataFrame(overlap_struct)"
   ]
  },
  {
   "cell_type": "markdown",
   "id": "a0e2ea7a-f199-4ea6-84b4-d44ce880b382",
   "metadata": {},
   "source": [
    "### Excerpts that only overlap with excerpts with different poem identifications"
   ]
  },
  {
   "cell_type": "code",
   "execution_count": 9,
   "id": "0c8c46e8-dc17-4d73-847e-1974627c58a2",
   "metadata": {},
   "outputs": [
    {
     "data": {
      "text/html": [
       "<div><style>\n",
       ".dataframe > thead > tr,\n",
       ".dataframe > tbody > tr {\n",
       "  text-align: right;\n",
       "  white-space: pre-wrap;\n",
       "}\n",
       "</style>\n",
       "<small>shape: (3, 3)</small><table border=\"1\" class=\"dataframe\"><thead><tr><th>page_id</th><th>excerpt_id</th><th>poem_id</th></tr><tr><td>str</td><td>str</td><td>str</td></tr></thead><tbody><tr><td>&quot;A01224.100&quot;</td><td>&quot;p@173:747&quot;</td><td>&quot;Virgil_Aeneid&quot;</td></tr><tr><td>&quot;A01224.100&quot;</td><td>&quot;p@179:556&quot;</td><td>&quot;Z300534278&quot;</td></tr><tr><td>&quot;A01224.100&quot;</td><td>&quot;p@179:533&quot;</td><td>&quot;Z200263304&quot;</td></tr></tbody></table></div>"
      ],
      "text/plain": [
       "shape: (3, 3)\n",
       "┌────────────┬────────────┬───────────────┐\n",
       "│ page_id    ┆ excerpt_id ┆ poem_id       │\n",
       "│ ---        ┆ ---        ┆ ---           │\n",
       "│ str        ┆ str        ┆ str           │\n",
       "╞════════════╪════════════╪═══════════════╡\n",
       "│ A01224.100 ┆ p@173:747  ┆ Virgil_Aeneid │\n",
       "│ A01224.100 ┆ p@179:556  ┆ Z300534278    │\n",
       "│ A01224.100 ┆ p@179:533  ┆ Z200263304    │\n",
       "└────────────┴────────────┴───────────────┘"
      ]
     },
     "execution_count": 9,
     "metadata": {},
     "output_type": "execute_result"
    }
   ],
   "source": [
    "page_id = \"A01224.100\"\n",
    "excerpt_id = \"p@173:747\"\n",
    "get_overlap_set(page_id, excerpt_id)"
   ]
  },
  {
   "cell_type": "code",
   "execution_count": 10,
   "id": "8d2ddd1e-c812-478f-a819-121b70663817",
   "metadata": {},
   "outputs": [
    {
     "data": {
      "text/html": [
       "<div><style>\n",
       ".dataframe > thead > tr,\n",
       ".dataframe > tbody > tr {\n",
       "  text-align: right;\n",
       "  white-space: pre-wrap;\n",
       "}\n",
       "</style>\n",
       "<small>shape: (3, 3)</small><table border=\"1\" class=\"dataframe\"><thead><tr><th>page_id</th><th>excerpt_id</th><th>poem_id</th></tr><tr><td>str</td><td>str</td><td>str</td></tr></thead><tbody><tr><td>&quot;A66698.156&quot;</td><td>&quot;p@946:1486&quot;</td><td>&quot;William-Shakespeare_Venus-and-…</td></tr><tr><td>&quot;A66698.156&quot;</td><td>&quot;p@646:1486&quot;</td><td>&quot;Z300440514&quot;</td></tr><tr><td>&quot;A66698.156&quot;</td><td>&quot;p@946:1486&quot;</td><td>&quot;Z200482662&quot;</td></tr></tbody></table></div>"
      ],
      "text/plain": [
       "shape: (3, 3)\n",
       "┌────────────┬────────────┬─────────────────────────────────┐\n",
       "│ page_id    ┆ excerpt_id ┆ poem_id                         │\n",
       "│ ---        ┆ ---        ┆ ---                             │\n",
       "│ str        ┆ str        ┆ str                             │\n",
       "╞════════════╪════════════╪═════════════════════════════════╡\n",
       "│ A66698.156 ┆ p@946:1486 ┆ William-Shakespeare_Venus-and-… │\n",
       "│ A66698.156 ┆ p@646:1486 ┆ Z300440514                      │\n",
       "│ A66698.156 ┆ p@946:1486 ┆ Z200482662                      │\n",
       "└────────────┴────────────┴─────────────────────────────────┘"
      ]
     },
     "execution_count": 10,
     "metadata": {},
     "output_type": "execute_result"
    }
   ],
   "source": [
    "page_id = \"A66698.156\"\n",
    "excerpt_id = \"p@946:1486\"\n",
    "get_overlap_set(page_id, excerpt_id)"
   ]
  },
  {
   "cell_type": "markdown",
   "id": "7c02b7e9-c6c7-4599-be9d-9887db45e232",
   "metadata": {},
   "source": [
    "### Excerpts that only overlap with excerpts identified with the same poem"
   ]
  },
  {
   "cell_type": "code",
   "execution_count": 11,
   "id": "1b3b72a5-da5d-4b49-ae0e-b808e6590756",
   "metadata": {},
   "outputs": [
    {
     "data": {
      "text/html": [
       "<div><style>\n",
       ".dataframe > thead > tr,\n",
       ".dataframe > tbody > tr {\n",
       "  text-align: right;\n",
       "  white-space: pre-wrap;\n",
       "}\n",
       "</style>\n",
       "<small>shape: (3, 3)</small><table border=\"1\" class=\"dataframe\"><thead><tr><th>page_id</th><th>excerpt_id</th><th>poem_id</th></tr><tr><td>str</td><td>str</td><td>str</td></tr></thead><tbody><tr><td>&quot;A32749.162&quot;</td><td>&quot;p@3378:4969&quot;</td><td>&quot;Geoffrey-Chaucer_The-Canterbur…</td></tr><tr><td>&quot;A32749.162&quot;</td><td>&quot;p@180:3474&quot;</td><td>&quot;Geoffrey-Chaucer_The-Canterbur…</td></tr><tr><td>&quot;A32749.162&quot;</td><td>&quot;p@4833:5867&quot;</td><td>&quot;Geoffrey-Chaucer_The-Canterbur…</td></tr></tbody></table></div>"
      ],
      "text/plain": [
       "shape: (3, 3)\n",
       "┌────────────┬─────────────┬─────────────────────────────────┐\n",
       "│ page_id    ┆ excerpt_id  ┆ poem_id                         │\n",
       "│ ---        ┆ ---         ┆ ---                             │\n",
       "│ str        ┆ str         ┆ str                             │\n",
       "╞════════════╪═════════════╪═════════════════════════════════╡\n",
       "│ A32749.162 ┆ p@3378:4969 ┆ Geoffrey-Chaucer_The-Canterbur… │\n",
       "│ A32749.162 ┆ p@180:3474  ┆ Geoffrey-Chaucer_The-Canterbur… │\n",
       "│ A32749.162 ┆ p@4833:5867 ┆ Geoffrey-Chaucer_The-Canterbur… │\n",
       "└────────────┴─────────────┴─────────────────────────────────┘"
      ]
     },
     "execution_count": 11,
     "metadata": {},
     "output_type": "execute_result"
    }
   ],
   "source": [
    "page_id = \"A32749.162\"\n",
    "excerpt_id = \"p@3378:4969\"\n",
    "get_overlap_set(page_id, excerpt_id)"
   ]
  },
  {
   "cell_type": "code",
   "execution_count": 12,
   "id": "fb1fc904-e360-49fd-aa2f-4fa7c29d5f61",
   "metadata": {},
   "outputs": [
    {
     "data": {
      "text/html": [
       "<div><style>\n",
       ".dataframe > thead > tr,\n",
       ".dataframe > tbody > tr {\n",
       "  text-align: right;\n",
       "  white-space: pre-wrap;\n",
       "}\n",
       "</style>\n",
       "<small>shape: (3, 3)</small><table border=\"1\" class=\"dataframe\"><thead><tr><th>page_id</th><th>excerpt_id</th><th>poem_id</th></tr><tr><td>str</td><td>str</td><td>str</td></tr></thead><tbody><tr><td>&quot;uc1.$b31635.00000668&quot;</td><td>&quot;a@39:772&quot;</td><td>&quot;Z300682318&quot;</td></tr><tr><td>&quot;uc1.$b31635.00000668&quot;</td><td>&quot;p@39:282&quot;</td><td>&quot;Z300682318&quot;</td></tr><tr><td>&quot;uc1.$b31635.00000668&quot;</td><td>&quot;p@288:1034&quot;</td><td>&quot;Z300682318&quot;</td></tr></tbody></table></div>"
      ],
      "text/plain": [
       "shape: (3, 3)\n",
       "┌──────────────────────┬────────────┬────────────┐\n",
       "│ page_id              ┆ excerpt_id ┆ poem_id    │\n",
       "│ ---                  ┆ ---        ┆ ---        │\n",
       "│ str                  ┆ str        ┆ str        │\n",
       "╞══════════════════════╪════════════╪════════════╡\n",
       "│ uc1.$b31635.00000668 ┆ a@39:772   ┆ Z300682318 │\n",
       "│ uc1.$b31635.00000668 ┆ p@39:282   ┆ Z300682318 │\n",
       "│ uc1.$b31635.00000668 ┆ p@288:1034 ┆ Z300682318 │\n",
       "└──────────────────────┴────────────┴────────────┘"
      ]
     },
     "execution_count": 12,
     "metadata": {},
     "output_type": "execute_result"
    }
   ],
   "source": [
    "page_id = \"uc1.$b31635.00000668\"\n",
    "excerpt_id = \"a@39:772\"\n",
    "get_overlap_set(page_id, excerpt_id)"
   ]
  },
  {
   "cell_type": "markdown",
   "id": "16c992d4-30b8-4eab-8521-2bdbae2ee7ea",
   "metadata": {},
   "source": [
    "### Excerpts that overlap with excerpts with a mix of poem identifications"
   ]
  },
  {
   "cell_type": "code",
   "execution_count": 13,
   "id": "ecd3d141-55e4-4051-95c5-db85738aa12d",
   "metadata": {},
   "outputs": [
    {
     "data": {
      "text/html": [
       "<div><style>\n",
       ".dataframe > thead > tr,\n",
       ".dataframe > tbody > tr {\n",
       "  text-align: right;\n",
       "  white-space: pre-wrap;\n",
       "}\n",
       "</style>\n",
       "<small>shape: (4, 3)</small><table border=\"1\" class=\"dataframe\"><thead><tr><th>page_id</th><th>excerpt_id</th><th>poem_id</th></tr><tr><td>str</td><td>str</td><td>str</td></tr></thead><tbody><tr><td>&quot;A12226.73&quot;</td><td>&quot;p@1:857&quot;</td><td>&quot;Z200438289&quot;</td></tr><tr><td>&quot;A12226.73&quot;</td><td>&quot;p@855:987&quot;</td><td>&quot;Z200438289&quot;</td></tr><tr><td>&quot;A12226.73&quot;</td><td>&quot;p@1:987&quot;</td><td>&quot;Z200490769&quot;</td></tr><tr><td>&quot;A12226.73&quot;</td><td>&quot;p@1:987&quot;</td><td>&quot;Z300485933&quot;</td></tr></tbody></table></div>"
      ],
      "text/plain": [
       "shape: (4, 3)\n",
       "┌───────────┬────────────┬────────────┐\n",
       "│ page_id   ┆ excerpt_id ┆ poem_id    │\n",
       "│ ---       ┆ ---        ┆ ---        │\n",
       "│ str       ┆ str        ┆ str        │\n",
       "╞═══════════╪════════════╪════════════╡\n",
       "│ A12226.73 ┆ p@1:857    ┆ Z200438289 │\n",
       "│ A12226.73 ┆ p@855:987  ┆ Z200438289 │\n",
       "│ A12226.73 ┆ p@1:987    ┆ Z200490769 │\n",
       "│ A12226.73 ┆ p@1:987    ┆ Z300485933 │\n",
       "└───────────┴────────────┴────────────┘"
      ]
     },
     "execution_count": 13,
     "metadata": {},
     "output_type": "execute_result"
    }
   ],
   "source": [
    "page_id = \"A12226.73\"\n",
    "excerpt_id = \"p@1:857\"\n",
    "get_overlap_set(page_id, excerpt_id)"
   ]
  },
  {
   "cell_type": "code",
   "execution_count": 14,
   "id": "d95eb768-64b3-46ff-a197-01aabe13ea89",
   "metadata": {},
   "outputs": [
    {
     "data": {
      "text/html": [
       "<div><style>\n",
       ".dataframe > thead > tr,\n",
       ".dataframe > tbody > tr {\n",
       "  text-align: right;\n",
       "  white-space: pre-wrap;\n",
       "}\n",
       "</style>\n",
       "<small>shape: (4, 3)</small><table border=\"1\" class=\"dataframe\"><thead><tr><th>page_id</th><th>excerpt_id</th><th>poem_id</th></tr><tr><td>str</td><td>str</td><td>str</td></tr></thead><tbody><tr><td>&quot;CW0111540239.0092&quot;</td><td>&quot;a@379:592&quot;</td><td>&quot;John-Milton_Paradise-Lost&quot;</td></tr><tr><td>&quot;CW0111540239.0092&quot;</td><td>&quot;p@114:562&quot;</td><td>&quot;Z300444150&quot;</td></tr><tr><td>&quot;CW0111540239.0092&quot;</td><td>&quot;p@379:596&quot;</td><td>&quot;John-Milton_Paradise-Lost&quot;</td></tr><tr><td>&quot;CW0111540239.0092&quot;</td><td>&quot;p@379:596&quot;</td><td>&quot;Z200437755&quot;</td></tr></tbody></table></div>"
      ],
      "text/plain": [
       "shape: (4, 3)\n",
       "┌───────────────────┬────────────┬───────────────────────────┐\n",
       "│ page_id           ┆ excerpt_id ┆ poem_id                   │\n",
       "│ ---               ┆ ---        ┆ ---                       │\n",
       "│ str               ┆ str        ┆ str                       │\n",
       "╞═══════════════════╪════════════╪═══════════════════════════╡\n",
       "│ CW0111540239.0092 ┆ a@379:592  ┆ John-Milton_Paradise-Lost │\n",
       "│ CW0111540239.0092 ┆ p@114:562  ┆ Z300444150                │\n",
       "│ CW0111540239.0092 ┆ p@379:596  ┆ John-Milton_Paradise-Lost │\n",
       "│ CW0111540239.0092 ┆ p@379:596  ┆ Z200437755                │\n",
       "└───────────────────┴────────────┴───────────────────────────┘"
      ]
     },
     "execution_count": 14,
     "metadata": {},
     "output_type": "execute_result"
    }
   ],
   "source": [
    "page_id = \"CW0111540239.0092\"\n",
    "excerpt_id = \"a@379:592\"\n",
    "get_overlap_set(page_id, excerpt_id)"
   ]
  },
  {
   "cell_type": "code",
   "execution_count": 15,
   "id": "01e692ee-f58f-4c19-a760-eb0d0bc76996",
   "metadata": {},
   "outputs": [
    {
     "data": {
      "text/html": [
       "<div><style>\n",
       ".dataframe > thead > tr,\n",
       ".dataframe > tbody > tr {\n",
       "  text-align: right;\n",
       "  white-space: pre-wrap;\n",
       "}\n",
       "</style>\n",
       "<small>shape: (4, 3)</small><table border=\"1\" class=\"dataframe\"><thead><tr><th>page_id</th><th>excerpt_id</th><th>poem_id</th></tr><tr><td>str</td><td>str</td><td>str</td></tr></thead><tbody><tr><td>&quot;wu.89099904617.00000063&quot;</td><td>&quot;a@323:371&quot;</td><td>&quot;William-Shakespeare_The-Tempes…</td></tr><tr><td>&quot;wu.89099904617.00000063&quot;</td><td>&quot;p@174:512&quot;</td><td>&quot;William-Shakespeare_The-Tempes…</td></tr><tr><td>&quot;wu.89099904617.00000063&quot;</td><td>&quot;p@115:605&quot;</td><td>&quot;Z300441190&quot;</td></tr><tr><td>&quot;wu.89099904617.00000063&quot;</td><td>&quot;p@115:605&quot;</td><td>&quot;Z300431123&quot;</td></tr></tbody></table></div>"
      ],
      "text/plain": [
       "shape: (4, 3)\n",
       "┌─────────────────────────┬────────────┬─────────────────────────────────┐\n",
       "│ page_id                 ┆ excerpt_id ┆ poem_id                         │\n",
       "│ ---                     ┆ ---        ┆ ---                             │\n",
       "│ str                     ┆ str        ┆ str                             │\n",
       "╞═════════════════════════╪════════════╪═════════════════════════════════╡\n",
       "│ wu.89099904617.00000063 ┆ a@323:371  ┆ William-Shakespeare_The-Tempes… │\n",
       "│ wu.89099904617.00000063 ┆ p@174:512  ┆ William-Shakespeare_The-Tempes… │\n",
       "│ wu.89099904617.00000063 ┆ p@115:605  ┆ Z300441190                      │\n",
       "│ wu.89099904617.00000063 ┆ p@115:605  ┆ Z300431123                      │\n",
       "└─────────────────────────┴────────────┴─────────────────────────────────┘"
      ]
     },
     "execution_count": 15,
     "metadata": {},
     "output_type": "execute_result"
    }
   ],
   "source": [
    "page_id = \"wu.89099904617.00000063\"\n",
    "excerpt_id = \"a@323:371\"\n",
    "get_overlap_set(page_id, excerpt_id)"
   ]
  },
  {
   "cell_type": "code",
   "execution_count": null,
   "id": "e7debab6-61c0-4ceb-b95a-999c9930dfa2",
   "metadata": {},
   "outputs": [],
   "source": []
  }
 ],
 "metadata": {
  "kernelspec": {
   "display_name": "Python 3 (ipykernel)",
   "language": "python",
   "name": "python3"
  },
  "language_info": {
   "codemirror_mode": {
    "name": "ipython",
    "version": 3
   },
   "file_extension": ".py",
   "mimetype": "text/x-python",
   "name": "python",
   "nbconvert_exporter": "python",
   "pygments_lexer": "ipython3",
   "version": "3.12.10"
  }
 },
 "nbformat": 4,
 "nbformat_minor": 5
}
