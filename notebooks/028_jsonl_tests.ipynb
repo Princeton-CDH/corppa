{
 "cells": [
  {
   "cell_type": "code",
   "execution_count": 1,
   "metadata": {},
   "outputs": [
    {
     "name": "stderr",
     "output_type": "stream",
     "text": [
      "\u001b[32m2023-12-05 13:58:02,339\u001b[0m \u001b[34m\u001b[1mstarted booting PPACorpus at /Users/ryanheuser/ppa_data/corpus\u001b[0m\n",
      "\u001b[32m2023-12-05 13:58:02,340\u001b[0m \u001b[34m\u001b[1m  started reading metadata\u001b[0m\n",
      "\u001b[32m2023-12-05 13:58:02,457\u001b[0m \u001b[34m\u001b[1m  finished reading metadata in 0.12 seconds\u001b[0m\n",
      "\u001b[32m2023-12-05 13:58:02,508\u001b[0m \u001b[34m\u001b[1mfinished booting PPACorpus at /Users/ryanheuser/ppa_data/corpus in 0.17 seconds\u001b[0m\n",
      "\u001b[32m2023-12-05 13:58:02,513\u001b[0m \u001b[34m\u001b[1mstarted generating page database at /Users/ryanheuser/ppa_data/corpus/data/work_pages.db\u001b[0m\n",
      "Saving texts to database:  12%|█▏        | 853/6939 [03:08<22:27,  4.52it/s]\n",
      "\u001b[32m2023-12-05 14:01:11,408\u001b[0m \u001b[34m\u001b[1mfinished generating page database at /Users/ryanheuser/ppa_data/corpus/data/work_pages.db in 3 minutes and 8.89 seconds\u001b[0m\n"
     ]
    },
    {
     "ename": "KeyboardInterrupt",
     "evalue": "",
     "output_type": "error",
     "traceback": [
      "\u001b[0;31m---------------------------------------------------------------------------\u001b[0m",
      "\u001b[0;31mKeyboardInterrupt\u001b[0m                         Traceback (most recent call last)",
      "\u001b[1;32m/Users/ryanheuser/github/ppa-nlp/notebooks/028_jsonl_tests.ipynb Cell 1\u001b[0m line \u001b[0;36m4\n\u001b[1;32m      <a href='vscode-notebook-cell:/Users/ryanheuser/github/ppa-nlp/notebooks/028_jsonl_tests.ipynb#W0sZmlsZQ%3D%3D?line=1'>2</a>\u001b[0m \u001b[39mfrom\u001b[39;00m \u001b[39mppanlp\u001b[39;00m \u001b[39mimport\u001b[39;00m \u001b[39m*\u001b[39m\n\u001b[1;32m      <a href='vscode-notebook-cell:/Users/ryanheuser/github/ppa-nlp/notebooks/028_jsonl_tests.ipynb#W0sZmlsZQ%3D%3D?line=2'>3</a>\u001b[0m ppa \u001b[39m=\u001b[39m PPA()\n\u001b[0;32m----> <a href='vscode-notebook-cell:/Users/ryanheuser/github/ppa-nlp/notebooks/028_jsonl_tests.ipynb#W0sZmlsZQ%3D%3D?line=3'>4</a>\u001b[0m ppa\u001b[39m.\u001b[39;49mgendb(startover\u001b[39m=\u001b[39;49m\u001b[39mTrue\u001b[39;49;00m)\n",
      "File \u001b[0;32m~/github/ppa-nlp/ppanlp/corpus.py:256\u001b[0m, in \u001b[0;36mPPACorpus.gendb\u001b[0;34m(self, force, startover)\u001b[0m\n\u001b[1;32m    254\u001b[0m \u001b[39mfor\u001b[39;00m i,t \u001b[39min\u001b[39;00m \u001b[39menumerate\u001b[39m(\u001b[39mself\u001b[39m\u001b[39m.\u001b[39miter_texts(desc\u001b[39m=\u001b[39m\u001b[39m'\u001b[39m\u001b[39mSaving texts to database\u001b[39m\u001b[39m'\u001b[39m)):\n\u001b[1;32m    255\u001b[0m     \u001b[39mif\u001b[39;00m t\u001b[39m.\u001b[39mis_cleaned:\n\u001b[0;32m--> 256\u001b[0m         t\u001b[39m.\u001b[39;49mgendb(force\u001b[39m=\u001b[39;49mforce,delete_existing\u001b[39m=\u001b[39;49m\u001b[39mnot\u001b[39;49;00m startover)\n",
      "File \u001b[0;32m~/github/ppa-nlp/ppanlp/corpus.py:465\u001b[0m, in \u001b[0;36mPPAText.gendb\u001b[0;34m(self, force, delete_existing)\u001b[0m\n\u001b[1;32m    462\u001b[0m \u001b[39mif\u001b[39;00m (force \u001b[39mor\u001b[39;00m count) \u001b[39mand\u001b[39;00m delete_existing: \n\u001b[1;32m    463\u001b[0m     Page\u001b[39m.\u001b[39mdelete()\u001b[39m.\u001b[39mwhere(Page\u001b[39m.\u001b[39mwork_id\u001b[39m==\u001b[39m\u001b[39mself\u001b[39m\u001b[39m.\u001b[39mid)\u001b[39m.\u001b[39mexecute()\n\u001b[0;32m--> 465\u001b[0m inp \u001b[39m=\u001b[39m [\n\u001b[1;32m    466\u001b[0m     \u001b[39mdict\u001b[39m(\n\u001b[1;32m    467\u001b[0m         page_id\u001b[39m=\u001b[39mpage\u001b[39m.\u001b[39mid,\n\u001b[1;32m    468\u001b[0m         page_text\u001b[39m=\u001b[39mpage\u001b[39m.\u001b[39mtxt,\n\u001b[1;32m    469\u001b[0m         page_num_content_words\u001b[39m=\u001b[39mpage\u001b[39m.\u001b[39mnum_content_words,\n\u001b[1;32m    470\u001b[0m         work_id\u001b[39m=\u001b[39mpage\u001b[39m.\u001b[39mtext\u001b[39m.\u001b[39mid,\n\u001b[1;32m    471\u001b[0m         cluster \u001b[39m=\u001b[39m page\u001b[39m.\u001b[39mtext\u001b[39m.\u001b[39mcluster,\n\u001b[1;32m    472\u001b[0m         source \u001b[39m=\u001b[39m page\u001b[39m.\u001b[39mtext\u001b[39m.\u001b[39msource,\n\u001b[1;32m    473\u001b[0m         year \u001b[39m=\u001b[39m page\u001b[39m.\u001b[39mtext\u001b[39m.\u001b[39myear,\n\u001b[1;32m    474\u001b[0m         author \u001b[39m=\u001b[39m page\u001b[39m.\u001b[39mtext\u001b[39m.\u001b[39mauthor,\n\u001b[1;32m    475\u001b[0m         title \u001b[39m=\u001b[39m page\u001b[39m.\u001b[39mtext\u001b[39m.\u001b[39mtitle[:\u001b[39m255\u001b[39m],\n\u001b[1;32m    476\u001b[0m         _random \u001b[39m=\u001b[39m random\u001b[39m.\u001b[39mrandom()\n\u001b[1;32m    477\u001b[0m     )\n\u001b[1;32m    478\u001b[0m     \u001b[39mfor\u001b[39;00m page \u001b[39min\u001b[39;00m \u001b[39mself\u001b[39m\u001b[39m.\u001b[39miter_pages_preproc()\n\u001b[1;32m    479\u001b[0m ]\n\u001b[1;32m    480\u001b[0m \u001b[39mif\u001b[39;00m inp: \n\u001b[1;32m    481\u001b[0m     \u001b[39mwith\u001b[39;00m logwatch(\u001b[39m'\u001b[39m\u001b[39minserting into db\u001b[39m\u001b[39m'\u001b[39m, level\u001b[39m=\u001b[39m\u001b[39m'\u001b[39m\u001b[39mTRACE\u001b[39m\u001b[39m'\u001b[39m):\n",
      "File \u001b[0;32m~/github/ppa-nlp/ppanlp/corpus.py:469\u001b[0m, in \u001b[0;36m<listcomp>\u001b[0;34m(.0)\u001b[0m\n\u001b[1;32m    462\u001b[0m \u001b[39mif\u001b[39;00m (force \u001b[39mor\u001b[39;00m count) \u001b[39mand\u001b[39;00m delete_existing: \n\u001b[1;32m    463\u001b[0m     Page\u001b[39m.\u001b[39mdelete()\u001b[39m.\u001b[39mwhere(Page\u001b[39m.\u001b[39mwork_id\u001b[39m==\u001b[39m\u001b[39mself\u001b[39m\u001b[39m.\u001b[39mid)\u001b[39m.\u001b[39mexecute()\n\u001b[1;32m    465\u001b[0m inp \u001b[39m=\u001b[39m [\n\u001b[1;32m    466\u001b[0m     \u001b[39mdict\u001b[39m(\n\u001b[1;32m    467\u001b[0m         page_id\u001b[39m=\u001b[39mpage\u001b[39m.\u001b[39mid,\n\u001b[1;32m    468\u001b[0m         page_text\u001b[39m=\u001b[39mpage\u001b[39m.\u001b[39mtxt,\n\u001b[0;32m--> 469\u001b[0m         page_num_content_words\u001b[39m=\u001b[39mpage\u001b[39m.\u001b[39;49mnum_content_words,\n\u001b[1;32m    470\u001b[0m         work_id\u001b[39m=\u001b[39mpage\u001b[39m.\u001b[39mtext\u001b[39m.\u001b[39mid,\n\u001b[1;32m    471\u001b[0m         cluster \u001b[39m=\u001b[39m page\u001b[39m.\u001b[39mtext\u001b[39m.\u001b[39mcluster,\n\u001b[1;32m    472\u001b[0m         source \u001b[39m=\u001b[39m page\u001b[39m.\u001b[39mtext\u001b[39m.\u001b[39msource,\n\u001b[1;32m    473\u001b[0m         year \u001b[39m=\u001b[39m page\u001b[39m.\u001b[39mtext\u001b[39m.\u001b[39myear,\n\u001b[1;32m    474\u001b[0m         author \u001b[39m=\u001b[39m page\u001b[39m.\u001b[39mtext\u001b[39m.\u001b[39mauthor,\n\u001b[1;32m    475\u001b[0m         title \u001b[39m=\u001b[39m page\u001b[39m.\u001b[39mtext\u001b[39m.\u001b[39mtitle[:\u001b[39m255\u001b[39m],\n\u001b[1;32m    476\u001b[0m         _random \u001b[39m=\u001b[39m random\u001b[39m.\u001b[39mrandom()\n\u001b[1;32m    477\u001b[0m     )\n\u001b[1;32m    478\u001b[0m     \u001b[39mfor\u001b[39;00m page \u001b[39min\u001b[39;00m \u001b[39mself\u001b[39m\u001b[39m.\u001b[39miter_pages_preproc()\n\u001b[1;32m    479\u001b[0m ]\n\u001b[1;32m    480\u001b[0m \u001b[39mif\u001b[39;00m inp: \n\u001b[1;32m    481\u001b[0m     \u001b[39mwith\u001b[39;00m logwatch(\u001b[39m'\u001b[39m\u001b[39minserting into db\u001b[39m\u001b[39m'\u001b[39m, level\u001b[39m=\u001b[39m\u001b[39m'\u001b[39m\u001b[39mTRACE\u001b[39m\u001b[39m'\u001b[39m):\n",
      "File \u001b[0;32m~/.pyenv/versions/3.10.7/lib/python3.10/functools.py:981\u001b[0m, in \u001b[0;36mcached_property.__get__\u001b[0;34m(self, instance, owner)\u001b[0m\n\u001b[1;32m    979\u001b[0m val \u001b[39m=\u001b[39m cache\u001b[39m.\u001b[39mget(\u001b[39mself\u001b[39m\u001b[39m.\u001b[39mattrname, _NOT_FOUND)\n\u001b[1;32m    980\u001b[0m \u001b[39mif\u001b[39;00m val \u001b[39mis\u001b[39;00m _NOT_FOUND:\n\u001b[0;32m--> 981\u001b[0m     val \u001b[39m=\u001b[39m \u001b[39mself\u001b[39;49m\u001b[39m.\u001b[39;49mfunc(instance)\n\u001b[1;32m    982\u001b[0m     \u001b[39mtry\u001b[39;00m:\n\u001b[1;32m    983\u001b[0m         cache[\u001b[39mself\u001b[39m\u001b[39m.\u001b[39mattrname] \u001b[39m=\u001b[39m val\n",
      "File \u001b[0;32m~/github/ppa-nlp/ppanlp/corpus.py:538\u001b[0m, in \u001b[0;36mPPAPage.num_content_words\u001b[0;34m(self)\u001b[0m\n\u001b[1;32m    535\u001b[0m \u001b[39m@cached_property\u001b[39m\n\u001b[1;32m    536\u001b[0m \u001b[39mdef\u001b[39;00m \u001b[39mnum_content_words\u001b[39m(\u001b[39mself\u001b[39m): \n\u001b[1;32m    537\u001b[0m     res\u001b[39m=\u001b[39m\u001b[39mself\u001b[39m\u001b[39m.\u001b[39m_meta\u001b[39m.\u001b[39mget(\u001b[39m'\u001b[39m\u001b[39mpage_num_content_words\u001b[39m\u001b[39m'\u001b[39m)\n\u001b[0;32m--> 538\u001b[0m     \u001b[39mif\u001b[39;00m res \u001b[39mis\u001b[39;00m \u001b[39mNone\u001b[39;00m: res\u001b[39m=\u001b[39m\u001b[39mlen\u001b[39m(\u001b[39mself\u001b[39;49m\u001b[39m.\u001b[39;49mcontent_words)\n\u001b[1;32m    539\u001b[0m     \u001b[39mreturn\u001b[39;00m res\n",
      "File \u001b[0;32m~/.pyenv/versions/3.10.7/lib/python3.10/functools.py:981\u001b[0m, in \u001b[0;36mcached_property.__get__\u001b[0;34m(self, instance, owner)\u001b[0m\n\u001b[1;32m    979\u001b[0m val \u001b[39m=\u001b[39m cache\u001b[39m.\u001b[39mget(\u001b[39mself\u001b[39m\u001b[39m.\u001b[39mattrname, _NOT_FOUND)\n\u001b[1;32m    980\u001b[0m \u001b[39mif\u001b[39;00m val \u001b[39mis\u001b[39;00m _NOT_FOUND:\n\u001b[0;32m--> 981\u001b[0m     val \u001b[39m=\u001b[39m \u001b[39mself\u001b[39;49m\u001b[39m.\u001b[39;49mfunc(instance)\n\u001b[1;32m    982\u001b[0m     \u001b[39mtry\u001b[39;00m:\n\u001b[1;32m    983\u001b[0m         cache[\u001b[39mself\u001b[39m\u001b[39m.\u001b[39mattrname] \u001b[39m=\u001b[39m val\n",
      "File \u001b[0;32m~/github/ppa-nlp/ppanlp/corpus.py:534\u001b[0m, in \u001b[0;36mPPAPage.content_words\u001b[0;34m(self)\u001b[0m\n\u001b[1;32m    532\u001b[0m \u001b[39m@cached_property\u001b[39m\n\u001b[1;32m    533\u001b[0m \u001b[39mdef\u001b[39;00m \u001b[39mcontent_words\u001b[39m(\u001b[39mself\u001b[39m): \n\u001b[0;32m--> 534\u001b[0m     \u001b[39mreturn\u001b[39;00m \u001b[39mself\u001b[39;49m\u001b[39m.\u001b[39;49mget_content_words()\n",
      "File \u001b[0;32m~/github/ppa-nlp/ppanlp/corpus.py:544\u001b[0m, in \u001b[0;36mPPAPage.get_content_words\u001b[0;34m(self, min_tok_len)\u001b[0m\n\u001b[1;32m    543\u001b[0m \u001b[39mdef\u001b[39;00m \u001b[39mget_content_words\u001b[39m(\u001b[39mself\u001b[39m, min_tok_len\u001b[39m=\u001b[39m\u001b[39m4\u001b[39m):\n\u001b[0;32m--> 544\u001b[0m     \u001b[39mreturn\u001b[39;00m [tok \u001b[39mfor\u001b[39;00m tok \u001b[39min\u001b[39;00m \u001b[39mself\u001b[39;49m\u001b[39m.\u001b[39;49mtokens \u001b[39mif\u001b[39;00m \u001b[39mlen\u001b[39m(tok)\u001b[39m>\u001b[39m\u001b[39m=\u001b[39mmin_tok_len \u001b[39mand\u001b[39;00m tok \u001b[39mnot\u001b[39;00m \u001b[39min\u001b[39;00m \u001b[39mself\u001b[39m\u001b[39m.\u001b[39mstopwords]\n",
      "File \u001b[0;32m~/.pyenv/versions/3.10.7/lib/python3.10/functools.py:981\u001b[0m, in \u001b[0;36mcached_property.__get__\u001b[0;34m(self, instance, owner)\u001b[0m\n\u001b[1;32m    979\u001b[0m val \u001b[39m=\u001b[39m cache\u001b[39m.\u001b[39mget(\u001b[39mself\u001b[39m\u001b[39m.\u001b[39mattrname, _NOT_FOUND)\n\u001b[1;32m    980\u001b[0m \u001b[39mif\u001b[39;00m val \u001b[39mis\u001b[39;00m _NOT_FOUND:\n\u001b[0;32m--> 981\u001b[0m     val \u001b[39m=\u001b[39m \u001b[39mself\u001b[39;49m\u001b[39m.\u001b[39;49mfunc(instance)\n\u001b[1;32m    982\u001b[0m     \u001b[39mtry\u001b[39;00m:\n\u001b[1;32m    983\u001b[0m         cache[\u001b[39mself\u001b[39m\u001b[39m.\u001b[39mattrname] \u001b[39m=\u001b[39m val\n",
      "File \u001b[0;32m~/github/ppa-nlp/ppanlp/corpus.py:529\u001b[0m, in \u001b[0;36mPPAPage.tokens\u001b[0;34m(self)\u001b[0m\n\u001b[1;32m    527\u001b[0m tokens\u001b[39m=\u001b[39m\u001b[39mself\u001b[39m\u001b[39m.\u001b[39m_meta\u001b[39m.\u001b[39mget(\u001b[39m'\u001b[39m\u001b[39mpage_tokens\u001b[39m\u001b[39m'\u001b[39m)\n\u001b[1;32m    528\u001b[0m \u001b[39mif\u001b[39;00m \u001b[39mnot\u001b[39;00m tokens: tokens\u001b[39m=\u001b[39mtokenize_agnostic(\u001b[39mself\u001b[39m\u001b[39m.\u001b[39mtxt)\n\u001b[0;32m--> 529\u001b[0m tokens \u001b[39m=\u001b[39m [x\u001b[39m.\u001b[39mstrip()\u001b[39m.\u001b[39mlower() \u001b[39mfor\u001b[39;00m x \u001b[39min\u001b[39;00m tokens \u001b[39mif\u001b[39;00m x\u001b[39m.\u001b[39mstrip() \u001b[39mand\u001b[39;00m x\u001b[39m.\u001b[39mstrip()[\u001b[39m0\u001b[39m]\u001b[39m.\u001b[39misalpha()]\n\u001b[1;32m    530\u001b[0m \u001b[39mreturn\u001b[39;00m tokens\n",
      "File \u001b[0;32m~/github/ppa-nlp/ppanlp/corpus.py:529\u001b[0m, in \u001b[0;36m<listcomp>\u001b[0;34m(.0)\u001b[0m\n\u001b[1;32m    527\u001b[0m tokens\u001b[39m=\u001b[39m\u001b[39mself\u001b[39m\u001b[39m.\u001b[39m_meta\u001b[39m.\u001b[39mget(\u001b[39m'\u001b[39m\u001b[39mpage_tokens\u001b[39m\u001b[39m'\u001b[39m)\n\u001b[1;32m    528\u001b[0m \u001b[39mif\u001b[39;00m \u001b[39mnot\u001b[39;00m tokens: tokens\u001b[39m=\u001b[39mtokenize_agnostic(\u001b[39mself\u001b[39m\u001b[39m.\u001b[39mtxt)\n\u001b[0;32m--> 529\u001b[0m tokens \u001b[39m=\u001b[39m [x\u001b[39m.\u001b[39;49mstrip()\u001b[39m.\u001b[39;49mlower() \u001b[39mfor\u001b[39;00m x \u001b[39min\u001b[39;00m tokens \u001b[39mif\u001b[39;00m x\u001b[39m.\u001b[39mstrip() \u001b[39mand\u001b[39;00m x\u001b[39m.\u001b[39mstrip()[\u001b[39m0\u001b[39m]\u001b[39m.\u001b[39misalpha()]\n\u001b[1;32m    530\u001b[0m \u001b[39mreturn\u001b[39;00m tokens\n",
      "\u001b[0;31mKeyboardInterrupt\u001b[0m: "
     ]
    }
   ],
   "source": [
    "import sys;sys.path.append('..')\n",
    "from ppanlp import *\n",
    "ppa = PPA()\n",
    "ppa.gendb(startover=True)"
   ]
  },
  {
   "cell_type": "code",
   "execution_count": null,
   "metadata": {},
   "outputs": [],
   "source": []
  }
 ],
 "metadata": {
  "kernelspec": {
   "display_name": "venv",
   "language": "python",
   "name": "python3"
  },
  "language_info": {
   "codemirror_mode": {
    "name": "ipython",
    "version": 3
   },
   "file_extension": ".py",
   "mimetype": "text/x-python",
   "name": "python",
   "nbconvert_exporter": "python",
   "pygments_lexer": "ipython3",
   "version": "3.10.7"
  }
 },
 "nbformat": 4,
 "nbformat_minor": 2
}
