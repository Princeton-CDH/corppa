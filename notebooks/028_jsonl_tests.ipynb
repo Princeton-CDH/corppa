{
 "cells": [
  {
   "cell_type": "code",
   "execution_count": 1,
   "metadata": {},
   "outputs": [
    {
     "name": "stderr",
     "output_type": "stream",
     "text": [
      "\u001b[32m2023-12-05 08:26:08,667\u001b[0m \u001b[34m\u001b[1mstarted booting PPACorpus at /Users/ryanheuser/ppa_data/corpus\u001b[0m\n",
      "\u001b[32m2023-12-05 08:26:08,668\u001b[0m \u001b[34m\u001b[1m  started reading metadata\u001b[0m\n",
      "\u001b[32m2023-12-05 08:26:08,784\u001b[0m \u001b[34m\u001b[1m  finished reading metadata in 0.12 seconds\u001b[0m\n",
      "\u001b[32m2023-12-05 08:26:08,836\u001b[0m \u001b[34m\u001b[1mfinished booting PPACorpus at /Users/ryanheuser/ppa_data/corpus in 0.17 seconds\u001b[0m\n",
      "\u001b[32m2023-12-05 08:26:08,838\u001b[0m \u001b[34m\u001b[1mstarted generating page database at /Users/ryanheuser/ppa_data/corpus/data/work_pages.db\u001b[0m\n",
      "Saving texts to database: 100%|██████████| 6939/6939 [00:00<00:00, 11267.56it/s]\n",
      "\u001b[32m2023-12-05 08:26:09,457\u001b[0m \u001b[34m\u001b[1mfinished generating page database at /Users/ryanheuser/ppa_data/corpus/data/work_pages.db in 0.62 seconds\u001b[0m\n"
     ]
    }
   ],
   "source": [
    "import sys;sys.path.append('..')\n",
    "from ppanlp import *\n",
    "ppa = PPA()\n",
    "# ppa.index()\n",
    "ppa.gen_pagedb()"
   ]
  }
 ],
 "metadata": {
  "kernelspec": {
   "display_name": "venv",
   "language": "python",
   "name": "python3"
  },
  "language_info": {
   "codemirror_mode": {
    "name": "ipython",
    "version": 3
   },
   "file_extension": ".py",
   "mimetype": "text/x-python",
   "name": "python",
   "nbconvert_exporter": "python",
   "pygments_lexer": "ipython3",
   "version": "3.10.7"
  }
 },
 "nbformat": 4,
 "nbformat_minor": 2
}
