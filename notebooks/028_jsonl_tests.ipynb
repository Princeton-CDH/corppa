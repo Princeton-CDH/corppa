{
 "cells": [
  {
   "cell_type": "code",
   "execution_count": 1,
   "metadata": {},
   "outputs": [
    {
     "name": "stderr",
     "output_type": "stream",
     "text": [
      "\u001b[32m2023-12-05 08:08:23,069\u001b[0m \u001b[34m\u001b[1mstarted booting PPACorpus at /Users/ryanheuser/ppa_data/corpus\u001b[0m\n",
      "\u001b[32m2023-12-05 08:08:23,070\u001b[0m \u001b[34m\u001b[1m  started reading metadata\u001b[0m\n",
      "\u001b[32m2023-12-05 08:08:23,180\u001b[0m \u001b[34m\u001b[1m  finished reading metadata in 0.11 seconds\u001b[0m\n",
      "\u001b[32m2023-12-05 08:08:23,229\u001b[0m \u001b[34m\u001b[1mfinished booting PPACorpus at /Users/ryanheuser/ppa_data/corpus in 0.16 seconds\u001b[0m\n"
     ]
    }
   ],
   "source": [
    "import sys;sys.path.append('..')\n",
    "from ppanlp import *\n",
    "ppa = PPA()"
   ]
  },
  {
   "cell_type": "code",
   "execution_count": 2,
   "metadata": {},
   "outputs": [],
   "source": [
    "# ppa.install()"
   ]
  },
  {
   "cell_type": "code",
   "execution_count": 4,
   "metadata": {},
   "outputs": [
    {
     "name": "stderr",
     "output_type": "stream",
     "text": [
      "Mapping preproc_json() [x2]:   0%|          | 14/6938 [00:09<1:20:11,  1.44it/s]\n"
     ]
    },
    {
     "ename": "KeyboardInterrupt",
     "evalue": "",
     "output_type": "error",
     "traceback": [
      "\u001b[0;31m---------------------------------------------------------------------------\u001b[0m",
      "\u001b[0;31mIndexError\u001b[0m                                Traceback (most recent call last)",
      "File \u001b[0;32m~/.pyenv/versions/3.10.7/lib/python3.10/multiprocessing/pool.py:856\u001b[0m, in \u001b[0;36mIMapIterator.next\u001b[0;34m(self, timeout)\u001b[0m\n\u001b[1;32m    855\u001b[0m \u001b[39mtry\u001b[39;00m:\n\u001b[0;32m--> 856\u001b[0m     item \u001b[39m=\u001b[39m \u001b[39mself\u001b[39;49m\u001b[39m.\u001b[39;49m_items\u001b[39m.\u001b[39;49mpopleft()\n\u001b[1;32m    857\u001b[0m \u001b[39mexcept\u001b[39;00m \u001b[39mIndexError\u001b[39;00m:\n",
      "\u001b[0;31mIndexError\u001b[0m: pop from an empty deque",
      "\nDuring handling of the above exception, another exception occurred:\n",
      "\u001b[0;31mKeyboardInterrupt\u001b[0m                         Traceback (most recent call last)",
      "\u001b[1;32m/Users/ryanheuser/github/ppa-nlp/notebooks/028_jsonl_tests.ipynb Cell 3\u001b[0m line \u001b[0;36m1\n\u001b[0;32m----> <a href='vscode-notebook-cell:/Users/ryanheuser/github/ppa-nlp/notebooks/028_jsonl_tests.ipynb#W3sZmlsZQ%3D%3D?line=0'>1</a>\u001b[0m ppa\u001b[39m.\u001b[39;49mpreproc(num_proc\u001b[39m=\u001b[39;49m\u001b[39m2\u001b[39;49m)\n",
      "File \u001b[0;32m~/github/ppa-nlp/ppanlp/corpus.py:229\u001b[0m, in \u001b[0;36mPPACorpus.preproc\u001b[0;34m(self, num_proc, force, shuffle, lim)\u001b[0m\n\u001b[1;32m    227\u001b[0m \u001b[39mdef\u001b[39;00m \u001b[39mpreproc\u001b[39m(\u001b[39mself\u001b[39m, num_proc\u001b[39m=\u001b[39m\u001b[39m1\u001b[39m, force\u001b[39m=\u001b[39m\u001b[39mFalse\u001b[39;00m, shuffle\u001b[39m=\u001b[39m\u001b[39mTrue\u001b[39;00m, lim\u001b[39m=\u001b[39m\u001b[39mNone\u001b[39;00m):\n\u001b[1;32m    228\u001b[0m     objs \u001b[39m=\u001b[39m [(t\u001b[39m.\u001b[39mpath, t\u001b[39m.\u001b[39mpath_preproc,force) \u001b[39mfor\u001b[39;00m t \u001b[39min\u001b[39;00m \u001b[39mself\u001b[39m\u001b[39m.\u001b[39mtexts \u001b[39mif\u001b[39;00m os\u001b[39m.\u001b[39mpath\u001b[39m.\u001b[39mexists(t\u001b[39m.\u001b[39mpath)]\n\u001b[0;32m--> 229\u001b[0m     pmap_run(\n\u001b[1;32m    230\u001b[0m         preproc_json,\n\u001b[1;32m    231\u001b[0m         objs,\n\u001b[1;32m    232\u001b[0m         num_proc\u001b[39m=\u001b[39;49mnum_proc,\n\u001b[1;32m    233\u001b[0m         shuffle\u001b[39m=\u001b[39;49mshuffle,\n\u001b[1;32m    234\u001b[0m         lim\u001b[39m=\u001b[39;49mlim\n\u001b[1;32m    235\u001b[0m     )\n",
      "File \u001b[0;32m~/github/ppa-nlp/ppanlp/utils.py:195\u001b[0m, in \u001b[0;36mpmap_run\u001b[0;34m(*x, **y)\u001b[0m\n\u001b[1;32m    194\u001b[0m \u001b[39mdef\u001b[39;00m \u001b[39mpmap_run\u001b[39m(\u001b[39m*\u001b[39mx,\u001b[39m*\u001b[39m\u001b[39m*\u001b[39my):\n\u001b[0;32m--> 195\u001b[0m     \u001b[39mfor\u001b[39;00m obj \u001b[39min\u001b[39;00m pmap_iter(\u001b[39m*\u001b[39mx,\u001b[39m*\u001b[39m\u001b[39m*\u001b[39my): \u001b[39mpass\u001b[39;00m\n",
      "File \u001b[0;32m~/github/ppa-nlp/ppanlp/utils.py:176\u001b[0m, in \u001b[0;36mpmap_iter\u001b[0;34m(func, objs, args, kwargs, lim, num_proc, use_threads, progress, progress_pos, desc, shuffle, context, **y)\u001b[0m\n\u001b[1;32m    172\u001b[0m     \u001b[39mwith\u001b[39;00m mp\u001b[39m.\u001b[39mget_context(context)\u001b[39m.\u001b[39mPool(num_proc) \u001b[39mas\u001b[39;00m pool:\n\u001b[1;32m    173\u001b[0m         \u001b[39m# yield iter\u001b[39;00m\n\u001b[1;32m    174\u001b[0m         iterr \u001b[39m=\u001b[39m pool\u001b[39m.\u001b[39mimap(_pmap_do, objects)\n\u001b[0;32m--> 176\u001b[0m         \u001b[39mfor\u001b[39;00m res \u001b[39min\u001b[39;00m get_tqdm(iterr,total\u001b[39m=\u001b[39m\u001b[39mlen\u001b[39m(objects),desc\u001b[39m=\u001b[39mdesc,position\u001b[39m=\u001b[39mprogress_pos) \u001b[39mif\u001b[39;00m progress \u001b[39melse\u001b[39;00m iterr:\n\u001b[1;32m    177\u001b[0m             \u001b[39myield\u001b[39;00m res\n\u001b[1;32m    178\u001b[0m \u001b[39melse\u001b[39;00m:\n\u001b[1;32m    179\u001b[0m     \u001b[39m# yield\u001b[39;00m\n",
      "File \u001b[0;32m~/github/ppa-nlp/venv/lib/python3.10/site-packages/tqdm/std.py:1182\u001b[0m, in \u001b[0;36mtqdm.__iter__\u001b[0;34m(self)\u001b[0m\n\u001b[1;32m   1179\u001b[0m time \u001b[39m=\u001b[39m \u001b[39mself\u001b[39m\u001b[39m.\u001b[39m_time\n\u001b[1;32m   1181\u001b[0m \u001b[39mtry\u001b[39;00m:\n\u001b[0;32m-> 1182\u001b[0m     \u001b[39mfor\u001b[39;00m obj \u001b[39min\u001b[39;00m iterable:\n\u001b[1;32m   1183\u001b[0m         \u001b[39myield\u001b[39;00m obj\n\u001b[1;32m   1184\u001b[0m         \u001b[39m# Update and possibly print the progressbar.\u001b[39;00m\n\u001b[1;32m   1185\u001b[0m         \u001b[39m# Note: does not call self.update(1) for speed optimisation.\u001b[39;00m\n",
      "File \u001b[0;32m~/.pyenv/versions/3.10.7/lib/python3.10/multiprocessing/pool.py:861\u001b[0m, in \u001b[0;36mIMapIterator.next\u001b[0;34m(self, timeout)\u001b[0m\n\u001b[1;32m    859\u001b[0m     \u001b[39mself\u001b[39m\u001b[39m.\u001b[39m_pool \u001b[39m=\u001b[39m \u001b[39mNone\u001b[39;00m\n\u001b[1;32m    860\u001b[0m     \u001b[39mraise\u001b[39;00m \u001b[39mStopIteration\u001b[39;00m \u001b[39mfrom\u001b[39;00m \u001b[39mNone\u001b[39;00m\n\u001b[0;32m--> 861\u001b[0m \u001b[39mself\u001b[39;49m\u001b[39m.\u001b[39;49m_cond\u001b[39m.\u001b[39;49mwait(timeout)\n\u001b[1;32m    862\u001b[0m \u001b[39mtry\u001b[39;00m:\n\u001b[1;32m    863\u001b[0m     item \u001b[39m=\u001b[39m \u001b[39mself\u001b[39m\u001b[39m.\u001b[39m_items\u001b[39m.\u001b[39mpopleft()\n",
      "File \u001b[0;32m~/.pyenv/versions/3.10.7/lib/python3.10/threading.py:320\u001b[0m, in \u001b[0;36mCondition.wait\u001b[0;34m(self, timeout)\u001b[0m\n\u001b[1;32m    318\u001b[0m \u001b[39mtry\u001b[39;00m:    \u001b[39m# restore state no matter what (e.g., KeyboardInterrupt)\u001b[39;00m\n\u001b[1;32m    319\u001b[0m     \u001b[39mif\u001b[39;00m timeout \u001b[39mis\u001b[39;00m \u001b[39mNone\u001b[39;00m:\n\u001b[0;32m--> 320\u001b[0m         waiter\u001b[39m.\u001b[39;49macquire()\n\u001b[1;32m    321\u001b[0m         gotit \u001b[39m=\u001b[39m \u001b[39mTrue\u001b[39;00m\n\u001b[1;32m    322\u001b[0m     \u001b[39melse\u001b[39;00m:\n",
      "\u001b[0;31mKeyboardInterrupt\u001b[0m: "
     ]
    }
   ],
   "source": [
    "ppa.preproc(num_proc=2)"
   ]
  },
  {
   "cell_type": "code",
   "execution_count": null,
   "metadata": {},
   "outputs": [],
   "source": []
  }
 ],
 "metadata": {
  "kernelspec": {
   "display_name": "venv",
   "language": "python",
   "name": "python3"
  },
  "language_info": {
   "codemirror_mode": {
    "name": "ipython",
    "version": 3
   },
   "file_extension": ".py",
   "mimetype": "text/x-python",
   "name": "python",
   "nbconvert_exporter": "python",
   "pygments_lexer": "ipython3",
   "version": "3.10.7"
  }
 },
 "nbformat": 4,
 "nbformat_minor": 2
}
