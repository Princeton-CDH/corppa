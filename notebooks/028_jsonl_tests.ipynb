{
 "cells": [
  {
   "cell_type": "code",
   "execution_count": 1,
   "metadata": {},
   "outputs": [
    {
     "name": "stderr",
     "output_type": "stream",
     "text": [
      "\u001b[32m2023-12-05 17:46:22,380\u001b[0m \u001b[34m\u001b[1mstarted booting PPACorpus at /Users/ryanheuser/ppa_data/corpus\u001b[0m\n",
      "\u001b[32m2023-12-05 17:46:22,382\u001b[0m \u001b[34m\u001b[1m  started reading metadata\u001b[0m\n",
      "\u001b[32m2023-12-05 17:46:22,493\u001b[0m \u001b[34m\u001b[1m  finished reading metadata in 0.11 seconds\u001b[0m\n",
      "\u001b[32m2023-12-05 17:46:22,537\u001b[0m \u001b[34m\u001b[1mfinished booting PPACorpus at /Users/ryanheuser/ppa_data/corpus in 0.16 seconds\u001b[0m\n"
     ]
    }
   ],
   "source": [
    "import sys;sys.path.append('..')\n",
    "from ppanlp import *\n",
    "ppa = PPA()\n",
    "# ppa.gendb(force=False)"
   ]
  },
  {
   "cell_type": "code",
   "execution_count": 4,
   "metadata": {},
   "outputs": [
    {
     "name": "stderr",
     "output_type": "stream",
     "text": [
      "Iterating over pages.jsonl.gz: 2160441it [00:15, 138520.90it/s]\n"
     ]
    },
    {
     "data": {
      "text/plain": [
       "{'work_id': 'yale.39002088447587',\n",
       " 'page_id': 'yale.39002088447587.00000504',\n",
       " 'page_num': 504,\n",
       " 'page_num_orig': '504',\n",
       " 'page_text': '',\n",
       " 'page_tags': ['BACK_COVER']}"
      ]
     },
     "execution_count": 4,
     "metadata": {},
     "output_type": "execute_result"
    }
   ],
   "source": [
    "for p in ppa.iter_pages_jsonl(): pass\n",
    "p"
   ]
  },
  {
   "cell_type": "code",
   "execution_count": 5,
   "metadata": {},
   "outputs": [
    {
     "name": "stderr",
     "output_type": "stream",
     "text": [
      "\u001b[32m2023-12-05 17:53:33,146\u001b[0m \u001b[34m\u001b[1mstarted querying page database\u001b[0m\n",
      "\u001b[32m2023-12-05 17:53:33,153\u001b[0m \u001b[34m\u001b[1mfinished querying page database in 0.01 seconds\u001b[0m\n",
      "\u001b[32m2023-12-05 17:53:33,154\u001b[0m \u001b[34m\u001b[1mstarted returning page database results\u001b[0m\n",
      "Iterating over page search results:  42%|████▏     | 910273/2159937 [00:32<00:59, 21065.53it/s]"
     ]
    }
   ],
   "source": [
    "for p in ppa.iter_pages(): pass\n",
    "p"
   ]
  },
  {
   "cell_type": "code",
   "execution_count": null,
   "metadata": {},
   "outputs": [],
   "source": []
  }
 ],
 "metadata": {
  "kernelspec": {
   "display_name": "venv",
   "language": "python",
   "name": "python3"
  },
  "language_info": {
   "codemirror_mode": {
    "name": "ipython",
    "version": 3
   },
   "file_extension": ".py",
   "mimetype": "text/x-python",
   "name": "python",
   "nbconvert_exporter": "python",
   "pygments_lexer": "ipython3",
   "version": "3.10.7"
  }
 },
 "nbformat": 4,
 "nbformat_minor": 2
}
