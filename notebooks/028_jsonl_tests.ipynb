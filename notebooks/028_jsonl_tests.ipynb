{
 "cells": [
  {
   "cell_type": "code",
   "execution_count": 1,
   "metadata": {},
   "outputs": [
    {
     "name": "stderr",
     "output_type": "stream",
     "text": [
      "\u001b[32m2023-12-05 13:13:34,759\u001b[0m \u001b[34m\u001b[1mstarted booting PPACorpus at /Users/ryanheuser/ppa_data/corpus\u001b[0m\n",
      "\u001b[32m2023-12-05 13:13:34,760\u001b[0m \u001b[34m\u001b[1m  started reading metadata\u001b[0m\n",
      "\u001b[32m2023-12-05 13:13:34,912\u001b[0m \u001b[34m\u001b[1m  finished reading metadata in 0.15 seconds\u001b[0m\n",
      "\u001b[32m2023-12-05 13:13:34,967\u001b[0m \u001b[34m\u001b[1mfinished booting PPACorpus at /Users/ryanheuser/ppa_data/corpus in 0.21 seconds\u001b[0m\n",
      "\u001b[32m2023-12-05 13:13:34,968\u001b[0m \u001b[34m\u001b[1mstarted generating page database at /Users/ryanheuser/ppa_data/corpus/data/work_pages.db\u001b[0m\n",
      "Saving texts to database:   9%|▊         | 601/6939 [00:00<00:07, 887.53it/s]"
     ]
    },
    {
     "name": "stdout",
     "output_type": "stream",
     "text": [
      "!! Compressed file ended before the end-of-stream marker was reached /Users/ryanheuser/ppa_data/corpus/texts_preproc/CW0111638786.jsonl.gz\n"
     ]
    },
    {
     "name": "stderr",
     "output_type": "stream",
     "text": [
      "Saving texts to database:  14%|█▍        | 964/6939 [03:18<20:28,  4.86it/s]  \n",
      "\u001b[32m2023-12-05 13:16:53,156\u001b[0m \u001b[34m\u001b[1mfinished generating page database at /Users/ryanheuser/ppa_data/corpus/data/work_pages.db in 3 minutes and 18.19 seconds\u001b[0m\n"
     ]
    },
    {
     "ename": "KeyboardInterrupt",
     "evalue": "",
     "output_type": "error",
     "traceback": [
      "\u001b[0;31m---------------------------------------------------------------------------\u001b[0m",
      "\u001b[0;31mKeyboardInterrupt\u001b[0m                         Traceback (most recent call last)",
      "\u001b[1;32m/Users/ryanheuser/github/ppa-nlp/notebooks/028_jsonl_tests.ipynb Cell 1\u001b[0m line \u001b[0;36m4\n\u001b[1;32m      <a href='vscode-notebook-cell:/Users/ryanheuser/github/ppa-nlp/notebooks/028_jsonl_tests.ipynb#W0sZmlsZQ%3D%3D?line=1'>2</a>\u001b[0m \u001b[39mfrom\u001b[39;00m \u001b[39mppanlp\u001b[39;00m \u001b[39mimport\u001b[39;00m \u001b[39m*\u001b[39m\n\u001b[1;32m      <a href='vscode-notebook-cell:/Users/ryanheuser/github/ppa-nlp/notebooks/028_jsonl_tests.ipynb#W0sZmlsZQ%3D%3D?line=2'>3</a>\u001b[0m ppa \u001b[39m=\u001b[39m PPA()\n\u001b[0;32m----> <a href='vscode-notebook-cell:/Users/ryanheuser/github/ppa-nlp/notebooks/028_jsonl_tests.ipynb#W0sZmlsZQ%3D%3D?line=3'>4</a>\u001b[0m ppa\u001b[39m.\u001b[39;49mgendb()\n",
      "File \u001b[0;32m~/github/ppa-nlp/ppanlp/corpus.py:244\u001b[0m, in \u001b[0;36mPPACorpus.gendb\u001b[0;34m(self, force)\u001b[0m\n\u001b[1;32m    242\u001b[0m \u001b[39mif\u001b[39;00m i\u001b[39m<\u001b[39m\u001b[39m600\u001b[39m: \u001b[39mcontinue\u001b[39;00m\n\u001b[1;32m    243\u001b[0m \u001b[39mif\u001b[39;00m t\u001b[39m.\u001b[39mis_cleaned:\n\u001b[0;32m--> 244\u001b[0m     t\u001b[39m.\u001b[39;49mgendb(force\u001b[39m=\u001b[39;49mforce)\n",
      "File \u001b[0;32m~/github/ppa-nlp/ppanlp/corpus.py:449\u001b[0m, in \u001b[0;36mPPAText.gendb\u001b[0;34m(self, force)\u001b[0m\n\u001b[1;32m    447\u001b[0m \u001b[39mdef\u001b[39;00m \u001b[39mgendb\u001b[39m(\u001b[39mself\u001b[39m, force\u001b[39m=\u001b[39m\u001b[39mFalse\u001b[39;00m):\n\u001b[1;32m    448\u001b[0m     Page\u001b[39m=\u001b[39m\u001b[39mself\u001b[39m\u001b[39m.\u001b[39mcorpus\u001b[39m.\u001b[39mpage_db\n\u001b[0;32m--> 449\u001b[0m     \u001b[39mif\u001b[39;00m force \u001b[39mor\u001b[39;00m (count\u001b[39m:=\u001b[39mPage\u001b[39m.\u001b[39;49mselect()\u001b[39m.\u001b[39;49mwhere(Page\u001b[39m.\u001b[39;49mwork_id\u001b[39m==\u001b[39;49m\u001b[39mself\u001b[39;49m\u001b[39m.\u001b[39;49mid)\u001b[39m.\u001b[39;49mcount()) \u001b[39m!=\u001b[39m \u001b[39mself\u001b[39m\u001b[39m.\u001b[39mnum_pages:\n\u001b[1;32m    450\u001b[0m         \u001b[39mif\u001b[39;00m force \u001b[39mor\u001b[39;00m count: \n\u001b[1;32m    451\u001b[0m             Page\u001b[39m.\u001b[39mdelete()\u001b[39m.\u001b[39mwhere(Page\u001b[39m.\u001b[39mwork_id\u001b[39m==\u001b[39m\u001b[39mself\u001b[39m\u001b[39m.\u001b[39mid)\u001b[39m.\u001b[39mexecute()\n",
      "File \u001b[0;32m~/github/ppa-nlp/venv/lib/python3.10/site-packages/peewee.py:1972\u001b[0m, in \u001b[0;36mdatabase_required.<locals>.inner\u001b[0;34m(self, database, *args, **kwargs)\u001b[0m\n\u001b[1;32m   1969\u001b[0m \u001b[39mif\u001b[39;00m \u001b[39mnot\u001b[39;00m database:\n\u001b[1;32m   1970\u001b[0m     \u001b[39mraise\u001b[39;00m InterfaceError(\u001b[39m'\u001b[39m\u001b[39mQuery must be bound to a database in order \u001b[39m\u001b[39m'\u001b[39m\n\u001b[1;32m   1971\u001b[0m                          \u001b[39m'\u001b[39m\u001b[39mto call \u001b[39m\u001b[39m\"\u001b[39m\u001b[39m%s\u001b[39;00m\u001b[39m\"\u001b[39m\u001b[39m.\u001b[39m\u001b[39m'\u001b[39m \u001b[39m%\u001b[39m method\u001b[39m.\u001b[39m\u001b[39m__name__\u001b[39m)\n\u001b[0;32m-> 1972\u001b[0m \u001b[39mreturn\u001b[39;00m method(\u001b[39mself\u001b[39;49m, database, \u001b[39m*\u001b[39;49margs, \u001b[39m*\u001b[39;49m\u001b[39m*\u001b[39;49mkwargs)\n",
      "File \u001b[0;32m~/github/ppa-nlp/venv/lib/python3.10/site-packages/peewee.py:2257\u001b[0m, in \u001b[0;36mSelectBase.count\u001b[0;34m(self, database, clear_limit)\u001b[0m\n\u001b[1;32m   2255\u001b[0m \u001b[39mexcept\u001b[39;00m \u001b[39mAttributeError\u001b[39;00m:\n\u001b[1;32m   2256\u001b[0m     \u001b[39mpass\u001b[39;00m\n\u001b[0;32m-> 2257\u001b[0m \u001b[39mreturn\u001b[39;00m Select([clone], [fn\u001b[39m.\u001b[39;49mCOUNT(SQL(\u001b[39m'\u001b[39;49m\u001b[39m1\u001b[39;49m\u001b[39m'\u001b[39;49m))])\u001b[39m.\u001b[39;49mscalar(database)\n",
      "File \u001b[0;32m~/github/ppa-nlp/venv/lib/python3.10/site-packages/peewee.py:1972\u001b[0m, in \u001b[0;36mdatabase_required.<locals>.inner\u001b[0;34m(self, database, *args, **kwargs)\u001b[0m\n\u001b[1;32m   1969\u001b[0m \u001b[39mif\u001b[39;00m \u001b[39mnot\u001b[39;00m database:\n\u001b[1;32m   1970\u001b[0m     \u001b[39mraise\u001b[39;00m InterfaceError(\u001b[39m'\u001b[39m\u001b[39mQuery must be bound to a database in order \u001b[39m\u001b[39m'\u001b[39m\n\u001b[1;32m   1971\u001b[0m                          \u001b[39m'\u001b[39m\u001b[39mto call \u001b[39m\u001b[39m\"\u001b[39m\u001b[39m%s\u001b[39;00m\u001b[39m\"\u001b[39m\u001b[39m.\u001b[39m\u001b[39m'\u001b[39m \u001b[39m%\u001b[39m method\u001b[39m.\u001b[39m\u001b[39m__name__\u001b[39m)\n\u001b[0;32m-> 1972\u001b[0m \u001b[39mreturn\u001b[39;00m method(\u001b[39mself\u001b[39;49m, database, \u001b[39m*\u001b[39;49margs, \u001b[39m*\u001b[39;49m\u001b[39m*\u001b[39;49mkwargs)\n",
      "File \u001b[0;32m~/github/ppa-nlp/venv/lib/python3.10/site-packages/peewee.py:2237\u001b[0m, in \u001b[0;36mSelectBase.scalar\u001b[0;34m(self, database, as_tuple, as_dict)\u001b[0m\n\u001b[1;32m   2235\u001b[0m \u001b[39mif\u001b[39;00m as_dict:\n\u001b[1;32m   2236\u001b[0m     \u001b[39mreturn\u001b[39;00m \u001b[39mself\u001b[39m\u001b[39m.\u001b[39mdicts()\u001b[39m.\u001b[39mpeek(database)\n\u001b[0;32m-> 2237\u001b[0m row \u001b[39m=\u001b[39m \u001b[39mself\u001b[39;49m\u001b[39m.\u001b[39;49mtuples()\u001b[39m.\u001b[39;49mpeek(database)\n\u001b[1;32m   2238\u001b[0m \u001b[39mreturn\u001b[39;00m row[\u001b[39m0\u001b[39m] \u001b[39mif\u001b[39;00m row \u001b[39mand\u001b[39;00m \u001b[39mnot\u001b[39;00m as_tuple \u001b[39melse\u001b[39;00m row\n",
      "File \u001b[0;32m~/github/ppa-nlp/venv/lib/python3.10/site-packages/peewee.py:1972\u001b[0m, in \u001b[0;36mdatabase_required.<locals>.inner\u001b[0;34m(self, database, *args, **kwargs)\u001b[0m\n\u001b[1;32m   1969\u001b[0m \u001b[39mif\u001b[39;00m \u001b[39mnot\u001b[39;00m database:\n\u001b[1;32m   1970\u001b[0m     \u001b[39mraise\u001b[39;00m InterfaceError(\u001b[39m'\u001b[39m\u001b[39mQuery must be bound to a database in order \u001b[39m\u001b[39m'\u001b[39m\n\u001b[1;32m   1971\u001b[0m                          \u001b[39m'\u001b[39m\u001b[39mto call \u001b[39m\u001b[39m\"\u001b[39m\u001b[39m%s\u001b[39;00m\u001b[39m\"\u001b[39m\u001b[39m.\u001b[39m\u001b[39m'\u001b[39m \u001b[39m%\u001b[39m method\u001b[39m.\u001b[39m\u001b[39m__name__\u001b[39m)\n\u001b[0;32m-> 1972\u001b[0m \u001b[39mreturn\u001b[39;00m method(\u001b[39mself\u001b[39;49m, database, \u001b[39m*\u001b[39;49margs, \u001b[39m*\u001b[39;49m\u001b[39m*\u001b[39;49mkwargs)\n",
      "File \u001b[0;32m~/github/ppa-nlp/venv/lib/python3.10/site-packages/peewee.py:2222\u001b[0m, in \u001b[0;36mSelectBase.peek\u001b[0;34m(self, database, n)\u001b[0m\n\u001b[1;32m   2220\u001b[0m \u001b[39m@database_required\u001b[39m\n\u001b[1;32m   2221\u001b[0m \u001b[39mdef\u001b[39;00m \u001b[39mpeek\u001b[39m(\u001b[39mself\u001b[39m, database, n\u001b[39m=\u001b[39m\u001b[39m1\u001b[39m):\n\u001b[0;32m-> 2222\u001b[0m     rows \u001b[39m=\u001b[39m \u001b[39mself\u001b[39;49m\u001b[39m.\u001b[39;49mexecute(database)[:n]\n\u001b[1;32m   2223\u001b[0m     \u001b[39mif\u001b[39;00m rows:\n\u001b[1;32m   2224\u001b[0m         \u001b[39mreturn\u001b[39;00m rows[\u001b[39m0\u001b[39m] \u001b[39mif\u001b[39;00m n \u001b[39m==\u001b[39m \u001b[39m1\u001b[39m \u001b[39melse\u001b[39;00m rows\n",
      "File \u001b[0;32m~/github/ppa-nlp/venv/lib/python3.10/site-packages/peewee.py:1972\u001b[0m, in \u001b[0;36mdatabase_required.<locals>.inner\u001b[0;34m(self, database, *args, **kwargs)\u001b[0m\n\u001b[1;32m   1969\u001b[0m \u001b[39mif\u001b[39;00m \u001b[39mnot\u001b[39;00m database:\n\u001b[1;32m   1970\u001b[0m     \u001b[39mraise\u001b[39;00m InterfaceError(\u001b[39m'\u001b[39m\u001b[39mQuery must be bound to a database in order \u001b[39m\u001b[39m'\u001b[39m\n\u001b[1;32m   1971\u001b[0m                          \u001b[39m'\u001b[39m\u001b[39mto call \u001b[39m\u001b[39m\"\u001b[39m\u001b[39m%s\u001b[39;00m\u001b[39m\"\u001b[39m\u001b[39m.\u001b[39m\u001b[39m'\u001b[39m \u001b[39m%\u001b[39m method\u001b[39m.\u001b[39m\u001b[39m__name__\u001b[39m)\n\u001b[0;32m-> 1972\u001b[0m \u001b[39mreturn\u001b[39;00m method(\u001b[39mself\u001b[39;49m, database, \u001b[39m*\u001b[39;49margs, \u001b[39m*\u001b[39;49m\u001b[39m*\u001b[39;49mkwargs)\n",
      "File \u001b[0;32m~/github/ppa-nlp/venv/lib/python3.10/site-packages/peewee.py:2043\u001b[0m, in \u001b[0;36mBaseQuery.execute\u001b[0;34m(self, database)\u001b[0m\n\u001b[1;32m   2041\u001b[0m \u001b[39m@database_required\u001b[39m\n\u001b[1;32m   2042\u001b[0m \u001b[39mdef\u001b[39;00m \u001b[39mexecute\u001b[39m(\u001b[39mself\u001b[39m, database):\n\u001b[0;32m-> 2043\u001b[0m     \u001b[39mreturn\u001b[39;00m \u001b[39mself\u001b[39;49m\u001b[39m.\u001b[39;49m_execute(database)\n",
      "File \u001b[0;32m~/github/ppa-nlp/venv/lib/python3.10/site-packages/peewee.py:2216\u001b[0m, in \u001b[0;36mSelectBase._execute\u001b[0;34m(self, database)\u001b[0m\n\u001b[1;32m   2214\u001b[0m \u001b[39mdef\u001b[39;00m \u001b[39m_execute\u001b[39m(\u001b[39mself\u001b[39m, database):\n\u001b[1;32m   2215\u001b[0m     \u001b[39mif\u001b[39;00m \u001b[39mself\u001b[39m\u001b[39m.\u001b[39m_cursor_wrapper \u001b[39mis\u001b[39;00m \u001b[39mNone\u001b[39;00m:\n\u001b[0;32m-> 2216\u001b[0m         cursor \u001b[39m=\u001b[39m database\u001b[39m.\u001b[39;49mexecute(\u001b[39mself\u001b[39;49m)\n\u001b[1;32m   2217\u001b[0m         \u001b[39mself\u001b[39m\u001b[39m.\u001b[39m_cursor_wrapper \u001b[39m=\u001b[39m \u001b[39mself\u001b[39m\u001b[39m.\u001b[39m_get_cursor_wrapper(cursor)\n\u001b[1;32m   2218\u001b[0m     \u001b[39mreturn\u001b[39;00m \u001b[39mself\u001b[39m\u001b[39m.\u001b[39m_cursor_wrapper\n",
      "File \u001b[0;32m~/github/ppa-nlp/venv/lib/python3.10/site-packages/peewee.py:3260\u001b[0m, in \u001b[0;36mDatabase.execute\u001b[0;34m(self, query, commit, **context_options)\u001b[0m\n\u001b[1;32m   3258\u001b[0m ctx \u001b[39m=\u001b[39m \u001b[39mself\u001b[39m\u001b[39m.\u001b[39mget_sql_context(\u001b[39m*\u001b[39m\u001b[39m*\u001b[39mcontext_options)\n\u001b[1;32m   3259\u001b[0m sql, params \u001b[39m=\u001b[39m ctx\u001b[39m.\u001b[39msql(query)\u001b[39m.\u001b[39mquery()\n\u001b[0;32m-> 3260\u001b[0m \u001b[39mreturn\u001b[39;00m \u001b[39mself\u001b[39;49m\u001b[39m.\u001b[39;49mexecute_sql(sql, params)\n",
      "File \u001b[0;32m~/github/ppa-nlp/venv/lib/python3.10/site-packages/peewee.py:3252\u001b[0m, in \u001b[0;36mDatabase.execute_sql\u001b[0;34m(self, sql, params, commit)\u001b[0m\n\u001b[1;32m   3250\u001b[0m \u001b[39mwith\u001b[39;00m __exception_wrapper__:\n\u001b[1;32m   3251\u001b[0m     cursor \u001b[39m=\u001b[39m \u001b[39mself\u001b[39m\u001b[39m.\u001b[39mcursor()\n\u001b[0;32m-> 3252\u001b[0m     cursor\u001b[39m.\u001b[39;49mexecute(sql, params \u001b[39mor\u001b[39;49;00m ())\n\u001b[1;32m   3253\u001b[0m \u001b[39mreturn\u001b[39;00m cursor\n",
      "\u001b[0;31mKeyboardInterrupt\u001b[0m: "
     ]
    }
   ],
   "source": [
    "import sys;sys.path.append('..')\n",
    "from ppanlp import *\n",
    "ppa = PPA()\n",
    "ppa.gendb()"
   ]
  },
  {
   "cell_type": "code",
   "execution_count": null,
   "metadata": {},
   "outputs": [],
   "source": []
  }
 ],
 "metadata": {
  "kernelspec": {
   "display_name": "venv",
   "language": "python",
   "name": "python3"
  },
  "language_info": {
   "codemirror_mode": {
    "name": "ipython",
    "version": 3
   },
   "file_extension": ".py",
   "mimetype": "text/x-python",
   "name": "python",
   "nbconvert_exporter": "python",
   "pygments_lexer": "ipython3",
   "version": "3.10.7"
  }
 },
 "nbformat": 4,
 "nbformat_minor": 2
}
