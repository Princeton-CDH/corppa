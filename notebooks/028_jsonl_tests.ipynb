{
 "cells": [
  {
   "cell_type": "code",
   "execution_count": 1,
   "metadata": {},
   "outputs": [
    {
     "name": "stderr",
     "output_type": "stream",
     "text": [
      "\u001b[32m2023-12-05 20:55:52,703\u001b[0m \u001b[34m\u001b[1m> booting PPACorpus at /Users/ryanheuser/ppa_data/corpus\u001b[0m\n",
      "\u001b[32m2023-12-05 20:55:52,704\u001b[0m \u001b[34m\u001b[1m   > reading metadata\u001b[0m\n",
      "\u001b[32m2023-12-05 20:55:52,817\u001b[0m \u001b[34m\u001b[1m   < took 0.11 seconds\u001b[0m\n",
      "\u001b[32m2023-12-05 20:55:52,866\u001b[0m \u001b[34m\u001b[1m< took 0.16 seconds\u001b[0m\n"
     ]
    }
   ],
   "source": [
    "import sys;sys.path.append('..')\n",
    "from ppanlp import *\n",
    "ppa = PPA()"
   ]
  },
  {
   "cell_type": "code",
   "execution_count": 2,
   "metadata": {},
   "outputs": [],
   "source": [
    "# for p in ppa.iter_pages_jsonl(as_dict=False): pass\n",
    "# p"
   ]
  },
  {
   "cell_type": "code",
   "execution_count": 3,
   "metadata": {},
   "outputs": [],
   "source": [
    "# for p in ppa.iter_pages_db(as_dict=False): pass\n",
    "# p"
   ]
  },
  {
   "cell_type": "code",
   "execution_count": 4,
   "metadata": {},
   "outputs": [],
   "source": [
    "# for p in ppa.iter_pages_text_jsons(as_dict=False): pass\n",
    "# p"
   ]
  },
  {
   "cell_type": "code",
   "execution_count": 5,
   "metadata": {},
   "outputs": [],
   "source": [
    "# for p in ppa.iter_pages(as_dict=False): pass\n",
    "# p"
   ]
  },
  {
   "cell_type": "code",
   "execution_count": 6,
   "metadata": {},
   "outputs": [
    {
     "name": "stderr",
     "output_type": "stream",
     "text": [
      "\u001b[32m2023-12-05 20:55:52,902\u001b[0m \u001b[34m\u001b[1m> iterating pages by page database\u001b[0m\n",
      "\u001b[32m2023-12-05 20:55:52,906\u001b[0m \u001b[34m\u001b[1m   > counting rows for query ({\"min_doc_len\": 100, \"frac_min\": 0.2, \"frac_max\": 0.30000000000000004})\u001b[0m\n",
      "\u001b[32m2023-12-05 20:55:55,879\u001b[0m \u001b[34m\u001b[1m   < took 2.97 seconds\u001b[0m\n",
      "\u001b[32m2023-12-05 20:55:55,882\u001b[0m \u001b[34m\u001b[1m   > iterating page database results ({\"min_doc_len\": 100, \"frac_min\": 0.2, \"frac_max\": 0.30000000000000004})\u001b[0m\n",
      "Iterating over page search results:  24%|██▍       | 118975/486204 [00:04<00:13, 26761.51it/s]\n",
      "\u001b[32m2023-12-05 20:56:00,331\u001b[0m \u001b[34m\u001b[1m   < took 4.45 seconds\u001b[0m\n",
      "\u001b[32m2023-12-05 20:56:00,331\u001b[0m \u001b[34m\u001b[1m< took 7.43 seconds\u001b[0m\n"
     ]
    },
    {
     "ename": "KeyboardInterrupt",
     "evalue": "",
     "output_type": "error",
     "traceback": [
      "\u001b[0;31m---------------------------------------------------------------------------\u001b[0m",
      "\u001b[0;31mKeyboardInterrupt\u001b[0m                         Traceback (most recent call last)",
      "\u001b[1;32m/Users/ryanheuser/github/ppa-nlp/notebooks/028_jsonl_tests.ipynb Cell 6\u001b[0m line \u001b[0;36m1\n\u001b[0;32m----> <a href='vscode-notebook-cell:/Users/ryanheuser/github/ppa-nlp/notebooks/028_jsonl_tests.ipynb#W6sZmlsZQ%3D%3D?line=0'>1</a>\u001b[0m \u001b[39mfor\u001b[39;00m p \u001b[39min\u001b[39;00m ppa\u001b[39m.\u001b[39miter_pages(as_dict\u001b[39m=\u001b[39m\u001b[39mFalse\u001b[39;00m, min_doc_len\u001b[39m=\u001b[39m\u001b[39m100\u001b[39m, frac_min\u001b[39m=\u001b[39m\u001b[39m0.2\u001b[39m, frac\u001b[39m=\u001b[39m\u001b[39m.1\u001b[39m): \u001b[39mpass\u001b[39;00m\n\u001b[1;32m      <a href='vscode-notebook-cell:/Users/ryanheuser/github/ppa-nlp/notebooks/028_jsonl_tests.ipynb#W6sZmlsZQ%3D%3D?line=1'>2</a>\u001b[0m p\n",
      "File \u001b[0;32m~/github/ppa-nlp/ppanlp/corpus.py:160\u001b[0m, in \u001b[0;36mPPACorpus.iter_pages\u001b[0;34m(self, use_db, as_dict, **query_kwargs)\u001b[0m\n\u001b[1;32m    158\u001b[0m \u001b[39mdef\u001b[39;00m \u001b[39miter_pages\u001b[39m(\u001b[39mself\u001b[39m, use_db\u001b[39m=\u001b[39m\u001b[39mFalse\u001b[39;00m, as_dict\u001b[39m=\u001b[39m\u001b[39mFalse\u001b[39;00m, \u001b[39m*\u001b[39m\u001b[39m*\u001b[39mquery_kwargs):\n\u001b[1;32m    159\u001b[0m     \u001b[39mif\u001b[39;00m (use_db \u001b[39mor\u001b[39;00m query_kwargs) \u001b[39mand\u001b[39;00m os\u001b[39m.\u001b[39mpath\u001b[39m.\u001b[39mexists(\u001b[39mself\u001b[39m\u001b[39m.\u001b[39mpath_page_db):\n\u001b[0;32m--> 160\u001b[0m         \u001b[39myield from\u001b[39;00m \u001b[39mself\u001b[39m\u001b[39m.\u001b[39miter_pages_db(as_dict\u001b[39m=\u001b[39mas_dict, \u001b[39m*\u001b[39m\u001b[39m*\u001b[39mquery_kwargs)\n\u001b[1;32m    161\u001b[0m     \u001b[39melse\u001b[39;00m:\n\u001b[1;32m    162\u001b[0m         \u001b[39mif\u001b[39;00m query_kwargs: \n",
      "File \u001b[0;32m~/github/ppa-nlp/ppanlp/corpus.py:183\u001b[0m, in \u001b[0;36mPPACorpus.iter_pages_db\u001b[0;34m(self, work_ids, clean, lim, min_doc_len, frac, frac_min, max_per_cluster, as_dict)\u001b[0m\n\u001b[1;32m    180\u001b[0m res,total,qkey \u001b[39m=\u001b[39m \u001b[39mself\u001b[39m\u001b[39m.\u001b[39mpage_db_query(frac\u001b[39m=\u001b[39mfrac,min_doc_len\u001b[39m=\u001b[39mmin_doc_len,frac_min\u001b[39m=\u001b[39mfrac_min)\n\u001b[1;32m    182\u001b[0m \u001b[39mwith\u001b[39;00m logwatch(\u001b[39mf\u001b[39m\u001b[39m'\u001b[39m\u001b[39miterating page database results (\u001b[39m\u001b[39m{\u001b[39;00mqkey\u001b[39m}\u001b[39;00m\u001b[39m)\u001b[39m\u001b[39m'\u001b[39m):\n\u001b[0;32m--> 183\u001b[0m     \u001b[39mfor\u001b[39;00m page_rec \u001b[39min\u001b[39;00m tqdm(res,total\u001b[39m=\u001b[39mtotal,desc\u001b[39m=\u001b[39m\u001b[39m'\u001b[39m\u001b[39mIterating over page search results\u001b[39m\u001b[39m'\u001b[39m):\n\u001b[1;32m    184\u001b[0m         d\u001b[39m=\u001b[39mpage_rec\u001b[39m.\u001b[39m__data__        \n\u001b[1;32m    185\u001b[0m         \u001b[39mif\u001b[39;00m \u001b[39m'\u001b[39m\u001b[39mid\u001b[39m\u001b[39m'\u001b[39m \u001b[39min\u001b[39;00m d: \u001b[39mdel\u001b[39;00m d[\u001b[39m'\u001b[39m\u001b[39mid\u001b[39m\u001b[39m'\u001b[39m]\n",
      "File \u001b[0;32m~/github/ppa-nlp/venv/lib/python3.10/site-packages/tqdm/std.py:1182\u001b[0m, in \u001b[0;36mtqdm.__iter__\u001b[0;34m(self)\u001b[0m\n\u001b[1;32m   1179\u001b[0m time \u001b[39m=\u001b[39m \u001b[39mself\u001b[39m\u001b[39m.\u001b[39m_time\n\u001b[1;32m   1181\u001b[0m \u001b[39mtry\u001b[39;00m:\n\u001b[0;32m-> 1182\u001b[0m     \u001b[39mfor\u001b[39;00m obj \u001b[39min\u001b[39;00m iterable:\n\u001b[1;32m   1183\u001b[0m         \u001b[39myield\u001b[39;00m obj\n\u001b[1;32m   1184\u001b[0m         \u001b[39m# Update and possibly print the progressbar.\u001b[39;00m\n\u001b[1;32m   1185\u001b[0m         \u001b[39m# Note: does not call self.update(1) for speed optimisation.\u001b[39;00m\n",
      "File \u001b[0;32m~/github/ppa-nlp/venv/lib/python3.10/site-packages/peewee.py:4612\u001b[0m, in \u001b[0;36mResultIterator.next\u001b[0;34m(self)\u001b[0m\n\u001b[1;32m   4610\u001b[0m     obj \u001b[39m=\u001b[39m \u001b[39mself\u001b[39m\u001b[39m.\u001b[39mcursor_wrapper\u001b[39m.\u001b[39mrow_cache[\u001b[39mself\u001b[39m\u001b[39m.\u001b[39mindex]\n\u001b[1;32m   4611\u001b[0m \u001b[39melif\u001b[39;00m \u001b[39mnot\u001b[39;00m \u001b[39mself\u001b[39m\u001b[39m.\u001b[39mcursor_wrapper\u001b[39m.\u001b[39mpopulated:\n\u001b[0;32m-> 4612\u001b[0m     \u001b[39mself\u001b[39;49m\u001b[39m.\u001b[39;49mcursor_wrapper\u001b[39m.\u001b[39;49miterate()\n\u001b[1;32m   4613\u001b[0m     obj \u001b[39m=\u001b[39m \u001b[39mself\u001b[39m\u001b[39m.\u001b[39mcursor_wrapper\u001b[39m.\u001b[39mrow_cache[\u001b[39mself\u001b[39m\u001b[39m.\u001b[39mindex]\n\u001b[1;32m   4614\u001b[0m \u001b[39melse\u001b[39;00m:\n",
      "File \u001b[0;32m~/github/ppa-nlp/venv/lib/python3.10/site-packages/peewee.py:4523\u001b[0m, in \u001b[0;36mCursorWrapper.iterate\u001b[0;34m(self, cache)\u001b[0m\n\u001b[1;32m   4522\u001b[0m \u001b[39mdef\u001b[39;00m \u001b[39miterate\u001b[39m(\u001b[39mself\u001b[39m, cache\u001b[39m=\u001b[39m\u001b[39mTrue\u001b[39;00m):\n\u001b[0;32m-> 4523\u001b[0m     row \u001b[39m=\u001b[39m \u001b[39mself\u001b[39;49m\u001b[39m.\u001b[39;49mcursor\u001b[39m.\u001b[39;49mfetchone()\n\u001b[1;32m   4524\u001b[0m     \u001b[39mif\u001b[39;00m row \u001b[39mis\u001b[39;00m \u001b[39mNone\u001b[39;00m:\n\u001b[1;32m   4525\u001b[0m         \u001b[39mself\u001b[39m\u001b[39m.\u001b[39mpopulated \u001b[39m=\u001b[39m \u001b[39mTrue\u001b[39;00m\n",
      "\u001b[0;31mKeyboardInterrupt\u001b[0m: "
     ]
    }
   ],
   "source": [
    "for p in ppa.iter_pages(as_dict=False, min_doc_len=100, frac_min=0.2, frac=.1): pass\n",
    "p"
   ]
  },
  {
   "cell_type": "code",
   "execution_count": null,
   "metadata": {},
   "outputs": [],
   "source": []
  },
  {
   "cell_type": "code",
   "execution_count": null,
   "metadata": {},
   "outputs": [],
   "source": []
  }
 ],
 "metadata": {
  "kernelspec": {
   "display_name": "venv",
   "language": "python",
   "name": "python3"
  },
  "language_info": {
   "codemirror_mode": {
    "name": "ipython",
    "version": 3
   },
   "file_extension": ".py",
   "mimetype": "text/x-python",
   "name": "python",
   "nbconvert_exporter": "python",
   "pygments_lexer": "ipython3",
   "version": "3.10.7"
  }
 },
 "nbformat": 4,
 "nbformat_minor": 2
}
