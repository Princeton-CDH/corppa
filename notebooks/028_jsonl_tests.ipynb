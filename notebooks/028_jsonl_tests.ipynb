{
 "cells": [
  {
   "cell_type": "code",
   "execution_count": 1,
   "metadata": {},
   "outputs": [
    {
     "name": "stderr",
     "output_type": "stream",
     "text": [
      "\u001b[32m2023-12-05 13:57:15,731\u001b[0m \u001b[34m\u001b[1mstarted booting PPACorpus at /Users/ryanheuser/ppa_data/corpus\u001b[0m\n",
      "\u001b[32m2023-12-05 13:57:15,732\u001b[0m \u001b[34m\u001b[1m  started reading metadata\u001b[0m\n",
      "\u001b[32m2023-12-05 13:57:15,866\u001b[0m \u001b[34m\u001b[1m  finished reading metadata in 0.13 seconds\u001b[0m\n",
      "\u001b[32m2023-12-05 13:57:15,918\u001b[0m \u001b[34m\u001b[1mfinished booting PPACorpus at /Users/ryanheuser/ppa_data/corpus in 0.19 seconds\u001b[0m\n"
     ]
    },
    {
     "ename": "KeyError",
     "evalue": "'x'",
     "output_type": "error",
     "traceback": [
      "\u001b[0;31m---------------------------------------------------------------------------\u001b[0m",
      "\u001b[0;31mKeyError\u001b[0m                                  Traceback (most recent call last)",
      "\u001b[1;32m/Users/ryanheuser/github/ppa-nlp/notebooks/028_jsonl_tests.ipynb Cell 1\u001b[0m line \u001b[0;36m4\n\u001b[1;32m      <a href='vscode-notebook-cell:/Users/ryanheuser/github/ppa-nlp/notebooks/028_jsonl_tests.ipynb#W0sZmlsZQ%3D%3D?line=1'>2</a>\u001b[0m \u001b[39mfrom\u001b[39;00m \u001b[39mppanlp\u001b[39;00m \u001b[39mimport\u001b[39;00m \u001b[39m*\u001b[39m\n\u001b[1;32m      <a href='vscode-notebook-cell:/Users/ryanheuser/github/ppa-nlp/notebooks/028_jsonl_tests.ipynb#W0sZmlsZQ%3D%3D?line=2'>3</a>\u001b[0m ppa \u001b[39m=\u001b[39m PPA()\n\u001b[0;32m----> <a href='vscode-notebook-cell:/Users/ryanheuser/github/ppa-nlp/notebooks/028_jsonl_tests.ipynb#W0sZmlsZQ%3D%3D?line=3'>4</a>\u001b[0m ppa\u001b[39m.\u001b[39;49mgendb(startover\u001b[39m=\u001b[39;49m\u001b[39mTrue\u001b[39;49;00m)\n",
      "File \u001b[0;32m~/github/ppa-nlp/ppanlp/corpus.py:249\u001b[0m, in \u001b[0;36mPPACorpus.gendb\u001b[0;34m(self, force, startover)\u001b[0m\n\u001b[1;32m    247\u001b[0m \u001b[39mfor\u001b[39;00m x \u001b[39min\u001b[39;00m [\u001b[39m'\u001b[39m\u001b[39mpage_db\u001b[39m\u001b[39m'\u001b[39m,\u001b[39m'\u001b[39m\u001b[39m_page_db_conn\u001b[39m\u001b[39m'\u001b[39m]:\n\u001b[1;32m    248\u001b[0m     \u001b[39mif\u001b[39;00m x \u001b[39min\u001b[39;00m \u001b[39mself\u001b[39m\u001b[39m.\u001b[39m\u001b[39m__dict__\u001b[39m:\n\u001b[0;32m--> 249\u001b[0m         \u001b[39mdel\u001b[39;00m \u001b[39mself\u001b[39m\u001b[39m.\u001b[39m\u001b[39m__dict__\u001b[39m[\u001b[39m'\u001b[39m\u001b[39mx\u001b[39m\u001b[39m'\u001b[39m]\n\u001b[1;32m    250\u001b[0m os\u001b[39m.\u001b[39munlink(\u001b[39mself\u001b[39m\u001b[39m.\u001b[39mpath_page_db)\n\u001b[1;32m    251\u001b[0m \u001b[39mself\u001b[39m\u001b[39m.\u001b[39mpage_db\n",
      "\u001b[0;31mKeyError\u001b[0m: 'x'"
     ]
    }
   ],
   "source": [
    "import sys;sys.path.append('..')\n",
    "from ppanlp import *\n",
    "ppa = PPA()\n",
    "ppa.gendb(startover=True)"
   ]
  },
  {
   "cell_type": "code",
   "execution_count": null,
   "metadata": {},
   "outputs": [],
   "source": []
  }
 ],
 "metadata": {
  "kernelspec": {
   "display_name": "venv",
   "language": "python",
   "name": "python3"
  },
  "language_info": {
   "codemirror_mode": {
    "name": "ipython",
    "version": 3
   },
   "file_extension": ".py",
   "mimetype": "text/x-python",
   "name": "python",
   "nbconvert_exporter": "python",
   "pygments_lexer": "ipython3",
   "version": "3.10.7"
  }
 },
 "nbformat": 4,
 "nbformat_minor": 2
}
