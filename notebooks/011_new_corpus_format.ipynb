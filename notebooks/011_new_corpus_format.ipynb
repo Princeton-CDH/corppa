{
 "cells": [
  {
   "cell_type": "code",
   "execution_count": 1,
   "id": "89614316-9669-4417-879b-b419294f7cd3",
   "metadata": {},
   "outputs": [],
   "source": [
    "# Finding missing files\n",
    "import sys; sys.path.insert(0,'..')\n",
    "from ppanlp import *"
   ]
  },
  {
   "cell_type": "code",
   "execution_count": 2,
   "id": "31b5c06d-fc34-4af6-b20c-56349f3dbdfe",
   "metadata": {},
   "outputs": [],
   "source": [
    "# f=gen_plaintext_mini_corpus()"
   ]
  },
  {
   "cell_type": "code",
   "execution_count": 3,
   "id": "45fad98b-1c0a-4c30-843c-74318a3205c2",
   "metadata": {},
   "outputs": [],
   "source": [
    "# for d in f: pass"
   ]
  },
  {
   "cell_type": "code",
   "execution_count": 4,
   "id": "05fbad5f-9117-4f6c-9fba-8c1f08ede58e",
   "metadata": {},
   "outputs": [
    {
     "name": "stderr",
     "output_type": "stream",
     "text": [
      "415220it [00:04, 100246.76it/s]\n",
      "100%|████████████████████████████████████████████████| 1498/1498 [08:43<00:00,  2.86it/s]\n",
      "100%|███████████████████████████████████████| 1498802/1498802 [02:08<00:00, 11637.80it/s]\n"
     ]
    }
   ],
   "source": [
    "save_plaintext_mini_corpus()"
   ]
  },
  {
   "cell_type": "code",
   "execution_count": 5,
   "id": "4fea25ec-e85f-4f39-beee-0c75e7a84502",
   "metadata": {},
   "outputs": [],
   "source": [
    "# f=iter_ppa_pages()\n",
    "# next(f)"
   ]
  },
  {
   "cell_type": "code",
   "execution_count": 14,
   "id": "f2e78fe3-80ae-4338-b7a0-bcc87eadc12c",
   "metadata": {},
   "outputs": [],
   "source": [
    "import orjson\n",
    "\n",
    "def save_plaintext_mini_corpus_jsons():\n",
    "    ## metadata\n",
    "    df=get_ppa_metadata()\n",
    "    os.makedirs(PATH_TEXT_CORPUS_TEXTS_JSONS, exist_ok=True)\n",
    "    df.to_csv(PATH_TEXT_CORPUS_METADATA_JSONS)\n",
    "\n",
    "    ## data\n",
    "    last_id=None\n",
    "    out=[]\n",
    "    for d in iter_ppa_pages():\n",
    "        id=d.pop('sourcepage_id')\n",
    "        if last_id and id!=last_id and out:\n",
    "            ofn=os.path.join(PATH_TEXT_CORPUS_TEXTS_JSONS, last_id+'.json')\n",
    "            with open(ofn,'wb') as of: of.write(orjson.dumps(out,option=orjson.OPT_INDENT_2))\n",
    "            out = []\n",
    "        last_id=id\n",
    "        out.append(d)\n",
    "    if last_id and out:\n",
    "        ofn=os.path.join(PATH_TEXT_CORPUS_TEXTS_JSONS, last_id+'.json')\n",
    "        with open(ofn,'wb') as of: of.write(orjson.dumps(out,option=orjson.OPT_INDENT_2))\n"
   ]
  },
  {
   "cell_type": "code",
   "execution_count": 15,
   "id": "adc13dc5-7c92-4742-8210-fd9ad9bf80ac",
   "metadata": {},
   "outputs": [
    {
     "name": "stderr",
     "output_type": "stream",
     "text": [
      " 94%|████████████████████████████████████▍  | 1893144/2023958 [00:44<00:03, 42324.85it/s]\n"
     ]
    }
   ],
   "source": [
    "save_plaintext_mini_corpus_jsons()"
   ]
  },
  {
   "cell_type": "code",
   "execution_count": null,
   "id": "9a93131a-ca04-4cbc-978b-f379d8db8fb5",
   "metadata": {},
   "outputs": [],
   "source": []
  }
 ],
 "metadata": {
  "kernelspec": {
   "display_name": "Python 3 (ipykernel)",
   "language": "python",
   "name": "python3"
  },
  "language_info": {
   "codemirror_mode": {
    "name": "ipython",
    "version": 3
   },
   "file_extension": ".py",
   "mimetype": "text/x-python",
   "name": "python",
   "nbconvert_exporter": "python",
   "pygments_lexer": "ipython3",
   "version": "3.9.13"
  }
 },
 "nbformat": 4,
 "nbformat_minor": 5
}
