{
 "cells": [
  {
   "cell_type": "code",
   "execution_count": 1,
   "id": "a0148e7e",
   "metadata": {},
   "outputs": [],
   "source": [
    "# !pip install -U -r /Users/ryanheuser/github/ppa-django/requirements.txt\n",
    "# !pip install -r ../requirements.txt\n",
    "# !pip install git+https://github.com/Princeton-CDH/parasolr\n",
    "import sys; sys.path.insert(0,'..')\n",
    "from ppanlp import *\n",
    "here = '/Users/ryanheuser/github/ppa-nlp/notebooks'\n",
    "# os.chdir(here)"
   ]
  },
  {
   "cell_type": "code",
   "execution_count": 2,
   "id": "f4f51faf",
   "metadata": {},
   "outputs": [],
   "source": [
    "# !pip install debug_toolbar"
   ]
  },
  {
   "cell_type": "code",
   "execution_count": 3,
   "id": "f9e7652d",
   "metadata": {},
   "outputs": [],
   "source": [
    "import django\n",
    "PROJECTPATH = '/Users/ryanheuser/github/ppa-django'\n",
    "sys.path.insert(0, PROJECTPATH)\n",
    "os.environ.setdefault(\"DJANGO_SETTINGS_MODULE\", \"ppa.settings\")\n",
    "os.environ[\"DJANGO_ALLOW_ASYNC_UNSAFE\"] = \"true\""
   ]
  },
  {
   "cell_type": "code",
   "execution_count": 4,
   "id": "6432955c",
   "metadata": {},
   "outputs": [],
   "source": [
    "os.chdir(PROJECTPATH)\n",
    "django.setup()\n",
    "os.chdir(here)"
   ]
  },
  {
   "cell_type": "code",
   "execution_count": 5,
   "id": "ca61758c",
   "metadata": {},
   "outputs": [],
   "source": [
    "#### ready\n",
    "from ppa.archive.models import DigitizedWork\n",
    "from ppa.archive.hathi import HathiObject"
   ]
  },
  {
   "cell_type": "code",
   "execution_count": 6,
   "id": "6d759d68-7651-4f5e-ae85-7c21e6f90167",
   "metadata": {},
   "outputs": [
    {
     "name": "stderr",
     "output_type": "stream",
     "text": [
      "INFO:parasolr.django.solrclient:Connecting to default Solr http://localhost:8983/solr/ppa\n"
     ]
    },
    {
     "data": {
      "text/plain": [
       "5129"
      ]
     },
     "execution_count": 6,
     "metadata": {},
     "output_type": "execute_result"
    }
   ],
   "source": [
    "# Get data\n",
    "works_with_hathi=[t for t in DigitizedWork.objects.all() if t.hathi]\n",
    "len(works_with_hathi)"
   ]
  },
  {
   "cell_type": "code",
   "execution_count": 7,
   "id": "1f801a8a-291a-4717-84b1-3858f5f8476a",
   "metadata": {},
   "outputs": [
    {
     "data": {
      "text/plain": [
       "(<DigitizedWork: mdp.39015043572422 (12-33)>,\n",
       " <ppa.archive.hathi.HathiObject at 0x12905ad60>)"
      ]
     },
     "execution_count": 7,
     "metadata": {},
     "output_type": "execute_result"
    }
   ],
   "source": [
    "hathi_work = works_with_hathi[0]\n",
    "hathi_work, hathi_work.hathi"
   ]
  },
  {
   "cell_type": "code",
   "execution_count": 13,
   "id": "4bf175ee",
   "metadata": {},
   "outputs": [],
   "source": [
    "# Adapted from hathi_page_index_data\n",
    "\n",
    "def iter_pages(self, page_span=None, **meta):\n",
    "    \"\"\"Get page content for the specified digitized work from Hathi\n",
    "    pairtree and return data to be indexed in solr.\"\"\"\n",
    "\n",
    "    from zipfile import ZipFile\n",
    "    from eulxml.xmlmap import load_xmlobject_from_file\n",
    "    from ppa.archive.hathi import MinimalMETS\n",
    "    from pairtree import storage_exceptions\n",
    "\n",
    "\n",
    "    # load mets record to pull metadata about the images\n",
    "    try:\n",
    "        mmets = load_xmlobject_from_file(self.metsfile_path(), MinimalMETS)\n",
    "    except storage_exceptions.ObjectNotFoundException:\n",
    "        # logger.debug(\n",
    "        #     \"Pairtree data for %s not found\",\n",
    "        #     self.hathi_id,\n",
    "        # )\n",
    "        return\n",
    "\n",
    "    # read zipfile contents in place, without unzipping\n",
    "    with ZipFile(self.zipfile_path()) as ht_zip:\n",
    "        # yield a generator of index data for each page; iterate\n",
    "        # over pages in METS structmap\n",
    "        for i, page in enumerate(mmets.structmap_pages, 1):\n",
    "            # if the document has a page range defined, skip any pages not in range\n",
    "            if page_span and i not in page_span: continue\n",
    "\n",
    "            # zipfile spec uses / for path regardless of OS\n",
    "            pagefilename = f'{self.content_dir}/{page.text_file_location}'\n",
    "\n",
    "            with ht_zip.open(pagefilename) as pagefile:\n",
    "                try:\n",
    "                    yield {\n",
    "                        \"source_id\": self.hathi_id,\n",
    "                        \"page_id\": page.text_file.sequence,                        \n",
    "                        \"page_i\": i,\n",
    "                        \"content\": pagefile.read().decode(\"utf-8\"),\n",
    "                        \"order\": page.order,\n",
    "                        \"label\": page.display_label,\n",
    "                        \"tags\": page.label.split(\", \") if page.label else [],\n",
    "                        \"item_type\": \"page\",\n",
    "                    }\n",
    "                except StopIteration:\n",
    "                    return\n",
    "\n",
    "                \n",
    "HathiObject.iter_pages = iter_pages"
   ]
  },
  {
   "cell_type": "code",
   "execution_count": 18,
   "id": "cf12793a-ff44-4992-a978-0869ac0790a9",
   "metadata": {},
   "outputs": [
    {
     "data": {
      "text/plain": [
       "<generator object iter_pages at 0x12aaa8ac0>"
      ]
     },
     "execution_count": 18,
     "metadata": {},
     "output_type": "execute_result"
    }
   ],
   "source": [
    "f=hathi_work.hathi.iter_pages()\n",
    "f"
   ]
  },
  {
   "cell_type": "code",
   "execution_count": 20,
   "id": "2433f981-c561-4593-9a92-eaefe126cbdd",
   "metadata": {},
   "outputs": [],
   "source": [
    "# !pip install jsonlines\n",
    "# import jsonlines"
   ]
  },
  {
   "cell_type": "code",
   "execution_count": 21,
   "id": "c4f4ae04-d77f-4547-ac45-5e0808a30404",
   "metadata": {},
   "outputs": [],
   "source": [
    "def save_hathi_pages_as_jsonl():\n",
    "    with jsonlines.open('../data/data.hathi_pages.jsonl', mode='w') as writer:\n",
    "        for text in tqdm(works_with_hathi,position=0):\n",
    "            for page_d in text.hathi.iter_pages():\n",
    "                writer.write(page_d)"
   ]
  },
  {
   "cell_type": "code",
   "execution_count": null,
   "id": "444b68bd-25fe-4905-90d0-caddca54523c",
   "metadata": {},
   "outputs": [
    {
     "name": "stderr",
     "output_type": "stream",
     "text": [
      "  0%|                                                  | 0/5129 [10:17<?, ?it/s]\n",
      " 22%|████████▋                              | 1148/5129 [12:14<16:47,  3.95it/s]"
     ]
    }
   ],
   "source": [
    "save_hathi_pages_as_jsonl()"
   ]
  },
  {
   "cell_type": "code",
   "execution_count": null,
   "id": "73ee49f3-5ee8-416d-a208-f1fccbbd0238",
   "metadata": {},
   "outputs": [],
   "source": []
  }
 ],
 "metadata": {
  "kernelspec": {
   "display_name": "Python 3 (ipykernel)",
   "language": "python",
   "name": "python3"
  },
  "language_info": {
   "codemirror_mode": {
    "name": "ipython",
    "version": 3
   },
   "file_extension": ".py",
   "mimetype": "text/x-python",
   "name": "python",
   "nbconvert_exporter": "python",
   "pygments_lexer": "ipython3",
   "version": "3.9.13"
  }
 },
 "nbformat": 4,
 "nbformat_minor": 5
}
