{
 "cells": [
  {
   "cell_type": "code",
   "execution_count": 1,
   "id": "a0148e7e",
   "metadata": {},
   "outputs": [],
   "source": [
    "# !pip install -U -r /Users/ryanheuser/github/ppa-django/requirements.txt\n",
    "# !pip install -r ../requirements.txt\n",
    "# !pip install git+https://github.com/Princeton-CDH/parasolr\n",
    "import sys; sys.path.insert(0,'..')\n",
    "from ppanlp import *\n",
    "here = '/Users/ryanheuser/github/ppa-nlp/notebooks'\n",
    "# os.chdir(here)"
   ]
  },
  {
   "cell_type": "code",
   "execution_count": 2,
   "id": "f4f51faf",
   "metadata": {},
   "outputs": [],
   "source": [
    "# !pip install debug_toolbar"
   ]
  },
  {
   "cell_type": "code",
   "execution_count": 3,
   "id": "f9e7652d",
   "metadata": {},
   "outputs": [],
   "source": [
    "import django\n",
    "PROJECTPATH = '/Users/ryanheuser/github/ppa-django'\n",
    "sys.path.insert(0, PROJECTPATH)\n",
    "os.environ.setdefault(\"DJANGO_SETTINGS_MODULE\", \"ppa.settings\")\n",
    "os.environ[\"DJANGO_ALLOW_ASYNC_UNSAFE\"] = \"true\""
   ]
  },
  {
   "cell_type": "code",
   "execution_count": 4,
   "id": "6432955c",
   "metadata": {},
   "outputs": [],
   "source": [
    "os.chdir(PROJECTPATH)\n",
    "django.setup()\n",
    "os.chdir(here)"
   ]
  },
  {
   "cell_type": "code",
   "execution_count": 5,
   "id": "ca61758c",
   "metadata": {},
   "outputs": [],
   "source": [
    "#### ready\n",
    "from ppa.archive.models import DigitizedWork\n",
    "from ppa.archive.hathi import HathiObject"
   ]
  },
  {
   "cell_type": "code",
   "execution_count": 6,
   "id": "6d759d68-7651-4f5e-ae85-7c21e6f90167",
   "metadata": {},
   "outputs": [
    {
     "name": "stderr",
     "output_type": "stream",
     "text": [
      "INFO:parasolr.django.solrclient:Connecting to default Solr http://localhost:8983/solr/ppa\n"
     ]
    },
    {
     "data": {
      "text/plain": [
       "5129"
      ]
     },
     "execution_count": 6,
     "metadata": {},
     "output_type": "execute_result"
    }
   ],
   "source": [
    "# Get data\n",
    "works_with_hathi=[t for t in DigitizedWork.objects.all() if t.hathi]\n",
    "len(works_with_hathi)"
   ]
  },
  {
   "cell_type": "code",
   "execution_count": 7,
   "id": "1f801a8a-291a-4717-84b1-3858f5f8476a",
   "metadata": {},
   "outputs": [
    {
     "data": {
      "text/plain": [
       "(<DigitizedWork: mdp.39015043572422 (12-33)>,\n",
       " <ppa.archive.hathi.HathiObject at 0x12905ad60>)"
      ]
     },
     "execution_count": 7,
     "metadata": {},
     "output_type": "execute_result"
    }
   ],
   "source": [
    "hathi_work = works_with_hathi[0]\n",
    "hathi_work, hathi_work.hathi"
   ]
  },
  {
   "cell_type": "code",
   "execution_count": 13,
   "id": "4bf175ee",
   "metadata": {},
   "outputs": [],
   "source": [
    "# Adapted from hathi_page_index_data\n",
    "\n",
    "def iter_pages(self, page_span=None, **meta):\n",
    "    \"\"\"Get page content for the specified digitized work from Hathi\n",
    "    pairtree and return data to be indexed in solr.\"\"\"\n",
    "\n",
    "    from zipfile import ZipFile\n",
    "    from eulxml.xmlmap import load_xmlobject_from_file\n",
    "    from ppa.archive.hathi import MinimalMETS\n",
    "    from pairtree import storage_exceptions\n",
    "\n",
    "\n",
    "    # load mets record to pull metadata about the images\n",
    "    try:\n",
    "        mmets = load_xmlobject_from_file(self.metsfile_path(), MinimalMETS)\n",
    "    except storage_exceptions.ObjectNotFoundException:\n",
    "        # logger.debug(\n",
    "        #     \"Pairtree data for %s not found\",\n",
    "        #     self.hathi_id,\n",
    "        # )\n",
    "        return\n",
    "\n",
    "    # read zipfile contents in place, without unzipping\n",
    "    with ZipFile(self.zipfile_path()) as ht_zip:\n",
    "        # yield a generator of index data for each page; iterate\n",
    "        # over pages in METS structmap\n",
    "        for i, page in enumerate(mmets.structmap_pages, 1):\n",
    "            # if the document has a page range defined, skip any pages not in range\n",
    "            if page_span and i not in page_span: continue\n",
    "\n",
    "            # zipfile spec uses / for path regardless of OS\n",
    "            pagefilename = f'{self.content_dir}/{page.text_file_location}'\n",
    "\n",
    "            with ht_zip.open(pagefilename) as pagefile:\n",
    "                try:\n",
    "                    yield {\n",
    "                        \"source_id\": self.hathi_id,\n",
    "                        \"page_id\": page.text_file.sequence,                        \n",
    "                        \"page_i\": i,\n",
    "                        \"content\": pagefile.read().decode(\"utf-8\"),\n",
    "                        \"order\": page.order,\n",
    "                        \"label\": page.display_label,\n",
    "                        \"tags\": page.label.split(\", \") if page.label else [],\n",
    "                        \"item_type\": \"page\",\n",
    "                    }\n",
    "                except StopIteration:\n",
    "                    return\n",
    "\n",
    "                \n",
    "HathiObject.iter_pages = iter_pages"
   ]
  },
  {
   "cell_type": "code",
   "execution_count": 18,
   "id": "cf12793a-ff44-4992-a978-0869ac0790a9",
   "metadata": {},
   "outputs": [
    {
     "data": {
      "text/plain": [
       "<generator object iter_pages at 0x12aaa8ac0>"
      ]
     },
     "execution_count": 18,
     "metadata": {},
     "output_type": "execute_result"
    }
   ],
   "source": [
    "f=hathi_work.hathi.iter_pages()\n",
    "f"
   ]
  },
  {
   "cell_type": "code",
   "execution_count": 20,
   "id": "2433f981-c561-4593-9a92-eaefe126cbdd",
   "metadata": {},
   "outputs": [],
   "source": [
    "# !pip install jsonlines\n",
    "# import jsonlines"
   ]
  },
  {
   "cell_type": "code",
   "execution_count": 21,
   "id": "c4f4ae04-d77f-4547-ac45-5e0808a30404",
   "metadata": {},
   "outputs": [],
   "source": [
    "def save_hathi_pages_as_jsonl():\n",
    "    with jsonlines.open('../data/data.hathi_pages.jsonl', mode='w') as writer:\n",
    "        for text in tqdm(works_with_hathi,position=0):\n",
    "            for page_d in text.hathi.iter_pages():\n",
    "                writer.write(page_d)"
   ]
  },
  {
   "cell_type": "code",
   "execution_count": 23,
   "id": "444b68bd-25fe-4905-90d0-caddca54523c",
   "metadata": {},
   "outputs": [],
   "source": [
    "# save_hathi_pages_as_jsonl()"
   ]
  },
  {
   "cell_type": "code",
   "execution_count": 24,
   "id": "7f413198-aadb-4486-919a-8cce70c0a3a8",
   "metadata": {},
   "outputs": [
    {
     "data": {
      "text/html": [
       "<div>\n",
       "<style scoped>\n",
       "    .dataframe tbody tr th:only-of-type {\n",
       "        vertical-align: middle;\n",
       "    }\n",
       "\n",
       "    .dataframe tbody tr th {\n",
       "        vertical-align: top;\n",
       "    }\n",
       "\n",
       "    .dataframe thead th {\n",
       "        text-align: right;\n",
       "    }\n",
       "</style>\n",
       "<table border=\"1\" class=\"dataframe\">\n",
       "  <thead>\n",
       "    <tr style=\"text-align: right;\">\n",
       "      <th></th>\n",
       "      <th>source_id</th>\n",
       "      <th>page_id</th>\n",
       "      <th>page_i</th>\n",
       "      <th>content</th>\n",
       "      <th>order</th>\n",
       "      <th>label</th>\n",
       "      <th>tags</th>\n",
       "      <th>item_type</th>\n",
       "    </tr>\n",
       "  </thead>\n",
       "  <tbody>\n",
       "    <tr>\n",
       "      <th>0</th>\n",
       "      <td>mdp.39015043572422</td>\n",
       "      <td>1</td>\n",
       "      <td>1</td>\n",
       "      <td></td>\n",
       "      <td>1</td>\n",
       "      <td>1</td>\n",
       "      <td>[FRONT_COVER, IMPLICIT_PAGE_NUMBER, MISSING_PAGE]</td>\n",
       "      <td>page</td>\n",
       "    </tr>\n",
       "    <tr>\n",
       "      <th>1</th>\n",
       "      <td>mdp.39015043572422</td>\n",
       "      <td>2</td>\n",
       "      <td>2</td>\n",
       "      <td></td>\n",
       "      <td>2</td>\n",
       "      <td>2</td>\n",
       "      <td>[IMAGE_ON_PAGE, IMPLICIT_PAGE_NUMBER]</td>\n",
       "      <td>page</td>\n",
       "    </tr>\n",
       "    <tr>\n",
       "      <th>2</th>\n",
       "      <td>mdp.39015043572422</td>\n",
       "      <td>3</td>\n",
       "      <td>3</td>\n",
       "      <td>i\\n</td>\n",
       "      <td>3</td>\n",
       "      <td>3</td>\n",
       "      <td>[IMPLICIT_PAGE_NUMBER]</td>\n",
       "      <td>page</td>\n",
       "    </tr>\n",
       "    <tr>\n",
       "      <th>3</th>\n",
       "      <td>mdp.39015043572422</td>\n",
       "      <td>4</td>\n",
       "      <td>4</td>\n",
       "      <td></td>\n",
       "      <td>4</td>\n",
       "      <td>4</td>\n",
       "      <td>[IMPLICIT_PAGE_NUMBER]</td>\n",
       "      <td>page</td>\n",
       "    </tr>\n",
       "    <tr>\n",
       "      <th>4</th>\n",
       "      <td>mdp.39015043572422</td>\n",
       "      <td>5</td>\n",
       "      <td>5</td>\n",
       "      <td></td>\n",
       "      <td>5</td>\n",
       "      <td>5</td>\n",
       "      <td>[BLANK, IMPLICIT_PAGE_NUMBER]</td>\n",
       "      <td>page</td>\n",
       "    </tr>\n",
       "    <tr>\n",
       "      <th>...</th>\n",
       "      <td>...</td>\n",
       "      <td>...</td>\n",
       "      <td>...</td>\n",
       "      <td>...</td>\n",
       "      <td>...</td>\n",
       "      <td>...</td>\n",
       "      <td>...</td>\n",
       "      <td>...</td>\n",
       "    </tr>\n",
       "    <tr>\n",
       "      <th>1768992</th>\n",
       "      <td>nyp.33433069244303</td>\n",
       "      <td>126</td>\n",
       "      <td>126</td>\n",
       "      <td>&gt;\\n</td>\n",
       "      <td>126</td>\n",
       "      <td>120</td>\n",
       "      <td>[IMPLICIT_PAGE_NUMBER]</td>\n",
       "      <td>page</td>\n",
       "    </tr>\n",
       "    <tr>\n",
       "      <th>1768993</th>\n",
       "      <td>nyp.33433069244303</td>\n",
       "      <td>127</td>\n",
       "      <td>127</td>\n",
       "      <td></td>\n",
       "      <td>127</td>\n",
       "      <td>121</td>\n",
       "      <td>[BLANK, IMPLICIT_PAGE_NUMBER]</td>\n",
       "      <td>page</td>\n",
       "    </tr>\n",
       "    <tr>\n",
       "      <th>1768994</th>\n",
       "      <td>nyp.33433069244303</td>\n",
       "      <td>128</td>\n",
       "      <td>128</td>\n",
       "      <td>THE NEW YORK PUBLIC LIBRARY\\nREFERENCE DEPARTM...</td>\n",
       "      <td>128</td>\n",
       "      <td>122</td>\n",
       "      <td>[IMAGE_ON_PAGE, UNTYPICAL_PAGE, IMPLICIT_PAGE_...</td>\n",
       "      <td>page</td>\n",
       "    </tr>\n",
       "    <tr>\n",
       "      <th>1768995</th>\n",
       "      <td>nyp.33433069244303</td>\n",
       "      <td>129</td>\n",
       "      <td>129</td>\n",
       "      <td>\\n</td>\n",
       "      <td>129</td>\n",
       "      <td>123</td>\n",
       "      <td>[IMPLICIT_PAGE_NUMBER]</td>\n",
       "      <td>page</td>\n",
       "    </tr>\n",
       "    <tr>\n",
       "      <th>1768996</th>\n",
       "      <td>nyp.33433069244303</td>\n",
       "      <td>130</td>\n",
       "      <td>130</td>\n",
       "      <td>\\n</td>\n",
       "      <td>130</td>\n",
       "      <td>124</td>\n",
       "      <td>[BACK_COVER, IMAGE_ON_PAGE, IMPLICIT_PAGE_NUMBER]</td>\n",
       "      <td>page</td>\n",
       "    </tr>\n",
       "  </tbody>\n",
       "</table>\n",
       "<p>1768997 rows × 8 columns</p>\n",
       "</div>"
      ],
      "text/plain": [
       "                  source_id  page_id  page_i  \\\n",
       "0        mdp.39015043572422        1       1   \n",
       "1        mdp.39015043572422        2       2   \n",
       "2        mdp.39015043572422        3       3   \n",
       "3        mdp.39015043572422        4       4   \n",
       "4        mdp.39015043572422        5       5   \n",
       "...                     ...      ...     ...   \n",
       "1768992  nyp.33433069244303      126     126   \n",
       "1768993  nyp.33433069244303      127     127   \n",
       "1768994  nyp.33433069244303      128     128   \n",
       "1768995  nyp.33433069244303      129     129   \n",
       "1768996  nyp.33433069244303      130     130   \n",
       "\n",
       "                                                   content  order label  \\\n",
       "0                                                               1     1   \n",
       "1                                                               2     2   \n",
       "2                                                      i\\n      3     3   \n",
       "3                                                               4     4   \n",
       "4                                                               5     5   \n",
       "...                                                    ...    ...   ...   \n",
       "1768992                                                >\\n    126   120   \n",
       "1768993                                                       127   121   \n",
       "1768994  THE NEW YORK PUBLIC LIBRARY\\nREFERENCE DEPARTM...    128   122   \n",
       "1768995                                                 \\n    129   123   \n",
       "1768996                                                 \\n    130   124   \n",
       "\n",
       "                                                      tags item_type  \n",
       "0        [FRONT_COVER, IMPLICIT_PAGE_NUMBER, MISSING_PAGE]      page  \n",
       "1                    [IMAGE_ON_PAGE, IMPLICIT_PAGE_NUMBER]      page  \n",
       "2                                   [IMPLICIT_PAGE_NUMBER]      page  \n",
       "3                                   [IMPLICIT_PAGE_NUMBER]      page  \n",
       "4                            [BLANK, IMPLICIT_PAGE_NUMBER]      page  \n",
       "...                                                    ...       ...  \n",
       "1768992                             [IMPLICIT_PAGE_NUMBER]      page  \n",
       "1768993                      [BLANK, IMPLICIT_PAGE_NUMBER]      page  \n",
       "1768994  [IMAGE_ON_PAGE, UNTYPICAL_PAGE, IMPLICIT_PAGE_...      page  \n",
       "1768995                             [IMPLICIT_PAGE_NUMBER]      page  \n",
       "1768996  [BACK_COVER, IMAGE_ON_PAGE, IMPLICIT_PAGE_NUMBER]      page  \n",
       "\n",
       "[1768997 rows x 8 columns]"
      ]
     },
     "execution_count": 24,
     "metadata": {},
     "output_type": "execute_result"
    }
   ],
   "source": [
    "# df=pd.read_json('../data/data.hathi_pages.jsonl', lines=True)\n",
    "df"
   ]
  },
  {
   "cell_type": "code",
   "execution_count": 25,
   "id": "73ee49f3-5ee8-416d-a208-f1fccbbd0238",
   "metadata": {},
   "outputs": [],
   "source": [
    "df.to_csv('../data/data.hathi_pages.csv.gz')"
   ]
  },
  {
   "cell_type": "code",
   "execution_count": null,
   "id": "16eddabc-dfdb-45ee-9c00-ad9b3a066f1a",
   "metadata": {},
   "outputs": [],
   "source": []
  }
 ],
 "metadata": {
  "kernelspec": {
   "display_name": "Python 3 (ipykernel)",
   "language": "python",
   "name": "python3"
  },
  "language_info": {
   "codemirror_mode": {
    "name": "ipython",
    "version": 3
   },
   "file_extension": ".py",
   "mimetype": "text/x-python",
   "name": "python",
   "nbconvert_exporter": "python",
   "pygments_lexer": "ipython3",
   "version": "3.9.13"
  }
 },
 "nbformat": 4,
 "nbformat_minor": 5
}
