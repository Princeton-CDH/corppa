{
 "cells": [
  {
   "cell_type": "code",
   "execution_count": 1,
   "metadata": {
    "tags": []
   },
   "outputs": [],
   "source": [
    "import sys;sys.path.append('..')\n",
    "from ppanlp import *    "
   ]
  },
  {
   "cell_type": "code",
   "execution_count": 2,
   "metadata": {
    "tags": []
   },
   "outputs": [
    {
     "name": "stderr",
     "output_type": "stream",
     "text": [
      "\u001b[32m2023-12-06 12:05:04,832\u001b[0m \u001b[34m\u001b[1m[1] > booting PPACorpus at /home/rh6841/ppa_data/corpus\u001b[0m\n",
      "\u001b[32m2023-12-06 12:05:04,833\u001b[0m \u001b[34m\u001b[1m  [2] > reading metadata\u001b[0m\n",
      "\u001b[32m2023-12-06 12:05:04,899\u001b[0m \u001b[34m\u001b[1m  [2] < 0.07 seconds\u001b[0m\n",
      "\u001b[32m2023-12-06 12:05:04,928\u001b[0m \u001b[34m\u001b[1m[1] < 0.1 seconds\u001b[0m\n"
     ]
    }
   ],
   "source": [
    "ppa = PPA()\n",
    "qd=dict(min_doc_len=10,max_per_cluster=200,frac=1)"
   ]
  },
  {
   "cell_type": "code",
   "execution_count": 3,
   "metadata": {
    "tags": []
   },
   "outputs": [],
   "source": [
    "tm = ppa.topic_model(model_type='bertopic', **qd, force=True)"
   ]
  },
  {
   "cell_type": "code",
   "execution_count": null,
   "metadata": {
    "tags": []
   },
   "outputs": [
    {
     "name": "stderr",
     "output_type": "stream",
     "text": [
      "\u001b[32m2023-12-06 12:05:16,051\u001b[0m \u001b[34m\u001b[1m[1] > loading or generating model\u001b[0m\n",
      "\u001b[32m2023-12-06 12:05:16,053\u001b[0m \u001b[34m\u001b[1m  [2] > importing BERTopic\u001b[0m\n",
      "\u001b[32m2023-12-06 12:05:20,283\u001b[0m \u001b[34m\u001b[1m  [2] < 4.23 seconds\u001b[0m\n",
      "\u001b[32m2023-12-06 12:05:20,284\u001b[0m \u001b[34m\u001b[1m  [3] > loading documents into memory\u001b[0m\n",
      "\u001b[32m2023-12-06 12:05:20,284\u001b[0m \u001b[34m\u001b[1m    [4] > iterating pages by page database\u001b[0m\n",
      "\u001b[32m2023-12-06 12:05:20,289\u001b[0m \u001b[34m\u001b[1m      [5] > iterating page database results ({\"min_doc_len\": 10, \"frac_min\": 0, \"frac_max\": 1})\u001b[0m\n",
      "Iterating over page search results: 100%|██████████| 2064515/2064515 [00:31<00:00, 65463.48it/s]\n",
      "\u001b[32m2023-12-06 12:05:51,827\u001b[0m \u001b[34m\u001b[1m      [5] < 31.54 seconds\u001b[0m\n",
      "\u001b[32m2023-12-06 12:05:51,828\u001b[0m \u001b[34m\u001b[1m    [4] < 31.54 seconds\u001b[0m\n",
      "\u001b[32m2023-12-06 12:05:53,578\u001b[0m \u001b[34m\u001b[1m< loaded 729,649 documents into memory\u001b[0m\n",
      "\u001b[32m2023-12-06 12:05:53,579\u001b[0m \u001b[34m\u001b[1m  [3] < 33.29 seconds\u001b[0m\n",
      "\u001b[32m2023-12-06 12:05:53,579\u001b[0m \u001b[34m\u001b[1m  [6] > fitting model\u001b[0m\n",
      "2023-12-06 12:05:53,790 - BERTopic - Embedding - Transforming documents to embeddings.\n",
      "Batches: 100%|██████████| 22802/22802 [28:51<00:00, 13.17it/s] \n",
      "2023-12-06 12:35:32,818 - BERTopic - Embedding - Completed ✓\n",
      "2023-12-06 12:35:32,822 - BERTopic - Dimensionality - Fitting the dimensionality reduction algorithm\n"
     ]
    }
   ],
   "source": [
    "mdl = tm.model(min_topic_size=100)"
   ]
  },
  {
   "cell_type": "code",
   "execution_count": null,
   "metadata": {
    "tags": []
   },
   "outputs": [],
   "source": [
    "df = mdl.get_topic_info()\n",
    "df"
   ]
  },
  {
   "cell_type": "code",
   "execution_count": null,
   "metadata": {
    "tags": []
   },
   "outputs": [],
   "source": [
    "df.Count.sum()"
   ]
  },
  {
   "cell_type": "code",
   "execution_count": 19,
   "metadata": {
    "tags": []
   },
   "outputs": [
    {
     "data": {
      "text/plain": [
       "198"
      ]
     },
     "execution_count": 19,
     "metadata": {},
     "output_type": "execute_result"
    }
   ],
   "source": []
  },
  {
   "cell_type": "code",
   "execution_count": null,
   "metadata": {},
   "outputs": [],
   "source": []
  }
 ],
 "metadata": {
  "kernelspec": {
   "display_name": "Python 3 (ipykernel)",
   "language": "python",
   "name": "python3"
  },
  "language_info": {
   "codemirror_mode": {
    "name": "ipython",
    "version": 3
   },
   "file_extension": ".py",
   "mimetype": "text/x-python",
   "name": "python",
   "nbconvert_exporter": "python",
   "pygments_lexer": "ipython3",
   "version": "3.9.18"
  }
 },
 "nbformat": 4,
 "nbformat_minor": 4
}
