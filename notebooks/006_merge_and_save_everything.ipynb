{
 "cells": [
  {
   "cell_type": "code",
   "execution_count": 1,
   "id": "a0148e7e",
   "metadata": {},
   "outputs": [],
   "source": [
    "import sys; sys.path.insert(0,'..')\n",
    "from ppanlp import *"
   ]
  },
  {
   "cell_type": "code",
   "execution_count": 4,
   "id": "9811b7f5",
   "metadata": {},
   "outputs": [],
   "source": [
    "df=get_all_ecco_data_for_excerpts()\n",
    "df.to_csv('../data/data.pages_and_metadata_for_excerpts.ECCO1+2.csv')"
   ]
  },
  {
   "cell_type": "code",
   "execution_count": 7,
   "id": "6349a281",
   "metadata": {},
   "outputs": [
    {
     "data": {
      "text/plain": [
       "pref\n",
       "CW    154924\n",
       "CB     52686\n",
       "Name: count, dtype: int64"
      ]
     },
     "execution_count": 7,
     "metadata": {},
     "output_type": "execute_result"
    }
   ],
   "source": [
    "df=get_ecco_metadata()\n",
    "df['pref']=[x[:2] for x in df.index]\n",
    "df.pref.value_counts()"
   ]
  }
 ],
 "metadata": {
  "kernelspec": {
   "display_name": "Python 3 (ipykernel)",
   "language": "python",
   "name": "python3"
  },
  "language_info": {
   "codemirror_mode": {
    "name": "ipython",
    "version": 3
   },
   "file_extension": ".py",
   "mimetype": "text/x-python",
   "name": "python",
   "nbconvert_exporter": "python",
   "pygments_lexer": "ipython3",
   "version": "3.10.7"
  }
 },
 "nbformat": 4,
 "nbformat_minor": 5
}
