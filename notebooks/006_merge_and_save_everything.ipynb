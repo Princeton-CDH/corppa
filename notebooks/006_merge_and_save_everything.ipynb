{
 "cells": [
  {
   "cell_type": "code",
   "execution_count": 12,
   "id": "a0148e7e",
   "metadata": {},
   "outputs": [],
   "source": [
    "import sys; sys.path.insert(0,'..')\n",
    "from ppanlp import *"
   ]
  },
  {
   "cell_type": "code",
   "execution_count": 14,
   "id": "d875db7a",
   "metadata": {},
   "outputs": [],
   "source": [
    "# !pip install -r ../requirements.txt"
   ]
  },
  {
   "cell_type": "code",
   "execution_count": 15,
   "id": "9811b7f5",
   "metadata": {},
   "outputs": [],
   "source": [
    "df=get_all_ecco_data_for_excerpts()\n",
    "ofn='data.PPA_and_ECCO_with_pages'\n",
    "df.to_csv(f'../data/{ofn}.csv')\n",
    "df.to_excel(f'../data/{ofn}.xlsx')"
   ]
  },
  {
   "cell_type": "code",
   "execution_count": null,
   "id": "5853612c",
   "metadata": {},
   "outputs": [],
   "source": []
  },
  {
   "cell_type": "code",
   "execution_count": 4,
   "id": "6349a281",
   "metadata": {},
   "outputs": [],
   "source": [
    "# df=get_ecco_metadata()\n",
    "# df['pref']=[x[:2] for x in df.index]\n",
    "# df.pref.value_counts()"
   ]
  },
  {
   "cell_type": "code",
   "execution_count": 10,
   "id": "96896bce",
   "metadata": {},
   "outputs": [
    {
     "name": "stdout",
     "output_type": "stream",
     "text": [
      "   14434 ../data/data.pages_and_metadata_for_excerpts.ECCO1+2.V2.csv\n",
      "    8366 ../data/data.pages_and_metadata_for_excerpts.ECCO1+2.csv\n",
      "   22800 total\n"
     ]
    }
   ],
   "source": [
    "!wc -l ../data/data.pages_and_metadata_for_excerpts.ECCO1+2.*"
   ]
  },
  {
   "cell_type": "code",
   "execution_count": null,
   "id": "2f103ab6",
   "metadata": {},
   "outputs": [],
   "source": []
  }
 ],
 "metadata": {
  "kernelspec": {
   "display_name": "Python 3 (ipykernel)",
   "language": "python",
   "name": "python3"
  },
  "language_info": {
   "codemirror_mode": {
    "name": "ipython",
    "version": 3
   },
   "file_extension": ".py",
   "mimetype": "text/x-python",
   "name": "python",
   "nbconvert_exporter": "python",
   "pygments_lexer": "ipython3",
   "version": "3.10.7"
  }
 },
 "nbformat": 4,
 "nbformat_minor": 5
}
