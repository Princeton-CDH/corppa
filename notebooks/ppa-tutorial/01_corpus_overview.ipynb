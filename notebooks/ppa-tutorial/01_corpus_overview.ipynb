{
 "cells": [
  {
   "cell_type": "markdown",
   "metadata": {},
   "source": [
    "# 01 – PPA Corpus Overview\n",
    "\n",
    "This notebook gives a *bird‑eye tour* of the Princeton Prosody Archive (PPA) corpus as deposited on disk in three files:\n",
    "\n",
    "| file | description | size (≈) |\n",
    "|------|-------------|-----------|\n",
    "| `ppa_pages.jsonl.gz` | page‑level JSON Lines (*\\*.gz*); text of every page plus minimal page-level metadata | **1.8 GB compressed**, ~4.2 GB uncompressed |\n",
    "| `ppa_metadata.csv`  | work‑level bibliographic metadata | 3.4 MB |\n",
    "| `ppa_metadata.json` | same as above but in JSON | 5.4 MB |\n",
    "\n",
    "Pages → Works join on the common key **`work_id`**.  All code below streams the page file so you *never* load 4 GB into memory."
   ]
  },
  {
   "cell_type": "code",
   "execution_count": 1,
   "metadata": {
    "tags": [
     "parameters"
    ]
   },
   "outputs": [],
   "source": [
    "import gzip, json, pathlib, itertools, pandas as pd, textwrap\n",
    "from pprint import pprint\n",
    "\n",
    "DATA_DIR = pathlib.Path('..') / 'shared_data' / 'ppa_corpus_2025-02-03_1308'\n",
    "PAGES_FILE = DATA_DIR / 'ppa_pages.jsonl.gz'\n",
    "META_CSV   = DATA_DIR / 'ppa_metadata.csv'\n",
    "META_JSON  = DATA_DIR / 'ppa_metadata.json'"
   ]
  },
  {
   "cell_type": "markdown",
   "metadata": {},
   "source": [
    "## 1. Peek inside the page corpus (first 3 records)"
   ]
  },
  {
   "cell_type": "code",
   "execution_count": 3,
   "metadata": {},
   "outputs": [
    {
     "name": "stdout",
     "output_type": "stream",
     "text": [
      "— Page #1\n",
      "{'id': 'A01224.1',\n",
      " 'label': '[1]',\n",
      " 'order': 1,\n",
      " 'tags': ['dedication'],\n",
      " 'work_id': 'A01224'}\n",
      "text → To the Right excellent and most honorable Ladie, the Ladie Marie, Countesse of Pembroke. VOi, pia nympha, tuum, [...]\n",
      "--------------------------------------------------------------------------------\n",
      "— Page #2\n",
      "{'id': 'A01224.10',\n",
      " 'label': '[10]',\n",
      " 'order': 10,\n",
      " 'tags': ['book'],\n",
      " 'work_id': 'A01224'}\n",
      "text → Boscan 3. Booke. Los altares delante estauan puestos, Ardiendo encima d'ellos toda Arabia. Cap. 5. Of the [...]\n",
      "--------------------------------------------------------------------------------\n",
      "— Page #3\n",
      "{'id': 'A01224.100',\n",
      " 'label': '[100]',\n",
      " 'order': 100,\n",
      " 'tags': ['book'],\n",
      " 'work_id': 'A01224'}\n",
      "text → 〈 in non-Latin alphabet 〉. 〈 in non-Latin alphabet 〉. This is the Prosopopoeia of Peleus, which is thus left off; [...]\n",
      "--------------------------------------------------------------------------------\n"
     ]
    }
   ],
   "source": [
    "with gzip.open(PAGES_FILE, 'rt', encoding='utf-8') as fh:\n",
    "    sample_pages = list(itertools.islice(fh, 3))\n",
    "\n",
    "for i, raw in enumerate(sample_pages, 1):\n",
    "    page = json.loads(raw)\n",
    "    print(f'— Page #{i}')\n",
    "    pprint({k: page[k] for k in ('id','work_id','order','label','tags')})\n",
    "    snippet = textwrap.shorten(page['text'].replace('\\n',' '), width=120)\n",
    "    print('text →', snippet)\n",
    "    print('-' * 80)"
   ]
  },
  {
   "cell_type": "markdown",
   "metadata": {},
   "source": [
    "Each JSON object holds:\n",
    "* **`id`** — unique page identifier (`<work_id>.<page_number>`).\n",
    "* **`order`** — numeric page sequence within the work.\n",
    "* **`label`** — original printed folio/page label (e.g. `A2r`, `[1]`).\n",
    "* **`tags`** — semantic tags (e.g. `['dedication']`, `['title-page']`).\n",
    "* **`text`** — full OCR transcription (UTF‑8).\n",
    "\n",
    "> **Why JSONL?**  You can stream line‑by‑line without loading the whole file—perfect for 4 GB of UTF‑8 text!"
   ]
  },
  {
   "cell_type": "markdown",
   "metadata": {},
   "source": [
    "## 2. Load work‑level metadata (CSV)"
   ]
  },
  {
   "cell_type": "code",
   "execution_count": 2,
   "metadata": {},
   "outputs": [
    {
     "name": "stdout",
     "output_type": "stream",
     "text": [
      "7,122 works loaded\n"
     ]
    },
    {
     "data": {
      "text/html": [
       "<div>\n",
       "<style scoped>\n",
       "    .dataframe tbody tr th:only-of-type {\n",
       "        vertical-align: middle;\n",
       "    }\n",
       "\n",
       "    .dataframe tbody tr th {\n",
       "        vertical-align: top;\n",
       "    }\n",
       "\n",
       "    .dataframe thead th {\n",
       "        text-align: right;\n",
       "    }\n",
       "</style>\n",
       "<table border=\"1\" class=\"dataframe\">\n",
       "  <thead>\n",
       "    <tr style=\"text-align: right;\">\n",
       "      <th></th>\n",
       "      <th>work_id</th>\n",
       "      <th>source_id</th>\n",
       "      <th>cluster_id</th>\n",
       "      <th>title</th>\n",
       "      <th>author</th>\n",
       "      <th>pub_year</th>\n",
       "      <th>publisher</th>\n",
       "      <th>pub_place</th>\n",
       "      <th>collections</th>\n",
       "      <th>work_type</th>\n",
       "      <th>source</th>\n",
       "      <th>source_url</th>\n",
       "      <th>sort_title</th>\n",
       "      <th>subtitle</th>\n",
       "    </tr>\n",
       "  </thead>\n",
       "  <tbody>\n",
       "    <tr>\n",
       "      <th>0</th>\n",
       "      <td>A01224</td>\n",
       "      <td>A01224</td>\n",
       "      <td>A01224</td>\n",
       "      <td>The Arcadian rhetorike: or The præcepts of rhe...</td>\n",
       "      <td>Fraunce, Abraham, fl. 1587-1633</td>\n",
       "      <td>1588</td>\n",
       "      <td>Thomas Orwin</td>\n",
       "      <td>At London</td>\n",
       "      <td>['Linguistic', 'Literary']</td>\n",
       "      <td>full-work</td>\n",
       "      <td>EEBO-TCP</td>\n",
       "      <td>http://name.umdl.umich.edu/A01224.0001.001</td>\n",
       "      <td>Arcadian rhetorike: or The præcepts of rhetori...</td>\n",
       "      <td>Greeke, Latin, English, Italian, French, Spani...</td>\n",
       "    </tr>\n",
       "    <tr>\n",
       "      <th>1</th>\n",
       "      <td>A01225</td>\n",
       "      <td>A01225</td>\n",
       "      <td>A01225</td>\n",
       "      <td>The Countesse of Pembrokes Emanuel</td>\n",
       "      <td>Fraunce, Abraham, fl. 1587-1633</td>\n",
       "      <td>1591</td>\n",
       "      <td>[By Thomas Orwyn] for William Ponsonby, dwelli...</td>\n",
       "      <td>Printed at London</td>\n",
       "      <td>['Literary', 'Original Bibliography']</td>\n",
       "      <td>full-work</td>\n",
       "      <td>EEBO-TCP</td>\n",
       "      <td>http://name.umdl.umich.edu/A01225.0001.001</td>\n",
       "      <td>Countesse of Pembrokes Emanuel Conteining the ...</td>\n",
       "      <td>Conteining the natiuity, passion, buriall, and...</td>\n",
       "    </tr>\n",
       "    <tr>\n",
       "      <th>2</th>\n",
       "      <td>A01227</td>\n",
       "      <td>A01227</td>\n",
       "      <td>A01227</td>\n",
       "      <td>The Countesse of Pembrokes Yuychurch</td>\n",
       "      <td>Fraunce, Abraham, fl. 1587-1633</td>\n",
       "      <td>1591</td>\n",
       "      <td>Thomas Orwyn for William Ponsonby, dwelling in...</td>\n",
       "      <td>London</td>\n",
       "      <td>['Literary', 'Original Bibliography']</td>\n",
       "      <td>full-work</td>\n",
       "      <td>EEBO-TCP</td>\n",
       "      <td>http://name.umdl.umich.edu/A01227.0001.001</td>\n",
       "      <td>Countesse of Pembrokes Yuychurch Conteining th...</td>\n",
       "      <td>Conteining the affectionate life, and vnfortun...</td>\n",
       "    </tr>\n",
       "    <tr>\n",
       "      <th>3</th>\n",
       "      <td>A01514-pnp</td>\n",
       "      <td>A01514</td>\n",
       "      <td>A01514-pnp</td>\n",
       "      <td>Certayne notes of Instruction concerning the m...</td>\n",
       "      <td>Gascoigne, George, 1542?-1577.</td>\n",
       "      <td>1575</td>\n",
       "      <td>By H. Bynneman for Richard Smith. These bookes...</td>\n",
       "      <td>Imprinted at London</td>\n",
       "      <td>['Literary']</td>\n",
       "      <td>excerpt</td>\n",
       "      <td>EEBO-TCP</td>\n",
       "      <td>https://quod.lib.umich.edu/e/eebo2/A01514.0001...</td>\n",
       "      <td>Certayne notes of Instruction concerning the m...</td>\n",
       "      <td>NaN</td>\n",
       "    </tr>\n",
       "    <tr>\n",
       "      <th>4</th>\n",
       "      <td>A03670</td>\n",
       "      <td>A03670</td>\n",
       "      <td>A03670</td>\n",
       "      <td>Horace his arte of poetrie, pistles, and satyr...</td>\n",
       "      <td>Horace</td>\n",
       "      <td>1567</td>\n",
       "      <td>In Fletestrete, nere to S. Dunstones Churche, ...</td>\n",
       "      <td>Imprinted at London</td>\n",
       "      <td>['Literary']</td>\n",
       "      <td>full-work</td>\n",
       "      <td>EEBO-TCP</td>\n",
       "      <td>http://name.umdl.umich.edu/A03670.0001.001</td>\n",
       "      <td>Horace his arte of poetrie, pistles, and satyr...</td>\n",
       "      <td>and to the Earle of Ormounte by Tho. Drant add...</td>\n",
       "    </tr>\n",
       "  </tbody>\n",
       "</table>\n",
       "</div>"
      ],
      "text/plain": [
       "      work_id source_id  cluster_id  \\\n",
       "0      A01224    A01224      A01224   \n",
       "1      A01225    A01225      A01225   \n",
       "2      A01227    A01227      A01227   \n",
       "3  A01514-pnp    A01514  A01514-pnp   \n",
       "4      A03670    A03670      A03670   \n",
       "\n",
       "                                               title  \\\n",
       "0  The Arcadian rhetorike: or The præcepts of rhe...   \n",
       "1                 The Countesse of Pembrokes Emanuel   \n",
       "2               The Countesse of Pembrokes Yuychurch   \n",
       "3  Certayne notes of Instruction concerning the m...   \n",
       "4  Horace his arte of poetrie, pistles, and satyr...   \n",
       "\n",
       "                            author pub_year  \\\n",
       "0  Fraunce, Abraham, fl. 1587-1633     1588   \n",
       "1  Fraunce, Abraham, fl. 1587-1633     1591   \n",
       "2  Fraunce, Abraham, fl. 1587-1633     1591   \n",
       "3   Gascoigne, George, 1542?-1577.     1575   \n",
       "4                           Horace     1567   \n",
       "\n",
       "                                           publisher            pub_place  \\\n",
       "0                                       Thomas Orwin            At London   \n",
       "1  [By Thomas Orwyn] for William Ponsonby, dwelli...    Printed at London   \n",
       "2  Thomas Orwyn for William Ponsonby, dwelling in...               London   \n",
       "3  By H. Bynneman for Richard Smith. These bookes...  Imprinted at London   \n",
       "4  In Fletestrete, nere to S. Dunstones Churche, ...  Imprinted at London   \n",
       "\n",
       "                             collections  work_type    source  \\\n",
       "0             ['Linguistic', 'Literary']  full-work  EEBO-TCP   \n",
       "1  ['Literary', 'Original Bibliography']  full-work  EEBO-TCP   \n",
       "2  ['Literary', 'Original Bibliography']  full-work  EEBO-TCP   \n",
       "3                           ['Literary']    excerpt  EEBO-TCP   \n",
       "4                           ['Literary']  full-work  EEBO-TCP   \n",
       "\n",
       "                                          source_url  \\\n",
       "0         http://name.umdl.umich.edu/A01224.0001.001   \n",
       "1         http://name.umdl.umich.edu/A01225.0001.001   \n",
       "2         http://name.umdl.umich.edu/A01227.0001.001   \n",
       "3  https://quod.lib.umich.edu/e/eebo2/A01514.0001...   \n",
       "4         http://name.umdl.umich.edu/A03670.0001.001   \n",
       "\n",
       "                                          sort_title  \\\n",
       "0  Arcadian rhetorike: or The præcepts of rhetori...   \n",
       "1  Countesse of Pembrokes Emanuel Conteining the ...   \n",
       "2  Countesse of Pembrokes Yuychurch Conteining th...   \n",
       "3  Certayne notes of Instruction concerning the m...   \n",
       "4  Horace his arte of poetrie, pistles, and satyr...   \n",
       "\n",
       "                                            subtitle  \n",
       "0  Greeke, Latin, English, Italian, French, Spani...  \n",
       "1  Conteining the natiuity, passion, buriall, and...  \n",
       "2  Conteining the affectionate life, and vnfortun...  \n",
       "3                                                NaN  \n",
       "4  and to the Earle of Ormounte by Tho. Drant add...  "
      ]
     },
     "execution_count": 2,
     "metadata": {},
     "output_type": "execute_result"
    }
   ],
   "source": [
    "metadata_df = pd.read_csv(META_CSV, dtype=str)\n",
    "print(f'{len(metadata_df):,} works loaded')\n",
    "metadata_df.head()"
   ]
  },
  {
   "cell_type": "code",
   "execution_count": 3,
   "metadata": {},
   "outputs": [
    {
     "name": "stdout",
     "output_type": "stream",
     "text": [
      "-------------------------------------------------- \n",
      "Top-5 publication years\n",
      "pub_year\n",
      "1922    126\n",
      "1920    106\n",
      "1913    101\n",
      "1912     93\n",
      "1779     93\n",
      "Name: count, dtype: Int64 \n",
      "\n",
      "-------------------------------------------------- \n",
      "Source counts\n",
      "       source  works\n",
      "0  HathiTrust   5539\n",
      "1        Gale   1517\n",
      "2    EEBO-TCP     66\n",
      "-------------------------------------------------- \n",
      "Work-type counts\n",
      "   work_type  works\n",
      "0  full-work   6097\n",
      "1    article    661\n",
      "2    excerpt    364\n",
      "-------------------------------------------------- \n",
      "Collection membership counts (bad rows skipped: 0)\n"
     ]
    },
    {
     "data": {
      "text/plain": [
       "Literary                  4292\n",
       "Linguistic                3430\n",
       "Original Bibliography      986\n",
       "Typographically Unique     708\n",
       "Word Lists                 403\n",
       "Dictionaries               180\n",
       "Uncategorized               62\n",
       "Name: works, dtype: int64"
      ]
     },
     "metadata": {},
     "output_type": "display_data"
    }
   ],
   "source": [
    "import json, ast, pandas as pd\n",
    "from collections import Counter\n",
    "import matplotlib.pyplot as plt\n",
    "\n",
    "# ---- 1. publication years (numeric) ---------------------------------\n",
    "pub_year = pd.to_numeric(metadata_df['pub_year'], errors='coerce').astype('Int64')\n",
    "print(\"-\" * 50, \"\\nTop-5 publication years\")\n",
    "print(pub_year.value_counts().head(5), \"\\n\")\n",
    "\n",
    "# ---- 2. sources & work types ----------------------------------------\n",
    "print(\"-\" * 50, \"\\nSource counts\")\n",
    "print(metadata_df['source'].value_counts().rename_axis('source')\n",
    "        .reset_index(name='works').head(10))\n",
    "\n",
    "print(\"-\" * 50, \"\\nWork-type counts\")\n",
    "print(metadata_df['work_type'].value_counts().rename_axis('work_type')\n",
    "        .reset_index(name='works'))\n",
    "\n",
    "# ---- 3. collections (multivalued) -----------------------------------\n",
    "coll_counter, bad_rows = Counter(), 0\n",
    "for raw in metadata_df['collections'].dropna():\n",
    "    parsed = None\n",
    "    for parser in (json.loads, ast.literal_eval):\n",
    "        try:\n",
    "            parsed = parser(raw)\n",
    "            break\n",
    "        except Exception:\n",
    "            continue\n",
    "    if parsed is None:\n",
    "        bad_rows += 1\n",
    "        continue\n",
    "    coll_counter.update(parsed)\n",
    "\n",
    "coll_series = pd.Series(coll_counter, name='works').sort_values(ascending=False)\n",
    "print(\"-\" * 50, f\"\\nCollection membership counts (bad rows skipped: {bad_rows})\")\n",
    "display(coll_series)"
   ]
  },
  {
   "cell_type": "markdown",
   "metadata": {},
   "source": [
    "**Key columns:**\n",
    "* `work_id` — primary key; joins to pages.\n",
    "* `title`, `author`, `pub_year`, `publisher`, `pub_place` — bibliographic info.\n",
    "* `collections` — thematic groupings (array‑valued JSON in `.json`; semicolon‑delimited string in `.csv`).\n",
    "* `source` — provenance, either *EEBO-TCP*, *HathiTrust*, or *Gale*.\n",
    "* `work_type` — *full‑work*, *excerpt*, *article*.\n",
    "\n",
    "Both CSV & JSON represent the same 7,122 rows; choose whichever is convenient."
   ]
  },
  {
   "cell_type": "markdown",
   "metadata": {},
   "source": [
    "## 3. Joining pages with their work metadata\n",
    "\n",
    "The page file holds full text **but almost no bibliographic context**; the\n",
    "metadata table holds rich work-level details **but no page text**. Linking the two by their shared key **`work_id`** lets you:\n",
    "\n",
    "* retrieve a work’s title/author/year while analyzing its pages,\n",
    "* group or filter pages by attributes such as source, collection, or publication date,\n",
    "* display scans or transcriptions alongside catalog information.\n",
    "\n",
    "The snippet below streams the 1.8 GB page file twice (memory-safe) to:\n",
    "\n",
    "1. sample one page to pick an arbitrary `work_id`;\n",
    "2. pull that work’s first ten pages to inspect their printed labels;  \n",
    "3. look up the work’s bibliographic record for confirmation.\n",
    "\n",
    "This round-trip pattern is the foundation for any downstream analysis or visualization."
   ]
  },
  {
   "cell_type": "code",
   "execution_count": null,
   "metadata": {},
   "outputs": [
    {
     "name": "stdout",
     "output_type": "stream",
     "text": [
      "Chosen work_id → A52335\n",
      "title       The English historical library, or, A short vi...\n",
      "author                           Nicolson, William, 1655-1727\n",
      "pub_year                                                 1696\n",
      "First 5 page labels: ['[1]', '[10]', '66', '67', '68']\n"
     ]
    }
   ],
   "source": [
    "import itertools, gzip, json\n",
    "\n",
    "def page_iter():\n",
    "    \"\"\"Yield one parsed page dict at a time (keeps RAM usage tiny).\"\"\"\n",
    "    with gzip.open(PAGES_FILE, 'rt', encoding='utf-8') as fh:\n",
    "        for line in fh:\n",
    "            yield json.loads(line)\n",
    "\n",
    "# -- 1. pick an arbitrary work by sampling 1 page --\n",
    "some_work_id = next(itertools.islice(page_iter(), 10000, 10001))['work_id']\n",
    "print(\"Chosen work_id →\", some_work_id)\n",
    "\n",
    "# -- 2. collect the first 10 pages that belong to that work --\n",
    "pages_for_work = [p for p in page_iter() if p['work_id'] == some_work_id][:10]\n",
    "\n",
    "# -- 3. fetch the bibliographic record from the metadata table --\n",
    "meta_row = metadata_df.set_index('work_id').loc[some_work_id]\n",
    "print(meta_row[['title', 'author', 'pub_year']].to_string())\n",
    "\n",
    "# display the original print labels for a quick sanity-check\n",
    "print(\"First 5 page labels:\", [p['label'] for p in pages_for_work[:5]])"
   ]
  },
  {
   "cell_type": "markdown",
   "metadata": {},
   "source": [
    "## 4. Counting pages efficiently\n",
    "Running `sum(1 for _ in gzip.open(...))` would take ~30 s.  Uncomment below if you really need the figure."
   ]
  },
  {
   "cell_type": "code",
   "execution_count": null,
   "metadata": {
    "collapsed": true
   },
   "outputs": [
    {
     "name": "stdout",
     "output_type": "stream",
     "text": [
      "Total pages: 1,982,024\n",
      "CPU times: user 20.5 s, sys: 432 ms, total: 20.9 s\n",
      "Wall time: 21.2 s\n"
     ]
    }
   ],
   "source": [
    "#%%time\n",
    "#page_count = sum(1 for _ in gzip.open(PAGES_FILE, 'rt', encoding='utf-8'))\n",
    "#print(f'Total pages: {page_count:,}')"
   ]
  },
  {
   "cell_type": "markdown",
   "metadata": {},
   "source": [
    "---\n",
    "### Take‑aways\n",
    "* **Pages** are stored as JSONL (streamable).\n",
    "* **Works** metadata lives in CSV/JSON (easily loaded via pandas).\n",
    "* Join the two via `work_id`.\n",
    "\n",
    "➡️ Proceed to **02_filtering_pages.ipynb** to learn how to carve out subsets with `corppa` utilities."
   ]
  },
  {
   "cell_type": "markdown",
   "metadata": {},
   "source": []
  }
 ],
 "metadata": {
  "kernelspec": {
   "display_name": "corppa",
   "language": "python",
   "name": "python3"
  },
  "language_info": {
   "codemirror_mode": {
    "name": "ipython",
    "version": 3
   },
   "file_extension": ".py",
   "mimetype": "text/x-python",
   "name": "python",
   "nbconvert_exporter": "python",
   "pygments_lexer": "ipython3",
   "version": "3.12.10"
  }
 },
 "nbformat": 4,
 "nbformat_minor": 2
}
