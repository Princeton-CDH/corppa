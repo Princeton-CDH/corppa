{
 "cells": [
  {
   "cell_type": "code",
   "execution_count": 1,
   "metadata": {},
   "outputs": [],
   "source": [
    "import sys;sys.path.append('..')\n",
    "from ppanlp import *    "
   ]
  },
  {
   "cell_type": "code",
   "execution_count": 2,
   "metadata": {},
   "outputs": [
    {
     "name": "stderr",
     "output_type": "stream",
     "text": [
      "\u001b[32m2023-12-04 19:52:50,932\u001b[0m \u001b[34m\u001b[1mstarted booting PPACorpus at /Users/ryanheuser/ppa_data/corpus\u001b[0m\n",
      "\u001b[32m2023-12-04 19:52:50,934\u001b[0m \u001b[34m\u001b[1m  started reading metadata\u001b[0m\n",
      "\u001b[32m2023-12-04 19:52:51,144\u001b[0m \u001b[34m\u001b[1m  finished reading metadata in 0.21 seconds\u001b[0m\n",
      "\u001b[32m2023-12-04 19:52:51,198\u001b[0m \u001b[34m\u001b[1mfinished booting PPACorpus at /Users/ryanheuser/ppa_data/corpus in 0.26 seconds\u001b[0m\n"
     ]
    }
   ],
   "source": [
    "ppa = PPA()"
   ]
  },
  {
   "cell_type": "code",
   "execution_count": null,
   "metadata": {},
   "outputs": [],
   "source": []
  },
  {
   "cell_type": "code",
   "execution_count": 3,
   "metadata": {},
   "outputs": [],
   "source": [
    "tm = ppa.topic_model(model_type='bertopic', min_doc_len=25, max_per_cluster=25)\n",
    "# for p in ppa.iter_pages(): pass"
   ]
  },
  {
   "cell_type": "code",
   "execution_count": 4,
   "metadata": {},
   "outputs": [
    {
     "name": "stderr",
     "output_type": "stream",
     "text": [
      "\u001b[32m2023-12-04 19:52:51,217\u001b[0m \u001b[34m\u001b[1mstarted importing BERTopic\u001b[0m\n",
      "\u001b[32m2023-12-04 19:52:59,027\u001b[0m \u001b[34m\u001b[1mfinished importing BERTopic in 7.81 seconds\u001b[0m\n",
      "\u001b[32m2023-12-04 19:52:59,028\u001b[0m \u001b[34m\u001b[1mstarted loading documents into memory\u001b[0m\n",
      "\u001b[32m2023-12-04 19:52:59,029\u001b[0m \u001b[34m\u001b[1m  started querying page database\u001b[0m\n",
      "\u001b[32m2023-12-04 19:52:59,035\u001b[0m \u001b[34m\u001b[1m  finished querying page database in 0 seconds\u001b[0m\n",
      "\u001b[32m2023-12-04 19:52:59,035\u001b[0m \u001b[34m\u001b[1m  started returning page database results\u001b[0m\n",
      "Iterating over page search results:   0%|          | 9/2042912 [00:00<37:48, 900.45it/s]\n",
      "\u001b[32m2023-12-04 19:52:59,048\u001b[0m \u001b[34m\u001b[1m  finished returning page database results in 0.01 seconds\u001b[0m\n",
      "\u001b[32m2023-12-04 19:52:59,048\u001b[0m \u001b[34m\u001b[1mfinished loading documents into memory in 0.02 seconds\u001b[0m\n",
      "\u001b[32m2023-12-04 19:52:59,049\u001b[0m \u001b[34m\u001b[1mstarted fitting model\u001b[0m\n",
      "2023-12-04 19:52:59,051 - BERTopic - Embedding - Transforming documents to embeddings.\n",
      "Batches: 100%|██████████| 1/1 [00:00<00:00,  1.23it/s]\n",
      "2023-12-04 19:53:00,383 - BERTopic - Embedding - Completed ✓\n",
      "2023-12-04 19:53:00,384 - BERTopic - Dimensionality - Fitting the dimensionality reduction algorithm\n",
      "2023-12-04 19:53:07,443 - BERTopic - Dimensionality - Completed ✓\n",
      "2023-12-04 19:53:07,444 - BERTopic - Cluster - Start clustering the reduced embeddings\n",
      "2023-12-04 19:53:07,461 - BERTopic - Cluster - Completed ✓\n",
      "2023-12-04 19:53:07,467 - BERTopic - Representation - Extracting topics from clusters using representation models.\n",
      "2023-12-04 19:53:07,487 - BERTopic - Representation - Completed ✓\n",
      "\u001b[32m2023-12-04 19:53:07,500\u001b[0m \u001b[34m\u001b[1mfinished fitting model in 8.45 seconds\u001b[0m\n"
     ]
    }
   ],
   "source": [
    "tm.model(lim=10)"
   ]
  },
  {
   "cell_type": "code",
   "execution_count": 5,
   "metadata": {},
   "outputs": [],
   "source": [
    "# tm._mdl.get_topics()"
   ]
  },
  {
   "cell_type": "code",
   "execution_count": null,
   "metadata": {},
   "outputs": [],
   "source": []
  },
  {
   "cell_type": "code",
   "execution_count": null,
   "metadata": {},
   "outputs": [],
   "source": []
  }
 ],
 "metadata": {
  "kernelspec": {
   "display_name": "venv",
   "language": "python",
   "name": "python3"
  },
  "language_info": {
   "codemirror_mode": {
    "name": "ipython",
    "version": 3
   },
   "file_extension": ".py",
   "mimetype": "text/x-python",
   "name": "python",
   "nbconvert_exporter": "python",
   "pygments_lexer": "ipython3",
   "version": "3.10.7"
  }
 },
 "nbformat": 4,
 "nbformat_minor": 2
}
