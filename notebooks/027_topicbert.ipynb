{
 "cells": [
  {
   "cell_type": "code",
   "execution_count": 1,
   "metadata": {},
   "outputs": [],
   "source": [
    "import sys;sys.path.append('..')\n",
    "from ppanlp import *    "
   ]
  },
  {
   "cell_type": "code",
   "execution_count": 2,
   "metadata": {},
   "outputs": [
    {
     "name": "stderr",
     "output_type": "stream",
     "text": [
      "\u001b[32m2023-12-05 22:35:06,925\u001b[0m \u001b[34m\u001b[1m[1] > booting PPACorpus at /Users/ryanheuser/ppa_data/corpus\u001b[0m\n",
      "\u001b[32m2023-12-05 22:35:06,927\u001b[0m \u001b[34m\u001b[1m  [2] > reading metadata\u001b[0m\n",
      "\u001b[32m2023-12-05 22:35:07,056\u001b[0m \u001b[34m\u001b[1m  [2] < 0.13 seconds\u001b[0m\n",
      "\u001b[32m2023-12-05 22:35:07,106\u001b[0m \u001b[34m\u001b[1m[1] < 0.18 seconds\u001b[0m\n"
     ]
    }
   ],
   "source": [
    "ppa = PPA()\n",
    "qd=dict(min_doc_len=25,max_per_cluster=25,frac=.25)"
   ]
  },
  {
   "cell_type": "code",
   "execution_count": 3,
   "metadata": {},
   "outputs": [],
   "source": [
    "tm = ppa.topic_model(model_type='bertopic', **qd, force=True)"
   ]
  },
  {
   "cell_type": "code",
   "execution_count": 4,
   "metadata": {},
   "outputs": [
    {
     "name": "stderr",
     "output_type": "stream",
     "text": [
      "\u001b[32m2023-12-05 22:35:09,195\u001b[0m \u001b[34m\u001b[1m[1] > loading or generating model\u001b[0m\n",
      "\u001b[32m2023-12-05 22:35:09,197\u001b[0m \u001b[34m\u001b[1m  [2] > importing BERTopic\u001b[0m\n",
      "\u001b[32m2023-12-05 22:35:17,173\u001b[0m \u001b[34m\u001b[1m  [2] < 7.98 seconds\u001b[0m\n",
      "\u001b[32m2023-12-05 22:35:17,174\u001b[0m \u001b[34m\u001b[1m  [3] > loading documents into memory\u001b[0m\n",
      "\u001b[32m2023-12-05 22:35:17,175\u001b[0m \u001b[34m\u001b[1m    [4] > iterating pages by page database\u001b[0m\n",
      "\u001b[32m2023-12-05 22:35:17,184\u001b[0m \u001b[34m\u001b[1m      [5] > iterating page database results ({\"min_doc_len\": 25, \"frac_min\": 0, \"frac_max\": 0.25})\u001b[0m\n",
      "Iterating over page search results:   0%|          | 5/511734 [00:00<29:13, 291.87it/s]\n",
      "\u001b[32m2023-12-05 22:35:17,204\u001b[0m \u001b[34m\u001b[1m      [5] < 0.02 seconds\u001b[0m\n",
      "\u001b[32m2023-12-05 22:35:17,205\u001b[0m \u001b[34m\u001b[1m    [4] < 0.03 seconds\u001b[0m\n",
      "\u001b[32m2023-12-05 22:35:17,206\u001b[0m \u001b[34m\u001b[1m< loaded 100 documents into memory\u001b[0m\n",
      "\u001b[32m2023-12-05 22:35:17,207\u001b[0m \u001b[34m\u001b[1m  [3] < 0.03 seconds\u001b[0m\n",
      "\u001b[32m2023-12-05 22:35:17,208\u001b[0m \u001b[34m\u001b[1m  [6] > fitting model\u001b[0m\n",
      "2023-12-05 22:35:18,950 - BERTopic - Embedding - Transforming documents to embeddings.\n",
      "  0%|          | 0/100 [00:00<?, ?it/s]Asking to truncate to max_length but no maximum length is provided and the model has no predefined maximum length. Default to no truncation.\n",
      "100%|██████████| 100/100 [00:04<00:00, 22.82it/s]\n",
      "2023-12-05 22:35:23,338 - BERTopic - Embedding - Completed ✓\n",
      "2023-12-05 22:35:23,339 - BERTopic - Dimensionality - Fitting the dimensionality reduction algorithm\n",
      "2023-12-05 22:35:30,022 - BERTopic - Dimensionality - Completed ✓\n",
      "2023-12-05 22:35:30,023 - BERTopic - Cluster - Start clustering the reduced embeddings\n",
      "2023-12-05 22:35:30,029 - BERTopic - Cluster - Completed ✓\n",
      "2023-12-05 22:35:30,031 - BERTopic - Representation - Extracting topics from clusters using representation models.\n",
      "2023-12-05 22:35:37,860 - BERTopic - Representation - Completed ✓\n",
      "\u001b[32m2023-12-05 22:35:37,879\u001b[0m \u001b[34m\u001b[1m  [6] < 20.67 seconds\u001b[0m\n",
      "\u001b[32m2023-12-05 22:35:37,880\u001b[0m \u001b[34m\u001b[1m  [7] > saving model to disk: ...model.bin\u001b[0m\n",
      "2023-12-05 22:35:37,882 - BERTopic - WARNING: When you use `pickle` to save/load a BERTopic model,please make sure that the environments in which you saveand load the model are **exactly** the same. The version of BERTopic,its dependencies, and python need to remain the same.\n",
      "\u001b[32m2023-12-05 22:35:38,624\u001b[0m \u001b[34m\u001b[1m  [7] < 0.74 seconds\u001b[0m\n",
      "\u001b[32m2023-12-05 22:35:38,625\u001b[0m \u001b[34m\u001b[1m[1] < 29.43 seconds\u001b[0m\n"
     ]
    },
    {
     "data": {
      "text/plain": [
       "<bertopic._bertopic.BERTopic at 0x151873d90>"
      ]
     },
     "execution_count": 4,
     "metadata": {},
     "output_type": "execute_result"
    }
   ],
   "source": [
    "tm.model(lim=100,force=True)"
   ]
  },
  {
   "cell_type": "code",
   "execution_count": 5,
   "metadata": {},
   "outputs": [
    {
     "name": "stderr",
     "output_type": "stream",
     "text": [
      "\u001b[32m2023-12-05 22:34:35,763\u001b[0m \u001b[34m\u001b[1m[10] > importing BERTopic\u001b[0m\n",
      "\u001b[32m2023-12-05 22:34:35,764\u001b[0m \u001b[34m\u001b[1m[11] > loading model from disk: ...model.bin\u001b[0m\n",
      "\u001b[32m2023-12-05 22:34:36,094\u001b[0m \u001b[34m\u001b[1m[11] < 0.33 seconds\u001b[0m\n"
     ]
    },
    {
     "data": {
      "text/plain": [
       "<bertopic._bertopic.BERTopic at 0x13b6e5f60>"
      ]
     },
     "execution_count": 5,
     "metadata": {},
     "output_type": "execute_result"
    }
   ],
   "source": [
    "tm.load()"
   ]
  }
 ],
 "metadata": {
  "kernelspec": {
   "display_name": "venv",
   "language": "python",
   "name": "python3"
  },
  "language_info": {
   "codemirror_mode": {
    "name": "ipython",
    "version": 3
   },
   "file_extension": ".py",
   "mimetype": "text/x-python",
   "name": "python",
   "nbconvert_exporter": "python",
   "pygments_lexer": "ipython3",
   "version": "3.10.7"
  }
 },
 "nbformat": 4,
 "nbformat_minor": 2
}
