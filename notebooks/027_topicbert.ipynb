{
 "cells": [
  {
   "cell_type": "code",
   "execution_count": 1,
   "metadata": {},
   "outputs": [],
   "source": [
    "import sys;sys.path.append('..')\n",
    "from ppanlp import *    "
   ]
  },
  {
   "cell_type": "code",
   "execution_count": 2,
   "metadata": {},
   "outputs": [
    {
     "name": "stderr",
     "output_type": "stream",
     "text": [
      "\u001b[32m2023-12-05 18:37:22,922\u001b[0m \u001b[34m\u001b[1mstarted booting PPACorpus at /Users/ryanheuser/ppa_data/corpus\u001b[0m\n",
      "\u001b[32m2023-12-05 18:37:22,926\u001b[0m \u001b[34m\u001b[1m  started reading metadata\u001b[0m\n",
      "\u001b[32m2023-12-05 18:37:23,083\u001b[0m \u001b[34m\u001b[1m  finished reading metadata in 0.16 seconds\u001b[0m\n",
      "\u001b[32m2023-12-05 18:37:23,138\u001b[0m \u001b[34m\u001b[1mfinished booting PPACorpus at /Users/ryanheuser/ppa_data/corpus in 0.21 seconds\u001b[0m\n"
     ]
    }
   ],
   "source": [
    "ppa = PPA()\n",
    "qd=dict(min_doc_len=25,max_per_cluster=25,frac=.25)"
   ]
  },
  {
   "cell_type": "code",
   "execution_count": 4,
   "metadata": {},
   "outputs": [],
   "source": [
    "tm = ppa.topic_model(model_type='bertopic', **qd, force=True)"
   ]
  },
  {
   "cell_type": "code",
   "execution_count": 6,
   "metadata": {},
   "outputs": [
    {
     "name": "stderr",
     "output_type": "stream",
     "text": [
      "\u001b[32m2023-12-05 18:37:33,577\u001b[0m \u001b[34m\u001b[1mstarted querying page database\u001b[0m\n",
      "\u001b[32m2023-12-05 18:37:33,582\u001b[0m \u001b[34m\u001b[1mfinished querying page database in 0 seconds\u001b[0m\n",
      "\u001b[32m2023-12-05 18:37:33,583\u001b[0m \u001b[34m\u001b[1mstarted returning page database results\u001b[0m\n",
      "Iterating over page search results:   0%|          | 9/511734 [00:00<03:03, 2785.47it/s]\n",
      "\u001b[32m2023-12-05 18:37:33,590\u001b[0m \u001b[34m\u001b[1mfinished returning page database results in 0.01 seconds\u001b[0m\n"
     ]
    }
   ],
   "source": [
    "for p in tm.iter_docs(lim=10): pass"
   ]
  },
  {
   "cell_type": "code",
   "execution_count": 7,
   "metadata": {},
   "outputs": [
    {
     "name": "stderr",
     "output_type": "stream",
     "text": [
      "\u001b[32m2023-12-05 18:37:35,772\u001b[0m \u001b[34m\u001b[1mstarted importing BERTopic\u001b[0m\n",
      "\u001b[32m2023-12-05 18:37:43,553\u001b[0m \u001b[34m\u001b[1mfinished importing BERTopic in 7.78 seconds\u001b[0m\n",
      "\u001b[32m2023-12-05 18:37:43,554\u001b[0m \u001b[34m\u001b[1mstarted loading documents into memory\u001b[0m\n",
      "\u001b[32m2023-12-05 18:37:43,555\u001b[0m \u001b[34m\u001b[1m  started querying page database\u001b[0m\n",
      "\u001b[32m2023-12-05 18:37:43,558\u001b[0m \u001b[34m\u001b[1m  finished querying page database in 0 seconds\u001b[0m\n",
      "\u001b[32m2023-12-05 18:37:43,559\u001b[0m \u001b[34m\u001b[1m  started returning page database results\u001b[0m\n",
      "Iterating over page search results:   0%|          | 9/511734 [00:00<01:58, 4306.27it/s]\n",
      "\u001b[32m2023-12-05 18:37:43,563\u001b[0m \u001b[34m\u001b[1m  finished returning page database results in 0 seconds\u001b[0m\n",
      "\u001b[32m2023-12-05 18:37:43,564\u001b[0m \u001b[34m\u001b[1mloaded 10 documents into memory\u001b[0m\n",
      "\u001b[32m2023-12-05 18:37:43,565\u001b[0m \u001b[34m\u001b[1mfinished loading documents into memory in 0.01 seconds\u001b[0m\n",
      "\u001b[32m2023-12-05 18:37:43,565\u001b[0m \u001b[34m\u001b[1mstarted fitting model\u001b[0m\n",
      "2023-12-05 18:37:43,567 - BERTopic - Embedding - Transforming documents to embeddings.\n",
      "Batches: 100%|██████████| 1/1 [00:00<00:00,  1.06it/s]\n",
      "2023-12-05 18:37:45,096 - BERTopic - Embedding - Completed ✓\n",
      "2023-12-05 18:37:45,096 - BERTopic - Dimensionality - Fitting the dimensionality reduction algorithm\n",
      "2023-12-05 18:37:53,629 - BERTopic - Dimensionality - Completed ✓\n",
      "2023-12-05 18:37:53,629 - BERTopic - Cluster - Start clustering the reduced embeddings\n",
      "2023-12-05 18:37:53,646 - BERTopic - Cluster - Completed ✓\n",
      "2023-12-05 18:37:53,651 - BERTopic - Representation - Extracting topics from clusters using representation models.\n",
      "2023-12-05 18:37:54,057 - BERTopic - Representation - Completed ✓\n",
      "\u001b[32m2023-12-05 18:37:54,069\u001b[0m \u001b[34m\u001b[1mfinished fitting model in 10.5 seconds\u001b[0m\n"
     ]
    }
   ],
   "source": [
    "tm.model(lim=10)"
   ]
  }
 ],
 "metadata": {
  "kernelspec": {
   "display_name": "venv",
   "language": "python",
   "name": "python3"
  },
  "language_info": {
   "codemirror_mode": {
    "name": "ipython",
    "version": 3
   },
   "file_extension": ".py",
   "mimetype": "text/x-python",
   "name": "python",
   "nbconvert_exporter": "python",
   "pygments_lexer": "ipython3",
   "version": "3.10.7"
  }
 },
 "nbformat": 4,
 "nbformat_minor": 2
}
