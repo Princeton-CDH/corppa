{
 "cells": [
  {
   "cell_type": "code",
   "execution_count": 1,
   "metadata": {},
   "outputs": [],
   "source": [
    "import sys;sys.path.append('..')\n",
    "from ppanlp import *    "
   ]
  },
  {
   "cell_type": "code",
   "execution_count": 2,
   "metadata": {},
   "outputs": [
    {
     "name": "stderr",
     "output_type": "stream",
     "text": [
      "\u001b[32m2023-12-05 21:24:14,625\u001b[0m \u001b[34m\u001b[1m> booting PPACorpus at /Users/ryanheuser/ppa_data/corpus\u001b[0m\n",
      "\u001b[32m2023-12-05 21:24:14,627\u001b[0m \u001b[34m\u001b[1m   > reading metadata\u001b[0m\n",
      "\u001b[32m2023-12-05 21:24:14,757\u001b[0m \u001b[34m\u001b[1m   < 0.13 seconds\u001b[0m\n",
      "\u001b[32m2023-12-05 21:24:14,807\u001b[0m \u001b[34m\u001b[1m< 0.18 seconds\u001b[0m\n"
     ]
    }
   ],
   "source": [
    "ppa = PPA()\n",
    "qd=dict(min_doc_len=25,max_per_cluster=25,frac=.25)"
   ]
  },
  {
   "cell_type": "code",
   "execution_count": 3,
   "metadata": {},
   "outputs": [],
   "source": [
    "tm = ppa.topic_model(model_type='bertopic', **qd, force=True)"
   ]
  },
  {
   "cell_type": "code",
   "execution_count": 4,
   "metadata": {},
   "outputs": [
    {
     "name": "stderr",
     "output_type": "stream",
     "text": [
      "\u001b[32m2023-12-05 21:24:16,917\u001b[0m \u001b[34m\u001b[1m> importing BERTopic\u001b[0m\n",
      "\u001b[32m2023-12-05 21:24:24,850\u001b[0m \u001b[34m\u001b[1m< 7.93 seconds\u001b[0m\n",
      "\u001b[32m2023-12-05 21:24:24,851\u001b[0m \u001b[34m\u001b[1m> loading documents into memory\u001b[0m\n",
      "\u001b[32m2023-12-05 21:24:24,852\u001b[0m \u001b[34m\u001b[1m   > iterating pages by page database\u001b[0m\n",
      "\u001b[32m2023-12-05 21:24:24,860\u001b[0m \u001b[34m\u001b[1m     > iterating page database results ({\"min_doc_len\": 25, \"frac_min\": 0, \"frac_max\": 0.25})\u001b[0m\n",
      "Iterating over page search results:   0%|          | 571/511734 [00:00<00:22, 22744.47it/s]\n",
      "\u001b[32m2023-12-05 21:24:24,887\u001b[0m \u001b[34m\u001b[1m     < 0.03 seconds\u001b[0m\n",
      "\u001b[32m2023-12-05 21:24:24,888\u001b[0m \u001b[34m\u001b[1m   < 0.04 seconds\u001b[0m\n",
      "\u001b[32m2023-12-05 21:24:24,889\u001b[0m \u001b[34m\u001b[1m< loaded 100 documents into memory\u001b[0m\n",
      "\u001b[32m2023-12-05 21:24:24,890\u001b[0m \u001b[34m\u001b[1m< 0.04 seconds\u001b[0m\n",
      "\u001b[32m2023-12-05 21:24:24,891\u001b[0m \u001b[34m\u001b[1m> fitting model\u001b[0m\n",
      "2023-12-05 21:24:24,892 - BERTopic - Embedding - Transforming documents to embeddings.\n",
      "Batches: 100%|██████████| 4/4 [00:03<00:00,  1.00it/s]\n",
      "2023-12-05 21:24:29,374 - BERTopic - Embedding - Completed ✓\n",
      "2023-12-05 21:24:29,375 - BERTopic - Dimensionality - Fitting the dimensionality reduction algorithm\n",
      "2023-12-05 21:24:36,140 - BERTopic - Dimensionality - Completed ✓\n",
      "2023-12-05 21:24:36,140 - BERTopic - Cluster - Start clustering the reduced embeddings\n",
      "2023-12-05 21:24:36,146 - BERTopic - Cluster - Completed ✓\n",
      "2023-12-05 21:24:36,149 - BERTopic - Representation - Extracting topics from clusters using representation models.\n",
      "2023-12-05 21:24:37,288 - BERTopic - Representation - Completed ✓\n",
      "\u001b[32m2023-12-05 21:24:37,342\u001b[0m \u001b[34m\u001b[1m< 12.45 seconds\u001b[0m\n",
      "\u001b[32m2023-12-05 21:24:37,343\u001b[0m \u001b[34m\u001b[1m> saving model to disk: /Users/ryanheuser/ppa_data/corpus/data/topicmodels/models/data.bertopic.model.ntopic_50.niter_100.min_doc_len_25.frac_0.25.max_per_cluster_25/model.bin\u001b[0m\n",
      "2023-12-05 21:24:37,344 - BERTopic - WARNING: When you use `pickle` to save/load a BERTopic model,please make sure that the environments in which you saveand load the model are **exactly** the same. The version of BERTopic,its dependencies, and python need to remain the same.\n",
      "\u001b[32m2023-12-05 21:24:38,159\u001b[0m \u001b[34m\u001b[1m< 0.82 seconds\u001b[0m\n"
     ]
    }
   ],
   "source": [
    "tm.model(lim=100,force=True)"
   ]
  },
  {
   "cell_type": "code",
   "execution_count": 7,
   "metadata": {},
   "outputs": [
    {
     "name": "stderr",
     "output_type": "stream",
     "text": [
      "\u001b[32m2023-12-05 21:24:45,561\u001b[0m \u001b[34m\u001b[1m> importing BERTopic\u001b[0m\n",
      "\u001b[32m2023-12-05 21:24:45,562\u001b[0m \u001b[34m\u001b[1m> loading model from disk: /Users/ryanheuser/ppa_data/corpus/data/topicmodels/models/data.bertopic.model.ntopic_50.niter_100.min_doc_len_25.frac_0.25.max_per_cluster_25/model.bin\u001b[0m\n",
      "\u001b[32m2023-12-05 21:24:45,706\u001b[0m \u001b[34m\u001b[1m< 0.14 seconds\u001b[0m\n"
     ]
    },
    {
     "data": {
      "text/plain": [
       "<bertopic._bertopic.BERTopic at 0x1574ad810>"
      ]
     },
     "execution_count": 7,
     "metadata": {},
     "output_type": "execute_result"
    }
   ],
   "source": [
    "tm.load()"
   ]
  },
  {
   "cell_type": "code",
   "execution_count": null,
   "metadata": {},
   "outputs": [],
   "source": []
  }
 ],
 "metadata": {
  "kernelspec": {
   "display_name": "venv",
   "language": "python",
   "name": "python3"
  },
  "language_info": {
   "codemirror_mode": {
    "name": "ipython",
    "version": 3
   },
   "file_extension": ".py",
   "mimetype": "text/x-python",
   "name": "python",
   "nbconvert_exporter": "python",
   "pygments_lexer": "ipython3",
   "version": "3.10.7"
  }
 },
 "nbformat": 4,
 "nbformat_minor": 2
}
