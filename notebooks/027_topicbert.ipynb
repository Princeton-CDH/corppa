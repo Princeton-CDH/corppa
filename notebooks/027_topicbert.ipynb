{
 "cells": [
  {
   "cell_type": "code",
   "execution_count": 1,
   "metadata": {},
   "outputs": [],
   "source": [
    "import sys;sys.path.append('..')\n",
    "from ppanlp import *"
   ]
  },
  {
   "cell_type": "code",
   "execution_count": 2,
   "metadata": {},
   "outputs": [],
   "source": [
    "ppa = PPA()"
   ]
  },
  {
   "cell_type": "code",
   "execution_count": 6,
   "metadata": {},
   "outputs": [],
   "source": [
    "tm = ppa.topic_model(model_type='bertopic', min_doc_len=25, max_per_cluster=25)"
   ]
  },
  {
   "cell_type": "code",
   "execution_count": 7,
   "metadata": {},
   "outputs": [
    {
     "name": "stderr",
     "output_type": "stream",
     "text": [
      "\u001b[32m2023-12-04 19:19:55.875\u001b[0m | \u001b[36m__enter__\u001b[0m | \u001b[34m\u001b[1mloading documents into memory ...\u001b[0m | \u001b[36mutils.py\u001b[0m:\u001b[36m262\u001b[0m\n",
      "Iterating over page search results:   7%|▋         | 134486/2042912 [00:07<01:42, 18685.52it/s]\n",
      "\u001b[32m2023-12-04 19:20:03.281\u001b[0m | \u001b[36m__exit__\u001b[0m | \u001b[34m\u001b[1mloading documents into memory ... 7.41 seconds\u001b[0m | \u001b[36mutils.py\u001b[0m:\u001b[36m271\u001b[0m\n"
     ]
    }
   ],
   "source": [
    "tm.model(lim=10000)"
   ]
  },
  {
   "cell_type": "code",
   "execution_count": 5,
   "metadata": {},
   "outputs": [
    {
     "data": {
      "text/plain": [
       "{-1: [('first', 0.023205330078782865),\n",
       "  ('series', 0.023173210761589694),\n",
       "  ('give', 0.022286339448785778),\n",
       "  ('rule', 0.019140570843476822),\n",
       "  ('words', 0.0189172145045057),\n",
       "  ('must', 0.017869693919978655),\n",
       "  ('would', 0.017869693919978655),\n",
       "  ('many', 0.01757898691146544),\n",
       "  ('homer', 0.017538402666712825),\n",
       "  ('questions', 0.017062284765455148)],\n",
       " 0: [('emphasis', 0.04740035541927088),\n",
       "  ('words', 0.04519953118943229),\n",
       "  ('sound', 0.044046405985328926),\n",
       "  ('inflection', 0.037369251579880025),\n",
       "  ('word', 0.03576899882220271),\n",
       "  ('questions', 0.03425839137220798),\n",
       "  ('emphatic', 0.03365308655120331),\n",
       "  ('give', 0.033303435898406404),\n",
       "  ('sentence', 0.032319352717734076),\n",
       "  ('miscellany', 0.031830717599182295)],\n",
       " 1: [('shall', 0.039200949716802214),\n",
       "  ('thou', 0.032684563430501655),\n",
       "  ('progress', 0.025051727583722334),\n",
       "  ('born', 0.022202450767800225),\n",
       "  ('power', 0.019777679671359738),\n",
       "  ('would', 0.01885647890221249),\n",
       "  ('without', 0.01845916769326909),\n",
       "  ('love', 0.017088725066892317),\n",
       "  ('character', 0.016790760437001853),\n",
       "  ('country', 0.016268840218315993)]}"
      ]
     },
     "execution_count": 5,
     "metadata": {},
     "output_type": "execute_result"
    }
   ],
   "source": [
    "tm._mdl.get_topics()"
   ]
  },
  {
   "cell_type": "code",
   "execution_count": null,
   "metadata": {},
   "outputs": [],
   "source": []
  },
  {
   "cell_type": "code",
   "execution_count": null,
   "metadata": {},
   "outputs": [],
   "source": []
  }
 ],
 "metadata": {
  "kernelspec": {
   "display_name": "venv",
   "language": "python",
   "name": "python3"
  },
  "language_info": {
   "codemirror_mode": {
    "name": "ipython",
    "version": 3
   },
   "file_extension": ".py",
   "mimetype": "text/x-python",
   "name": "python",
   "nbconvert_exporter": "python",
   "pygments_lexer": "ipython3",
   "version": "3.10.7"
  }
 },
 "nbformat": 4,
 "nbformat_minor": 2
}
